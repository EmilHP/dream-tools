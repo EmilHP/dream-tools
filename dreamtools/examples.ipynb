{
 "metadata": {
  "language_info": {
   "codemirror_mode": {
    "name": "ipython",
    "version": 3
   },
   "file_extension": ".py",
   "mimetype": "text/x-python",
   "name": "python",
   "nbconvert_exporter": "python",
   "pygments_lexer": "ipython3",
   "version": "3.7.1-final"
  },
  "orig_nbformat": 2,
  "kernelspec": {
   "name": "python_defaultSpec_1598281867191",
   "display_name": "Python 3.7.1 64-bit ('Continuum': virtualenv)"
  }
 },
 "nbformat": 4,
 "nbformat_minor": 2,
 "cells": [
  {
   "cell_type": "markdown",
   "metadata": {},
   "source": [
    "# DREAM-tools\n",
    "\n",
    "Install or upgrade dream-tools:"
   ]
  },
  {
   "cell_type": "code",
   "execution_count": 94,
   "metadata": {
    "tags": []
   },
   "outputs": [
    {
     "output_type": "stream",
     "name": "stdout",
     "text": "Requirement already up-to-date: dream-tools in c:\\users\\b031441\\appdata\\local\\continuum\\miniconda3\\lib\\site-packages (0.3.5)\nRequirement already satisfied, skipping upgrade: easygui in c:\\users\\b031441\\appdata\\local\\continuum\\miniconda3\\lib\\site-packages (from dream-tools) (0.98.1)\nRequirement already satisfied, skipping upgrade: pandas in c:\\users\\b031441\\appdata\\local\\continuum\\miniconda3\\lib\\site-packages (from dream-tools) (1.1.0)\nRequirement already satisfied, skipping upgrade: pytz>=2017.2 in c:\\users\\b031441\\appdata\\local\\continuum\\miniconda3\\lib\\site-packages (from pandas->dream-tools) (2020.1)\nRequirement already satisfied, skipping upgrade: python-dateutil>=2.7.3 in c:\\users\\b031441\\appdata\\local\\continuum\\miniconda3\\lib\\site-packages (from pandas->dream-tools) (2.8.1)\nRequirement already satisfied, skipping upgrade: numpy>=1.15.4 in c:\\users\\b031441\\appdata\\local\\continuum\\miniconda3\\lib\\site-packages (from pandas->dream-tools) (1.19.1)\nRequirement already satisfied, skipping upgrade: six>=1.5 in c:\\users\\b031441\\appdata\\local\\continuum\\miniconda3\\lib\\site-packages (from python-dateutil>=2.7.3->pandas->dream-tools) (1.15.0)\n"
    }
   ],
   "source": [
    "!pip install dream-tools --upgrade"
   ]
  },
  {
   "cell_type": "markdown",
   "metadata": {},
   "source": [
    "Our convention is to import the *dreamtools* package under the alias *dt*.\n"
   ]
  },
  {
   "cell_type": "code",
   "execution_count": 95,
   "metadata": {},
   "outputs": [],
   "source": [
    "import dreamtools as dt"
   ]
  },
  {
   "cell_type": "markdown",
   "metadata": {},
   "source": [
    "## Gams Pandas\n",
    "DREAM-tools provides a wrapper class *GamsPandasDatabase* that enables convertion between Pandas data structures and a Gams Database.\n",
    "\n",
    "We can either open an existing GDX file as a GamsPandasDatabase or create new database from scratch."
   ]
  },
  {
   "cell_type": "markdown",
   "metadata": {},
   "source": [
    "### Creating and populating a new GamsPandasDatabase\n",
    "\n",
    "To create an empty database we use the GamsPandasDatabase class.\n",
    "\n",
    "The GamsPandasDatabase has 3 main methods for creating new Gams symbols: *create_parameter*, *create_variable*, and *create_set*. Each of these methods adds a Gams symbol to the underlying Gams Database and returns a Pandas object (or a scalar) representing the symbol.\n",
    "\n",
    "To improve readability, we can assign some shorter names (In SnakeCase to indicate that these methods essentially work as classes):"
   ]
  },
  {
   "cell_type": "code",
   "execution_count": 96,
   "metadata": {},
   "outputs": [],
   "source": [
    "db = dt.GamsPandasDatabase()\n",
    "Par, Var, Set = db.create_parameter, db.create_variable, db.create_set"
   ]
  },
  {
   "cell_type": "markdown",
   "metadata": {},
   "source": [
    "### Define sets"
   ]
  },
  {
   "cell_type": "code",
   "execution_count": 97,
   "metadata": {
    "tags": []
   },
   "outputs": [],
   "source": [
    "t = Set(\"t\", range(2010, 2020), \"Årstal\")\n",
    "s = Set(\"s\", [\"tjenester\", \"fremstilling\"], \"Brancher\")\n",
    "\n",
    "st = Set(\"st\", [s, t], \"Branche x år dummy\")\n",
    "sub = Set(\"sub\", [\"tjenester\"], \"Subset af brancher\", domains=[\"s\"])\n",
    "\n",
    "one2one = Set(\"one2one\", [(2010, 2015), (2011, 2016)], \"1 til 1 mapping\", domains=[\"t\", \"t\"])\n",
    "one2many = Set(\"one2many\",\n",
    "               [(\"tot\", \"tjenester\"), (\"tot\", \"fremstilling\")],\n",
    "               \"1 til mange mapping\", domains=[\"*\", \"s\"],\n",
    "               )\n"
   ]
  },
  {
   "cell_type": "markdown",
   "metadata": {},
   "source": [
    "### Define new parameters and variables\n",
    "\n"
   ]
  },
  {
   "cell_type": "code",
   "execution_count": 98,
   "metadata": {},
   "outputs": [],
   "source": [
    "gq = Par(\"gq\", None, \"Produktivitets-vækst\", 0.01)\n",
    "fq = Par(\"fp\", t, \"Vækstkorrektionsfaktor\", (1 + 0.01) ** (t - 2010))\n",
    "d = Par(\"d\", st, \"Dummy\")\n",
    "y = Var(\"y\", [s, t], \"Produktion\")\n",
    "p = Var(\"p\", [s, t], \"Pris\")"
   ]
  },
  {
   "cell_type": "markdown",
   "metadata": {},
   "source": [
    "### Python representation of Gams symbols\n",
    "\n",
    "A set is represented by a Pandas Index or a Pandas MultIndex if it has more than one dimension.\n",
    "\n",
    "Scalars, such as *gq*, are simply Floats or Ints, while all other variable or parameters are accessed as Pandas Series:"
   ]
  },
  {
   "cell_type": "code",
   "execution_count": 99,
   "metadata": {
    "tags": []
   },
   "outputs": [
    {
     "output_type": "stream",
     "name": "stdout",
     "text": "<class 'pandas.core.indexes.base.Index'>\n<class 'pandas.core.indexes.multi.MultiIndex'>\n<class 'float'>\n<class 'pandas.core.series.Series'>\n"
    }
   ],
   "source": [
    "print(type(s))\n",
    "print(type(one2many))\n",
    "\n",
    "print(type(gq))\n",
    "print(type(p))"
   ]
  },
  {
   "cell_type": "markdown",
   "metadata": {},
   "source": [
    "As they are regular Pandas Series, all the usual methods can be used (and googled). E.g. use reset_index to get a DataFrame from a multiindex Series:"
   ]
  },
  {
   "cell_type": "code",
   "execution_count": 100,
   "metadata": {},
   "outputs": [
    {
     "output_type": "execute_result",
     "data": {
      "text/plain": "           s     t   p\n0  tjenester  2010 NaN\n1  tjenester  2011 NaN\n2  tjenester  2012 NaN\n3  tjenester  2013 NaN\n4  tjenester  2014 NaN",
      "text/html": "<div>\n<style scoped>\n    .dataframe tbody tr th:only-of-type {\n        vertical-align: middle;\n    }\n\n    .dataframe tbody tr th {\n        vertical-align: top;\n    }\n\n    .dataframe thead th {\n        text-align: right;\n    }\n</style>\n<table border=\"1\" class=\"dataframe\">\n  <thead>\n    <tr style=\"text-align: right;\">\n      <th></th>\n      <th>s</th>\n      <th>t</th>\n      <th>p</th>\n    </tr>\n  </thead>\n  <tbody>\n    <tr>\n      <th>0</th>\n      <td>tjenester</td>\n      <td>2010</td>\n      <td>NaN</td>\n    </tr>\n    <tr>\n      <th>1</th>\n      <td>tjenester</td>\n      <td>2011</td>\n      <td>NaN</td>\n    </tr>\n    <tr>\n      <th>2</th>\n      <td>tjenester</td>\n      <td>2012</td>\n      <td>NaN</td>\n    </tr>\n    <tr>\n      <th>3</th>\n      <td>tjenester</td>\n      <td>2013</td>\n      <td>NaN</td>\n    </tr>\n    <tr>\n      <th>4</th>\n      <td>tjenester</td>\n      <td>2014</td>\n      <td>NaN</td>\n    </tr>\n  </tbody>\n</table>\n</div>"
     },
     "metadata": {},
     "execution_count": 100
    }
   ],
   "source": [
    "p.reset_index().head()"
   ]
  },
  {
   "cell_type": "markdown",
   "metadata": {},
   "source": [
    "### Assigning to existing symbols\n",
    "To change the values of the underlying Gams symbols, start by assigning values to their Pandas Series representations:"
   ]
  },
  {
   "cell_type": "code",
   "execution_count": 101,
   "metadata": {},
   "outputs": [],
   "source": [
    "y[\"tjenester\"], y[\"fremstilling\"] = 7, 3\n",
    "p[:] = 100"
   ]
  },
  {
   "cell_type": "markdown",
   "metadata": {},
   "source": [
    "DREAM-tools defaults to using Pandas Series with multi-indexes rather than DataFrames.\n",
    "\n",
    "That is because using multi-indexes greatly simplifies operations when our variables have multiple dimensions with consistent names. For example, Pandas automatically aligns the *y* and *fq* variables on their shared *t* axis without us having to do any complicated merging operations:"
   ]
  },
  {
   "cell_type": "code",
   "execution_count": 102,
   "metadata": {},
   "outputs": [
    {
     "output_type": "execute_result",
     "data": {
      "text/plain": "s             t   \ntjenester     2010    700.000000\n              2011    707.000000\n              2012    714.070000\n              2013    721.210700\n              2014    728.422807\n              2015    735.707035\n              2016    743.064105\n              2017    750.494746\n              2018    757.999694\n              2019    765.579691\nfremstilling  2010    300.000000\n              2011    303.000000\n              2012    306.030000\n              2013    309.090300\n              2014    312.181203\n              2015    315.303015\n              2016    318.456045\n              2017    321.640606\n              2018    324.857012\n              2019    328.105582\ndtype: float64"
     },
     "metadata": {},
     "execution_count": 102
    }
   ],
   "source": [
    "y *= fq\n",
    "p * y"
   ]
  },
  {
   "cell_type": "markdown",
   "metadata": {},
   "source": [
    "Checking if a symbol name already exists in the database is as simple as"
   ]
  },
  {
   "cell_type": "code",
   "execution_count": 103,
   "metadata": {
    "tags": []
   },
   "outputs": [
    {
     "output_type": "stream",
     "name": "stdout",
     "text": "True\nFalse\n"
    }
   ],
   "source": [
    "print(\"y\" in db)\n",
    "print(\"free_lunch\" in db)"
   ]
  },
  {
   "cell_type": "markdown",
   "metadata": {},
   "source": [
    "To figure out which type of symbol it is, we can either check which dictionary it belongs to or access the underlying Gams Symbol through the *.symbols* dictionary."
   ]
  },
  {
   "cell_type": "code",
   "execution_count": 104,
   "metadata": {
    "tags": []
   },
   "outputs": [
    {
     "output_type": "stream",
     "name": "stdout",
     "text": "False\nTrue\nFalse\n<class 'gams.database.GamsVariable'>\n"
    }
   ],
   "source": [
    "print(\"y\" in db.sets)\n",
    "print(\"y\" in db.variables)\n",
    "print(\"y\" in db.parameters)\n",
    "\n",
    "print(type(db.symbols[\"y\"]))"
   ]
  },
  {
   "cell_type": "markdown",
   "metadata": {},
   "source": [
    "Usually we only want to access the Pandas representation of a symbol. We can access those using either **\\[  \\]** or **.** notation."
   ]
  },
  {
   "cell_type": "code",
   "execution_count": 105,
   "metadata": {
    "tags": []
   },
   "outputs": [
    {
     "output_type": "stream",
     "name": "stdout",
     "text": "<class 'pandas.core.series.Series'>\nTrue\n"
    }
   ],
   "source": [
    "print(type(db[\"y\"]))\n",
    "print(db.y is db[\"y\"])"
   ]
  },
  {
   "cell_type": "markdown",
   "metadata": {},
   "source": [
    "Use **\\[ \\]** notation to assign a new value to an existing scalar"
   ]
  },
  {
   "cell_type": "code",
   "execution_count": 106,
   "metadata": {},
   "outputs": [],
   "source": [
    "db[\"gq\"] = 0.02"
   ]
  },
  {
   "cell_type": "markdown",
   "metadata": {},
   "source": [
    "### Exporting the database to a gdx file"
   ]
  },
  {
   "cell_type": "code",
   "execution_count": 107,
   "metadata": {},
   "outputs": [],
   "source": [
    "db.export(\"test.gdx\")"
   ]
  },
  {
   "cell_type": "markdown",
   "metadata": {},
   "source": [
    "## Working with an existing gdx file\n",
    "If we already have a gdx file, such as the one we just exported, we can read that instead of creating a GamsPandasDatabase from scratch using the Gdx class:"
   ]
  },
  {
   "cell_type": "code",
   "execution_count": 108,
   "metadata": {
    "tags": []
   },
   "outputs": [
    {
     "output_type": "stream",
     "name": "stdout",
     "text": "0.02\n"
    }
   ],
   "source": [
    "gdx = dt.Gdx(\"test.gdx\")\n",
    "isinstance(gdx, dt.GamsPandasDatabase)\n",
    "\n",
    "print(gdx.gq)"
   ]
  },
  {
   "cell_type": "markdown",
   "metadata": {},
   "source": [
    "## Time series analysis"
   ]
  },
  {
   "cell_type": "markdown",
   "metadata": {},
   "source": [
    "If the *Plotly* package is installed, DREAM-tools sets the plotting backend of Pandas to Plotly. That means Plotly is used by default when plotting or printing a Pandas objects instead of Matplotlib. Neither plotting packages handles multi-indexes well. To plot our *y* variable from befroe we could write:"
   ]
  },
  {
   "cell_type": "code",
   "execution_count": 109,
   "metadata": {},
   "outputs": [
    {
     "output_type": "display_data",
     "data": {
      "application/vnd.plotly.v1+json": {
       "config": {
        "plotlyServerURL": "https://plot.ly"
       },
       "data": [
        {
         "hovertemplate": "s=fremstilling<br>t=%{x}<br>value=%{y}<extra></extra>",
         "legendgroup": "fremstilling",
         "line": {
          "color": "#636efa",
          "dash": "solid"
         },
         "mode": "lines",
         "name": "fremstilling",
         "orientation": "v",
         "showlegend": true,
         "type": "scatter",
         "x": [
          2010,
          2011,
          2012,
          2013,
          2014,
          2015,
          2016,
          2017,
          2018,
          2019
         ],
         "xaxis": "x",
         "y": [
          3,
          3.0300000000000002,
          3.0603,
          3.0909030000000004,
          3.12181203,
          3.1530301503000002,
          3.1845604518030006,
          3.21640605632103,
          3.248570116884241,
          3.2810558180530824
         ],
         "yaxis": "y"
        },
        {
         "hovertemplate": "s=tjenester<br>t=%{x}<br>value=%{y}<extra></extra>",
         "legendgroup": "tjenester",
         "line": {
          "color": "#EF553B",
          "dash": "solid"
         },
         "mode": "lines",
         "name": "tjenester",
         "orientation": "v",
         "showlegend": true,
         "type": "scatter",
         "x": [
          2010,
          2011,
          2012,
          2013,
          2014,
          2015,
          2016,
          2017,
          2018,
          2019
         ],
         "xaxis": "x",
         "y": [
          7,
          7.07,
          7.1407,
          7.212107000000001,
          7.28422807,
          7.357070350700001,
          7.430641054207001,
          7.504947464749071,
          7.579996939396562,
          7.655796908790526
         ],
         "yaxis": "y"
        }
       ],
       "layout": {
        "legend": {
         "title": {
          "text": "s"
         },
         "tracegroupgap": 0
        },
        "margin": {
         "t": 60
        },
        "template": {
         "data": {
          "bar": [
           {
            "error_x": {
             "color": "#2a3f5f"
            },
            "error_y": {
             "color": "#2a3f5f"
            },
            "marker": {
             "line": {
              "color": "#E5ECF6",
              "width": 0.5
             }
            },
            "type": "bar"
           }
          ],
          "barpolar": [
           {
            "marker": {
             "line": {
              "color": "#E5ECF6",
              "width": 0.5
             }
            },
            "type": "barpolar"
           }
          ],
          "carpet": [
           {
            "aaxis": {
             "endlinecolor": "#2a3f5f",
             "gridcolor": "white",
             "linecolor": "white",
             "minorgridcolor": "white",
             "startlinecolor": "#2a3f5f"
            },
            "baxis": {
             "endlinecolor": "#2a3f5f",
             "gridcolor": "white",
             "linecolor": "white",
             "minorgridcolor": "white",
             "startlinecolor": "#2a3f5f"
            },
            "type": "carpet"
           }
          ],
          "choropleth": [
           {
            "colorbar": {
             "outlinewidth": 0,
             "ticks": ""
            },
            "type": "choropleth"
           }
          ],
          "contour": [
           {
            "colorbar": {
             "outlinewidth": 0,
             "ticks": ""
            },
            "colorscale": [
             [
              0,
              "#0d0887"
             ],
             [
              0.1111111111111111,
              "#46039f"
             ],
             [
              0.2222222222222222,
              "#7201a8"
             ],
             [
              0.3333333333333333,
              "#9c179e"
             ],
             [
              0.4444444444444444,
              "#bd3786"
             ],
             [
              0.5555555555555556,
              "#d8576b"
             ],
             [
              0.6666666666666666,
              "#ed7953"
             ],
             [
              0.7777777777777778,
              "#fb9f3a"
             ],
             [
              0.8888888888888888,
              "#fdca26"
             ],
             [
              1,
              "#f0f921"
             ]
            ],
            "type": "contour"
           }
          ],
          "contourcarpet": [
           {
            "colorbar": {
             "outlinewidth": 0,
             "ticks": ""
            },
            "type": "contourcarpet"
           }
          ],
          "heatmap": [
           {
            "colorbar": {
             "outlinewidth": 0,
             "ticks": ""
            },
            "colorscale": [
             [
              0,
              "#0d0887"
             ],
             [
              0.1111111111111111,
              "#46039f"
             ],
             [
              0.2222222222222222,
              "#7201a8"
             ],
             [
              0.3333333333333333,
              "#9c179e"
             ],
             [
              0.4444444444444444,
              "#bd3786"
             ],
             [
              0.5555555555555556,
              "#d8576b"
             ],
             [
              0.6666666666666666,
              "#ed7953"
             ],
             [
              0.7777777777777778,
              "#fb9f3a"
             ],
             [
              0.8888888888888888,
              "#fdca26"
             ],
             [
              1,
              "#f0f921"
             ]
            ],
            "type": "heatmap"
           }
          ],
          "heatmapgl": [
           {
            "colorbar": {
             "outlinewidth": 0,
             "ticks": ""
            },
            "colorscale": [
             [
              0,
              "#0d0887"
             ],
             [
              0.1111111111111111,
              "#46039f"
             ],
             [
              0.2222222222222222,
              "#7201a8"
             ],
             [
              0.3333333333333333,
              "#9c179e"
             ],
             [
              0.4444444444444444,
              "#bd3786"
             ],
             [
              0.5555555555555556,
              "#d8576b"
             ],
             [
              0.6666666666666666,
              "#ed7953"
             ],
             [
              0.7777777777777778,
              "#fb9f3a"
             ],
             [
              0.8888888888888888,
              "#fdca26"
             ],
             [
              1,
              "#f0f921"
             ]
            ],
            "type": "heatmapgl"
           }
          ],
          "histogram": [
           {
            "marker": {
             "colorbar": {
              "outlinewidth": 0,
              "ticks": ""
             }
            },
            "type": "histogram"
           }
          ],
          "histogram2d": [
           {
            "colorbar": {
             "outlinewidth": 0,
             "ticks": ""
            },
            "colorscale": [
             [
              0,
              "#0d0887"
             ],
             [
              0.1111111111111111,
              "#46039f"
             ],
             [
              0.2222222222222222,
              "#7201a8"
             ],
             [
              0.3333333333333333,
              "#9c179e"
             ],
             [
              0.4444444444444444,
              "#bd3786"
             ],
             [
              0.5555555555555556,
              "#d8576b"
             ],
             [
              0.6666666666666666,
              "#ed7953"
             ],
             [
              0.7777777777777778,
              "#fb9f3a"
             ],
             [
              0.8888888888888888,
              "#fdca26"
             ],
             [
              1,
              "#f0f921"
             ]
            ],
            "type": "histogram2d"
           }
          ],
          "histogram2dcontour": [
           {
            "colorbar": {
             "outlinewidth": 0,
             "ticks": ""
            },
            "colorscale": [
             [
              0,
              "#0d0887"
             ],
             [
              0.1111111111111111,
              "#46039f"
             ],
             [
              0.2222222222222222,
              "#7201a8"
             ],
             [
              0.3333333333333333,
              "#9c179e"
             ],
             [
              0.4444444444444444,
              "#bd3786"
             ],
             [
              0.5555555555555556,
              "#d8576b"
             ],
             [
              0.6666666666666666,
              "#ed7953"
             ],
             [
              0.7777777777777778,
              "#fb9f3a"
             ],
             [
              0.8888888888888888,
              "#fdca26"
             ],
             [
              1,
              "#f0f921"
             ]
            ],
            "type": "histogram2dcontour"
           }
          ],
          "mesh3d": [
           {
            "colorbar": {
             "outlinewidth": 0,
             "ticks": ""
            },
            "type": "mesh3d"
           }
          ],
          "parcoords": [
           {
            "line": {
             "colorbar": {
              "outlinewidth": 0,
              "ticks": ""
             }
            },
            "type": "parcoords"
           }
          ],
          "pie": [
           {
            "automargin": true,
            "type": "pie"
           }
          ],
          "scatter": [
           {
            "marker": {
             "colorbar": {
              "outlinewidth": 0,
              "ticks": ""
             }
            },
            "type": "scatter"
           }
          ],
          "scatter3d": [
           {
            "line": {
             "colorbar": {
              "outlinewidth": 0,
              "ticks": ""
             }
            },
            "marker": {
             "colorbar": {
              "outlinewidth": 0,
              "ticks": ""
             }
            },
            "type": "scatter3d"
           }
          ],
          "scattercarpet": [
           {
            "marker": {
             "colorbar": {
              "outlinewidth": 0,
              "ticks": ""
             }
            },
            "type": "scattercarpet"
           }
          ],
          "scattergeo": [
           {
            "marker": {
             "colorbar": {
              "outlinewidth": 0,
              "ticks": ""
             }
            },
            "type": "scattergeo"
           }
          ],
          "scattergl": [
           {
            "marker": {
             "colorbar": {
              "outlinewidth": 0,
              "ticks": ""
             }
            },
            "type": "scattergl"
           }
          ],
          "scattermapbox": [
           {
            "marker": {
             "colorbar": {
              "outlinewidth": 0,
              "ticks": ""
             }
            },
            "type": "scattermapbox"
           }
          ],
          "scatterpolar": [
           {
            "marker": {
             "colorbar": {
              "outlinewidth": 0,
              "ticks": ""
             }
            },
            "type": "scatterpolar"
           }
          ],
          "scatterpolargl": [
           {
            "marker": {
             "colorbar": {
              "outlinewidth": 0,
              "ticks": ""
             }
            },
            "type": "scatterpolargl"
           }
          ],
          "scatterternary": [
           {
            "marker": {
             "colorbar": {
              "outlinewidth": 0,
              "ticks": ""
             }
            },
            "type": "scatterternary"
           }
          ],
          "surface": [
           {
            "colorbar": {
             "outlinewidth": 0,
             "ticks": ""
            },
            "colorscale": [
             [
              0,
              "#0d0887"
             ],
             [
              0.1111111111111111,
              "#46039f"
             ],
             [
              0.2222222222222222,
              "#7201a8"
             ],
             [
              0.3333333333333333,
              "#9c179e"
             ],
             [
              0.4444444444444444,
              "#bd3786"
             ],
             [
              0.5555555555555556,
              "#d8576b"
             ],
             [
              0.6666666666666666,
              "#ed7953"
             ],
             [
              0.7777777777777778,
              "#fb9f3a"
             ],
             [
              0.8888888888888888,
              "#fdca26"
             ],
             [
              1,
              "#f0f921"
             ]
            ],
            "type": "surface"
           }
          ],
          "table": [
           {
            "cells": {
             "fill": {
              "color": "#EBF0F8"
             },
             "line": {
              "color": "white"
             }
            },
            "header": {
             "fill": {
              "color": "#C8D4E3"
             },
             "line": {
              "color": "white"
             }
            },
            "type": "table"
           }
          ]
         },
         "layout": {
          "annotationdefaults": {
           "arrowcolor": "#2a3f5f",
           "arrowhead": 0,
           "arrowwidth": 1
          },
          "coloraxis": {
           "colorbar": {
            "outlinewidth": 0,
            "ticks": ""
           }
          },
          "colorscale": {
           "diverging": [
            [
             0,
             "#8e0152"
            ],
            [
             0.1,
             "#c51b7d"
            ],
            [
             0.2,
             "#de77ae"
            ],
            [
             0.3,
             "#f1b6da"
            ],
            [
             0.4,
             "#fde0ef"
            ],
            [
             0.5,
             "#f7f7f7"
            ],
            [
             0.6,
             "#e6f5d0"
            ],
            [
             0.7,
             "#b8e186"
            ],
            [
             0.8,
             "#7fbc41"
            ],
            [
             0.9,
             "#4d9221"
            ],
            [
             1,
             "#276419"
            ]
           ],
           "sequential": [
            [
             0,
             "#0d0887"
            ],
            [
             0.1111111111111111,
             "#46039f"
            ],
            [
             0.2222222222222222,
             "#7201a8"
            ],
            [
             0.3333333333333333,
             "#9c179e"
            ],
            [
             0.4444444444444444,
             "#bd3786"
            ],
            [
             0.5555555555555556,
             "#d8576b"
            ],
            [
             0.6666666666666666,
             "#ed7953"
            ],
            [
             0.7777777777777778,
             "#fb9f3a"
            ],
            [
             0.8888888888888888,
             "#fdca26"
            ],
            [
             1,
             "#f0f921"
            ]
           ],
           "sequentialminus": [
            [
             0,
             "#0d0887"
            ],
            [
             0.1111111111111111,
             "#46039f"
            ],
            [
             0.2222222222222222,
             "#7201a8"
            ],
            [
             0.3333333333333333,
             "#9c179e"
            ],
            [
             0.4444444444444444,
             "#bd3786"
            ],
            [
             0.5555555555555556,
             "#d8576b"
            ],
            [
             0.6666666666666666,
             "#ed7953"
            ],
            [
             0.7777777777777778,
             "#fb9f3a"
            ],
            [
             0.8888888888888888,
             "#fdca26"
            ],
            [
             1,
             "#f0f921"
            ]
           ]
          },
          "colorway": [
           "#636efa",
           "#EF553B",
           "#00cc96",
           "#ab63fa",
           "#FFA15A",
           "#19d3f3",
           "#FF6692",
           "#B6E880",
           "#FF97FF",
           "#FECB52"
          ],
          "font": {
           "color": "#2a3f5f"
          },
          "geo": {
           "bgcolor": "white",
           "lakecolor": "white",
           "landcolor": "#E5ECF6",
           "showlakes": true,
           "showland": true,
           "subunitcolor": "white"
          },
          "hoverlabel": {
           "align": "left"
          },
          "hovermode": "closest",
          "mapbox": {
           "style": "light"
          },
          "paper_bgcolor": "white",
          "plot_bgcolor": "#E5ECF6",
          "polar": {
           "angularaxis": {
            "gridcolor": "white",
            "linecolor": "white",
            "ticks": ""
           },
           "bgcolor": "#E5ECF6",
           "radialaxis": {
            "gridcolor": "white",
            "linecolor": "white",
            "ticks": ""
           }
          },
          "scene": {
           "xaxis": {
            "backgroundcolor": "#E5ECF6",
            "gridcolor": "white",
            "gridwidth": 2,
            "linecolor": "white",
            "showbackground": true,
            "ticks": "",
            "zerolinecolor": "white"
           },
           "yaxis": {
            "backgroundcolor": "#E5ECF6",
            "gridcolor": "white",
            "gridwidth": 2,
            "linecolor": "white",
            "showbackground": true,
            "ticks": "",
            "zerolinecolor": "white"
           },
           "zaxis": {
            "backgroundcolor": "#E5ECF6",
            "gridcolor": "white",
            "gridwidth": 2,
            "linecolor": "white",
            "showbackground": true,
            "ticks": "",
            "zerolinecolor": "white"
           }
          },
          "shapedefaults": {
           "line": {
            "color": "#2a3f5f"
           }
          },
          "ternary": {
           "aaxis": {
            "gridcolor": "white",
            "linecolor": "white",
            "ticks": ""
           },
           "baxis": {
            "gridcolor": "white",
            "linecolor": "white",
            "ticks": ""
           },
           "bgcolor": "#E5ECF6",
           "caxis": {
            "gridcolor": "white",
            "linecolor": "white",
            "ticks": ""
           }
          },
          "title": {
           "x": 0.05
          },
          "xaxis": {
           "automargin": true,
           "gridcolor": "white",
           "linecolor": "white",
           "ticks": "",
           "title": {
            "standoff": 15
           },
           "zerolinecolor": "white",
           "zerolinewidth": 2
          },
          "yaxis": {
           "automargin": true,
           "gridcolor": "white",
           "linecolor": "white",
           "ticks": "",
           "title": {
            "standoff": 15
           },
           "zerolinecolor": "white",
           "zerolinewidth": 2
          }
         }
        },
        "xaxis": {
         "anchor": "y",
         "domain": [
          0,
          1
         ],
         "title": {
          "text": "t"
         }
        },
        "yaxis": {
         "anchor": "x",
         "domain": [
          0,
          1
         ],
         "title": {
          "text": "value"
         }
        }
       }
      }
     },
     "metadata": {}
    }
   ],
   "source": [
    "y.unstack(\"s\").plot()"
   ]
  },
  {
   "cell_type": "markdown",
   "metadata": {},
   "source": [
    "We could also use the DREAM-tools plot function:"
   ]
  },
  {
   "cell_type": "code",
   "execution_count": 110,
   "metadata": {},
   "outputs": [
    {
     "output_type": "display_data",
     "data": {
      "application/vnd.plotly.v1+json": {
       "config": {
        "plotlyServerURL": "https://plot.ly"
       },
       "data": [
        {
         "hovertemplate": "variable=y[tjenester]<br>index=%{x}<br>value=%{y}<extra></extra>",
         "legendgroup": "y[tjenester]",
         "line": {
          "color": "#636efa",
          "dash": "solid"
         },
         "mode": "lines",
         "name": "y[tjenester]",
         "orientation": "v",
         "showlegend": true,
         "type": "scatter",
         "x": [
          2010,
          2011,
          2012,
          2013,
          2014,
          2015,
          2016,
          2017,
          2018,
          2019
         ],
         "xaxis": "x",
         "y": [
          7,
          7.07,
          7.1407,
          7.212107000000001,
          7.28422807,
          7.357070350700001,
          7.430641054207001,
          7.504947464749071,
          7.579996939396562,
          7.655796908790526
         ],
         "yaxis": "y"
        },
        {
         "hovertemplate": "variable=y[fremstilling]<br>index=%{x}<br>value=%{y}<extra></extra>",
         "legendgroup": "y[fremstilling]",
         "line": {
          "color": "#EF553B",
          "dash": "solid"
         },
         "mode": "lines",
         "name": "y[fremstilling]",
         "orientation": "v",
         "showlegend": true,
         "type": "scatter",
         "x": [
          2010,
          2011,
          2012,
          2013,
          2014,
          2015,
          2016,
          2017,
          2018,
          2019
         ],
         "xaxis": "x",
         "y": [
          3,
          3.0300000000000002,
          3.0603,
          3.0909030000000004,
          3.12181203,
          3.1530301503000002,
          3.1845604518030006,
          3.21640605632103,
          3.248570116884241,
          3.2810558180530824
         ],
         "yaxis": "y"
        }
       ],
       "layout": {
        "legend": {
         "title": {
          "text": ""
         },
         "tracegroupgap": 0
        },
        "margin": {
         "t": 60
        },
        "template": {
         "data": {
          "bar": [
           {
            "error_x": {
             "color": "#2a3f5f"
            },
            "error_y": {
             "color": "#2a3f5f"
            },
            "marker": {
             "line": {
              "color": "#E5ECF6",
              "width": 0.5
             }
            },
            "type": "bar"
           }
          ],
          "barpolar": [
           {
            "marker": {
             "line": {
              "color": "#E5ECF6",
              "width": 0.5
             }
            },
            "type": "barpolar"
           }
          ],
          "carpet": [
           {
            "aaxis": {
             "endlinecolor": "#2a3f5f",
             "gridcolor": "white",
             "linecolor": "white",
             "minorgridcolor": "white",
             "startlinecolor": "#2a3f5f"
            },
            "baxis": {
             "endlinecolor": "#2a3f5f",
             "gridcolor": "white",
             "linecolor": "white",
             "minorgridcolor": "white",
             "startlinecolor": "#2a3f5f"
            },
            "type": "carpet"
           }
          ],
          "choropleth": [
           {
            "colorbar": {
             "outlinewidth": 0,
             "ticks": ""
            },
            "type": "choropleth"
           }
          ],
          "contour": [
           {
            "colorbar": {
             "outlinewidth": 0,
             "ticks": ""
            },
            "colorscale": [
             [
              0,
              "#0d0887"
             ],
             [
              0.1111111111111111,
              "#46039f"
             ],
             [
              0.2222222222222222,
              "#7201a8"
             ],
             [
              0.3333333333333333,
              "#9c179e"
             ],
             [
              0.4444444444444444,
              "#bd3786"
             ],
             [
              0.5555555555555556,
              "#d8576b"
             ],
             [
              0.6666666666666666,
              "#ed7953"
             ],
             [
              0.7777777777777778,
              "#fb9f3a"
             ],
             [
              0.8888888888888888,
              "#fdca26"
             ],
             [
              1,
              "#f0f921"
             ]
            ],
            "type": "contour"
           }
          ],
          "contourcarpet": [
           {
            "colorbar": {
             "outlinewidth": 0,
             "ticks": ""
            },
            "type": "contourcarpet"
           }
          ],
          "heatmap": [
           {
            "colorbar": {
             "outlinewidth": 0,
             "ticks": ""
            },
            "colorscale": [
             [
              0,
              "#0d0887"
             ],
             [
              0.1111111111111111,
              "#46039f"
             ],
             [
              0.2222222222222222,
              "#7201a8"
             ],
             [
              0.3333333333333333,
              "#9c179e"
             ],
             [
              0.4444444444444444,
              "#bd3786"
             ],
             [
              0.5555555555555556,
              "#d8576b"
             ],
             [
              0.6666666666666666,
              "#ed7953"
             ],
             [
              0.7777777777777778,
              "#fb9f3a"
             ],
             [
              0.8888888888888888,
              "#fdca26"
             ],
             [
              1,
              "#f0f921"
             ]
            ],
            "type": "heatmap"
           }
          ],
          "heatmapgl": [
           {
            "colorbar": {
             "outlinewidth": 0,
             "ticks": ""
            },
            "colorscale": [
             [
              0,
              "#0d0887"
             ],
             [
              0.1111111111111111,
              "#46039f"
             ],
             [
              0.2222222222222222,
              "#7201a8"
             ],
             [
              0.3333333333333333,
              "#9c179e"
             ],
             [
              0.4444444444444444,
              "#bd3786"
             ],
             [
              0.5555555555555556,
              "#d8576b"
             ],
             [
              0.6666666666666666,
              "#ed7953"
             ],
             [
              0.7777777777777778,
              "#fb9f3a"
             ],
             [
              0.8888888888888888,
              "#fdca26"
             ],
             [
              1,
              "#f0f921"
             ]
            ],
            "type": "heatmapgl"
           }
          ],
          "histogram": [
           {
            "marker": {
             "colorbar": {
              "outlinewidth": 0,
              "ticks": ""
             }
            },
            "type": "histogram"
           }
          ],
          "histogram2d": [
           {
            "colorbar": {
             "outlinewidth": 0,
             "ticks": ""
            },
            "colorscale": [
             [
              0,
              "#0d0887"
             ],
             [
              0.1111111111111111,
              "#46039f"
             ],
             [
              0.2222222222222222,
              "#7201a8"
             ],
             [
              0.3333333333333333,
              "#9c179e"
             ],
             [
              0.4444444444444444,
              "#bd3786"
             ],
             [
              0.5555555555555556,
              "#d8576b"
             ],
             [
              0.6666666666666666,
              "#ed7953"
             ],
             [
              0.7777777777777778,
              "#fb9f3a"
             ],
             [
              0.8888888888888888,
              "#fdca26"
             ],
             [
              1,
              "#f0f921"
             ]
            ],
            "type": "histogram2d"
           }
          ],
          "histogram2dcontour": [
           {
            "colorbar": {
             "outlinewidth": 0,
             "ticks": ""
            },
            "colorscale": [
             [
              0,
              "#0d0887"
             ],
             [
              0.1111111111111111,
              "#46039f"
             ],
             [
              0.2222222222222222,
              "#7201a8"
             ],
             [
              0.3333333333333333,
              "#9c179e"
             ],
             [
              0.4444444444444444,
              "#bd3786"
             ],
             [
              0.5555555555555556,
              "#d8576b"
             ],
             [
              0.6666666666666666,
              "#ed7953"
             ],
             [
              0.7777777777777778,
              "#fb9f3a"
             ],
             [
              0.8888888888888888,
              "#fdca26"
             ],
             [
              1,
              "#f0f921"
             ]
            ],
            "type": "histogram2dcontour"
           }
          ],
          "mesh3d": [
           {
            "colorbar": {
             "outlinewidth": 0,
             "ticks": ""
            },
            "type": "mesh3d"
           }
          ],
          "parcoords": [
           {
            "line": {
             "colorbar": {
              "outlinewidth": 0,
              "ticks": ""
             }
            },
            "type": "parcoords"
           }
          ],
          "pie": [
           {
            "automargin": true,
            "type": "pie"
           }
          ],
          "scatter": [
           {
            "marker": {
             "colorbar": {
              "outlinewidth": 0,
              "ticks": ""
             }
            },
            "type": "scatter"
           }
          ],
          "scatter3d": [
           {
            "line": {
             "colorbar": {
              "outlinewidth": 0,
              "ticks": ""
             }
            },
            "marker": {
             "colorbar": {
              "outlinewidth": 0,
              "ticks": ""
             }
            },
            "type": "scatter3d"
           }
          ],
          "scattercarpet": [
           {
            "marker": {
             "colorbar": {
              "outlinewidth": 0,
              "ticks": ""
             }
            },
            "type": "scattercarpet"
           }
          ],
          "scattergeo": [
           {
            "marker": {
             "colorbar": {
              "outlinewidth": 0,
              "ticks": ""
             }
            },
            "type": "scattergeo"
           }
          ],
          "scattergl": [
           {
            "marker": {
             "colorbar": {
              "outlinewidth": 0,
              "ticks": ""
             }
            },
            "type": "scattergl"
           }
          ],
          "scattermapbox": [
           {
            "marker": {
             "colorbar": {
              "outlinewidth": 0,
              "ticks": ""
             }
            },
            "type": "scattermapbox"
           }
          ],
          "scatterpolar": [
           {
            "marker": {
             "colorbar": {
              "outlinewidth": 0,
              "ticks": ""
             }
            },
            "type": "scatterpolar"
           }
          ],
          "scatterpolargl": [
           {
            "marker": {
             "colorbar": {
              "outlinewidth": 0,
              "ticks": ""
             }
            },
            "type": "scatterpolargl"
           }
          ],
          "scatterternary": [
           {
            "marker": {
             "colorbar": {
              "outlinewidth": 0,
              "ticks": ""
             }
            },
            "type": "scatterternary"
           }
          ],
          "surface": [
           {
            "colorbar": {
             "outlinewidth": 0,
             "ticks": ""
            },
            "colorscale": [
             [
              0,
              "#0d0887"
             ],
             [
              0.1111111111111111,
              "#46039f"
             ],
             [
              0.2222222222222222,
              "#7201a8"
             ],
             [
              0.3333333333333333,
              "#9c179e"
             ],
             [
              0.4444444444444444,
              "#bd3786"
             ],
             [
              0.5555555555555556,
              "#d8576b"
             ],
             [
              0.6666666666666666,
              "#ed7953"
             ],
             [
              0.7777777777777778,
              "#fb9f3a"
             ],
             [
              0.8888888888888888,
              "#fdca26"
             ],
             [
              1,
              "#f0f921"
             ]
            ],
            "type": "surface"
           }
          ],
          "table": [
           {
            "cells": {
             "fill": {
              "color": "#EBF0F8"
             },
             "line": {
              "color": "white"
             }
            },
            "header": {
             "fill": {
              "color": "#C8D4E3"
             },
             "line": {
              "color": "white"
             }
            },
            "type": "table"
           }
          ]
         },
         "layout": {
          "annotationdefaults": {
           "arrowcolor": "#2a3f5f",
           "arrowhead": 0,
           "arrowwidth": 1
          },
          "coloraxis": {
           "colorbar": {
            "outlinewidth": 0,
            "ticks": ""
           }
          },
          "colorscale": {
           "diverging": [
            [
             0,
             "#8e0152"
            ],
            [
             0.1,
             "#c51b7d"
            ],
            [
             0.2,
             "#de77ae"
            ],
            [
             0.3,
             "#f1b6da"
            ],
            [
             0.4,
             "#fde0ef"
            ],
            [
             0.5,
             "#f7f7f7"
            ],
            [
             0.6,
             "#e6f5d0"
            ],
            [
             0.7,
             "#b8e186"
            ],
            [
             0.8,
             "#7fbc41"
            ],
            [
             0.9,
             "#4d9221"
            ],
            [
             1,
             "#276419"
            ]
           ],
           "sequential": [
            [
             0,
             "#0d0887"
            ],
            [
             0.1111111111111111,
             "#46039f"
            ],
            [
             0.2222222222222222,
             "#7201a8"
            ],
            [
             0.3333333333333333,
             "#9c179e"
            ],
            [
             0.4444444444444444,
             "#bd3786"
            ],
            [
             0.5555555555555556,
             "#d8576b"
            ],
            [
             0.6666666666666666,
             "#ed7953"
            ],
            [
             0.7777777777777778,
             "#fb9f3a"
            ],
            [
             0.8888888888888888,
             "#fdca26"
            ],
            [
             1,
             "#f0f921"
            ]
           ],
           "sequentialminus": [
            [
             0,
             "#0d0887"
            ],
            [
             0.1111111111111111,
             "#46039f"
            ],
            [
             0.2222222222222222,
             "#7201a8"
            ],
            [
             0.3333333333333333,
             "#9c179e"
            ],
            [
             0.4444444444444444,
             "#bd3786"
            ],
            [
             0.5555555555555556,
             "#d8576b"
            ],
            [
             0.6666666666666666,
             "#ed7953"
            ],
            [
             0.7777777777777778,
             "#fb9f3a"
            ],
            [
             0.8888888888888888,
             "#fdca26"
            ],
            [
             1,
             "#f0f921"
            ]
           ]
          },
          "colorway": [
           "#636efa",
           "#EF553B",
           "#00cc96",
           "#ab63fa",
           "#FFA15A",
           "#19d3f3",
           "#FF6692",
           "#B6E880",
           "#FF97FF",
           "#FECB52"
          ],
          "font": {
           "color": "#2a3f5f"
          },
          "geo": {
           "bgcolor": "white",
           "lakecolor": "white",
           "landcolor": "#E5ECF6",
           "showlakes": true,
           "showland": true,
           "subunitcolor": "white"
          },
          "hoverlabel": {
           "align": "left"
          },
          "hovermode": "closest",
          "mapbox": {
           "style": "light"
          },
          "paper_bgcolor": "white",
          "plot_bgcolor": "#E5ECF6",
          "polar": {
           "angularaxis": {
            "gridcolor": "white",
            "linecolor": "white",
            "ticks": ""
           },
           "bgcolor": "#E5ECF6",
           "radialaxis": {
            "gridcolor": "white",
            "linecolor": "white",
            "ticks": ""
           }
          },
          "scene": {
           "xaxis": {
            "backgroundcolor": "#E5ECF6",
            "gridcolor": "white",
            "gridwidth": 2,
            "linecolor": "white",
            "showbackground": true,
            "ticks": "",
            "zerolinecolor": "white"
           },
           "yaxis": {
            "backgroundcolor": "#E5ECF6",
            "gridcolor": "white",
            "gridwidth": 2,
            "linecolor": "white",
            "showbackground": true,
            "ticks": "",
            "zerolinecolor": "white"
           },
           "zaxis": {
            "backgroundcolor": "#E5ECF6",
            "gridcolor": "white",
            "gridwidth": 2,
            "linecolor": "white",
            "showbackground": true,
            "ticks": "",
            "zerolinecolor": "white"
           }
          },
          "shapedefaults": {
           "line": {
            "color": "#2a3f5f"
           }
          },
          "ternary": {
           "aaxis": {
            "gridcolor": "white",
            "linecolor": "white",
            "ticks": ""
           },
           "baxis": {
            "gridcolor": "white",
            "linecolor": "white",
            "ticks": ""
           },
           "bgcolor": "#E5ECF6",
           "caxis": {
            "gridcolor": "white",
            "linecolor": "white",
            "ticks": ""
           }
          },
          "title": {
           "x": 0.05
          },
          "xaxis": {
           "automargin": true,
           "gridcolor": "white",
           "linecolor": "white",
           "ticks": "",
           "title": {
            "standoff": 15
           },
           "zerolinecolor": "white",
           "zerolinewidth": 2
          },
          "yaxis": {
           "automargin": true,
           "gridcolor": "white",
           "linecolor": "white",
           "ticks": "",
           "title": {
            "standoff": 15
           },
           "zerolinecolor": "white",
           "zerolinewidth": 2
          }
         }
        },
        "xaxis": {
         "anchor": "y",
         "domain": [
          0,
          1
         ],
         "title": {
          "text": "År"
         }
        },
        "yaxis": {
         "anchor": "x",
         "domain": [
          0,
          1
         ],
         "title": {
          "text": ""
         }
        }
       }
      }
     },
     "metadata": {}
    }
   ],
   "source": [
    "from dreamtools import plot\n",
    "plot(y)"
   ]
  },
  {
   "cell_type": "markdown",
   "metadata": {},
   "source": [
    "For more advanced examples, we open a gdx file as a GamsPandasDatabase and set it as the \"reference database\".\n",
    "The reference database should be our baseline scenario for any analysis."
   ]
  },
  {
   "cell_type": "code",
   "execution_count": 111,
   "metadata": {},
   "outputs": [],
   "source": [
    "dt.REFERENCE_DATABASE = dt.Gdx(\"Q:/MAKRO/Data/PreviousSolutions/previous_dynamic_calibration\")"
   ]
  },
  {
   "cell_type": "markdown",
   "metadata": {},
   "source": [
    "We read another gdx file and assign it to a short name for easy access."
   ]
  },
  {
   "cell_type": "code",
   "execution_count": 112,
   "metadata": {},
   "outputs": [],
   "source": [
    "s = dt.Gdx(\"Q:/MAKRO/Data/PreviousSolutions/previous_dynamic_calibration2\")"
   ]
  },
  {
   "cell_type": "markdown",
   "metadata": {},
   "source": [
    "Let's try plotting a few national income variables:"
   ]
  },
  {
   "cell_type": "code",
   "execution_count": 113,
   "metadata": {},
   "outputs": [
    {
     "output_type": "display_data",
     "data": {
      "application/vnd.plotly.v1+json": {
       "config": {
        "plotlyServerURL": "https://plot.ly"
       },
       "data": [
        {
         "hovertemplate": "variable=vX[xTot]<br>index=%{x}<br>value=%{y}<extra></extra>",
         "legendgroup": "vX[xTot]",
         "line": {
          "color": "#636efa",
          "dash": "solid"
         },
         "mode": "lines",
         "name": "vX[xTot]",
         "orientation": "v",
         "showlegend": true,
         "type": "scatter",
         "x": [
          1967,
          1968,
          1969,
          1970,
          1971,
          1972,
          1973,
          1974,
          1975,
          1976,
          1977,
          1978,
          1979,
          1980,
          1981,
          1982,
          1983,
          1984,
          1985,
          1986,
          1987,
          1988,
          1989,
          1990,
          1991,
          1992,
          1993,
          1994,
          1995,
          1996,
          1997,
          1998,
          1999,
          2000,
          2001,
          2002,
          2003,
          2004,
          2005,
          2006,
          2007,
          2008,
          2009,
          2010,
          2011,
          2012,
          2013,
          2014,
          2015,
          2016,
          2017,
          2018,
          2019,
          2020,
          2021,
          2022,
          2023,
          2024,
          2025
         ],
         "xaxis": "x",
         "y": [
          79.57618818199863,
          87.0683139735692,
          95.76103895098555,
          104.86453690185787,
          111.54167751031561,
          121.65452705083986,
          144.35563357929124,
          172.35644301436508,
          179.43298950874006,
          194.43655519727162,
          210.67419149837644,
          220.70094634404987,
          254.56830143145586,
          298.15146208008827,
          353.971036838921,
          391.0406938964237,
          419.6551157627446,
          455.2414829873577,
          482.177423589332,
          446.35020070774965,
          447.598446316207,
          479.82044213379845,
          519.5643690634721,
          541.1317647671309,
          566.8792482757985,
          560.5096457808285,
          542.7138590009691,
          569.2132259164065,
          574.8871948319917,
          594.3008949364555,
          620.3684923178713,
          614.9262361761738,
          662.523165955819,
          784.9186956502149,
          801.6389867012482,
          804.4684599179944,
          764.7315821289692,
          781.3422332110238,
          863.9200754060579,
          953.0017423265581,
          972.4613236452393,
          1031.3355404595065,
          834.2844587547452,
          914.9326499310001,
          966.9266504146976,
          979.664282247514,
          973.9622731174528,
          968.9077588764808,
          983.1558911625636,
          938.113465377411,
          976.2890197845993,
          996.4412044123608,
          989.1938671462567,
          990.2915963626161,
          989.7044574686319,
          988.9375222667549,
          987.8121304468164,
          986.347819073032,
          984.671845750778
         ],
         "yaxis": "y"
        },
        {
         "hovertemplate": "variable=vC[cTot]<br>index=%{x}<br>value=%{y}<extra></extra>",
         "legendgroup": "vC[cTot]",
         "line": {
          "color": "#EF553B",
          "dash": "solid"
         },
         "mode": "lines",
         "name": "vC[cTot]",
         "orientation": "v",
         "showlegend": true,
         "type": "scatter",
         "x": [
          1967,
          1968,
          1969,
          1970,
          1971,
          1972,
          1973,
          1974,
          1975,
          1976,
          1977,
          1978,
          1979,
          1980,
          1981,
          1982,
          1983,
          1984,
          1985,
          1986,
          1987,
          1988,
          1989,
          1990,
          1991,
          1992,
          1993,
          1994,
          1995,
          1996,
          1997,
          1998,
          1999,
          2000,
          2001,
          2002,
          2003,
          2004,
          2005,
          2006,
          2007,
          2008,
          2009,
          2010,
          2011,
          2012,
          2013,
          2014,
          2015,
          2016,
          2017,
          2018,
          2019,
          2020,
          2021,
          2022,
          2023,
          2024,
          2025
         ],
         "xaxis": "x",
         "y": [
          173.42682816823717,
          183.5179125344953,
          198.07618425295635,
          212.87793480402217,
          223.4574392195015,
          236.1933567935802,
          270.3906866956212,
          296.6600754059901,
          329.2453003658033,
          378.8700472567224,
          411.279231570349,
          439.64670658831955,
          473.3207514777284,
          495.8819991815717,
          532.8545437592364,
          579.1335322972477,
          612.6789555982213,
          659.667126395154,
          695.3217219892628,
          730.803089025333,
          728.8484536182558,
          724.6127789057507,
          741.0803005578449,
          738.9609414674943,
          751.003072661858,
          758.2378758989031,
          739.0340138844253,
          786.7889427880577,
          792.6095916381039,
          803.2178895395408,
          819.3804363183812,
          828.1047032067553,
          819.8230705098956,
          822.943122479363,
          821.2274070071594,
          825.4264142418472,
          823.427670317525,
          848.164517149366,
          870.0782929858708,
          890.534799248285,
          896.9888797618646,
          902.1868929151794,
          858.2454684860002,
          862.222125,
          860.8154187151865,
          861.5180280610516,
          847.2250407663005,
          836.6966568146619,
          832.21101938147,
          830.344055621722,
          830.319753359609,
          824.8290135145784,
          834.5277646338175,
          850.4834536884035,
          851.7196953232659,
          860.6102141555452,
          869.0245482305509,
          876.6510119488847,
          884.587900107647
         ],
         "yaxis": "y"
        },
        {
         "hovertemplate": "variable=vG[gTot]<br>index=%{x}<br>value=%{y}<extra></extra>",
         "legendgroup": "vG[gTot]",
         "line": {
          "color": "#00cc96",
          "dash": "solid"
         },
         "mode": "lines",
         "name": "vG[gTot]",
         "orientation": "v",
         "showlegend": true,
         "type": "scatter",
         "x": [
          1967,
          1968,
          1969,
          1970,
          1971,
          1972,
          1973,
          1974,
          1975,
          1976,
          1977,
          1978,
          1979,
          1980,
          1981,
          1982,
          1983,
          1984,
          1985,
          1986,
          1987,
          1988,
          1989,
          1990,
          1991,
          1992,
          1993,
          1994,
          1995,
          1996,
          1997,
          1998,
          1999,
          2000,
          2001,
          2002,
          2003,
          2004,
          2005,
          2006,
          2007,
          2008,
          2009,
          2010,
          2011,
          2012,
          2013,
          2014,
          2015,
          2016,
          2017,
          2018,
          2019,
          2020,
          2021,
          2022,
          2023,
          2024,
          2025
         ],
         "xaxis": "x",
         "y": [
          55.46872723396865,
          62.882633317981885,
          70.84179228346908,
          80.95063606382419,
          92.99603455490562,
          103.34914139653705,
          113.32661282085661,
          132.94990402606274,
          150.26752075477714,
          165.9072345919971,
          176.82421027688787,
          196.91385220044748,
          216.92920718981117,
          240.9545607866757,
          267.59626737031545,
          301.84513853550754,
          315.2267369890584,
          315.2280590882508,
          325.4554212904925,
          325.1890618534803,
          343.0498081694835,
          352.5749476766142,
          357.33672876121534,
          355.1759986665979,
          364.7787384283684,
          366.4955736139291,
          375.516996747737,
          376.9467570336828,
          377.1132085160165,
          385.9457300878528,
          387.84337636411016,
          398.4992686819479,
          409.7887715340718,
          417.44668160081847,
          427.6709145030602,
          437.3533419712588,
          436.38352115672603,
          443.117017722394,
          446.02661611479846,
          454.681537721884,
          459.72339672072394,
          477.8414200269376,
          494.54017022900007,
          495.5751875,
          477.25778178132214,
          474.70075146352985,
          461.98891373538777,
          457.47090987178194,
          452.25892003148164,
          444.68780045457197,
          441.74432595135477,
          448.5777679943942,
          461.1215437116902,
          471.74828462800434,
          479.85532025105016,
          486.4568506374613,
          492.5607929881082,
          498.5064942868841,
          504.36441399150436
         ],
         "yaxis": "y"
        },
        {
         "hovertemplate": "variable=vI[iTot]<br>index=%{x}<br>value=%{y}<extra></extra>",
         "legendgroup": "vI[iTot]",
         "line": {
          "color": "#ab63fa",
          "dash": "solid"
         },
         "mode": "lines",
         "name": "vI[iTot]",
         "orientation": "v",
         "showlegend": true,
         "type": "scatter",
         "x": [
          1967,
          1968,
          1969,
          1970,
          1971,
          1972,
          1973,
          1974,
          1975,
          1976,
          1977,
          1978,
          1979,
          1980,
          1981,
          1982,
          1983,
          1984,
          1985,
          1986,
          1987,
          1988,
          1989,
          1990,
          1991,
          1992,
          1993,
          1994,
          1995,
          1996,
          1997,
          1998,
          1999,
          2000,
          2001,
          2002,
          2003,
          2004,
          2005,
          2006,
          2007,
          2008,
          2009,
          2010,
          2011,
          2012,
          2013,
          2014,
          2015,
          2016,
          2017,
          2018,
          2019,
          2020,
          2021,
          2022,
          2023,
          2024,
          2025
         ],
         "xaxis": "x",
         "y": [
          74.85389779287325,
          80.83915181652087,
          96.89705960454641,
          103.2875636219168,
          107.73441171928631,
          123.04085019288317,
          142.10513762863675,
          151.4378174016824,
          137.28541998508436,
          174.99351651632003,
          181.31832766372855,
          186.22642537794206,
          201.3175156866086,
          184.60247966360376,
          166.9362743520209,
          199.16672913431643,
          214.54275805257637,
          258.432328312419,
          292.4972057826741,
          328.6853819763379,
          310.90723081418435,
          300.5647332753423,
          312.78402139269537,
          308.99754458522415,
          295.02900622534156,
          287.2680144501484,
          257.9213330379972,
          289.3722325847596,
          324.3430482974576,
          321.2348501676232,
          361.96529792110954,
          374.15618418621,
          351.2914462916207,
          390.8297297565627,
          383.72216299350487,
          375.34424219806436,
          364.64125897756895,
          385.49101418367985,
          404.29350516839736,
          456.46153508405814,
          477.4769145607836,
          456.581070740083,
          337.92583895250283,
          327.34374779151,
          343.63274143464156,
          349.08202589208616,
          349.7813261490852,
          356.4407717079699,
          352.62653879548066,
          367.25737675051744,
          371.4405106006353,
          410.3918749858808,
          385.99734557012215,
          388.67945309610343,
          390.28986279468154,
          391.0799754107234,
          392.63090811542,
          393.81499261612873,
          394.857069964619
         ],
         "yaxis": "y"
        }
       ],
       "layout": {
        "legend": {
         "title": {
          "text": ""
         },
         "tracegroupgap": 0
        },
        "margin": {
         "t": 60
        },
        "template": {
         "data": {
          "bar": [
           {
            "error_x": {
             "color": "#2a3f5f"
            },
            "error_y": {
             "color": "#2a3f5f"
            },
            "marker": {
             "line": {
              "color": "#E5ECF6",
              "width": 0.5
             }
            },
            "type": "bar"
           }
          ],
          "barpolar": [
           {
            "marker": {
             "line": {
              "color": "#E5ECF6",
              "width": 0.5
             }
            },
            "type": "barpolar"
           }
          ],
          "carpet": [
           {
            "aaxis": {
             "endlinecolor": "#2a3f5f",
             "gridcolor": "white",
             "linecolor": "white",
             "minorgridcolor": "white",
             "startlinecolor": "#2a3f5f"
            },
            "baxis": {
             "endlinecolor": "#2a3f5f",
             "gridcolor": "white",
             "linecolor": "white",
             "minorgridcolor": "white",
             "startlinecolor": "#2a3f5f"
            },
            "type": "carpet"
           }
          ],
          "choropleth": [
           {
            "colorbar": {
             "outlinewidth": 0,
             "ticks": ""
            },
            "type": "choropleth"
           }
          ],
          "contour": [
           {
            "colorbar": {
             "outlinewidth": 0,
             "ticks": ""
            },
            "colorscale": [
             [
              0,
              "#0d0887"
             ],
             [
              0.1111111111111111,
              "#46039f"
             ],
             [
              0.2222222222222222,
              "#7201a8"
             ],
             [
              0.3333333333333333,
              "#9c179e"
             ],
             [
              0.4444444444444444,
              "#bd3786"
             ],
             [
              0.5555555555555556,
              "#d8576b"
             ],
             [
              0.6666666666666666,
              "#ed7953"
             ],
             [
              0.7777777777777778,
              "#fb9f3a"
             ],
             [
              0.8888888888888888,
              "#fdca26"
             ],
             [
              1,
              "#f0f921"
             ]
            ],
            "type": "contour"
           }
          ],
          "contourcarpet": [
           {
            "colorbar": {
             "outlinewidth": 0,
             "ticks": ""
            },
            "type": "contourcarpet"
           }
          ],
          "heatmap": [
           {
            "colorbar": {
             "outlinewidth": 0,
             "ticks": ""
            },
            "colorscale": [
             [
              0,
              "#0d0887"
             ],
             [
              0.1111111111111111,
              "#46039f"
             ],
             [
              0.2222222222222222,
              "#7201a8"
             ],
             [
              0.3333333333333333,
              "#9c179e"
             ],
             [
              0.4444444444444444,
              "#bd3786"
             ],
             [
              0.5555555555555556,
              "#d8576b"
             ],
             [
              0.6666666666666666,
              "#ed7953"
             ],
             [
              0.7777777777777778,
              "#fb9f3a"
             ],
             [
              0.8888888888888888,
              "#fdca26"
             ],
             [
              1,
              "#f0f921"
             ]
            ],
            "type": "heatmap"
           }
          ],
          "heatmapgl": [
           {
            "colorbar": {
             "outlinewidth": 0,
             "ticks": ""
            },
            "colorscale": [
             [
              0,
              "#0d0887"
             ],
             [
              0.1111111111111111,
              "#46039f"
             ],
             [
              0.2222222222222222,
              "#7201a8"
             ],
             [
              0.3333333333333333,
              "#9c179e"
             ],
             [
              0.4444444444444444,
              "#bd3786"
             ],
             [
              0.5555555555555556,
              "#d8576b"
             ],
             [
              0.6666666666666666,
              "#ed7953"
             ],
             [
              0.7777777777777778,
              "#fb9f3a"
             ],
             [
              0.8888888888888888,
              "#fdca26"
             ],
             [
              1,
              "#f0f921"
             ]
            ],
            "type": "heatmapgl"
           }
          ],
          "histogram": [
           {
            "marker": {
             "colorbar": {
              "outlinewidth": 0,
              "ticks": ""
             }
            },
            "type": "histogram"
           }
          ],
          "histogram2d": [
           {
            "colorbar": {
             "outlinewidth": 0,
             "ticks": ""
            },
            "colorscale": [
             [
              0,
              "#0d0887"
             ],
             [
              0.1111111111111111,
              "#46039f"
             ],
             [
              0.2222222222222222,
              "#7201a8"
             ],
             [
              0.3333333333333333,
              "#9c179e"
             ],
             [
              0.4444444444444444,
              "#bd3786"
             ],
             [
              0.5555555555555556,
              "#d8576b"
             ],
             [
              0.6666666666666666,
              "#ed7953"
             ],
             [
              0.7777777777777778,
              "#fb9f3a"
             ],
             [
              0.8888888888888888,
              "#fdca26"
             ],
             [
              1,
              "#f0f921"
             ]
            ],
            "type": "histogram2d"
           }
          ],
          "histogram2dcontour": [
           {
            "colorbar": {
             "outlinewidth": 0,
             "ticks": ""
            },
            "colorscale": [
             [
              0,
              "#0d0887"
             ],
             [
              0.1111111111111111,
              "#46039f"
             ],
             [
              0.2222222222222222,
              "#7201a8"
             ],
             [
              0.3333333333333333,
              "#9c179e"
             ],
             [
              0.4444444444444444,
              "#bd3786"
             ],
             [
              0.5555555555555556,
              "#d8576b"
             ],
             [
              0.6666666666666666,
              "#ed7953"
             ],
             [
              0.7777777777777778,
              "#fb9f3a"
             ],
             [
              0.8888888888888888,
              "#fdca26"
             ],
             [
              1,
              "#f0f921"
             ]
            ],
            "type": "histogram2dcontour"
           }
          ],
          "mesh3d": [
           {
            "colorbar": {
             "outlinewidth": 0,
             "ticks": ""
            },
            "type": "mesh3d"
           }
          ],
          "parcoords": [
           {
            "line": {
             "colorbar": {
              "outlinewidth": 0,
              "ticks": ""
             }
            },
            "type": "parcoords"
           }
          ],
          "pie": [
           {
            "automargin": true,
            "type": "pie"
           }
          ],
          "scatter": [
           {
            "marker": {
             "colorbar": {
              "outlinewidth": 0,
              "ticks": ""
             }
            },
            "type": "scatter"
           }
          ],
          "scatter3d": [
           {
            "line": {
             "colorbar": {
              "outlinewidth": 0,
              "ticks": ""
             }
            },
            "marker": {
             "colorbar": {
              "outlinewidth": 0,
              "ticks": ""
             }
            },
            "type": "scatter3d"
           }
          ],
          "scattercarpet": [
           {
            "marker": {
             "colorbar": {
              "outlinewidth": 0,
              "ticks": ""
             }
            },
            "type": "scattercarpet"
           }
          ],
          "scattergeo": [
           {
            "marker": {
             "colorbar": {
              "outlinewidth": 0,
              "ticks": ""
             }
            },
            "type": "scattergeo"
           }
          ],
          "scattergl": [
           {
            "marker": {
             "colorbar": {
              "outlinewidth": 0,
              "ticks": ""
             }
            },
            "type": "scattergl"
           }
          ],
          "scattermapbox": [
           {
            "marker": {
             "colorbar": {
              "outlinewidth": 0,
              "ticks": ""
             }
            },
            "type": "scattermapbox"
           }
          ],
          "scatterpolar": [
           {
            "marker": {
             "colorbar": {
              "outlinewidth": 0,
              "ticks": ""
             }
            },
            "type": "scatterpolar"
           }
          ],
          "scatterpolargl": [
           {
            "marker": {
             "colorbar": {
              "outlinewidth": 0,
              "ticks": ""
             }
            },
            "type": "scatterpolargl"
           }
          ],
          "scatterternary": [
           {
            "marker": {
             "colorbar": {
              "outlinewidth": 0,
              "ticks": ""
             }
            },
            "type": "scatterternary"
           }
          ],
          "surface": [
           {
            "colorbar": {
             "outlinewidth": 0,
             "ticks": ""
            },
            "colorscale": [
             [
              0,
              "#0d0887"
             ],
             [
              0.1111111111111111,
              "#46039f"
             ],
             [
              0.2222222222222222,
              "#7201a8"
             ],
             [
              0.3333333333333333,
              "#9c179e"
             ],
             [
              0.4444444444444444,
              "#bd3786"
             ],
             [
              0.5555555555555556,
              "#d8576b"
             ],
             [
              0.6666666666666666,
              "#ed7953"
             ],
             [
              0.7777777777777778,
              "#fb9f3a"
             ],
             [
              0.8888888888888888,
              "#fdca26"
             ],
             [
              1,
              "#f0f921"
             ]
            ],
            "type": "surface"
           }
          ],
          "table": [
           {
            "cells": {
             "fill": {
              "color": "#EBF0F8"
             },
             "line": {
              "color": "white"
             }
            },
            "header": {
             "fill": {
              "color": "#C8D4E3"
             },
             "line": {
              "color": "white"
             }
            },
            "type": "table"
           }
          ]
         },
         "layout": {
          "annotationdefaults": {
           "arrowcolor": "#2a3f5f",
           "arrowhead": 0,
           "arrowwidth": 1
          },
          "coloraxis": {
           "colorbar": {
            "outlinewidth": 0,
            "ticks": ""
           }
          },
          "colorscale": {
           "diverging": [
            [
             0,
             "#8e0152"
            ],
            [
             0.1,
             "#c51b7d"
            ],
            [
             0.2,
             "#de77ae"
            ],
            [
             0.3,
             "#f1b6da"
            ],
            [
             0.4,
             "#fde0ef"
            ],
            [
             0.5,
             "#f7f7f7"
            ],
            [
             0.6,
             "#e6f5d0"
            ],
            [
             0.7,
             "#b8e186"
            ],
            [
             0.8,
             "#7fbc41"
            ],
            [
             0.9,
             "#4d9221"
            ],
            [
             1,
             "#276419"
            ]
           ],
           "sequential": [
            [
             0,
             "#0d0887"
            ],
            [
             0.1111111111111111,
             "#46039f"
            ],
            [
             0.2222222222222222,
             "#7201a8"
            ],
            [
             0.3333333333333333,
             "#9c179e"
            ],
            [
             0.4444444444444444,
             "#bd3786"
            ],
            [
             0.5555555555555556,
             "#d8576b"
            ],
            [
             0.6666666666666666,
             "#ed7953"
            ],
            [
             0.7777777777777778,
             "#fb9f3a"
            ],
            [
             0.8888888888888888,
             "#fdca26"
            ],
            [
             1,
             "#f0f921"
            ]
           ],
           "sequentialminus": [
            [
             0,
             "#0d0887"
            ],
            [
             0.1111111111111111,
             "#46039f"
            ],
            [
             0.2222222222222222,
             "#7201a8"
            ],
            [
             0.3333333333333333,
             "#9c179e"
            ],
            [
             0.4444444444444444,
             "#bd3786"
            ],
            [
             0.5555555555555556,
             "#d8576b"
            ],
            [
             0.6666666666666666,
             "#ed7953"
            ],
            [
             0.7777777777777778,
             "#fb9f3a"
            ],
            [
             0.8888888888888888,
             "#fdca26"
            ],
            [
             1,
             "#f0f921"
            ]
           ]
          },
          "colorway": [
           "#636efa",
           "#EF553B",
           "#00cc96",
           "#ab63fa",
           "#FFA15A",
           "#19d3f3",
           "#FF6692",
           "#B6E880",
           "#FF97FF",
           "#FECB52"
          ],
          "font": {
           "color": "#2a3f5f"
          },
          "geo": {
           "bgcolor": "white",
           "lakecolor": "white",
           "landcolor": "#E5ECF6",
           "showlakes": true,
           "showland": true,
           "subunitcolor": "white"
          },
          "hoverlabel": {
           "align": "left"
          },
          "hovermode": "closest",
          "mapbox": {
           "style": "light"
          },
          "paper_bgcolor": "white",
          "plot_bgcolor": "#E5ECF6",
          "polar": {
           "angularaxis": {
            "gridcolor": "white",
            "linecolor": "white",
            "ticks": ""
           },
           "bgcolor": "#E5ECF6",
           "radialaxis": {
            "gridcolor": "white",
            "linecolor": "white",
            "ticks": ""
           }
          },
          "scene": {
           "xaxis": {
            "backgroundcolor": "#E5ECF6",
            "gridcolor": "white",
            "gridwidth": 2,
            "linecolor": "white",
            "showbackground": true,
            "ticks": "",
            "zerolinecolor": "white"
           },
           "yaxis": {
            "backgroundcolor": "#E5ECF6",
            "gridcolor": "white",
            "gridwidth": 2,
            "linecolor": "white",
            "showbackground": true,
            "ticks": "",
            "zerolinecolor": "white"
           },
           "zaxis": {
            "backgroundcolor": "#E5ECF6",
            "gridcolor": "white",
            "gridwidth": 2,
            "linecolor": "white",
            "showbackground": true,
            "ticks": "",
            "zerolinecolor": "white"
           }
          },
          "shapedefaults": {
           "line": {
            "color": "#2a3f5f"
           }
          },
          "ternary": {
           "aaxis": {
            "gridcolor": "white",
            "linecolor": "white",
            "ticks": ""
           },
           "baxis": {
            "gridcolor": "white",
            "linecolor": "white",
            "ticks": ""
           },
           "bgcolor": "#E5ECF6",
           "caxis": {
            "gridcolor": "white",
            "linecolor": "white",
            "ticks": ""
           }
          },
          "title": {
           "x": 0.05
          },
          "xaxis": {
           "automargin": true,
           "gridcolor": "white",
           "linecolor": "white",
           "ticks": "",
           "title": {
            "standoff": 15
           },
           "zerolinecolor": "white",
           "zerolinewidth": 2
          },
          "yaxis": {
           "automargin": true,
           "gridcolor": "white",
           "linecolor": "white",
           "ticks": "",
           "title": {
            "standoff": 15
           },
           "zerolinecolor": "white",
           "zerolinewidth": 2
          }
         }
        },
        "xaxis": {
         "anchor": "y",
         "domain": [
          0,
          1
         ],
         "title": {
          "text": "År"
         }
        },
        "yaxis": {
         "anchor": "x",
         "domain": [
          0,
          1
         ],
         "title": {
          "text": ""
         }
        }
       }
      }
     },
     "metadata": {}
    }
   ],
   "source": [
    "plot([s.vX, s.vC, s.vG, s.vI])"
   ]
  },
  {
   "cell_type": "markdown",
   "metadata": {},
   "source": [
    "Note that only the aggregate elements are plotted despite each variable being multidimensional.\n",
    "\n",
    "That is because *dreamtools* is setup with a dictionary defining which elements should be shown for a number of sets if we haven't specified anything."
   ]
  },
  {
   "cell_type": "code",
   "execution_count": 114,
   "metadata": {},
   "outputs": [
    {
     "output_type": "execute_result",
     "data": {
      "text/plain": "{'a_': ['tot'],\n 'a': [10, 20, 30, 40, 50, 60, 70, 80, 90, 100],\n 'c_': ['cTot'],\n 'c': ['cBil', 'cEne', 'cVar', 'cBol', 'cTje', 'cTur'],\n 'x_': ['xTot'],\n 'x': ['xEne', 'xVar', 'xSoe', 'xTje', 'xTur'],\n 'g_': ['gTot'],\n 'g': ['g'],\n 's_': ['tot'],\n 'sp': ['tje', 'fre', 'byg', 'soe', 'bol', 'lan', 'ene', 'udv'],\n 's': ['tje', 'fre', 'byg', 'soe', 'bol', 'lan', 'ene', 'udv', 'off'],\n 'r_': ['rTot'],\n 'r': ['tje', 'fre', 'byg', 'soe', 'bol', 'lan', 'ene', 'udv', 'off'],\n 'i_': ['iTot'],\n 'i': ['im', 'ib', 'iL'],\n 'k_': ['im', 'ib'],\n 'k': ['im', 'ib'],\n 'portf': ['Net'],\n 'portf_': ['Net'],\n 'scen_': ['GovSpending', 'IntRate', 'ForeignDemand']}"
     },
     "metadata": {},
     "execution_count": 114
    }
   ],
   "source": [
    "dt.DEFAULT_SET_AGGREGATIONS"
   ]
  },
  {
   "cell_type": "markdown",
   "metadata": {},
   "source": [
    "If we want other components we can simply be more specific (or supply a different *default_set_aggregations* dictionary):"
   ]
  },
  {
   "cell_type": "code",
   "execution_count": 115,
   "metadata": {},
   "outputs": [
    {
     "output_type": "display_data",
     "data": {
      "application/vnd.plotly.v1+json": {
       "config": {
        "plotlyServerURL": "https://plot.ly"
       },
       "data": [
        {
         "hovertemplate": "variable=vC[cBol]<br>index=%{x}<br>value=%{y}<extra></extra>",
         "legendgroup": "vC[cBol]",
         "line": {
          "color": "#636efa",
          "dash": "solid"
         },
         "mode": "lines",
         "name": "vC[cBol]",
         "orientation": "v",
         "showlegend": true,
         "type": "scatter",
         "x": [
          1967,
          1968,
          1969,
          1970,
          1971,
          1972,
          1973,
          1974,
          1975,
          1976,
          1977,
          1978,
          1979,
          1980,
          1981,
          1982,
          1983,
          1984,
          1985,
          1986,
          1987,
          1988,
          1989,
          1990,
          1991,
          1992,
          1993,
          1994,
          1995,
          1996,
          1997,
          1998,
          1999,
          2000,
          2001,
          2002,
          2003,
          2004,
          2005,
          2006,
          2007,
          2008,
          2009,
          2010,
          2011,
          2012,
          2013,
          2014,
          2015,
          2016,
          2017,
          2018,
          2019,
          2020,
          2021,
          2022,
          2023,
          2024,
          2025
         ],
         "xaxis": "x",
         "y": [
          0,
          19.55684813967057,
          21.842972777734378,
          24.756836208651738,
          28.398533609329448,
          32.08717676192709,
          36.95001746563168,
          41.62230406431808,
          48.55656775761229,
          57.56029023591499,
          65.02341323383475,
          71.35767797604308,
          77.48474443893409,
          82.89503701833668,
          88.68456343378163,
          96.48882916250203,
          102.79427455782194,
          108.57429450485064,
          112.5479564269546,
          118.36334649507542,
          123.29463169486027,
          127.80740277968113,
          134.15332673665804,
          139.14922113701766,
          143.53143390198994,
          146.11133641553067,
          147.13554112683175,
          148.38950532606663,
          148.73404523690945,
          149.90700320054376,
          151.02123144594023,
          151.86030577119632,
          151.6851602216636,
          153.24863698988716,
          155.6882515078452,
          158.38970040316087,
          161.07710604743173,
          163.47965204471555,
          166.18758112090643,
          168.89671311582177,
          171.3678492648006,
          173.5752539088202,
          176.091089433,
          181.39320310000002,
          184.21074556070263,
          186.03075061022184,
          186.45735257962068,
          186.51534523178856,
          185.7944142517957,
          185.8510470026756,
          185.65716535426782,
          187.3096948142309,
          189.91716914789092,
          192.75501167055972,
          195.63332181692323,
          198.49804352184685,
          201.2701692778424,
          203.92585007991468,
          206.46342771862035
         ],
         "yaxis": "y"
        },
        {
         "hovertemplate": "variable=vC[cBil]<br>index=%{x}<br>value=%{y}<extra></extra>",
         "legendgroup": "vC[cBil]",
         "line": {
          "color": "#EF553B",
          "dash": "solid"
         },
         "mode": "lines",
         "name": "vC[cBil]",
         "orientation": "v",
         "showlegend": true,
         "type": "scatter",
         "x": [
          1967,
          1968,
          1969,
          1970,
          1971,
          1972,
          1973,
          1974,
          1975,
          1976,
          1977,
          1978,
          1979,
          1980,
          1981,
          1982,
          1983,
          1984,
          1985,
          1986,
          1987,
          1988,
          1989,
          1990,
          1991,
          1992,
          1993,
          1994,
          1995,
          1996,
          1997,
          1998,
          1999,
          2000,
          2001,
          2002,
          2003,
          2004,
          2005,
          2006,
          2007,
          2008,
          2009,
          2010,
          2011,
          2012,
          2013,
          2014,
          2015,
          2016,
          2017,
          2018,
          2019,
          2020,
          2021,
          2022,
          2023,
          2024,
          2025
         ],
         "xaxis": "x",
         "y": [
          0,
          8.42088308584111,
          10.435110380179655,
          10.291427481557688,
          10.232718649319931,
          11.42296625387562,
          14.129001405774437,
          9.86356235586887,
          14.927916685056394,
          21.414724083333017,
          21.356609196104696,
          21.840409604188395,
          22.31916681856872,
          13.761714148322914,
          14.736638175398822,
          18.623785325278323,
          27.216507328183827,
          35.134112552460664,
          42.40035941543895,
          44.71163182602518,
          35.57060459510364,
          26.220943648911163,
          24.55177668215447,
          24.318662390879254,
          25.542951577538517,
          25.6164001800722,
          23.80270779696222,
          41.80255815344777,
          43.77051941417199,
          46.63722631582656,
          47.464189601801664,
          49.691579044048886,
          43.925137137800746,
          34.63188411788025,
          30.66637202252933,
          34.843316846108735,
          29.255317803063726,
          40.78293912351934,
          48.83743383704183,
          53.02055149537577,
          50.53202435033634,
          40.856108975318,
          27.50707703586682,
          28.3017793,
          28.407914313341337,
          28.304261972814018,
          29.932886688578066,
          30.096816596129635,
          30.64883078618816,
          30.76817197792118,
          30.640817063271403,
          31.162676440530294,
          32.74695756520327,
          34.194571605765205,
          34.59429791868093,
          35.21969222184613,
          35.7153755434787,
          36.10617579337906,
          36.47660163749989
         ],
         "yaxis": "y"
        },
        {
         "hovertemplate": "variable=vC[cEne]<br>index=%{x}<br>value=%{y}<extra></extra>",
         "legendgroup": "vC[cEne]",
         "line": {
          "color": "#00cc96",
          "dash": "solid"
         },
         "mode": "lines",
         "name": "vC[cEne]",
         "orientation": "v",
         "showlegend": true,
         "type": "scatter",
         "x": [
          1967,
          1968,
          1969,
          1970,
          1971,
          1972,
          1973,
          1974,
          1975,
          1976,
          1977,
          1978,
          1979,
          1980,
          1981,
          1982,
          1983,
          1984,
          1985,
          1986,
          1987,
          1988,
          1989,
          1990,
          1991,
          1992,
          1993,
          1994,
          1995,
          1996,
          1997,
          1998,
          1999,
          2000,
          2001,
          2002,
          2003,
          2004,
          2005,
          2006,
          2007,
          2008,
          2009,
          2010,
          2011,
          2012,
          2013,
          2014,
          2015,
          2016,
          2017,
          2018,
          2019,
          2020,
          2021,
          2022,
          2023,
          2024,
          2025
         ],
         "xaxis": "x",
         "y": [
          0,
          11.52863073421354,
          12.531281903010452,
          13.839314528213517,
          15.215584779818082,
          15.583907308679157,
          18.436014979405833,
          28.53033354729947,
          27.287299497569826,
          30.935805038814898,
          33.50097693388462,
          36.87162082048907,
          46.19060903132817,
          59.91185544133511,
          68.4700257344845,
          71.20092537291221,
          68.47717559098375,
          67.85413033353214,
          71.95002764154276,
          70.31926041621773,
          73.96180460612034,
          66.64805335793676,
          67.34445413830042,
          64.76002118574894,
          65.16988888072795,
          64.1426825407322,
          63.26964264905969,
          62.85799528220568,
          64.70588473301292,
          70.27891222608729,
          68.38311618052009,
          67.67352699052424,
          70.01192064270394,
          74.97884350858888,
          75.56831228938243,
          74.5280524314589,
          74.20288557616269,
          74.35270525227222,
          76.88153536676927,
          77.89675065747964,
          73.71252263488472,
          77.46960256083975,
          71.41668518348067,
          79.62807336,
          78.58411129353647,
          76.4837800418208,
          78.39619110218827,
          70.66831724522547,
          66.99701983878121,
          62.49198677437773,
          62.02538616721415,
          66.88384484561513,
          62.13453560016627,
          60.229246352746124,
          58.07170032567859,
          57.62225956371163,
          57.53636334353071,
          57.5969049757212,
          57.82126573714675
         ],
         "yaxis": "y"
        },
        {
         "hovertemplate": "variable=vC[cVar]<br>index=%{x}<br>value=%{y}<extra></extra>",
         "legendgroup": "vC[cVar]",
         "line": {
          "color": "#ab63fa",
          "dash": "solid"
         },
         "mode": "lines",
         "name": "vC[cVar]",
         "orientation": "v",
         "showlegend": true,
         "type": "scatter",
         "x": [
          1967,
          1968,
          1969,
          1970,
          1971,
          1972,
          1973,
          1974,
          1975,
          1976,
          1977,
          1978,
          1979,
          1980,
          1981,
          1982,
          1983,
          1984,
          1985,
          1986,
          1987,
          1988,
          1989,
          1990,
          1991,
          1992,
          1993,
          1994,
          1995,
          1996,
          1997,
          1998,
          1999,
          2000,
          2001,
          2002,
          2003,
          2004,
          2005,
          2006,
          2007,
          2008,
          2009,
          2010,
          2011,
          2012,
          2013,
          2014,
          2015,
          2016,
          2017,
          2018,
          2019,
          2020,
          2021,
          2022,
          2023,
          2024,
          2025
         ],
         "xaxis": "x",
         "y": [
          0,
          93.68081881928877,
          99.2719877075595,
          105.65335290973361,
          107.69552201292792,
          111.48017508961944,
          128.13371291974826,
          136.8963057120645,
          148.69891592312902,
          169.16545628483962,
          181.26196278768617,
          189.90099906347385,
          194.86608233949167,
          198.88683457496583,
          211.05856857205495,
          228.75058867737107,
          238.86913486312332,
          257.20318394530653,
          266.04640887342975,
          279.676456002878,
          270.32883970498847,
          265.9970904444639,
          263.2875873020788,
          261.24956275269193,
          262.4211612227615,
          261.1732550291796,
          255.18682626865186,
          269.50520047974413,
          272.32864795466236,
          274.2602325615207,
          280.3919821259145,
          279.71194807496255,
          271.90723946433513,
          271.45957493092436,
          269.00531014779085,
          266.8072294342164,
          266.24048788625265,
          269.68573857599165,
          271.3699771280076,
          278.5113092850505,
          284.1242344860246,
          282.5031203089021,
          268.1880474994308,
          261.2080044,
          256.4488329939573,
          257.4032049414783,
          249.71747760012443,
          247.93477025736794,
          240.8684653165781,
          239.35086636769418,
          237.04519704502414,
          227.0430409396741,
          229.40816680073414,
          233.4633874503452,
          232.15871377455602,
          233.3943232221014,
          234.50811947050138,
          235.43964385907472,
          236.57748256931865
         ],
         "yaxis": "y"
        },
        {
         "hovertemplate": "variable=vC[cTje]<br>index=%{x}<br>value=%{y}<extra></extra>",
         "legendgroup": "vC[cTje]",
         "line": {
          "color": "#FFA15A",
          "dash": "solid"
         },
         "mode": "lines",
         "name": "vC[cTje]",
         "orientation": "v",
         "showlegend": true,
         "type": "scatter",
         "x": [
          1967,
          1968,
          1969,
          1970,
          1971,
          1972,
          1973,
          1974,
          1975,
          1976,
          1977,
          1978,
          1979,
          1980,
          1981,
          1982,
          1983,
          1984,
          1985,
          1986,
          1987,
          1988,
          1989,
          1990,
          1991,
          1992,
          1993,
          1994,
          1995,
          1996,
          1997,
          1998,
          1999,
          2000,
          2001,
          2002,
          2003,
          2004,
          2005,
          2006,
          2007,
          2008,
          2009,
          2010,
          2011,
          2012,
          2013,
          2014,
          2015,
          2016,
          2017,
          2018,
          2019,
          2020,
          2021,
          2022,
          2023,
          2024,
          2025
         ],
         "xaxis": "x",
         "y": [
          0,
          46.35451200642297,
          49.822691734784854,
          53.87673571923209,
          57.062999735808255,
          60.35100331439019,
          66.7290683335781,
          73.57244845285867,
          82.72395471531597,
          91.52177624720488,
          100.11388935377364,
          108.8294496144453,
          119.04390929795667,
          126.42120368145478,
          135.6604663872699,
          147.30878003236546,
          159.14101080845214,
          172.79517327002665,
          181.64050954202744,
          193.74686370960296,
          200.06996395869464,
          211.18805424978234,
          225.1319407993114,
          221.58456428528882,
          228.46913308133932,
          234.1352197068325,
          227.65550170119744,
          241.12577609000778,
          239.64097207977392,
          239.808144405334,
          247.0667304621543,
          252.6851467827652,
          252.1390464818084,
          256.96221083723526,
          256.9510602757988,
          252.78394399342372,
          257.1856599570589,
          266.02144386516005,
          275.08096332771663,
          280.5206112075631,
          284.6401068916301,
          293.7136443084601,
          279.7918666232371,
          275.73184999999995,
          276.8582153384905,
          276.4908779821457,
          267.0311237772924,
          265.11805369145776,
          271.8743703792034,
          275.940520542163,
          279.43561676855904,
          277.89352673561234,
          285.4145694122046,
          294.0258464713165,
          295.294864817452,
          299.4191741195309,
          303.10635329055793,
          306.32307011453054,
          309.6114038032998
         ],
         "yaxis": "y"
        },
        {
         "hovertemplate": "variable=vC[cTur]<br>index=%{x}<br>value=%{y}<extra></extra>",
         "legendgroup": "vC[cTur]",
         "line": {
          "color": "#19d3f3",
          "dash": "solid"
         },
         "mode": "lines",
         "name": "vC[cTur]",
         "orientation": "v",
         "showlegend": true,
         "type": "scatter",
         "x": [
          1967,
          1968,
          1969,
          1970,
          1971,
          1972,
          1973,
          1974,
          1975,
          1976,
          1977,
          1978,
          1979,
          1980,
          1981,
          1982,
          1983,
          1984,
          1985,
          1986,
          1987,
          1988,
          1989,
          1990,
          1991,
          1992,
          1993,
          1994,
          1995,
          1996,
          1997,
          1998,
          1999,
          2000,
          2001,
          2002,
          2003,
          2004,
          2005,
          2006,
          2007,
          2008,
          2009,
          2010,
          2011,
          2012,
          2013,
          2014,
          2015,
          2016,
          2017,
          2018,
          2019,
          2020,
          2021,
          2022,
          2023,
          2024,
          2025
         ],
         "xaxis": "x",
         "y": [
          0,
          3.9761808699872154,
          4.1721049479957655,
          4.460258771558422,
          4.852058587383497,
          5.268143074750836,
          6.012856684984482,
          6.1753784048123705,
          7.050650378837052,
          8.272077628347066,
          10.022262944142799,
          10.846538768282013,
          13.416254469932197,
          14.005257009117686,
          14.244245592695828,
          16.76054336502412,
          16.18082882306063,
          18.106171752209605,
          20.736533985386618,
          23.985439629339297,
          25.622452432831597,
          26.751157280158264,
          26.611253332339174,
          27.899025019897543,
          25.86841823454327,
          27.058927519310295,
          21.983881718208067,
          23.107980341236875,
          23.429529677261574,
          22.326218584204863,
          25.05294198848578,
          26.482098703811072,
          30.154399846757507,
          31.661694243946695,
          33.34783787161833,
          38.07403944903256,
          35.46604028177592,
          33.84204768095951,
          31.720699005643894,
          31.68886348699426,
          32.612004336499744,
          34.06908864864301,
          35.250670668910345,
          35.95914063,
          36.30549486467609,
          36.805246868908526,
          35.689965991875056,
          36.36334162287203,
          36.02783890926106,
          35.94146295689026,
          35.5155709612724,
          34.536229738915715,
          34.906366107618425,
          35.81539013767088,
          35.96679666997521,
          36.45672150650832,
          36.88816730463962,
          37.25936712626452,
          37.637718641761545
         ],
         "yaxis": "y"
        }
       ],
       "layout": {
        "legend": {
         "title": {
          "text": ""
         },
         "tracegroupgap": 0
        },
        "margin": {
         "t": 60
        },
        "template": {
         "data": {
          "bar": [
           {
            "error_x": {
             "color": "#2a3f5f"
            },
            "error_y": {
             "color": "#2a3f5f"
            },
            "marker": {
             "line": {
              "color": "#E5ECF6",
              "width": 0.5
             }
            },
            "type": "bar"
           }
          ],
          "barpolar": [
           {
            "marker": {
             "line": {
              "color": "#E5ECF6",
              "width": 0.5
             }
            },
            "type": "barpolar"
           }
          ],
          "carpet": [
           {
            "aaxis": {
             "endlinecolor": "#2a3f5f",
             "gridcolor": "white",
             "linecolor": "white",
             "minorgridcolor": "white",
             "startlinecolor": "#2a3f5f"
            },
            "baxis": {
             "endlinecolor": "#2a3f5f",
             "gridcolor": "white",
             "linecolor": "white",
             "minorgridcolor": "white",
             "startlinecolor": "#2a3f5f"
            },
            "type": "carpet"
           }
          ],
          "choropleth": [
           {
            "colorbar": {
             "outlinewidth": 0,
             "ticks": ""
            },
            "type": "choropleth"
           }
          ],
          "contour": [
           {
            "colorbar": {
             "outlinewidth": 0,
             "ticks": ""
            },
            "colorscale": [
             [
              0,
              "#0d0887"
             ],
             [
              0.1111111111111111,
              "#46039f"
             ],
             [
              0.2222222222222222,
              "#7201a8"
             ],
             [
              0.3333333333333333,
              "#9c179e"
             ],
             [
              0.4444444444444444,
              "#bd3786"
             ],
             [
              0.5555555555555556,
              "#d8576b"
             ],
             [
              0.6666666666666666,
              "#ed7953"
             ],
             [
              0.7777777777777778,
              "#fb9f3a"
             ],
             [
              0.8888888888888888,
              "#fdca26"
             ],
             [
              1,
              "#f0f921"
             ]
            ],
            "type": "contour"
           }
          ],
          "contourcarpet": [
           {
            "colorbar": {
             "outlinewidth": 0,
             "ticks": ""
            },
            "type": "contourcarpet"
           }
          ],
          "heatmap": [
           {
            "colorbar": {
             "outlinewidth": 0,
             "ticks": ""
            },
            "colorscale": [
             [
              0,
              "#0d0887"
             ],
             [
              0.1111111111111111,
              "#46039f"
             ],
             [
              0.2222222222222222,
              "#7201a8"
             ],
             [
              0.3333333333333333,
              "#9c179e"
             ],
             [
              0.4444444444444444,
              "#bd3786"
             ],
             [
              0.5555555555555556,
              "#d8576b"
             ],
             [
              0.6666666666666666,
              "#ed7953"
             ],
             [
              0.7777777777777778,
              "#fb9f3a"
             ],
             [
              0.8888888888888888,
              "#fdca26"
             ],
             [
              1,
              "#f0f921"
             ]
            ],
            "type": "heatmap"
           }
          ],
          "heatmapgl": [
           {
            "colorbar": {
             "outlinewidth": 0,
             "ticks": ""
            },
            "colorscale": [
             [
              0,
              "#0d0887"
             ],
             [
              0.1111111111111111,
              "#46039f"
             ],
             [
              0.2222222222222222,
              "#7201a8"
             ],
             [
              0.3333333333333333,
              "#9c179e"
             ],
             [
              0.4444444444444444,
              "#bd3786"
             ],
             [
              0.5555555555555556,
              "#d8576b"
             ],
             [
              0.6666666666666666,
              "#ed7953"
             ],
             [
              0.7777777777777778,
              "#fb9f3a"
             ],
             [
              0.8888888888888888,
              "#fdca26"
             ],
             [
              1,
              "#f0f921"
             ]
            ],
            "type": "heatmapgl"
           }
          ],
          "histogram": [
           {
            "marker": {
             "colorbar": {
              "outlinewidth": 0,
              "ticks": ""
             }
            },
            "type": "histogram"
           }
          ],
          "histogram2d": [
           {
            "colorbar": {
             "outlinewidth": 0,
             "ticks": ""
            },
            "colorscale": [
             [
              0,
              "#0d0887"
             ],
             [
              0.1111111111111111,
              "#46039f"
             ],
             [
              0.2222222222222222,
              "#7201a8"
             ],
             [
              0.3333333333333333,
              "#9c179e"
             ],
             [
              0.4444444444444444,
              "#bd3786"
             ],
             [
              0.5555555555555556,
              "#d8576b"
             ],
             [
              0.6666666666666666,
              "#ed7953"
             ],
             [
              0.7777777777777778,
              "#fb9f3a"
             ],
             [
              0.8888888888888888,
              "#fdca26"
             ],
             [
              1,
              "#f0f921"
             ]
            ],
            "type": "histogram2d"
           }
          ],
          "histogram2dcontour": [
           {
            "colorbar": {
             "outlinewidth": 0,
             "ticks": ""
            },
            "colorscale": [
             [
              0,
              "#0d0887"
             ],
             [
              0.1111111111111111,
              "#46039f"
             ],
             [
              0.2222222222222222,
              "#7201a8"
             ],
             [
              0.3333333333333333,
              "#9c179e"
             ],
             [
              0.4444444444444444,
              "#bd3786"
             ],
             [
              0.5555555555555556,
              "#d8576b"
             ],
             [
              0.6666666666666666,
              "#ed7953"
             ],
             [
              0.7777777777777778,
              "#fb9f3a"
             ],
             [
              0.8888888888888888,
              "#fdca26"
             ],
             [
              1,
              "#f0f921"
             ]
            ],
            "type": "histogram2dcontour"
           }
          ],
          "mesh3d": [
           {
            "colorbar": {
             "outlinewidth": 0,
             "ticks": ""
            },
            "type": "mesh3d"
           }
          ],
          "parcoords": [
           {
            "line": {
             "colorbar": {
              "outlinewidth": 0,
              "ticks": ""
             }
            },
            "type": "parcoords"
           }
          ],
          "pie": [
           {
            "automargin": true,
            "type": "pie"
           }
          ],
          "scatter": [
           {
            "marker": {
             "colorbar": {
              "outlinewidth": 0,
              "ticks": ""
             }
            },
            "type": "scatter"
           }
          ],
          "scatter3d": [
           {
            "line": {
             "colorbar": {
              "outlinewidth": 0,
              "ticks": ""
             }
            },
            "marker": {
             "colorbar": {
              "outlinewidth": 0,
              "ticks": ""
             }
            },
            "type": "scatter3d"
           }
          ],
          "scattercarpet": [
           {
            "marker": {
             "colorbar": {
              "outlinewidth": 0,
              "ticks": ""
             }
            },
            "type": "scattercarpet"
           }
          ],
          "scattergeo": [
           {
            "marker": {
             "colorbar": {
              "outlinewidth": 0,
              "ticks": ""
             }
            },
            "type": "scattergeo"
           }
          ],
          "scattergl": [
           {
            "marker": {
             "colorbar": {
              "outlinewidth": 0,
              "ticks": ""
             }
            },
            "type": "scattergl"
           }
          ],
          "scattermapbox": [
           {
            "marker": {
             "colorbar": {
              "outlinewidth": 0,
              "ticks": ""
             }
            },
            "type": "scattermapbox"
           }
          ],
          "scatterpolar": [
           {
            "marker": {
             "colorbar": {
              "outlinewidth": 0,
              "ticks": ""
             }
            },
            "type": "scatterpolar"
           }
          ],
          "scatterpolargl": [
           {
            "marker": {
             "colorbar": {
              "outlinewidth": 0,
              "ticks": ""
             }
            },
            "type": "scatterpolargl"
           }
          ],
          "scatterternary": [
           {
            "marker": {
             "colorbar": {
              "outlinewidth": 0,
              "ticks": ""
             }
            },
            "type": "scatterternary"
           }
          ],
          "surface": [
           {
            "colorbar": {
             "outlinewidth": 0,
             "ticks": ""
            },
            "colorscale": [
             [
              0,
              "#0d0887"
             ],
             [
              0.1111111111111111,
              "#46039f"
             ],
             [
              0.2222222222222222,
              "#7201a8"
             ],
             [
              0.3333333333333333,
              "#9c179e"
             ],
             [
              0.4444444444444444,
              "#bd3786"
             ],
             [
              0.5555555555555556,
              "#d8576b"
             ],
             [
              0.6666666666666666,
              "#ed7953"
             ],
             [
              0.7777777777777778,
              "#fb9f3a"
             ],
             [
              0.8888888888888888,
              "#fdca26"
             ],
             [
              1,
              "#f0f921"
             ]
            ],
            "type": "surface"
           }
          ],
          "table": [
           {
            "cells": {
             "fill": {
              "color": "#EBF0F8"
             },
             "line": {
              "color": "white"
             }
            },
            "header": {
             "fill": {
              "color": "#C8D4E3"
             },
             "line": {
              "color": "white"
             }
            },
            "type": "table"
           }
          ]
         },
         "layout": {
          "annotationdefaults": {
           "arrowcolor": "#2a3f5f",
           "arrowhead": 0,
           "arrowwidth": 1
          },
          "coloraxis": {
           "colorbar": {
            "outlinewidth": 0,
            "ticks": ""
           }
          },
          "colorscale": {
           "diverging": [
            [
             0,
             "#8e0152"
            ],
            [
             0.1,
             "#c51b7d"
            ],
            [
             0.2,
             "#de77ae"
            ],
            [
             0.3,
             "#f1b6da"
            ],
            [
             0.4,
             "#fde0ef"
            ],
            [
             0.5,
             "#f7f7f7"
            ],
            [
             0.6,
             "#e6f5d0"
            ],
            [
             0.7,
             "#b8e186"
            ],
            [
             0.8,
             "#7fbc41"
            ],
            [
             0.9,
             "#4d9221"
            ],
            [
             1,
             "#276419"
            ]
           ],
           "sequential": [
            [
             0,
             "#0d0887"
            ],
            [
             0.1111111111111111,
             "#46039f"
            ],
            [
             0.2222222222222222,
             "#7201a8"
            ],
            [
             0.3333333333333333,
             "#9c179e"
            ],
            [
             0.4444444444444444,
             "#bd3786"
            ],
            [
             0.5555555555555556,
             "#d8576b"
            ],
            [
             0.6666666666666666,
             "#ed7953"
            ],
            [
             0.7777777777777778,
             "#fb9f3a"
            ],
            [
             0.8888888888888888,
             "#fdca26"
            ],
            [
             1,
             "#f0f921"
            ]
           ],
           "sequentialminus": [
            [
             0,
             "#0d0887"
            ],
            [
             0.1111111111111111,
             "#46039f"
            ],
            [
             0.2222222222222222,
             "#7201a8"
            ],
            [
             0.3333333333333333,
             "#9c179e"
            ],
            [
             0.4444444444444444,
             "#bd3786"
            ],
            [
             0.5555555555555556,
             "#d8576b"
            ],
            [
             0.6666666666666666,
             "#ed7953"
            ],
            [
             0.7777777777777778,
             "#fb9f3a"
            ],
            [
             0.8888888888888888,
             "#fdca26"
            ],
            [
             1,
             "#f0f921"
            ]
           ]
          },
          "colorway": [
           "#636efa",
           "#EF553B",
           "#00cc96",
           "#ab63fa",
           "#FFA15A",
           "#19d3f3",
           "#FF6692",
           "#B6E880",
           "#FF97FF",
           "#FECB52"
          ],
          "font": {
           "color": "#2a3f5f"
          },
          "geo": {
           "bgcolor": "white",
           "lakecolor": "white",
           "landcolor": "#E5ECF6",
           "showlakes": true,
           "showland": true,
           "subunitcolor": "white"
          },
          "hoverlabel": {
           "align": "left"
          },
          "hovermode": "closest",
          "mapbox": {
           "style": "light"
          },
          "paper_bgcolor": "white",
          "plot_bgcolor": "#E5ECF6",
          "polar": {
           "angularaxis": {
            "gridcolor": "white",
            "linecolor": "white",
            "ticks": ""
           },
           "bgcolor": "#E5ECF6",
           "radialaxis": {
            "gridcolor": "white",
            "linecolor": "white",
            "ticks": ""
           }
          },
          "scene": {
           "xaxis": {
            "backgroundcolor": "#E5ECF6",
            "gridcolor": "white",
            "gridwidth": 2,
            "linecolor": "white",
            "showbackground": true,
            "ticks": "",
            "zerolinecolor": "white"
           },
           "yaxis": {
            "backgroundcolor": "#E5ECF6",
            "gridcolor": "white",
            "gridwidth": 2,
            "linecolor": "white",
            "showbackground": true,
            "ticks": "",
            "zerolinecolor": "white"
           },
           "zaxis": {
            "backgroundcolor": "#E5ECF6",
            "gridcolor": "white",
            "gridwidth": 2,
            "linecolor": "white",
            "showbackground": true,
            "ticks": "",
            "zerolinecolor": "white"
           }
          },
          "shapedefaults": {
           "line": {
            "color": "#2a3f5f"
           }
          },
          "ternary": {
           "aaxis": {
            "gridcolor": "white",
            "linecolor": "white",
            "ticks": ""
           },
           "baxis": {
            "gridcolor": "white",
            "linecolor": "white",
            "ticks": ""
           },
           "bgcolor": "#E5ECF6",
           "caxis": {
            "gridcolor": "white",
            "linecolor": "white",
            "ticks": ""
           }
          },
          "title": {
           "x": 0.05
          },
          "xaxis": {
           "automargin": true,
           "gridcolor": "white",
           "linecolor": "white",
           "ticks": "",
           "title": {
            "standoff": 15
           },
           "zerolinecolor": "white",
           "zerolinewidth": 2
          },
          "yaxis": {
           "automargin": true,
           "gridcolor": "white",
           "linecolor": "white",
           "ticks": "",
           "title": {
            "standoff": 15
           },
           "zerolinecolor": "white",
           "zerolinewidth": 2
          }
         }
        },
        "xaxis": {
         "anchor": "y",
         "domain": [
          0,
          1
         ],
         "title": {
          "text": "År"
         }
        },
        "yaxis": {
         "anchor": "x",
         "domain": [
          0,
          1
         ],
         "title": {
          "text": ""
         }
        }
       }
      }
     },
     "metadata": {}
    }
   ],
   "source": [
    "plot(s.vC[s.c])"
   ]
  },
  {
   "cell_type": "markdown",
   "metadata": {},
   "source": [
    "To compare variables with our baseline (the reference database) instead of writing\n",
    "\n",
    "```\n",
    "s.vX / baseline.vX - 1, s.vX / baseline.vX - 1 ...\n",
    "```\n",
    "\n",
    "we can use the operator \"q\" (as in Gekko):"
   ]
  },
  {
   "cell_type": "code",
   "execution_count": 116,
   "metadata": {
    "tags": []
   },
   "outputs": [
    {
     "output_type": "display_data",
     "data": {
      "application/vnd.plotly.v1+json": {
       "config": {
        "plotlyServerURL": "https://plot.ly"
       },
       "data": [
        {
         "hovertemplate": "variable=vX[xTot]<br>index=%{x}<br>value=%{y}<extra></extra>",
         "legendgroup": "vX[xTot]",
         "line": {
          "color": "#636efa",
          "dash": "solid"
         },
         "mode": "lines",
         "name": "vX[xTot]",
         "orientation": "v",
         "showlegend": true,
         "type": "scatter",
         "x": [
          2015,
          2016,
          2017,
          2018,
          2019,
          2020,
          2021,
          2022,
          2023,
          2024,
          2025
         ],
         "xaxis": "x",
         "y": [
          0,
          0,
          -1.1102230246251565e-16,
          -0.0005472760626071826,
          -0.0005423019269462648,
          -0.0012130154560640038,
          -0.002103388401797912,
          -0.003148048747244059,
          -0.0042862628041249184,
          -0.005460193923030654,
          -0.0066203112938286734
         ],
         "yaxis": "y"
        },
        {
         "hovertemplate": "variable=vC[cTot]<br>index=%{x}<br>value=%{y}<extra></extra>",
         "legendgroup": "vC[cTot]",
         "line": {
          "color": "#EF553B",
          "dash": "solid"
         },
         "mode": "lines",
         "name": "vC[cTot]",
         "orientation": "v",
         "showlegend": true,
         "type": "scatter",
         "x": [
          2015,
          2016,
          2017,
          2018,
          2019,
          2020,
          2021,
          2022,
          2023,
          2024,
          2025
         ],
         "xaxis": "x",
         "y": [
          0,
          0,
          -3.6637359812630166e-15,
          -0.042745360345491035,
          -0.024767695537482037,
          -0.02066342387007558,
          -0.017367029346431195,
          -0.013963673522361053,
          -0.0122055979398914,
          -0.01269005665192846,
          -0.011982988441730846
         ],
         "yaxis": "y"
        },
        {
         "hovertemplate": "variable=vG[gTot]<br>index=%{x}<br>value=%{y}<extra></extra>",
         "legendgroup": "vG[gTot]",
         "line": {
          "color": "#00cc96",
          "dash": "solid"
         },
         "mode": "lines",
         "name": "vG[gTot]",
         "orientation": "v",
         "showlegend": true,
         "type": "scatter",
         "x": [
          2015,
          2016,
          2017,
          2018,
          2019,
          2020,
          2021,
          2022,
          2023,
          2024,
          2025
         ],
         "xaxis": "x",
         "y": [
          0,
          0,
          0,
          -0.00054698722227986,
          0.0009699916105083695,
          0.0028555554689833063,
          0.004628265885593175,
          0.005808830695209322,
          0.00646239725961073,
          0.006779406255116305,
          0.007008386238509745
         ],
         "yaxis": "y"
        },
        {
         "hovertemplate": "variable=vI[iTot]<br>index=%{x}<br>value=%{y}<extra></extra>",
         "legendgroup": "vI[iTot]",
         "line": {
          "color": "#ab63fa",
          "dash": "solid"
         },
         "mode": "lines",
         "name": "vI[iTot]",
         "orientation": "v",
         "showlegend": true,
         "type": "scatter",
         "x": [
          2015,
          2016,
          2017,
          2018,
          2019,
          2020,
          2021,
          2022,
          2023,
          2024,
          2025
         ],
         "xaxis": "x",
         "y": [
          0,
          0,
          0,
          -0.011341278975285363,
          -0.000823944058300552,
          0.004705633672364984,
          0.0033511589854762214,
          0.003909932758786816,
          0.0052646174058461614,
          0.006495581657158578,
          0.007764154140289525
         ],
         "yaxis": "y"
        }
       ],
       "layout": {
        "legend": {
         "title": {
          "text": ""
         },
         "tracegroupgap": 0
        },
        "margin": {
         "t": 60
        },
        "template": {
         "data": {
          "bar": [
           {
            "error_x": {
             "color": "#2a3f5f"
            },
            "error_y": {
             "color": "#2a3f5f"
            },
            "marker": {
             "line": {
              "color": "#E5ECF6",
              "width": 0.5
             }
            },
            "type": "bar"
           }
          ],
          "barpolar": [
           {
            "marker": {
             "line": {
              "color": "#E5ECF6",
              "width": 0.5
             }
            },
            "type": "barpolar"
           }
          ],
          "carpet": [
           {
            "aaxis": {
             "endlinecolor": "#2a3f5f",
             "gridcolor": "white",
             "linecolor": "white",
             "minorgridcolor": "white",
             "startlinecolor": "#2a3f5f"
            },
            "baxis": {
             "endlinecolor": "#2a3f5f",
             "gridcolor": "white",
             "linecolor": "white",
             "minorgridcolor": "white",
             "startlinecolor": "#2a3f5f"
            },
            "type": "carpet"
           }
          ],
          "choropleth": [
           {
            "colorbar": {
             "outlinewidth": 0,
             "ticks": ""
            },
            "type": "choropleth"
           }
          ],
          "contour": [
           {
            "colorbar": {
             "outlinewidth": 0,
             "ticks": ""
            },
            "colorscale": [
             [
              0,
              "#0d0887"
             ],
             [
              0.1111111111111111,
              "#46039f"
             ],
             [
              0.2222222222222222,
              "#7201a8"
             ],
             [
              0.3333333333333333,
              "#9c179e"
             ],
             [
              0.4444444444444444,
              "#bd3786"
             ],
             [
              0.5555555555555556,
              "#d8576b"
             ],
             [
              0.6666666666666666,
              "#ed7953"
             ],
             [
              0.7777777777777778,
              "#fb9f3a"
             ],
             [
              0.8888888888888888,
              "#fdca26"
             ],
             [
              1,
              "#f0f921"
             ]
            ],
            "type": "contour"
           }
          ],
          "contourcarpet": [
           {
            "colorbar": {
             "outlinewidth": 0,
             "ticks": ""
            },
            "type": "contourcarpet"
           }
          ],
          "heatmap": [
           {
            "colorbar": {
             "outlinewidth": 0,
             "ticks": ""
            },
            "colorscale": [
             [
              0,
              "#0d0887"
             ],
             [
              0.1111111111111111,
              "#46039f"
             ],
             [
              0.2222222222222222,
              "#7201a8"
             ],
             [
              0.3333333333333333,
              "#9c179e"
             ],
             [
              0.4444444444444444,
              "#bd3786"
             ],
             [
              0.5555555555555556,
              "#d8576b"
             ],
             [
              0.6666666666666666,
              "#ed7953"
             ],
             [
              0.7777777777777778,
              "#fb9f3a"
             ],
             [
              0.8888888888888888,
              "#fdca26"
             ],
             [
              1,
              "#f0f921"
             ]
            ],
            "type": "heatmap"
           }
          ],
          "heatmapgl": [
           {
            "colorbar": {
             "outlinewidth": 0,
             "ticks": ""
            },
            "colorscale": [
             [
              0,
              "#0d0887"
             ],
             [
              0.1111111111111111,
              "#46039f"
             ],
             [
              0.2222222222222222,
              "#7201a8"
             ],
             [
              0.3333333333333333,
              "#9c179e"
             ],
             [
              0.4444444444444444,
              "#bd3786"
             ],
             [
              0.5555555555555556,
              "#d8576b"
             ],
             [
              0.6666666666666666,
              "#ed7953"
             ],
             [
              0.7777777777777778,
              "#fb9f3a"
             ],
             [
              0.8888888888888888,
              "#fdca26"
             ],
             [
              1,
              "#f0f921"
             ]
            ],
            "type": "heatmapgl"
           }
          ],
          "histogram": [
           {
            "marker": {
             "colorbar": {
              "outlinewidth": 0,
              "ticks": ""
             }
            },
            "type": "histogram"
           }
          ],
          "histogram2d": [
           {
            "colorbar": {
             "outlinewidth": 0,
             "ticks": ""
            },
            "colorscale": [
             [
              0,
              "#0d0887"
             ],
             [
              0.1111111111111111,
              "#46039f"
             ],
             [
              0.2222222222222222,
              "#7201a8"
             ],
             [
              0.3333333333333333,
              "#9c179e"
             ],
             [
              0.4444444444444444,
              "#bd3786"
             ],
             [
              0.5555555555555556,
              "#d8576b"
             ],
             [
              0.6666666666666666,
              "#ed7953"
             ],
             [
              0.7777777777777778,
              "#fb9f3a"
             ],
             [
              0.8888888888888888,
              "#fdca26"
             ],
             [
              1,
              "#f0f921"
             ]
            ],
            "type": "histogram2d"
           }
          ],
          "histogram2dcontour": [
           {
            "colorbar": {
             "outlinewidth": 0,
             "ticks": ""
            },
            "colorscale": [
             [
              0,
              "#0d0887"
             ],
             [
              0.1111111111111111,
              "#46039f"
             ],
             [
              0.2222222222222222,
              "#7201a8"
             ],
             [
              0.3333333333333333,
              "#9c179e"
             ],
             [
              0.4444444444444444,
              "#bd3786"
             ],
             [
              0.5555555555555556,
              "#d8576b"
             ],
             [
              0.6666666666666666,
              "#ed7953"
             ],
             [
              0.7777777777777778,
              "#fb9f3a"
             ],
             [
              0.8888888888888888,
              "#fdca26"
             ],
             [
              1,
              "#f0f921"
             ]
            ],
            "type": "histogram2dcontour"
           }
          ],
          "mesh3d": [
           {
            "colorbar": {
             "outlinewidth": 0,
             "ticks": ""
            },
            "type": "mesh3d"
           }
          ],
          "parcoords": [
           {
            "line": {
             "colorbar": {
              "outlinewidth": 0,
              "ticks": ""
             }
            },
            "type": "parcoords"
           }
          ],
          "pie": [
           {
            "automargin": true,
            "type": "pie"
           }
          ],
          "scatter": [
           {
            "marker": {
             "colorbar": {
              "outlinewidth": 0,
              "ticks": ""
             }
            },
            "type": "scatter"
           }
          ],
          "scatter3d": [
           {
            "line": {
             "colorbar": {
              "outlinewidth": 0,
              "ticks": ""
             }
            },
            "marker": {
             "colorbar": {
              "outlinewidth": 0,
              "ticks": ""
             }
            },
            "type": "scatter3d"
           }
          ],
          "scattercarpet": [
           {
            "marker": {
             "colorbar": {
              "outlinewidth": 0,
              "ticks": ""
             }
            },
            "type": "scattercarpet"
           }
          ],
          "scattergeo": [
           {
            "marker": {
             "colorbar": {
              "outlinewidth": 0,
              "ticks": ""
             }
            },
            "type": "scattergeo"
           }
          ],
          "scattergl": [
           {
            "marker": {
             "colorbar": {
              "outlinewidth": 0,
              "ticks": ""
             }
            },
            "type": "scattergl"
           }
          ],
          "scattermapbox": [
           {
            "marker": {
             "colorbar": {
              "outlinewidth": 0,
              "ticks": ""
             }
            },
            "type": "scattermapbox"
           }
          ],
          "scatterpolar": [
           {
            "marker": {
             "colorbar": {
              "outlinewidth": 0,
              "ticks": ""
             }
            },
            "type": "scatterpolar"
           }
          ],
          "scatterpolargl": [
           {
            "marker": {
             "colorbar": {
              "outlinewidth": 0,
              "ticks": ""
             }
            },
            "type": "scatterpolargl"
           }
          ],
          "scatterternary": [
           {
            "marker": {
             "colorbar": {
              "outlinewidth": 0,
              "ticks": ""
             }
            },
            "type": "scatterternary"
           }
          ],
          "surface": [
           {
            "colorbar": {
             "outlinewidth": 0,
             "ticks": ""
            },
            "colorscale": [
             [
              0,
              "#0d0887"
             ],
             [
              0.1111111111111111,
              "#46039f"
             ],
             [
              0.2222222222222222,
              "#7201a8"
             ],
             [
              0.3333333333333333,
              "#9c179e"
             ],
             [
              0.4444444444444444,
              "#bd3786"
             ],
             [
              0.5555555555555556,
              "#d8576b"
             ],
             [
              0.6666666666666666,
              "#ed7953"
             ],
             [
              0.7777777777777778,
              "#fb9f3a"
             ],
             [
              0.8888888888888888,
              "#fdca26"
             ],
             [
              1,
              "#f0f921"
             ]
            ],
            "type": "surface"
           }
          ],
          "table": [
           {
            "cells": {
             "fill": {
              "color": "#EBF0F8"
             },
             "line": {
              "color": "white"
             }
            },
            "header": {
             "fill": {
              "color": "#C8D4E3"
             },
             "line": {
              "color": "white"
             }
            },
            "type": "table"
           }
          ]
         },
         "layout": {
          "annotationdefaults": {
           "arrowcolor": "#2a3f5f",
           "arrowhead": 0,
           "arrowwidth": 1
          },
          "coloraxis": {
           "colorbar": {
            "outlinewidth": 0,
            "ticks": ""
           }
          },
          "colorscale": {
           "diverging": [
            [
             0,
             "#8e0152"
            ],
            [
             0.1,
             "#c51b7d"
            ],
            [
             0.2,
             "#de77ae"
            ],
            [
             0.3,
             "#f1b6da"
            ],
            [
             0.4,
             "#fde0ef"
            ],
            [
             0.5,
             "#f7f7f7"
            ],
            [
             0.6,
             "#e6f5d0"
            ],
            [
             0.7,
             "#b8e186"
            ],
            [
             0.8,
             "#7fbc41"
            ],
            [
             0.9,
             "#4d9221"
            ],
            [
             1,
             "#276419"
            ]
           ],
           "sequential": [
            [
             0,
             "#0d0887"
            ],
            [
             0.1111111111111111,
             "#46039f"
            ],
            [
             0.2222222222222222,
             "#7201a8"
            ],
            [
             0.3333333333333333,
             "#9c179e"
            ],
            [
             0.4444444444444444,
             "#bd3786"
            ],
            [
             0.5555555555555556,
             "#d8576b"
            ],
            [
             0.6666666666666666,
             "#ed7953"
            ],
            [
             0.7777777777777778,
             "#fb9f3a"
            ],
            [
             0.8888888888888888,
             "#fdca26"
            ],
            [
             1,
             "#f0f921"
            ]
           ],
           "sequentialminus": [
            [
             0,
             "#0d0887"
            ],
            [
             0.1111111111111111,
             "#46039f"
            ],
            [
             0.2222222222222222,
             "#7201a8"
            ],
            [
             0.3333333333333333,
             "#9c179e"
            ],
            [
             0.4444444444444444,
             "#bd3786"
            ],
            [
             0.5555555555555556,
             "#d8576b"
            ],
            [
             0.6666666666666666,
             "#ed7953"
            ],
            [
             0.7777777777777778,
             "#fb9f3a"
            ],
            [
             0.8888888888888888,
             "#fdca26"
            ],
            [
             1,
             "#f0f921"
            ]
           ]
          },
          "colorway": [
           "#636efa",
           "#EF553B",
           "#00cc96",
           "#ab63fa",
           "#FFA15A",
           "#19d3f3",
           "#FF6692",
           "#B6E880",
           "#FF97FF",
           "#FECB52"
          ],
          "font": {
           "color": "#2a3f5f"
          },
          "geo": {
           "bgcolor": "white",
           "lakecolor": "white",
           "landcolor": "#E5ECF6",
           "showlakes": true,
           "showland": true,
           "subunitcolor": "white"
          },
          "hoverlabel": {
           "align": "left"
          },
          "hovermode": "closest",
          "mapbox": {
           "style": "light"
          },
          "paper_bgcolor": "white",
          "plot_bgcolor": "#E5ECF6",
          "polar": {
           "angularaxis": {
            "gridcolor": "white",
            "linecolor": "white",
            "ticks": ""
           },
           "bgcolor": "#E5ECF6",
           "radialaxis": {
            "gridcolor": "white",
            "linecolor": "white",
            "ticks": ""
           }
          },
          "scene": {
           "xaxis": {
            "backgroundcolor": "#E5ECF6",
            "gridcolor": "white",
            "gridwidth": 2,
            "linecolor": "white",
            "showbackground": true,
            "ticks": "",
            "zerolinecolor": "white"
           },
           "yaxis": {
            "backgroundcolor": "#E5ECF6",
            "gridcolor": "white",
            "gridwidth": 2,
            "linecolor": "white",
            "showbackground": true,
            "ticks": "",
            "zerolinecolor": "white"
           },
           "zaxis": {
            "backgroundcolor": "#E5ECF6",
            "gridcolor": "white",
            "gridwidth": 2,
            "linecolor": "white",
            "showbackground": true,
            "ticks": "",
            "zerolinecolor": "white"
           }
          },
          "shapedefaults": {
           "line": {
            "color": "#2a3f5f"
           }
          },
          "ternary": {
           "aaxis": {
            "gridcolor": "white",
            "linecolor": "white",
            "ticks": ""
           },
           "baxis": {
            "gridcolor": "white",
            "linecolor": "white",
            "ticks": ""
           },
           "bgcolor": "#E5ECF6",
           "caxis": {
            "gridcolor": "white",
            "linecolor": "white",
            "ticks": ""
           }
          },
          "title": {
           "x": 0.05
          },
          "xaxis": {
           "automargin": true,
           "gridcolor": "white",
           "linecolor": "white",
           "ticks": "",
           "title": {
            "standoff": 15
           },
           "zerolinecolor": "white",
           "zerolinewidth": 2
          },
          "yaxis": {
           "automargin": true,
           "gridcolor": "white",
           "linecolor": "white",
           "ticks": "",
           "title": {
            "standoff": 15
           },
           "zerolinecolor": "white",
           "zerolinewidth": 2
          }
         }
        },
        "xaxis": {
         "anchor": "y",
         "domain": [
          0,
          1
         ],
         "title": {
          "text": "År"
         }
        },
        "yaxis": {
         "anchor": "x",
         "domain": [
          0,
          1
         ],
         "title": {
          "text": "Ændring relativt til grundforløb"
         }
        }
       }
      }
     },
     "metadata": {}
    }
   ],
   "source": [
    "plot([s.vX, s.vC, s.vG, s.vI], \"q\", 2015, 2025)"
   ]
  },
  {
   "cell_type": "markdown",
   "metadata": {},
   "source": [
    "The *prt* function works identically, except instead of returning a plotly figure for plotting, it returns a string for printing.\n",
    "\n",
    "We can set a global time period of interest using the *time* function.\n",
    "\n",
    "3 operators are currently implemented:\n",
    "- \"s\": show baseline side-by-side (shock, baseline)\n",
    "- \"q\": relative multiplier (shock / baseline - 1)\n",
    "- \"m\": absolute multiplyer (shock - baseline)\n",
    "\n"
   ]
  },
  {
   "cell_type": "code",
   "execution_count": 122,
   "metadata": {
    "tags": []
   },
   "outputs": [
    {
     "output_type": "display_data",
     "data": {
      "text/plain": "        vX[xTot]  baseline.vX[xTot]\n2017  976.289020         976.289020\n2018  996.441204         996.986831\n2019  989.193867         989.730600\n2020  990.291596         991.494294\n2021  989.704457         991.790578\n2022  988.937522         992.060577\n2023  987.812130         992.064379\n2024  986.347819         991.763038\n2025  984.671846         991.234124",
      "text/html": "<div>\n<style scoped>\n    .dataframe tbody tr th:only-of-type {\n        vertical-align: middle;\n    }\n\n    .dataframe tbody tr th {\n        vertical-align: top;\n    }\n\n    .dataframe thead th {\n        text-align: right;\n    }\n</style>\n<table border=\"1\" class=\"dataframe\">\n  <thead>\n    <tr style=\"text-align: right;\">\n      <th></th>\n      <th>vX[xTot]</th>\n      <th>baseline.vX[xTot]</th>\n    </tr>\n  </thead>\n  <tbody>\n    <tr>\n      <th>2017</th>\n      <td>976.289020</td>\n      <td>976.289020</td>\n    </tr>\n    <tr>\n      <th>2018</th>\n      <td>996.441204</td>\n      <td>996.986831</td>\n    </tr>\n    <tr>\n      <th>2019</th>\n      <td>989.193867</td>\n      <td>989.730600</td>\n    </tr>\n    <tr>\n      <th>2020</th>\n      <td>990.291596</td>\n      <td>991.494294</td>\n    </tr>\n    <tr>\n      <th>2021</th>\n      <td>989.704457</td>\n      <td>991.790578</td>\n    </tr>\n    <tr>\n      <th>2022</th>\n      <td>988.937522</td>\n      <td>992.060577</td>\n    </tr>\n    <tr>\n      <th>2023</th>\n      <td>987.812130</td>\n      <td>992.064379</td>\n    </tr>\n    <tr>\n      <th>2024</th>\n      <td>986.347819</td>\n      <td>991.763038</td>\n    </tr>\n    <tr>\n      <th>2025</th>\n      <td>984.671846</td>\n      <td>991.234124</td>\n    </tr>\n  </tbody>\n</table>\n</div>"
     },
     "metadata": {}
    }
   ],
   "source": [
    "from dreamtools import prt\n",
    "dt.time(2017, 2025)\n",
    "prt(s.vX, \"s\")"
   ]
  },
  {
   "cell_type": "markdown",
   "metadata": {},
   "source": [
    "Here is an example with a few more useful arguments:"
   ]
  },
  {
   "cell_type": "code",
   "execution_count": 118,
   "metadata": {},
   "outputs": [
    {
     "output_type": "display_data",
     "data": {
      "application/vnd.plotly.v1+json": {
       "config": {
        "plotlyServerURL": "https://plot.ly"
       },
       "data": [
        {
         "hovertemplate": "variable=qY[tje]<br>index=%{x}<br>value=%{y}<extra></extra>",
         "legendgroup": "qY[tje]",
         "line": {
          "color": "#636efa",
          "dash": "solid"
         },
         "mode": "lines",
         "name": "qY[tje]",
         "orientation": "v",
         "showlegend": true,
         "type": "scatter",
         "x": [
          2016,
          2017,
          2018,
          2019,
          2020,
          2021,
          2022,
          2023,
          2024,
          2025,
          2026,
          2027,
          2028,
          2029,
          2030,
          2031,
          2032,
          2033,
          2034,
          2035,
          2036,
          2037,
          2038,
          2039,
          2040,
          2041,
          2042,
          2043,
          2044,
          2045,
          2046,
          2047,
          2048,
          2049,
          2050,
          2051,
          2052,
          2053,
          2054,
          2055,
          2056,
          2057,
          2058,
          2059,
          2060,
          2061,
          2062,
          2063,
          2064,
          2065,
          2066,
          2067,
          2068,
          2069,
          2070,
          2071,
          2072,
          2073,
          2074,
          2075,
          2076,
          2077,
          2078,
          2079,
          2080
         ],
         "xaxis": "x",
         "y": [
          0,
          -1.3642420526593924e-12,
          -32.337502592743704,
          -19.01141500282597,
          -16.78481390799584,
          -16.241188933383455,
          -15.50123010941411,
          -15.78273426493638,
          -17.673127603844705,
          -18.64418526444547,
          -19.49254734107194,
          -20.14704846755808,
          -21.077125123864334,
          -22.06300215187275,
          -23.111077812348867,
          -24.13245199034668,
          -24.909249154292866,
          -25.969934658113516,
          -27.199673147255908,
          -28.584647734370037,
          -29.565200254175352,
          -30.36572744341538,
          -31.119676846740504,
          -31.727948531858374,
          -32.16416327332945,
          -32.38629349128246,
          -32.65020248892961,
          -33.11363830050209,
          -33.738785113986296,
          -34.12545398408747,
          -34.1437921364236,
          -33.73470090075534,
          -33.29090241845688,
          -33.06535158351949,
          -32.49778658178343,
          -31.72991624399765,
          -31.29787818496561,
          -31.007816332305083,
          -30.590625213740168,
          -30.207123955021643,
          -30.086283879627445,
          -30.17568728619699,
          -30.259160252184074,
          -30.26199084403447,
          -30.19894359366799,
          -30.151889168611888,
          -30.277663633417205,
          -30.45112594656689,
          -30.56513001735948,
          -30.597257077888116,
          -30.624877593658766,
          -30.62467058041102,
          -30.634088920625345,
          -30.678693468026722,
          -30.56288742411425,
          -30.565219407063978,
          -30.616235221259558,
          -30.67084043801833,
          -30.788841531578328,
          -30.79536274881957,
          -30.6655164517083,
          -30.546763280698997,
          -30.46081246939775,
          -30.21412308259187,
          -29.931457976587353
         ],
         "yaxis": "y"
        },
        {
         "hovertemplate": "variable=qK[IB,tje]<br>index=%{x}<br>value=%{y}<extra></extra>",
         "legendgroup": "qK[IB,tje]",
         "line": {
          "color": "#EF553B",
          "dash": "solid"
         },
         "mode": "lines",
         "name": "qK[IB,tje]",
         "orientation": "v",
         "showlegend": true,
         "type": "scatter",
         "x": [
          2016,
          2017,
          2018,
          2019,
          2020,
          2021,
          2022,
          2023,
          2024,
          2025,
          2026,
          2027,
          2028,
          2029,
          2030,
          2031,
          2032,
          2033,
          2034,
          2035,
          2036,
          2037,
          2038,
          2039,
          2040,
          2041,
          2042,
          2043,
          2044,
          2045,
          2046,
          2047,
          2048,
          2049,
          2050,
          2051,
          2052,
          2053,
          2054,
          2055,
          2056,
          2057,
          2058,
          2059,
          2060,
          2061,
          2062,
          2063,
          2064,
          2065,
          2066,
          2067,
          2068,
          2069,
          2070,
          2071,
          2072,
          2073,
          2074,
          2075,
          2076,
          2077,
          2078,
          2079,
          2080
         ],
         "xaxis": "x",
         "y": [
          0,
          0,
          0.004863447044726854,
          -0.007888962301194624,
          -0.056636838350982543,
          -0.15386106452069725,
          -0.3043528328635148,
          -0.5048250722209104,
          -0.7469597123479161,
          -1.0227335731719904,
          -1.3257088892497677,
          -1.6510138682380102,
          -1.993994254541235,
          -2.3495892941572265,
          -2.712002968660272,
          -3.074264357662969,
          -3.4284426347894623,
          -3.765674191733069,
          -4.077542708833789,
          -4.357434701954048,
          -4.601545482609367,
          -4.8082819920396105,
          -4.9773982420086895,
          -5.109304174259137,
          -5.204344482154056,
          -5.262513636021708,
          -5.282961256561293,
          -5.264320701455517,
          -5.205904084258918,
          -5.109019295329176,
          -4.977993565310726,
          -4.819727646275851,
          -4.642759208843813,
          -4.456477194742206,
          -4.27058814766076,
          -4.094111974935686,
          -3.9341993223913505,
          -3.795940939758907,
          -3.6822697915655453,
          -3.5936055658864916,
          -3.528002576240624,
          -3.4817935915765474,
          -3.4504574662801133,
          -3.4291581964870375,
          -3.4130239067334287,
          -3.397407699710584,
          -3.378108988116878,
          -3.351933776644387,
          -3.317050847732162,
          -3.2729892393784894,
          -3.220450025503169,
          -3.1609405327816376,
          -3.096309507502724,
          -3.0283111031452563,
          -2.9582206240497726,
          -2.886364389280743,
          -2.8120840363694697,
          -2.7340462398314003,
          -2.650743960711793,
          -2.561192822719363,
          -2.465599564903755,
          -2.3655615859009913,
          -2.264418840329199,
          -2.1672417533577573,
          -2.080045130877693
         ],
         "yaxis": "y"
        },
        {
         "hovertemplate": "variable=qK[IM,tje]<br>index=%{x}<br>value=%{y}<extra></extra>",
         "legendgroup": "qK[IM,tje]",
         "line": {
          "color": "#00cc96",
          "dash": "solid"
         },
         "mode": "lines",
         "name": "qK[IM,tje]",
         "orientation": "v",
         "showlegend": true,
         "type": "scatter",
         "x": [
          2016,
          2017,
          2018,
          2019,
          2020,
          2021,
          2022,
          2023,
          2024,
          2025,
          2026,
          2027,
          2028,
          2029,
          2030,
          2031,
          2032,
          2033,
          2034,
          2035,
          2036,
          2037,
          2038,
          2039,
          2040,
          2041,
          2042,
          2043,
          2044,
          2045,
          2046,
          2047,
          2048,
          2049,
          2050,
          2051,
          2052,
          2053,
          2054,
          2055,
          2056,
          2057,
          2058,
          2059,
          2060,
          2061,
          2062,
          2063,
          2064,
          2065,
          2066,
          2067,
          2068,
          2069,
          2070,
          2071,
          2072,
          2073,
          2074,
          2075,
          2076,
          2077,
          2078,
          2079,
          2080
         ],
         "xaxis": "x",
         "y": [
          0,
          0,
          0.3709776160181377,
          0.8269811193067653,
          1.1719172370220008,
          1.324488770881942,
          1.2817476994252957,
          1.1009151950886462,
          0.8681589451275613,
          0.6364011134854763,
          0.42178204898539207,
          0.21120021236754383,
          -0.013647799638761171,
          -0.2671882405733186,
          -0.5554097397242685,
          -0.8705969504370614,
          -1.1981337487409291,
          -1.5089238451492974,
          -1.7778488998030753,
          -1.9939484230490052,
          -2.1670556991850844,
          -2.3143423680844535,
          -2.447551742656401,
          -2.5705338017206714,
          -2.6807995702414473,
          -2.7769375551290523,
          -2.8540056113461105,
          -2.898685738250606,
          -2.893012887257214,
          -2.8238000592358503,
          -2.691308588767015,
          -2.5069288634970235,
          -2.2866113177726675,
          -2.045617839312172,
          -1.8015009014089856,
          -1.5722260321563226,
          -1.3686055350340212,
          -1.1981480895688037,
          -1.0667256049284788,
          -0.9737094528551324,
          -0.9145500230193875,
          -0.8824200010138838,
          -0.8716167614226151,
          -0.8760626099817728,
          -0.8876132031937232,
          -0.8998034914874324,
          -0.9044573060735956,
          -0.8960894290678425,
          -0.8723593709356692,
          -0.832370951440339,
          -0.7790257629449115,
          -0.7181264721461957,
          -0.6563588524097668,
          -0.6005776818898312,
          -0.5572854604262147,
          -0.530024724359464,
          -0.5169799209232906,
          -0.5114685645968393,
          -0.5009046080050439,
          -0.4697019867645622,
          -0.40738125746315745,
          -0.3047925653227139,
          -0.16283817829446434,
          0.002510284104573657,
          0.16733947824116058
         ],
         "yaxis": "y"
        }
       ],
       "layout": {
        "legend": {
         "title": {
          "text": ""
         },
         "tracegroupgap": 0
        },
        "margin": {
         "t": 60
        },
        "template": {
         "data": {
          "bar": [
           {
            "error_x": {
             "color": "#2a3f5f"
            },
            "error_y": {
             "color": "#2a3f5f"
            },
            "marker": {
             "line": {
              "color": "#E5ECF6",
              "width": 0.5
             }
            },
            "type": "bar"
           }
          ],
          "barpolar": [
           {
            "marker": {
             "line": {
              "color": "#E5ECF6",
              "width": 0.5
             }
            },
            "type": "barpolar"
           }
          ],
          "carpet": [
           {
            "aaxis": {
             "endlinecolor": "#2a3f5f",
             "gridcolor": "white",
             "linecolor": "white",
             "minorgridcolor": "white",
             "startlinecolor": "#2a3f5f"
            },
            "baxis": {
             "endlinecolor": "#2a3f5f",
             "gridcolor": "white",
             "linecolor": "white",
             "minorgridcolor": "white",
             "startlinecolor": "#2a3f5f"
            },
            "type": "carpet"
           }
          ],
          "choropleth": [
           {
            "colorbar": {
             "outlinewidth": 0,
             "ticks": ""
            },
            "type": "choropleth"
           }
          ],
          "contour": [
           {
            "colorbar": {
             "outlinewidth": 0,
             "ticks": ""
            },
            "colorscale": [
             [
              0,
              "#0d0887"
             ],
             [
              0.1111111111111111,
              "#46039f"
             ],
             [
              0.2222222222222222,
              "#7201a8"
             ],
             [
              0.3333333333333333,
              "#9c179e"
             ],
             [
              0.4444444444444444,
              "#bd3786"
             ],
             [
              0.5555555555555556,
              "#d8576b"
             ],
             [
              0.6666666666666666,
              "#ed7953"
             ],
             [
              0.7777777777777778,
              "#fb9f3a"
             ],
             [
              0.8888888888888888,
              "#fdca26"
             ],
             [
              1,
              "#f0f921"
             ]
            ],
            "type": "contour"
           }
          ],
          "contourcarpet": [
           {
            "colorbar": {
             "outlinewidth": 0,
             "ticks": ""
            },
            "type": "contourcarpet"
           }
          ],
          "heatmap": [
           {
            "colorbar": {
             "outlinewidth": 0,
             "ticks": ""
            },
            "colorscale": [
             [
              0,
              "#0d0887"
             ],
             [
              0.1111111111111111,
              "#46039f"
             ],
             [
              0.2222222222222222,
              "#7201a8"
             ],
             [
              0.3333333333333333,
              "#9c179e"
             ],
             [
              0.4444444444444444,
              "#bd3786"
             ],
             [
              0.5555555555555556,
              "#d8576b"
             ],
             [
              0.6666666666666666,
              "#ed7953"
             ],
             [
              0.7777777777777778,
              "#fb9f3a"
             ],
             [
              0.8888888888888888,
              "#fdca26"
             ],
             [
              1,
              "#f0f921"
             ]
            ],
            "type": "heatmap"
           }
          ],
          "heatmapgl": [
           {
            "colorbar": {
             "outlinewidth": 0,
             "ticks": ""
            },
            "colorscale": [
             [
              0,
              "#0d0887"
             ],
             [
              0.1111111111111111,
              "#46039f"
             ],
             [
              0.2222222222222222,
              "#7201a8"
             ],
             [
              0.3333333333333333,
              "#9c179e"
             ],
             [
              0.4444444444444444,
              "#bd3786"
             ],
             [
              0.5555555555555556,
              "#d8576b"
             ],
             [
              0.6666666666666666,
              "#ed7953"
             ],
             [
              0.7777777777777778,
              "#fb9f3a"
             ],
             [
              0.8888888888888888,
              "#fdca26"
             ],
             [
              1,
              "#f0f921"
             ]
            ],
            "type": "heatmapgl"
           }
          ],
          "histogram": [
           {
            "marker": {
             "colorbar": {
              "outlinewidth": 0,
              "ticks": ""
             }
            },
            "type": "histogram"
           }
          ],
          "histogram2d": [
           {
            "colorbar": {
             "outlinewidth": 0,
             "ticks": ""
            },
            "colorscale": [
             [
              0,
              "#0d0887"
             ],
             [
              0.1111111111111111,
              "#46039f"
             ],
             [
              0.2222222222222222,
              "#7201a8"
             ],
             [
              0.3333333333333333,
              "#9c179e"
             ],
             [
              0.4444444444444444,
              "#bd3786"
             ],
             [
              0.5555555555555556,
              "#d8576b"
             ],
             [
              0.6666666666666666,
              "#ed7953"
             ],
             [
              0.7777777777777778,
              "#fb9f3a"
             ],
             [
              0.8888888888888888,
              "#fdca26"
             ],
             [
              1,
              "#f0f921"
             ]
            ],
            "type": "histogram2d"
           }
          ],
          "histogram2dcontour": [
           {
            "colorbar": {
             "outlinewidth": 0,
             "ticks": ""
            },
            "colorscale": [
             [
              0,
              "#0d0887"
             ],
             [
              0.1111111111111111,
              "#46039f"
             ],
             [
              0.2222222222222222,
              "#7201a8"
             ],
             [
              0.3333333333333333,
              "#9c179e"
             ],
             [
              0.4444444444444444,
              "#bd3786"
             ],
             [
              0.5555555555555556,
              "#d8576b"
             ],
             [
              0.6666666666666666,
              "#ed7953"
             ],
             [
              0.7777777777777778,
              "#fb9f3a"
             ],
             [
              0.8888888888888888,
              "#fdca26"
             ],
             [
              1,
              "#f0f921"
             ]
            ],
            "type": "histogram2dcontour"
           }
          ],
          "mesh3d": [
           {
            "colorbar": {
             "outlinewidth": 0,
             "ticks": ""
            },
            "type": "mesh3d"
           }
          ],
          "parcoords": [
           {
            "line": {
             "colorbar": {
              "outlinewidth": 0,
              "ticks": ""
             }
            },
            "type": "parcoords"
           }
          ],
          "pie": [
           {
            "automargin": true,
            "type": "pie"
           }
          ],
          "scatter": [
           {
            "marker": {
             "colorbar": {
              "outlinewidth": 0,
              "ticks": ""
             }
            },
            "type": "scatter"
           }
          ],
          "scatter3d": [
           {
            "line": {
             "colorbar": {
              "outlinewidth": 0,
              "ticks": ""
             }
            },
            "marker": {
             "colorbar": {
              "outlinewidth": 0,
              "ticks": ""
             }
            },
            "type": "scatter3d"
           }
          ],
          "scattercarpet": [
           {
            "marker": {
             "colorbar": {
              "outlinewidth": 0,
              "ticks": ""
             }
            },
            "type": "scattercarpet"
           }
          ],
          "scattergeo": [
           {
            "marker": {
             "colorbar": {
              "outlinewidth": 0,
              "ticks": ""
             }
            },
            "type": "scattergeo"
           }
          ],
          "scattergl": [
           {
            "marker": {
             "colorbar": {
              "outlinewidth": 0,
              "ticks": ""
             }
            },
            "type": "scattergl"
           }
          ],
          "scattermapbox": [
           {
            "marker": {
             "colorbar": {
              "outlinewidth": 0,
              "ticks": ""
             }
            },
            "type": "scattermapbox"
           }
          ],
          "scatterpolar": [
           {
            "marker": {
             "colorbar": {
              "outlinewidth": 0,
              "ticks": ""
             }
            },
            "type": "scatterpolar"
           }
          ],
          "scatterpolargl": [
           {
            "marker": {
             "colorbar": {
              "outlinewidth": 0,
              "ticks": ""
             }
            },
            "type": "scatterpolargl"
           }
          ],
          "scatterternary": [
           {
            "marker": {
             "colorbar": {
              "outlinewidth": 0,
              "ticks": ""
             }
            },
            "type": "scatterternary"
           }
          ],
          "surface": [
           {
            "colorbar": {
             "outlinewidth": 0,
             "ticks": ""
            },
            "colorscale": [
             [
              0,
              "#0d0887"
             ],
             [
              0.1111111111111111,
              "#46039f"
             ],
             [
              0.2222222222222222,
              "#7201a8"
             ],
             [
              0.3333333333333333,
              "#9c179e"
             ],
             [
              0.4444444444444444,
              "#bd3786"
             ],
             [
              0.5555555555555556,
              "#d8576b"
             ],
             [
              0.6666666666666666,
              "#ed7953"
             ],
             [
              0.7777777777777778,
              "#fb9f3a"
             ],
             [
              0.8888888888888888,
              "#fdca26"
             ],
             [
              1,
              "#f0f921"
             ]
            ],
            "type": "surface"
           }
          ],
          "table": [
           {
            "cells": {
             "fill": {
              "color": "#EBF0F8"
             },
             "line": {
              "color": "white"
             }
            },
            "header": {
             "fill": {
              "color": "#C8D4E3"
             },
             "line": {
              "color": "white"
             }
            },
            "type": "table"
           }
          ]
         },
         "layout": {
          "annotationdefaults": {
           "arrowcolor": "#2a3f5f",
           "arrowhead": 0,
           "arrowwidth": 1
          },
          "coloraxis": {
           "colorbar": {
            "outlinewidth": 0,
            "ticks": ""
           }
          },
          "colorscale": {
           "diverging": [
            [
             0,
             "#8e0152"
            ],
            [
             0.1,
             "#c51b7d"
            ],
            [
             0.2,
             "#de77ae"
            ],
            [
             0.3,
             "#f1b6da"
            ],
            [
             0.4,
             "#fde0ef"
            ],
            [
             0.5,
             "#f7f7f7"
            ],
            [
             0.6,
             "#e6f5d0"
            ],
            [
             0.7,
             "#b8e186"
            ],
            [
             0.8,
             "#7fbc41"
            ],
            [
             0.9,
             "#4d9221"
            ],
            [
             1,
             "#276419"
            ]
           ],
           "sequential": [
            [
             0,
             "#0d0887"
            ],
            [
             0.1111111111111111,
             "#46039f"
            ],
            [
             0.2222222222222222,
             "#7201a8"
            ],
            [
             0.3333333333333333,
             "#9c179e"
            ],
            [
             0.4444444444444444,
             "#bd3786"
            ],
            [
             0.5555555555555556,
             "#d8576b"
            ],
            [
             0.6666666666666666,
             "#ed7953"
            ],
            [
             0.7777777777777778,
             "#fb9f3a"
            ],
            [
             0.8888888888888888,
             "#fdca26"
            ],
            [
             1,
             "#f0f921"
            ]
           ],
           "sequentialminus": [
            [
             0,
             "#0d0887"
            ],
            [
             0.1111111111111111,
             "#46039f"
            ],
            [
             0.2222222222222222,
             "#7201a8"
            ],
            [
             0.3333333333333333,
             "#9c179e"
            ],
            [
             0.4444444444444444,
             "#bd3786"
            ],
            [
             0.5555555555555556,
             "#d8576b"
            ],
            [
             0.6666666666666666,
             "#ed7953"
            ],
            [
             0.7777777777777778,
             "#fb9f3a"
            ],
            [
             0.8888888888888888,
             "#fdca26"
            ],
            [
             1,
             "#f0f921"
            ]
           ]
          },
          "colorway": [
           "#636efa",
           "#EF553B",
           "#00cc96",
           "#ab63fa",
           "#FFA15A",
           "#19d3f3",
           "#FF6692",
           "#B6E880",
           "#FF97FF",
           "#FECB52"
          ],
          "font": {
           "color": "#2a3f5f"
          },
          "geo": {
           "bgcolor": "white",
           "lakecolor": "white",
           "landcolor": "#E5ECF6",
           "showlakes": true,
           "showland": true,
           "subunitcolor": "white"
          },
          "hoverlabel": {
           "align": "left"
          },
          "hovermode": "closest",
          "mapbox": {
           "style": "light"
          },
          "paper_bgcolor": "white",
          "plot_bgcolor": "#E5ECF6",
          "polar": {
           "angularaxis": {
            "gridcolor": "white",
            "linecolor": "white",
            "ticks": ""
           },
           "bgcolor": "#E5ECF6",
           "radialaxis": {
            "gridcolor": "white",
            "linecolor": "white",
            "ticks": ""
           }
          },
          "scene": {
           "xaxis": {
            "backgroundcolor": "#E5ECF6",
            "gridcolor": "white",
            "gridwidth": 2,
            "linecolor": "white",
            "showbackground": true,
            "ticks": "",
            "zerolinecolor": "white"
           },
           "yaxis": {
            "backgroundcolor": "#E5ECF6",
            "gridcolor": "white",
            "gridwidth": 2,
            "linecolor": "white",
            "showbackground": true,
            "ticks": "",
            "zerolinecolor": "white"
           },
           "zaxis": {
            "backgroundcolor": "#E5ECF6",
            "gridcolor": "white",
            "gridwidth": 2,
            "linecolor": "white",
            "showbackground": true,
            "ticks": "",
            "zerolinecolor": "white"
           }
          },
          "shapedefaults": {
           "line": {
            "color": "#2a3f5f"
           }
          },
          "ternary": {
           "aaxis": {
            "gridcolor": "white",
            "linecolor": "white",
            "ticks": ""
           },
           "baxis": {
            "gridcolor": "white",
            "linecolor": "white",
            "ticks": ""
           },
           "bgcolor": "#E5ECF6",
           "caxis": {
            "gridcolor": "white",
            "linecolor": "white",
            "ticks": ""
           }
          },
          "title": {
           "x": 0.05
          },
          "xaxis": {
           "automargin": true,
           "gridcolor": "white",
           "linecolor": "white",
           "ticks": "",
           "title": {
            "standoff": 15
           },
           "zerolinecolor": "white",
           "zerolinewidth": 2
          },
          "yaxis": {
           "automargin": true,
           "gridcolor": "white",
           "linecolor": "white",
           "ticks": "",
           "title": {
            "standoff": 15
           },
           "zerolinecolor": "white",
           "zerolinewidth": 2
          }
         }
        },
        "title": {
         "text": "Example graph"
        },
        "xaxis": {
         "anchor": "y",
         "domain": [
          0,
          1
         ],
         "title": {
          "text": "År"
         }
        },
        "yaxis": {
         "anchor": "x",
         "domain": [
          0,
          1
         ],
         "title": {
          "text": "Difference from baseline"
         }
        }
       }
      }
     },
     "metadata": {}
    }
   ],
   "source": [
    "plot([s.qY, s.qK],\n",
    "        operator=\"m\",\n",
    "        start_year=2016,\n",
    "        end_year=2080,\n",
    "        reference_database=None,\n",
    "        default_set_aggregations={\"s_\": [\"tje\"], \"s\": [\"tje\"]},\n",
    "        layout={\"title\": \"Example graph\", \"yaxis\": {\"title\": \"Difference from baseline\"}},  # See plotly documentation for other layout options\n",
    ")"
   ]
  },
  {
   "cell_type": "markdown",
   "metadata": {},
   "source": [
    "### Age profiles\n",
    "2 functions have been added specifically to plot age profiles more easily:"
   ]
  },
  {
   "cell_type": "code",
   "execution_count": 119,
   "metadata": {},
   "outputs": [
    {
     "output_type": "display_data",
     "data": {
      "application/vnd.plotly.v1+json": {
       "config": {
        "plotlyServerURL": "https://plot.ly"
       },
       "data": [
        {
         "hovertemplate": "variable=vC_a[2017]<br>a=%{x}<br>value=%{y}<extra></extra>",
         "legendgroup": "vC_a[2017]",
         "line": {
          "color": "#636efa",
          "dash": "solid"
         },
         "mode": "lines",
         "name": "vC_a[2017]",
         "orientation": "v",
         "showlegend": true,
         "type": "scatter",
         "x": [
          0,
          1,
          2,
          3,
          4,
          5,
          6,
          7,
          8,
          9,
          10,
          11,
          12,
          13,
          14,
          15,
          16,
          17,
          18,
          19,
          20,
          21,
          22,
          23,
          24,
          25,
          26,
          27,
          28,
          29,
          30,
          31,
          32,
          33,
          34,
          35,
          36,
          37,
          38,
          39,
          40,
          41,
          42,
          43,
          44,
          45,
          46,
          47,
          48,
          49,
          50,
          51,
          52,
          53,
          54,
          55,
          56,
          57,
          58,
          59,
          60,
          61,
          62,
          63,
          64,
          65,
          66,
          67,
          68,
          69,
          70,
          71,
          72,
          73,
          74,
          75,
          76,
          77,
          78,
          79,
          80,
          81,
          82,
          83,
          84,
          85,
          86,
          87,
          88,
          89,
          90,
          91,
          92,
          93,
          94,
          95,
          96,
          97,
          98,
          99,
          100
         ],
         "xaxis": "x",
         "y": [
          0,
          0,
          0,
          0,
          0,
          0,
          0,
          0,
          0,
          0,
          0,
          0,
          0,
          0,
          0,
          0,
          0,
          0,
          0.02841221904450952,
          0.036804342441126126,
          0.047147583600448746,
          0.053359833208526615,
          0.06063780323232205,
          0.0745217707486317,
          0.08896980778269026,
          0.10436559639275803,
          0.11347605537274273,
          0.12526795687713843,
          0.1346384884574329,
          0.14668479130006581,
          0.15366132014004888,
          0.17485844600353723,
          0.17140461626509412,
          0.17542258451880738,
          0.18304604270808209,
          0.19085916078117374,
          0.18864014986872787,
          0.1910975277866823,
          0.19362939562145906,
          0.19142623137712036,
          0.18479127361915673,
          0.19007344794951475,
          0.1909891308234965,
          0.18757693319669538,
          0.1874778824402615,
          0.18729757336979366,
          0.1838608258948891,
          0.18229081865934596,
          0.1808157860829229,
          0.17795156392425207,
          0.18081486592831628,
          0.1718491618875776,
          0.17082387506505603,
          0.173170990545599,
          0.1659121285928937,
          0.16091630501325127,
          0.16112691697752307,
          0.15588624695442418,
          0.15213477299066802,
          0.15244717757071335,
          0.14952116890755293,
          0.13603748755671558,
          0.1407834739627847,
          0.12736687559708906,
          0.124330532528189,
          0.1456728328696811,
          0.11611238569183317,
          0.1260483102679712,
          0.12948125578165423,
          0.12380289861483143,
          0.13499134571425833,
          0.11573669671188598,
          0.1139783756267128,
          0.09696752343263186,
          0.11124242591736115,
          0.13448291441840726,
          0.07684164078854003,
          0.07596728402666518,
          0.09117439370062576,
          0.08738484266354436,
          0.08872278640561705,
          0.08601937671835404,
          0.0941502173950443,
          0.0927282793742222,
          0.09256725734640908,
          0.09539163693046905,
          0.0917613659276912,
          0.11547814422049915,
          0.11824375907515856,
          0.11271474788755358,
          0.12205549376656277,
          0.12550409964879955,
          0.14065429317633685,
          0.161600643425054,
          0.1651857644407233,
          0.1605102511966115,
          0.15877531500573372,
          0.18660894319126226,
          0.17132465924226092,
          0.18955984781901797,
          0.2082106496900658
         ],
         "yaxis": "y"
        },
        {
         "hovertemplate": "variable=vC_a[2090]<br>a=%{x}<br>value=%{y}<extra></extra>",
         "legendgroup": "vC_a[2090]",
         "line": {
          "color": "#EF553B",
          "dash": "solid"
         },
         "mode": "lines",
         "name": "vC_a[2090]",
         "orientation": "v",
         "showlegend": true,
         "type": "scatter",
         "x": [
          0,
          1,
          2,
          3,
          4,
          5,
          6,
          7,
          8,
          9,
          10,
          11,
          12,
          13,
          14,
          15,
          16,
          17,
          18,
          19,
          20,
          21,
          22,
          23,
          24,
          25,
          26,
          27,
          28,
          29,
          30,
          31,
          32,
          33,
          34,
          35,
          36,
          37,
          38,
          39,
          40,
          41,
          42,
          43,
          44,
          45,
          46,
          47,
          48,
          49,
          50,
          51,
          52,
          53,
          54,
          55,
          56,
          57,
          58,
          59,
          60,
          61,
          62,
          63,
          64,
          65,
          66,
          67,
          68,
          69,
          70,
          71,
          72,
          73,
          74,
          75,
          76,
          77,
          78,
          79,
          80,
          81,
          82,
          83,
          84,
          85,
          86,
          87,
          88,
          89,
          90,
          91,
          92,
          93,
          94,
          95,
          96,
          97,
          98,
          99,
          100
         ],
         "xaxis": "x",
         "y": [
          0,
          0,
          0,
          0,
          0,
          0,
          0,
          0,
          0,
          0,
          0,
          0,
          0,
          0,
          0,
          0,
          0,
          0,
          0.02844171822976483,
          0.04669330251831283,
          0.056554111264312555,
          0.06362551203312465,
          0.07468128969352111,
          0.087745462348656,
          0.10220962653942188,
          0.11887295816836459,
          0.1363002413767981,
          0.15238230815809797,
          0.16456247852001532,
          0.17292372515550763,
          0.17889561875393098,
          0.18680775212220563,
          0.19702588951012712,
          0.20580056403700284,
          0.2129165160374939,
          0.21745350418045833,
          0.2194950424422407,
          0.21948422277712612,
          0.21832470660289258,
          0.21713880511112063,
          0.21484386827050236,
          0.21229757365212934,
          0.21134874445452925,
          0.20995157764825018,
          0.20854920879616556,
          0.20548649544263176,
          0.2045900921361916,
          0.20252891633365663,
          0.20073739199363377,
          0.19781966737321566,
          0.19562113549238283,
          0.19303263945027704,
          0.19105169174595207,
          0.18975636442086022,
          0.1871805117005937,
          0.1847131223022614,
          0.1821042396621104,
          0.18112934039310866,
          0.17894780387229628,
          0.1776100821353866,
          0.15930313055938694,
          0.15029298032201002,
          0.1520621415573042,
          0.1428337083551821,
          0.14104043674404873,
          0.1873048494355321,
          0.17871976974760126,
          0.17160497361386048,
          0.15824435747770438,
          0.1445774593203196,
          0.13288316674320294,
          0.12073257922076028,
          0.1079543367985948,
          0.10040978554305967,
          0.09482316239116635,
          0.10763439649301117,
          0.07013234353187059,
          0.06907078516927724,
          0.07946500509708311,
          0.08086375028464303,
          0.08928012055522089,
          0.09480935510316706,
          0.10596331137715953,
          0.11134011854369696,
          0.11438784050594082,
          0.11498565126180109,
          0.11425941485833907,
          0.11129034337109069,
          0.11144229541977771,
          0.11662881458690293,
          0.12113135436930822,
          0.12608048062846783,
          0.1340228862993509,
          0.14145279143592737,
          0.1442352872057431,
          0.1499694132153431,
          0.15530867195852402,
          0.15765401368709872,
          0.16355454008946818,
          0.1685214510329403,
          0.2603977463606254
         ],
         "yaxis": "y"
        }
       ],
       "layout": {
        "legend": {
         "title": {
          "text": ""
         },
         "tracegroupgap": 0
        },
        "margin": {
         "t": 60
        },
        "template": {
         "data": {
          "bar": [
           {
            "error_x": {
             "color": "#2a3f5f"
            },
            "error_y": {
             "color": "#2a3f5f"
            },
            "marker": {
             "line": {
              "color": "#E5ECF6",
              "width": 0.5
             }
            },
            "type": "bar"
           }
          ],
          "barpolar": [
           {
            "marker": {
             "line": {
              "color": "#E5ECF6",
              "width": 0.5
             }
            },
            "type": "barpolar"
           }
          ],
          "carpet": [
           {
            "aaxis": {
             "endlinecolor": "#2a3f5f",
             "gridcolor": "white",
             "linecolor": "white",
             "minorgridcolor": "white",
             "startlinecolor": "#2a3f5f"
            },
            "baxis": {
             "endlinecolor": "#2a3f5f",
             "gridcolor": "white",
             "linecolor": "white",
             "minorgridcolor": "white",
             "startlinecolor": "#2a3f5f"
            },
            "type": "carpet"
           }
          ],
          "choropleth": [
           {
            "colorbar": {
             "outlinewidth": 0,
             "ticks": ""
            },
            "type": "choropleth"
           }
          ],
          "contour": [
           {
            "colorbar": {
             "outlinewidth": 0,
             "ticks": ""
            },
            "colorscale": [
             [
              0,
              "#0d0887"
             ],
             [
              0.1111111111111111,
              "#46039f"
             ],
             [
              0.2222222222222222,
              "#7201a8"
             ],
             [
              0.3333333333333333,
              "#9c179e"
             ],
             [
              0.4444444444444444,
              "#bd3786"
             ],
             [
              0.5555555555555556,
              "#d8576b"
             ],
             [
              0.6666666666666666,
              "#ed7953"
             ],
             [
              0.7777777777777778,
              "#fb9f3a"
             ],
             [
              0.8888888888888888,
              "#fdca26"
             ],
             [
              1,
              "#f0f921"
             ]
            ],
            "type": "contour"
           }
          ],
          "contourcarpet": [
           {
            "colorbar": {
             "outlinewidth": 0,
             "ticks": ""
            },
            "type": "contourcarpet"
           }
          ],
          "heatmap": [
           {
            "colorbar": {
             "outlinewidth": 0,
             "ticks": ""
            },
            "colorscale": [
             [
              0,
              "#0d0887"
             ],
             [
              0.1111111111111111,
              "#46039f"
             ],
             [
              0.2222222222222222,
              "#7201a8"
             ],
             [
              0.3333333333333333,
              "#9c179e"
             ],
             [
              0.4444444444444444,
              "#bd3786"
             ],
             [
              0.5555555555555556,
              "#d8576b"
             ],
             [
              0.6666666666666666,
              "#ed7953"
             ],
             [
              0.7777777777777778,
              "#fb9f3a"
             ],
             [
              0.8888888888888888,
              "#fdca26"
             ],
             [
              1,
              "#f0f921"
             ]
            ],
            "type": "heatmap"
           }
          ],
          "heatmapgl": [
           {
            "colorbar": {
             "outlinewidth": 0,
             "ticks": ""
            },
            "colorscale": [
             [
              0,
              "#0d0887"
             ],
             [
              0.1111111111111111,
              "#46039f"
             ],
             [
              0.2222222222222222,
              "#7201a8"
             ],
             [
              0.3333333333333333,
              "#9c179e"
             ],
             [
              0.4444444444444444,
              "#bd3786"
             ],
             [
              0.5555555555555556,
              "#d8576b"
             ],
             [
              0.6666666666666666,
              "#ed7953"
             ],
             [
              0.7777777777777778,
              "#fb9f3a"
             ],
             [
              0.8888888888888888,
              "#fdca26"
             ],
             [
              1,
              "#f0f921"
             ]
            ],
            "type": "heatmapgl"
           }
          ],
          "histogram": [
           {
            "marker": {
             "colorbar": {
              "outlinewidth": 0,
              "ticks": ""
             }
            },
            "type": "histogram"
           }
          ],
          "histogram2d": [
           {
            "colorbar": {
             "outlinewidth": 0,
             "ticks": ""
            },
            "colorscale": [
             [
              0,
              "#0d0887"
             ],
             [
              0.1111111111111111,
              "#46039f"
             ],
             [
              0.2222222222222222,
              "#7201a8"
             ],
             [
              0.3333333333333333,
              "#9c179e"
             ],
             [
              0.4444444444444444,
              "#bd3786"
             ],
             [
              0.5555555555555556,
              "#d8576b"
             ],
             [
              0.6666666666666666,
              "#ed7953"
             ],
             [
              0.7777777777777778,
              "#fb9f3a"
             ],
             [
              0.8888888888888888,
              "#fdca26"
             ],
             [
              1,
              "#f0f921"
             ]
            ],
            "type": "histogram2d"
           }
          ],
          "histogram2dcontour": [
           {
            "colorbar": {
             "outlinewidth": 0,
             "ticks": ""
            },
            "colorscale": [
             [
              0,
              "#0d0887"
             ],
             [
              0.1111111111111111,
              "#46039f"
             ],
             [
              0.2222222222222222,
              "#7201a8"
             ],
             [
              0.3333333333333333,
              "#9c179e"
             ],
             [
              0.4444444444444444,
              "#bd3786"
             ],
             [
              0.5555555555555556,
              "#d8576b"
             ],
             [
              0.6666666666666666,
              "#ed7953"
             ],
             [
              0.7777777777777778,
              "#fb9f3a"
             ],
             [
              0.8888888888888888,
              "#fdca26"
             ],
             [
              1,
              "#f0f921"
             ]
            ],
            "type": "histogram2dcontour"
           }
          ],
          "mesh3d": [
           {
            "colorbar": {
             "outlinewidth": 0,
             "ticks": ""
            },
            "type": "mesh3d"
           }
          ],
          "parcoords": [
           {
            "line": {
             "colorbar": {
              "outlinewidth": 0,
              "ticks": ""
             }
            },
            "type": "parcoords"
           }
          ],
          "pie": [
           {
            "automargin": true,
            "type": "pie"
           }
          ],
          "scatter": [
           {
            "marker": {
             "colorbar": {
              "outlinewidth": 0,
              "ticks": ""
             }
            },
            "type": "scatter"
           }
          ],
          "scatter3d": [
           {
            "line": {
             "colorbar": {
              "outlinewidth": 0,
              "ticks": ""
             }
            },
            "marker": {
             "colorbar": {
              "outlinewidth": 0,
              "ticks": ""
             }
            },
            "type": "scatter3d"
           }
          ],
          "scattercarpet": [
           {
            "marker": {
             "colorbar": {
              "outlinewidth": 0,
              "ticks": ""
             }
            },
            "type": "scattercarpet"
           }
          ],
          "scattergeo": [
           {
            "marker": {
             "colorbar": {
              "outlinewidth": 0,
              "ticks": ""
             }
            },
            "type": "scattergeo"
           }
          ],
          "scattergl": [
           {
            "marker": {
             "colorbar": {
              "outlinewidth": 0,
              "ticks": ""
             }
            },
            "type": "scattergl"
           }
          ],
          "scattermapbox": [
           {
            "marker": {
             "colorbar": {
              "outlinewidth": 0,
              "ticks": ""
             }
            },
            "type": "scattermapbox"
           }
          ],
          "scatterpolar": [
           {
            "marker": {
             "colorbar": {
              "outlinewidth": 0,
              "ticks": ""
             }
            },
            "type": "scatterpolar"
           }
          ],
          "scatterpolargl": [
           {
            "marker": {
             "colorbar": {
              "outlinewidth": 0,
              "ticks": ""
             }
            },
            "type": "scatterpolargl"
           }
          ],
          "scatterternary": [
           {
            "marker": {
             "colorbar": {
              "outlinewidth": 0,
              "ticks": ""
             }
            },
            "type": "scatterternary"
           }
          ],
          "surface": [
           {
            "colorbar": {
             "outlinewidth": 0,
             "ticks": ""
            },
            "colorscale": [
             [
              0,
              "#0d0887"
             ],
             [
              0.1111111111111111,
              "#46039f"
             ],
             [
              0.2222222222222222,
              "#7201a8"
             ],
             [
              0.3333333333333333,
              "#9c179e"
             ],
             [
              0.4444444444444444,
              "#bd3786"
             ],
             [
              0.5555555555555556,
              "#d8576b"
             ],
             [
              0.6666666666666666,
              "#ed7953"
             ],
             [
              0.7777777777777778,
              "#fb9f3a"
             ],
             [
              0.8888888888888888,
              "#fdca26"
             ],
             [
              1,
              "#f0f921"
             ]
            ],
            "type": "surface"
           }
          ],
          "table": [
           {
            "cells": {
             "fill": {
              "color": "#EBF0F8"
             },
             "line": {
              "color": "white"
             }
            },
            "header": {
             "fill": {
              "color": "#C8D4E3"
             },
             "line": {
              "color": "white"
             }
            },
            "type": "table"
           }
          ]
         },
         "layout": {
          "annotationdefaults": {
           "arrowcolor": "#2a3f5f",
           "arrowhead": 0,
           "arrowwidth": 1
          },
          "coloraxis": {
           "colorbar": {
            "outlinewidth": 0,
            "ticks": ""
           }
          },
          "colorscale": {
           "diverging": [
            [
             0,
             "#8e0152"
            ],
            [
             0.1,
             "#c51b7d"
            ],
            [
             0.2,
             "#de77ae"
            ],
            [
             0.3,
             "#f1b6da"
            ],
            [
             0.4,
             "#fde0ef"
            ],
            [
             0.5,
             "#f7f7f7"
            ],
            [
             0.6,
             "#e6f5d0"
            ],
            [
             0.7,
             "#b8e186"
            ],
            [
             0.8,
             "#7fbc41"
            ],
            [
             0.9,
             "#4d9221"
            ],
            [
             1,
             "#276419"
            ]
           ],
           "sequential": [
            [
             0,
             "#0d0887"
            ],
            [
             0.1111111111111111,
             "#46039f"
            ],
            [
             0.2222222222222222,
             "#7201a8"
            ],
            [
             0.3333333333333333,
             "#9c179e"
            ],
            [
             0.4444444444444444,
             "#bd3786"
            ],
            [
             0.5555555555555556,
             "#d8576b"
            ],
            [
             0.6666666666666666,
             "#ed7953"
            ],
            [
             0.7777777777777778,
             "#fb9f3a"
            ],
            [
             0.8888888888888888,
             "#fdca26"
            ],
            [
             1,
             "#f0f921"
            ]
           ],
           "sequentialminus": [
            [
             0,
             "#0d0887"
            ],
            [
             0.1111111111111111,
             "#46039f"
            ],
            [
             0.2222222222222222,
             "#7201a8"
            ],
            [
             0.3333333333333333,
             "#9c179e"
            ],
            [
             0.4444444444444444,
             "#bd3786"
            ],
            [
             0.5555555555555556,
             "#d8576b"
            ],
            [
             0.6666666666666666,
             "#ed7953"
            ],
            [
             0.7777777777777778,
             "#fb9f3a"
            ],
            [
             0.8888888888888888,
             "#fdca26"
            ],
            [
             1,
             "#f0f921"
            ]
           ]
          },
          "colorway": [
           "#636efa",
           "#EF553B",
           "#00cc96",
           "#ab63fa",
           "#FFA15A",
           "#19d3f3",
           "#FF6692",
           "#B6E880",
           "#FF97FF",
           "#FECB52"
          ],
          "font": {
           "color": "#2a3f5f"
          },
          "geo": {
           "bgcolor": "white",
           "lakecolor": "white",
           "landcolor": "#E5ECF6",
           "showlakes": true,
           "showland": true,
           "subunitcolor": "white"
          },
          "hoverlabel": {
           "align": "left"
          },
          "hovermode": "closest",
          "mapbox": {
           "style": "light"
          },
          "paper_bgcolor": "white",
          "plot_bgcolor": "#E5ECF6",
          "polar": {
           "angularaxis": {
            "gridcolor": "white",
            "linecolor": "white",
            "ticks": ""
           },
           "bgcolor": "#E5ECF6",
           "radialaxis": {
            "gridcolor": "white",
            "linecolor": "white",
            "ticks": ""
           }
          },
          "scene": {
           "xaxis": {
            "backgroundcolor": "#E5ECF6",
            "gridcolor": "white",
            "gridwidth": 2,
            "linecolor": "white",
            "showbackground": true,
            "ticks": "",
            "zerolinecolor": "white"
           },
           "yaxis": {
            "backgroundcolor": "#E5ECF6",
            "gridcolor": "white",
            "gridwidth": 2,
            "linecolor": "white",
            "showbackground": true,
            "ticks": "",
            "zerolinecolor": "white"
           },
           "zaxis": {
            "backgroundcolor": "#E5ECF6",
            "gridcolor": "white",
            "gridwidth": 2,
            "linecolor": "white",
            "showbackground": true,
            "ticks": "",
            "zerolinecolor": "white"
           }
          },
          "shapedefaults": {
           "line": {
            "color": "#2a3f5f"
           }
          },
          "ternary": {
           "aaxis": {
            "gridcolor": "white",
            "linecolor": "white",
            "ticks": ""
           },
           "baxis": {
            "gridcolor": "white",
            "linecolor": "white",
            "ticks": ""
           },
           "bgcolor": "#E5ECF6",
           "caxis": {
            "gridcolor": "white",
            "linecolor": "white",
            "ticks": ""
           }
          },
          "title": {
           "x": 0.05
          },
          "xaxis": {
           "automargin": true,
           "gridcolor": "white",
           "linecolor": "white",
           "ticks": "",
           "title": {
            "standoff": 15
           },
           "zerolinecolor": "white",
           "zerolinewidth": 2
          },
          "yaxis": {
           "automargin": true,
           "gridcolor": "white",
           "linecolor": "white",
           "ticks": "",
           "title": {
            "standoff": 15
           },
           "zerolinecolor": "white",
           "zerolinewidth": 2
          }
         }
        },
        "xaxis": {
         "anchor": "y",
         "domain": [
          0,
          1
         ],
         "title": {
          "text": "Alder"
         }
        },
        "yaxis": {
         "anchor": "x",
         "domain": [
          0,
          1
         ],
         "title": {
          "text": ""
         }
        }
       }
      }
     },
     "metadata": {}
    }
   ],
   "source": [
    "dt.age_figure_2d(s.vC_a, years=[2017, 2090])"
   ]
  },
  {
   "cell_type": "code",
   "execution_count": 123,
   "metadata": {},
   "outputs": [
    {
     "output_type": "display_data",
     "data": {
      "application/vnd.plotly.v1+json": {
       "config": {
        "plotlyServerURL": "https://plot.ly"
       },
       "data": [
        {
         "showscale": false,
         "type": "surface",
         "x": [
          2017,
          2018,
          2019,
          2020,
          2021,
          2022,
          2023,
          2024,
          2025,
          2026,
          2027,
          2028,
          2029,
          2030,
          2031,
          2032,
          2033,
          2034,
          2035,
          2036,
          2037,
          2038,
          2039,
          2040,
          2041,
          2042,
          2043,
          2044,
          2045,
          2046,
          2047,
          2048,
          2049,
          2050,
          2051,
          2052,
          2053,
          2054,
          2055,
          2056,
          2057,
          2058,
          2059,
          2060,
          2061,
          2062,
          2063,
          2064,
          2065,
          2066,
          2067,
          2068,
          2069,
          2070,
          2071,
          2072,
          2073,
          2074,
          2075,
          2076,
          2077,
          2078,
          2079,
          2080,
          2081,
          2082,
          2083,
          2084,
          2085,
          2086,
          2087,
          2088,
          2089,
          2090,
          2091,
          2092,
          2093,
          2094,
          2095,
          2096,
          2097,
          2098,
          2099
         ],
         "y": [
          0,
          1,
          2,
          3,
          4,
          5,
          6,
          7,
          8,
          9,
          10,
          11,
          12,
          13,
          14,
          15,
          16,
          17,
          18,
          19,
          20,
          21,
          22,
          23,
          24,
          25,
          26,
          27,
          28,
          29,
          30,
          31,
          32,
          33,
          34,
          35,
          36,
          37,
          38,
          39,
          40,
          41,
          42,
          43,
          44,
          45,
          46,
          47,
          48,
          49,
          50,
          51,
          52,
          53,
          54,
          55,
          56,
          57,
          58,
          59,
          60,
          61,
          62,
          63,
          64,
          65,
          66,
          67,
          68,
          69,
          70,
          71,
          72,
          73,
          74,
          75,
          76,
          77,
          78,
          79,
          80,
          81,
          82,
          83,
          84,
          85,
          86,
          87,
          88,
          89,
          90,
          91,
          92,
          93,
          94,
          95,
          96,
          97,
          98,
          99
         ],
         "z": [
          [
           0,
           0,
           0,
           0,
           0,
           0,
           0,
           0,
           0,
           0,
           0,
           0,
           0,
           0,
           0,
           0,
           0,
           0,
           0,
           0,
           0,
           0,
           0,
           0,
           0,
           0,
           0,
           0,
           0,
           0,
           0,
           0,
           0,
           0,
           0,
           0,
           0,
           0,
           0,
           0,
           0,
           0,
           0,
           0,
           0,
           0,
           0,
           0,
           0,
           0,
           0,
           0,
           0,
           0,
           0,
           0,
           0,
           0,
           0,
           0,
           0,
           0,
           0,
           0,
           0,
           0,
           0,
           0,
           0,
           0,
           0,
           0,
           0,
           0,
           0,
           0,
           0,
           0,
           0,
           0,
           0,
           0,
           0
          ],
          [
           0,
           0,
           0,
           0,
           0,
           0,
           0,
           0,
           0,
           0,
           0,
           0,
           0,
           0,
           0,
           0,
           0,
           0,
           0,
           0,
           0,
           0,
           0,
           0,
           0,
           0,
           0,
           0,
           0,
           0,
           0,
           0,
           0,
           0,
           0,
           0,
           0,
           0,
           0,
           0,
           0,
           0,
           0,
           0,
           0,
           0,
           0,
           0,
           0,
           0,
           0,
           0,
           0,
           0,
           0,
           0,
           0,
           0,
           0,
           0,
           0,
           0,
           0,
           0,
           0,
           0,
           0,
           0,
           0,
           0,
           0,
           0,
           0,
           0,
           0,
           0,
           0,
           0,
           0,
           0,
           0,
           0,
           0
          ],
          [
           0,
           0,
           0,
           0,
           0,
           0,
           0,
           0,
           0,
           0,
           0,
           0,
           0,
           0,
           0,
           0,
           0,
           0,
           0,
           0,
           0,
           0,
           0,
           0,
           0,
           0,
           0,
           0,
           0,
           0,
           0,
           0,
           0,
           0,
           0,
           0,
           0,
           0,
           0,
           0,
           0,
           0,
           0,
           0,
           0,
           0,
           0,
           0,
           0,
           0,
           0,
           0,
           0,
           0,
           0,
           0,
           0,
           0,
           0,
           0,
           0,
           0,
           0,
           0,
           0,
           0,
           0,
           0,
           0,
           0,
           0,
           0,
           0,
           0,
           0,
           0,
           0,
           0,
           0,
           0,
           0,
           0,
           0
          ],
          [
           0,
           0,
           0,
           0,
           0,
           0,
           0,
           0,
           0,
           0,
           0,
           0,
           0,
           0,
           0,
           0,
           0,
           0,
           0,
           0,
           0,
           0,
           0,
           0,
           0,
           0,
           0,
           0,
           0,
           0,
           0,
           0,
           0,
           0,
           0,
           0,
           0,
           0,
           0,
           0,
           0,
           0,
           0,
           0,
           0,
           0,
           0,
           0,
           0,
           0,
           0,
           0,
           0,
           0,
           0,
           0,
           0,
           0,
           0,
           0,
           0,
           0,
           0,
           0,
           0,
           0,
           0,
           0,
           0,
           0,
           0,
           0,
           0,
           0,
           0,
           0,
           0,
           0,
           0,
           0,
           0,
           0,
           0
          ],
          [
           0,
           0,
           0,
           0,
           0,
           0,
           0,
           0,
           0,
           0,
           0,
           0,
           0,
           0,
           0,
           0,
           0,
           0,
           0,
           0,
           0,
           0,
           0,
           0,
           0,
           0,
           0,
           0,
           0,
           0,
           0,
           0,
           0,
           0,
           0,
           0,
           0,
           0,
           0,
           0,
           0,
           0,
           0,
           0,
           0,
           0,
           0,
           0,
           0,
           0,
           0,
           0,
           0,
           0,
           0,
           0,
           0,
           0,
           0,
           0,
           0,
           0,
           0,
           0,
           0,
           0,
           0,
           0,
           0,
           0,
           0,
           0,
           0,
           0,
           0,
           0,
           0,
           0,
           0,
           0,
           0,
           0,
           0
          ],
          [
           0,
           0,
           0,
           0,
           0,
           0,
           0,
           0,
           0,
           0,
           0,
           0,
           0,
           0,
           0,
           0,
           0,
           0,
           0,
           0,
           0,
           0,
           0,
           0,
           0,
           0,
           0,
           0,
           0,
           0,
           0,
           0,
           0,
           0,
           0,
           0,
           0,
           0,
           0,
           0,
           0,
           0,
           0,
           0,
           0,
           0,
           0,
           0,
           0,
           0,
           0,
           0,
           0,
           0,
           0,
           0,
           0,
           0,
           0,
           0,
           0,
           0,
           0,
           0,
           0,
           0,
           0,
           0,
           0,
           0,
           0,
           0,
           0,
           0,
           0,
           0,
           0,
           0,
           0,
           0,
           0,
           0,
           0
          ],
          [
           0,
           0,
           0,
           0,
           0,
           0,
           0,
           0,
           0,
           0,
           0,
           0,
           0,
           0,
           0,
           0,
           0,
           0,
           0,
           0,
           0,
           0,
           0,
           0,
           0,
           0,
           0,
           0,
           0,
           0,
           0,
           0,
           0,
           0,
           0,
           0,
           0,
           0,
           0,
           0,
           0,
           0,
           0,
           0,
           0,
           0,
           0,
           0,
           0,
           0,
           0,
           0,
           0,
           0,
           0,
           0,
           0,
           0,
           0,
           0,
           0,
           0,
           0,
           0,
           0,
           0,
           0,
           0,
           0,
           0,
           0,
           0,
           0,
           0,
           0,
           0,
           0,
           0,
           0,
           0,
           0,
           0,
           0
          ],
          [
           0,
           0,
           0,
           0,
           0,
           0,
           0,
           0,
           0,
           0,
           0,
           0,
           0,
           0,
           0,
           0,
           0,
           0,
           0,
           0,
           0,
           0,
           0,
           0,
           0,
           0,
           0,
           0,
           0,
           0,
           0,
           0,
           0,
           0,
           0,
           0,
           0,
           0,
           0,
           0,
           0,
           0,
           0,
           0,
           0,
           0,
           0,
           0,
           0,
           0,
           0,
           0,
           0,
           0,
           0,
           0,
           0,
           0,
           0,
           0,
           0,
           0,
           0,
           0,
           0,
           0,
           0,
           0,
           0,
           0,
           0,
           0,
           0,
           0,
           0,
           0,
           0,
           0,
           0,
           0,
           0,
           0,
           0
          ],
          [
           0,
           0,
           0,
           0,
           0,
           0,
           0,
           0,
           0,
           0,
           0,
           0,
           0,
           0,
           0,
           0,
           0,
           0,
           0,
           0,
           0,
           0,
           0,
           0,
           0,
           0,
           0,
           0,
           0,
           0,
           0,
           0,
           0,
           0,
           0,
           0,
           0,
           0,
           0,
           0,
           0,
           0,
           0,
           0,
           0,
           0,
           0,
           0,
           0,
           0,
           0,
           0,
           0,
           0,
           0,
           0,
           0,
           0,
           0,
           0,
           0,
           0,
           0,
           0,
           0,
           0,
           0,
           0,
           0,
           0,
           0,
           0,
           0,
           0,
           0,
           0,
           0,
           0,
           0,
           0,
           0,
           0,
           0
          ],
          [
           0,
           0,
           0,
           0,
           0,
           0,
           0,
           0,
           0,
           0,
           0,
           0,
           0,
           0,
           0,
           0,
           0,
           0,
           0,
           0,
           0,
           0,
           0,
           0,
           0,
           0,
           0,
           0,
           0,
           0,
           0,
           0,
           0,
           0,
           0,
           0,
           0,
           0,
           0,
           0,
           0,
           0,
           0,
           0,
           0,
           0,
           0,
           0,
           0,
           0,
           0,
           0,
           0,
           0,
           0,
           0,
           0,
           0,
           0,
           0,
           0,
           0,
           0,
           0,
           0,
           0,
           0,
           0,
           0,
           0,
           0,
           0,
           0,
           0,
           0,
           0,
           0,
           0,
           0,
           0,
           0,
           0,
           0
          ],
          [
           0,
           0,
           0,
           0,
           0,
           0,
           0,
           0,
           0,
           0,
           0,
           0,
           0,
           0,
           0,
           0,
           0,
           0,
           0,
           0,
           0,
           0,
           0,
           0,
           0,
           0,
           0,
           0,
           0,
           0,
           0,
           0,
           0,
           0,
           0,
           0,
           0,
           0,
           0,
           0,
           0,
           0,
           0,
           0,
           0,
           0,
           0,
           0,
           0,
           0,
           0,
           0,
           0,
           0,
           0,
           0,
           0,
           0,
           0,
           0,
           0,
           0,
           0,
           0,
           0,
           0,
           0,
           0,
           0,
           0,
           0,
           0,
           0,
           0,
           0,
           0,
           0,
           0,
           0,
           0,
           0,
           0,
           0
          ],
          [
           0,
           0,
           0,
           0,
           0,
           0,
           0,
           0,
           0,
           0,
           0,
           0,
           0,
           0,
           0,
           0,
           0,
           0,
           0,
           0,
           0,
           0,
           0,
           0,
           0,
           0,
           0,
           0,
           0,
           0,
           0,
           0,
           0,
           0,
           0,
           0,
           0,
           0,
           0,
           0,
           0,
           0,
           0,
           0,
           0,
           0,
           0,
           0,
           0,
           0,
           0,
           0,
           0,
           0,
           0,
           0,
           0,
           0,
           0,
           0,
           0,
           0,
           0,
           0,
           0,
           0,
           0,
           0,
           0,
           0,
           0,
           0,
           0,
           0,
           0,
           0,
           0,
           0,
           0,
           0,
           0,
           0,
           0
          ],
          [
           0,
           0,
           0,
           0,
           0,
           0,
           0,
           0,
           0,
           0,
           0,
           0,
           0,
           0,
           0,
           0,
           0,
           0,
           0,
           0,
           0,
           0,
           0,
           0,
           0,
           0,
           0,
           0,
           0,
           0,
           0,
           0,
           0,
           0,
           0,
           0,
           0,
           0,
           0,
           0,
           0,
           0,
           0,
           0,
           0,
           0,
           0,
           0,
           0,
           0,
           0,
           0,
           0,
           0,
           0,
           0,
           0,
           0,
           0,
           0,
           0,
           0,
           0,
           0,
           0,
           0,
           0,
           0,
           0,
           0,
           0,
           0,
           0,
           0,
           0,
           0,
           0,
           0,
           0,
           0,
           0,
           0,
           0
          ],
          [
           0,
           0,
           0,
           0,
           0,
           0,
           0,
           0,
           0,
           0,
           0,
           0,
           0,
           0,
           0,
           0,
           0,
           0,
           0,
           0,
           0,
           0,
           0,
           0,
           0,
           0,
           0,
           0,
           0,
           0,
           0,
           0,
           0,
           0,
           0,
           0,
           0,
           0,
           0,
           0,
           0,
           0,
           0,
           0,
           0,
           0,
           0,
           0,
           0,
           0,
           0,
           0,
           0,
           0,
           0,
           0,
           0,
           0,
           0,
           0,
           0,
           0,
           0,
           0,
           0,
           0,
           0,
           0,
           0,
           0,
           0,
           0,
           0,
           0,
           0,
           0,
           0,
           0,
           0,
           0,
           0,
           0,
           0
          ],
          [
           0,
           0,
           0,
           0,
           0,
           0,
           0,
           0,
           0,
           0,
           0,
           0,
           0,
           0,
           0,
           0,
           0,
           0,
           0,
           0,
           0,
           0,
           0,
           0,
           0,
           0,
           0,
           0,
           0,
           0,
           0,
           0,
           0,
           0,
           0,
           0,
           0,
           0,
           0,
           0,
           0,
           0,
           0,
           0,
           0,
           0,
           0,
           0,
           0,
           0,
           0,
           0,
           0,
           0,
           0,
           0,
           0,
           0,
           0,
           0,
           0,
           0,
           0,
           0,
           0,
           0,
           0,
           0,
           0,
           0,
           0,
           0,
           0,
           0,
           0,
           0,
           0,
           0,
           0,
           0,
           0,
           0,
           0
          ],
          [
           0,
           0,
           0,
           0,
           0,
           0,
           0,
           0,
           0,
           0,
           0,
           0,
           0,
           0,
           0,
           0,
           0,
           0,
           0,
           0,
           0,
           0,
           0,
           0,
           0,
           0,
           0,
           0,
           0,
           0,
           0,
           0,
           0,
           0,
           0,
           0,
           0,
           0,
           0,
           0,
           0,
           0,
           0,
           0,
           0,
           0,
           0,
           0,
           0,
           0,
           0,
           0,
           0,
           0,
           0,
           0,
           0,
           0,
           0,
           0,
           0,
           0,
           0,
           0,
           0,
           0,
           0,
           0,
           0,
           0,
           0,
           0,
           0,
           0,
           0,
           0,
           0,
           0,
           0,
           0,
           0,
           0,
           0
          ],
          [
           0,
           0,
           0,
           0,
           0,
           0,
           0,
           0,
           0,
           0,
           0,
           0,
           0,
           0,
           0,
           0,
           0,
           0,
           0,
           0,
           0,
           0,
           0,
           0,
           0,
           0,
           0,
           0,
           0,
           0,
           0,
           0,
           0,
           0,
           0,
           0,
           0,
           0,
           0,
           0,
           0,
           0,
           0,
           0,
           0,
           0,
           0,
           0,
           0,
           0,
           0,
           0,
           0,
           0,
           0,
           0,
           0,
           0,
           0,
           0,
           0,
           0,
           0,
           0,
           0,
           0,
           0,
           0,
           0,
           0,
           0,
           0,
           0,
           0,
           0,
           0,
           0,
           0,
           0,
           0,
           0,
           0,
           0
          ],
          [
           0,
           0,
           0,
           0,
           0,
           0,
           0,
           0,
           0,
           0,
           0,
           0,
           0,
           0,
           0,
           0,
           0,
           0,
           0,
           0,
           0,
           0,
           0,
           0,
           0,
           0,
           0,
           0,
           0,
           0,
           0,
           0,
           0,
           0,
           0,
           0,
           0,
           0,
           0,
           0,
           0,
           0,
           0,
           0,
           0,
           0,
           0,
           0,
           0,
           0,
           0,
           0,
           0,
           0,
           0,
           0,
           0,
           0,
           0,
           0,
           0,
           0,
           0,
           0,
           0,
           0,
           0,
           0,
           0,
           0,
           0,
           0,
           0,
           0,
           0,
           0,
           0,
           0,
           0,
           0,
           0,
           0,
           0
          ],
          [
           0.02841221904450952,
           0.026228097354329932,
           0.026078856408894246,
           0.026409228361346744,
           0.026949760081542762,
           0.027508926037579585,
           0.027819170065258806,
           0.0281177643779455,
           0.028305698629642013,
           0.02847807916132694,
           0.02857881437732871,
           0.028570024275924075,
           0.02849042033574029,
           0.02873245193523517,
           0.02847562485519558,
           0.028278466178386016,
           0.028165823834836082,
           0.028084585656531116,
           0.02845843035592533,
           0.028353669454196217,
           0.02824581053533962,
           0.0281096098683109,
           0.027963441564168214,
           0.02809381490571671,
           0.0278143895640064,
           0.02755686005167338,
           0.02729593631156943,
           0.027009733358108415,
           0.027010243010886063,
           0.026746680556520155,
           0.026545753434685744,
           0.026440954236068244,
           0.026377106313545576,
           0.02652129604430833,
           0.026494068905509503,
           0.026492981685677184,
           0.026488177298403706,
           0.026488782352801193,
           0.026558180542782913,
           0.0265620818184018,
           0.02656104031645406,
           0.026553197199320422,
           0.026543020514138687,
           0.02658759749447729,
           0.026593922525510065,
           0.026621158950903664,
           0.026655438309673995,
           0.026709826052802133,
           0.026835221933279453,
           0.026911631173246717,
           0.027008584375834272,
           0.027101747852572744,
           0.027189592582691994,
           0.027321269440512354,
           0.02738179739474538,
           0.027407563669581383,
           0.027414276925636014,
           0.027405530493966893,
           0.027524293340013786,
           0.02752455979846553,
           0.027561072337790014,
           0.02761408094110506,
           0.027682366858860608,
           0.027837272855874555,
           0.027914944500053395,
           0.027981477151421845,
           0.028056716783414915,
           0.02813038437213657,
           0.028200115797752483,
           0.028272746143851564,
           0.0283301165094623,
           0.028377470124498757,
           0.028398265925574154,
           0.02844171822976483,
           0.028422698756420832,
           0.02840028749151062,
           0.028366211678935375,
           0.02833576055239017,
           0.028369904113899863,
           0.028350408568293274,
           0.02832594593741754,
           0.028308429339122327,
           0.028276815963017978
          ],
          [
           0.036804342441126126,
           0.04307504714889258,
           0.04356006065762147,
           0.044189785372845035,
           0.04440518372658742,
           0.04510851532713432,
           0.0454797412406896,
           0.045811310050353396,
           0.04608435843630814,
           0.04631750219170255,
           0.046468369719479874,
           0.04651904182011627,
           0.04644784703345601,
           0.046702793582316465,
           0.04643990682078845,
           0.046226418105643784,
           0.04609008122581551,
           0.046042336576259134,
           0.04643858116648842,
           0.04634164457684206,
           0.04624915273145362,
           0.04612709697446434,
           0.04597184373405516,
           0.046092505258141694,
           0.045798866103958974,
           0.045529090921622835,
           0.045264298682887776,
           0.04494852791346562,
           0.044909022148879214,
           0.044609970426623756,
           0.04437285856237403,
           0.044245212014899477,
           0.044153237546466474,
           0.044266377076698185,
           0.04421014808238009,
           0.044178715672066465,
           0.04414892649374626,
           0.04411909096676753,
           0.044169711520504557,
           0.04415816851036031,
           0.044142195116704606,
           0.0441356563241723,
           0.044129503503942756,
           0.04417220961223217,
           0.044186624941640704,
           0.044233850076868975,
           0.044295898131717346,
           0.044379179051735704,
           0.04453166237566229,
           0.04463569104054056,
           0.04476412424807042,
           0.044894120344042936,
           0.045016571090261505,
           0.04517768234332657,
           0.045263643644586904,
           0.045307253950821774,
           0.0453408282012833,
           0.04534786503559195,
           0.0454758004663434,
           0.045493491607673985,
           0.04555045843342692,
           0.045632195489821614,
           0.04572797050016272,
           0.04591019939056877,
           0.04601306397218821,
           0.04610803291387152,
           0.04620922273388256,
           0.04630342921504199,
           0.04639048301054475,
           0.04647938746076253,
           0.04654907413584697,
           0.046607034421447584,
           0.046645322699262394,
           0.04669330251831283,
           0.04667333780855825,
           0.04665245142087291,
           0.04662429797348569,
           0.04659879446582593,
           0.04664138094670163,
           0.0466289531279522,
           0.04661293843860768,
           0.04660971073347375,
           0.04658037265322257
          ],
          [
           0.047147583600448746,
           0.05157204898064253,
           0.05360448661991202,
           0.05395594681269551,
           0.054048077272572034,
           0.05443597103935037,
           0.05494505619064516,
           0.05533265948161234,
           0.05561118194559219,
           0.05590443958441651,
           0.0560896014943717,
           0.05619185385027005,
           0.05615785554506343,
           0.05638276375910725,
           0.05611697941173937,
           0.05589622545384774,
           0.05574564931278843,
           0.055630931295125294,
           0.05601414015139023,
           0.05593885261232201,
           0.05585943198276379,
           0.0557554735807087,
           0.055609262570510985,
           0.05570126556597534,
           0.055413336136402994,
           0.05516897882928232,
           0.05492789839881692,
           0.05462280103537373,
           0.05455779635587742,
           0.05425067517003825,
           0.054018440081471004,
           0.053887774930060625,
           0.05378547404584204,
           0.053871477374893534,
           0.05380477630526765,
           0.05376229098244341,
           0.053715725689344476,
           0.053672052823103306,
           0.05369122456601002,
           0.05366049982695723,
           0.053628103771490736,
           0.05360263449915175,
           0.053587282686770966,
           0.05361190400394657,
           0.05361122254340726,
           0.05365778105865269,
           0.053729750039333175,
           0.05382193679064902,
           0.05398386606885005,
           0.05410614887205878,
           0.05425177830929368,
           0.054402144487321995,
           0.05455073269883262,
           0.054726424781469,
           0.054834575836977865,
           0.05490346976094175,
           0.0549590426727483,
           0.05498522011788032,
           0.05511525765924503,
           0.05515515037470999,
           0.055242009255709296,
           0.055352102218027506,
           0.05547753158524376,
           0.05567710524698399,
           0.05579754614428422,
           0.055914318285982915,
           0.056037960886285036,
           0.05614917335543629,
           0.0562490358780885,
           0.056341484884936274,
           0.056412126249402346,
           0.0564714914491764,
           0.056504526374077366,
           0.056554111264312555,
           0.05653739120221947,
           0.05651145292084048,
           0.05647893401124594,
           0.056449701331101325,
           0.05647804711333908,
           0.05645750006073682,
           0.05643995475896708,
           0.05644094721274849,
           0.05639710925261368
          ],
          [
           0.053359833208526615,
           0.061332890043498484,
           0.059464286292021176,
           0.06087912167367958,
           0.06062143120897867,
           0.061102865702824666,
           0.061276583998154936,
           0.06185056157295517,
           0.062192315042161654,
           0.06247755516338587,
           0.06273397912444745,
           0.06288835069795412,
           0.06292785790998626,
           0.06321239835454365,
           0.06299391655201764,
           0.06282074280009096,
           0.06266556019508844,
           0.06252130796296351,
           0.06280350232075292,
           0.06271822576002124,
           0.06263747324224955,
           0.06251928597539674,
           0.062362507363532105,
           0.06243215890270325,
           0.06212853616476294,
           0.061884010958997496,
           0.06164169833594976,
           0.06132890353007096,
           0.06126063476963882,
           0.0609461509063949,
           0.060712868719050544,
           0.060591945858989325,
           0.06048513014443917,
           0.06056851883834622,
           0.06050705565901596,
           0.060469315077635324,
           0.060433113314711344,
           0.060390483475510424,
           0.06040444534837213,
           0.06036519971830919,
           0.060337959175485775,
           0.060311652970480224,
           0.06028563675713882,
           0.06031626489364077,
           0.06031306489667365,
           0.06035179917839588,
           0.06042760605629286,
           0.06052337209332099,
           0.06069108731163083,
           0.06081986114508807,
           0.060971751980312426,
           0.06112516140278511,
           0.06127553930162153,
           0.06145634071816795,
           0.061574744091689254,
           0.06166107948473944,
           0.061733900471444225,
           0.06177091790411337,
           0.06191170579226925,
           0.061965731805051105,
           0.06207365565811889,
           0.062210125723947754,
           0.06235395337036623,
           0.06257553391210482,
           0.06272370390203948,
           0.06286654671899759,
           0.0630110730221335,
           0.06314339223889026,
           0.063261301213777,
           0.0633674786948458,
           0.06344859581174006,
           0.06352301555383093,
           0.06357327807364128,
           0.06362551203312465,
           0.06363182531871216,
           0.06361955404361132,
           0.06358854444874365,
           0.063555358969298,
           0.06356712199083508,
           0.0635337278177992,
           0.06350781768455654,
           0.0634992988513537,
           0.06344754927883754
          ],
          [
           0.06063780323232205,
           0.07404611474366765,
           0.07049553789683409,
           0.07171197655832122,
           0.07143263948972169,
           0.07150083279307995,
           0.07177588902258815,
           0.07199013283062915,
           0.07259078566408612,
           0.07295191368781608,
           0.07321475303505451,
           0.07346198921147251,
           0.07356904672301041,
           0.07394615201105643,
           0.07380258094721528,
           0.07367811833362221,
           0.07354830967174898,
           0.07337561001772115,
           0.07358806610277566,
           0.07339537775846544,
           0.0733351629579356,
           0.0732343016362431,
           0.07307219320634359,
           0.0731307017006304,
           0.07280715107716026,
           0.07255281902081065,
           0.07231601568424989,
           0.0720086388615034,
           0.07192142364508261,
           0.07160536607107838,
           0.07137030816398068,
           0.07123741340862579,
           0.07112958849532731,
           0.07118933743497009,
           0.07112625739575891,
           0.07110127211578514,
           0.0710603463340792,
           0.07101544836173497,
           0.07101819648300552,
           0.07097028987993538,
           0.07092842938005509,
           0.07090317388819652,
           0.07087169905037888,
           0.07088254585027065,
           0.07088865388888403,
           0.07092712312786378,
           0.07098945101583257,
           0.07108562662847359,
           0.07125608549729996,
           0.07140093909182813,
           0.07157170774009378,
           0.07173782495577076,
           0.07189561069698046,
           0.07207995226503022,
           0.07221340615075945,
           0.07232892266990529,
           0.07243249052778535,
           0.07249005023833358,
           0.07263924316543086,
           0.07271445289319627,
           0.0728465676830729,
           0.07300590699575091,
           0.0731853418196599,
           0.07342541426695338,
           0.07360248799582982,
           0.07378303059424096,
           0.07395195729741168,
           0.07411074066986001,
           0.07425793477760641,
           0.07438406859576896,
           0.07447511870250675,
           0.07454809768534588,
           0.07461137518680852,
           0.07468128969352111,
           0.07469042007603205,
           0.07470451234305296,
           0.07468865129694438,
           0.0746533269581903,
           0.07465743439875845,
           0.07461394896216034,
           0.07457144449141076,
           0.074553935989256,
           0.07449492140781065
          ],
          [
           0.0745217707486317,
           0.08540215752110673,
           0.08255104838006781,
           0.08414146884177792,
           0.08456446225336262,
           0.08412679935603616,
           0.08395540775724747,
           0.08432878075528323,
           0.08448979223992402,
           0.08516677052047522,
           0.08552299391876532,
           0.08579541173818102,
           0.08601923046033248,
           0.08644850439492913,
           0.0864135404881755,
           0.08637285056814306,
           0.08630600564921502,
           0.0861826852223042,
           0.08633965286126374,
           0.08607964352603553,
           0.08589603605015793,
           0.08581455801160065,
           0.08569871287543979,
           0.08576630027968563,
           0.085461877451591,
           0.08520369006455211,
           0.08495873501523406,
           0.08465601644437348,
           0.08456130214045766,
           0.08424122459488334,
           0.08400364990649853,
           0.08385804720988682,
           0.08373227812688631,
           0.08377895195913462,
           0.08369588759616474,
           0.08365118577417432,
           0.08361105722617944,
           0.08356592172777971,
           0.08355131370686736,
           0.08349130994106485,
           0.08345398981284502,
           0.08340924922890901,
           0.08337961921990115,
           0.08337626297051166,
           0.08335566763786173,
           0.0834128822838684,
           0.08348668661523126,
           0.08357571269936966,
           0.08374364680875637,
           0.08389329794038038,
           0.08407895654348117,
           0.08426959086278822,
           0.08444831886573488,
           0.0846445137117115,
           0.08479595625653706,
           0.08493131135953988,
           0.08506663917101505,
           0.08517189661782297,
           0.08534119053078969,
           0.08542663600704198,
           0.08559353924315267,
           0.08578288844044558,
           0.08598521561994013,
           0.08626210196359842,
           0.0864606879886365,
           0.08667104621449351,
           0.08688420459549788,
           0.08706751659935763,
           0.08724244980229584,
           0.08740849306721082,
           0.08752284137143486,
           0.08760962412617415,
           0.08767199432058886,
           0.087745462348656,
           0.08776957160614031,
           0.0877899085706817,
           0.08780743697481634,
           0.08779254633643949,
           0.08778898876879043,
           0.0877307225473969,
           0.08769253123840182,
           0.0876697998663294,
           0.0875883228332268
          ],
          [
           0.08896980778269026,
           0.09740632217081405,
           0.09554025117809348,
           0.09692659136676977,
           0.09767069636406807,
           0.0987386116593678,
           0.09775415275157062,
           0.09766329930716836,
           0.09803894630966875,
           0.09819026739690952,
           0.09893125155832197,
           0.09932550588038429,
           0.09956919247850275,
           0.10013123438877053,
           0.10018867057890216,
           0.100279212480156,
           0.10034254039727634,
           0.10028172688096607,
           0.10049429346202034,
           0.10024550632427873,
           0.10001438715717921,
           0.09982027728846941,
           0.09969696583942923,
           0.09973743466631158,
           0.09944935306219639,
           0.09920698887698547,
           0.09896101851276481,
           0.09864817118691488,
           0.09854599954433606,
           0.0982220394632585,
           0.09798036742390348,
           0.09784187025172368,
           0.09770328126092472,
           0.0977120667551205,
           0.09761138246745367,
           0.09754496886195531,
           0.09747800975577846,
           0.09741576448995477,
           0.09739753837683539,
           0.09732726535737274,
           0.0972745149190667,
           0.09723245883698511,
           0.09717511873371223,
           0.09717489257542453,
           0.0971478577538583,
           0.09717905074538169,
           0.0972786572533916,
           0.09737306648099794,
           0.09753235762171612,
           0.09769993547733133,
           0.09790963617147223,
           0.09813305461573185,
           0.0983479343808109,
           0.09856300401490366,
           0.09872753369620496,
           0.09887876257848838,
           0.0990462963694599,
           0.09918006247244225,
           0.09939002060029226,
           0.09950924562965167,
           0.09967169023616199,
           0.09990488248620488,
           0.10014309353928466,
           0.10043086278648274,
           0.10066849545343473,
           0.10091351129058278,
           0.10116775938767553,
           0.10139478619743769,
           0.10160419767627267,
           0.10180089724104478,
           0.10194934874388824,
           0.1020660876263336,
           0.10214039196490247,
           0.10220962653942188,
           0.10225638500587968,
           0.10229630634701734,
           0.10232893659358396,
           0.10236362031026464,
           0.10238768540333168,
           0.10232970503947365,
           0.10227182012383822,
           0.10225016641578032,
           0.10216329345321708
          ],
          [
           0.10436559639275803,
           0.11263553986587908,
           0.10994448868815514,
           0.11217735034847592,
           0.11186430991020561,
           0.11346305135629042,
           0.11454705966557974,
           0.11342817470696243,
           0.11329888724665997,
           0.11370763571096905,
           0.11380661566691422,
           0.1146685619474992,
           0.11505625382090728,
           0.11561837616296461,
           0.11585501284012187,
           0.11607782724340686,
           0.11630731815724547,
           0.11638426106579416,
           0.11665311818282163,
           0.11646716106133077,
           0.11621604209364453,
           0.11596280061708408,
           0.11574090985230696,
           0.11579799153652902,
           0.1155266436623163,
           0.11533012512202612,
           0.1151091814634516,
           0.11477299423000831,
           0.11463646574613781,
           0.11431676260805394,
           0.11407332297175263,
           0.1139232050898044,
           0.11376434858469896,
           0.11373035129346773,
           0.11360718344090445,
           0.11352480799749001,
           0.11342215880096405,
           0.11333547517138294,
           0.11330967448927423,
           0.11323929446345356,
           0.11317082417992591,
           0.11311476320716077,
           0.11305863231153218,
           0.11302216437187673,
           0.1130170135595697,
           0.11305080247943179,
           0.11312441931068423,
           0.11325339828892081,
           0.11342274277328351,
           0.11358566160132565,
           0.1138175921304414,
           0.11408294073316053,
           0.11433661283069309,
           0.11457921856387998,
           0.1147664700843052,
           0.11493161079590972,
           0.11512474276847025,
           0.11528809524914821,
           0.11551674457637455,
           0.11570003968822254,
           0.11590448674887777,
           0.11612479526500226,
           0.1164110243201454,
           0.11674777233590743,
           0.11700832367541632,
           0.11729826650382959,
           0.11758662178478788,
           0.11786392378720252,
           0.11812096389919949,
           0.11834494590936405,
           0.11852371867506575,
           0.11868635780824435,
           0.11879570658731345,
           0.11887295816836459,
           0.11892219966667235,
           0.11898207572858517,
           0.11903421103665303,
           0.11908726556716306,
           0.1191659181374989,
           0.11915036066426515,
           0.11910078604311725,
           0.11907386845880193,
           0.11898065278354579
          ],
          [
           0.11347605537274273,
           0.1315287585996926,
           0.1253854115524178,
           0.12693728047523417,
           0.12755833060959273,
           0.1278843006918511,
           0.12963473076071577,
           0.13104226650201203,
           0.12972654132239328,
           0.12956886382155444,
           0.12997518889787435,
           0.1301091111824239,
           0.13100879616814237,
           0.13171384556722748,
           0.1319654745428401,
           0.13241197172807395,
           0.1328093451789595,
           0.13307159558476286,
           0.13347322735705486,
           0.13338659894699909,
           0.13319361807403812,
           0.13288097438263438,
           0.13253447827691647,
           0.13242031000507634,
           0.1321766338868559,
           0.13204172516598192,
           0.13193273259102425,
           0.13161879380589617,
           0.13142357319722406,
           0.13110098497885853,
           0.1308865801161899,
           0.13074974516327595,
           0.13057155773749568,
           0.13052291694851573,
           0.13036980034361656,
           0.13024156625568412,
           0.13014108874135738,
           0.1300215857363833,
           0.129959503711146,
           0.12988849430155708,
           0.129819357427195,
           0.1297640232846139,
           0.12970368826450443,
           0.12966217714072342,
           0.12962442280687164,
           0.1296810051642694,
           0.12976129859736785,
           0.12984390021141068,
           0.1300440982148398,
           0.13023132684660732,
           0.1304448407410931,
           0.1307183438609122,
           0.13100929704691186,
           0.1312800857067802,
           0.13151043711696328,
           0.13170766832461953,
           0.1319177833144813,
           0.13210212436758076,
           0.13234229006730217,
           0.13255542067074613,
           0.13283827535600526,
           0.13312054821539715,
           0.133397356564088,
           0.13376952962160366,
           0.13407723406536376,
           0.1344036779242789,
           0.13474114428705836,
           0.1350535404229616,
           0.13537285428131954,
           0.1356510617475637,
           0.13586448793587658,
           0.13605903808726225,
           0.13620828440653232,
           0.1363002413767981,
           0.13634770793495013,
           0.13641802062225303,
           0.1365077965150586,
           0.13658560746628762,
           0.13667338854044098,
           0.13672365746929127,
           0.1367352904378884,
           0.13672943612465097,
           0.13660342453656768
          ],
          [
           0.12526795687713843,
           0.14049743012724014,
           0.1449681349174479,
           0.14079988572879076,
           0.14052676632033703,
           0.14214637873754035,
           0.14243430003970647,
           0.14451485386122478,
           0.1460277616232183,
           0.1445984793248267,
           0.14440480725396385,
           0.14490890946569454,
           0.144959662454649,
           0.14620446634878279,
           0.1466413309535455,
           0.147093416772486,
           0.14776156942206464,
           0.14820182836380869,
           0.14878476329824125,
           0.148871368386613,
           0.14876751499391097,
           0.14852268314282627,
           0.1481164833695139,
           0.14785163000354168,
           0.14740384587475538,
           0.1472897531853763,
           0.147233985020344,
           0.14702999210055892,
           0.14687794732034212,
           0.14652022009342097,
           0.14630883416758703,
           0.1462246856084095,
           0.14606568231722106,
           0.1459948018183473,
           0.14585861389321944,
           0.14572570790422984,
           0.14559043846480216,
           0.14547790421672957,
           0.14537270917502254,
           0.14527256722930776,
           0.14521519673987393,
           0.14515949094850497,
           0.14510026536469778,
           0.1450468419752214,
           0.14501085154347085,
           0.1450354596308087,
           0.14515262726233027,
           0.14524804038740047,
           0.1454001148543135,
           0.14561640341070842,
           0.14585726278676253,
           0.1461163893358474,
           0.14640860731201105,
           0.14668921210566235,
           0.14692340217020802,
           0.1471629827007562,
           0.1474129359148316,
           0.14758965245079753,
           0.14782122298816927,
           0.1480723685398098,
           0.14840082598661686,
           0.14876948023719747,
           0.1491107561261865,
           0.14946876804070927,
           0.14980650852918384,
           0.15017536196128262,
           0.15056699434939388,
           0.15093855010164553,
           0.1512784070083306,
           0.1515966119123113,
           0.15185657935936428,
           0.1520854090748885,
           0.152255563251055,
           0.15238230815809797,
           0.1524715955938034,
           0.1525438042496966,
           0.15263963592748736,
           0.1527506050126475,
           0.15285555489083483,
           0.15292314942696417,
           0.15301627963080686,
           0.15308570960261494,
           0.15296000562350529
          ],
          [
           0.1346384884574329,
           0.15200295442992898,
           0.14835564256129002,
           0.1570676393488096,
           0.1502089796117564,
           0.15118192957352838,
           0.15286515029941422,
           0.15340215057526926,
           0.15554399660446402,
           0.1570619222563789,
           0.155632036195168,
           0.15558559001257408,
           0.15600507989346368,
           0.15632527571197505,
           0.15729954781973535,
           0.15794023054225645,
           0.1586094312744125,
           0.1593163416098895,
           0.16007201695119022,
           0.16035484050790152,
           0.16043073578237071,
           0.1602926121216562,
           0.15992210659384623,
           0.15956145745868802,
           0.1589723576171287,
           0.15859348707511917,
           0.1585322686120889,
           0.15836114948685806,
           0.1583290517129944,
           0.15803345167918467,
           0.15780093227283495,
           0.15775086771532343,
           0.1576694553025529,
           0.157634915205707,
           0.15750548951412818,
           0.1573951051486609,
           0.15725967423972426,
           0.15712367472606514,
           0.1570336114636823,
           0.15689906801097225,
           0.15680403585336972,
           0.15675116654911825,
           0.15669000000525649,
           0.15662608050313692,
           0.15658629130098695,
           0.15662679478666516,
           0.15671413323152716,
           0.1568480750244355,
           0.15699877475891025,
           0.15716917145633022,
           0.1574289487762887,
           0.15770190451772165,
           0.15797727998267463,
           0.15824733346873066,
           0.15849421754398504,
           0.15872533845739098,
           0.15901554966019166,
           0.15921126236371838,
           0.1594381297820806,
           0.15971530656080427,
           0.16007597980334207,
           0.16049235662865044,
           0.16092486576300755,
           0.1613515800487066,
           0.16169699394495213,
           0.16209059062220404,
           0.16251519503186923,
           0.16293841893064073,
           0.16334318199492226,
           0.16367840527765476,
           0.16396748485170567,
           0.16423784891389007,
           0.164426096487176,
           0.16456247852001532,
           0.1646777377201065,
           0.16478585882241079,
           0.16488519751260922,
           0.16499790369338754,
           0.1651332879916998,
           0.1652143661343611,
           0.16531211817832353,
           0.16546511594650531,
           0.16539818048060323
          ],
          [
           0.14668479130006581,
           0.16041264758286725,
           0.15721312277315289,
           0.15842247981904506,
           0.16308493554731826,
           0.15826697207775675,
           0.1592871984613885,
           0.16101424108290988,
           0.16163631036178536,
           0.16349566769348933,
           0.16481680818704333,
           0.16380329815198516,
           0.16374569517195578,
           0.16441024179215374,
           0.16439374244313273,
           0.16546677057025438,
           0.16628733653861336,
           0.1668891456991747,
           0.16781600813064873,
           0.1682584563009321,
           0.1685060265111504,
           0.16851132224327284,
           0.1682648409604781,
           0.16788581342240338,
           0.16719947440661895,
           0.16673557815103918,
           0.16641628969042585,
           0.16622797236888917,
           0.16617173483782044,
           0.16593516096614785,
           0.16575404414006922,
           0.1656878530651851,
           0.16561327814098045,
           0.16565047309301326,
           0.16559407575385945,
           0.16552136167375076,
           0.165428216692961,
           0.16531918269679616,
           0.16521589223076438,
           0.16511628630659705,
           0.16503135091672835,
           0.1649857277610512,
           0.16492616179637742,
           0.16484333498351086,
           0.16481743152400716,
           0.16485648265153258,
           0.16495842381754935,
           0.16505034640329566,
           0.16522153243983204,
           0.16538326090121347,
           0.16559184755308407,
           0.16588085090921986,
           0.16614209801905405,
           0.16635238220223497,
           0.16658337939777232,
           0.166811916509889,
           0.16707002780443286,
           0.1672830168636319,
           0.16749229906506685,
           0.16773780984443304,
           0.16810159171519873,
           0.16855222310703422,
           0.1690222058007598,
           0.1695013041134816,
           0.16989593929273084,
           0.1703054330600212,
           0.17073416581710746,
           0.17115660688029344,
           0.17160383928250106,
           0.17199704677916516,
           0.17228199398299301,
           0.17256217358470485,
           0.17278590034118202,
           0.17292372515550763,
           0.17303508458729375,
           0.17317043288040812,
           0.17330310073333793,
           0.17341486975104417,
           0.17353231398546126,
           0.17362296316057368,
           0.1737354937000374,
           0.17388365049017002,
           0.17388349524545726
          ],
          [
           0.15366132014004888,
           0.169861103929595,
           0.16252507269506078,
           0.1656310746557575,
           0.16407349264151377,
           0.1673596211068561,
           0.16593781307697741,
           0.16725565007281024,
           0.16862073323905016,
           0.16926692839972665,
           0.17024251680677,
           0.17129131450483204,
           0.17092579175944608,
           0.17146492674290495,
           0.17162085458050158,
           0.17163188998729784,
           0.1726010587378768,
           0.17318261899287238,
           0.17387026333313188,
           0.17432293304282015,
           0.17448645983582922,
           0.17450567184012955,
           0.17424422064081846,
           0.17379732819590918,
           0.17291260056216934,
           0.1721353564822574,
           0.1716060657680052,
           0.17103176904691816,
           0.17096476573290284,
           0.17083088390118967,
           0.17078531108387446,
           0.17087480175630737,
           0.17088833056605254,
           0.17101061326697603,
           0.17109018743144797,
           0.1711732647554311,
           0.17121088254126274,
           0.17120569847650657,
           0.1711754913702529,
           0.1711159098465372,
           0.17107315007557689,
           0.17104263239460735,
           0.17100919118434602,
           0.17089676018446234,
           0.17081710090966712,
           0.17085042207749648,
           0.17094365311292262,
           0.17103196053099107,
           0.1711619386192624,
           0.17135680198660777,
           0.17155673731884163,
           0.17178747577796566,
           0.17204286654014914,
           0.17220480891808368,
           0.17235813911949163,
           0.1725237595134245,
           0.17275952664730418,
           0.172908442826788,
           0.17307788635190027,
           0.1733058332200419,
           0.17367798271786752,
           0.17414199685467438,
           0.17467795705454314,
           0.17525632129468882,
           0.17573073291176833,
           0.17623583769843648,
           0.17673063732876762,
           0.1771956030923048,
           0.17766250353940197,
           0.1780735447274815,
           0.17837688609622962,
           0.17862612320790616,
           0.1788031482510208,
           0.17889561875393098,
           0.1789505872488768,
           0.17902177208363415,
           0.17913645503256126,
           0.17921572193697144,
           0.17929153356242333,
           0.17933538469450472,
           0.17939342503373773,
           0.1795361227809329,
           0.17946537949564667
          ],
          [
           0.17485844600353723,
           0.1731908042702261,
           0.16992608543706475,
           0.17232678573397467,
           0.17134637803237732,
           0.172231629611784,
           0.1737381192311598,
           0.17504707049123094,
           0.17637025078547464,
           0.17746667529885385,
           0.17798466561861934,
           0.17870461353680728,
           0.179123819877008,
           0.17963967130191438,
           0.1798659267057267,
           0.18010897436206005,
           0.18035036597873375,
           0.1810010979601202,
           0.18171687846133333,
           0.18193473045937136,
           0.18203388166130346,
           0.18195615681240845,
           0.1817662157209949,
           0.18122528960678383,
           0.18028341276898838,
           0.1793520970749817,
           0.1784583052591637,
           0.17758117446107866,
           0.17700445161189515,
           0.17676553334074954,
           0.17689909319316732,
           0.17720390075366538,
           0.1774013751568321,
           0.177701015484119,
           0.177892830869725,
           0.17811833121184473,
           0.17832517127438471,
           0.17850496201052188,
           0.17860822030548235,
           0.1786415966421555,
           0.17868777310289882,
           0.17872166358711059,
           0.17870041404899936,
           0.178617186496389,
           0.17852151645336412,
           0.1785380864239494,
           0.1786702011527794,
           0.17873774154227323,
           0.17886322534280436,
           0.1790263521922979,
           0.17924749114374186,
           0.1794988881881576,
           0.17973928653891186,
           0.17986622889279952,
           0.17995081381171305,
           0.18003962966149972,
           0.18023103439225566,
           0.18032937559362894,
           0.18044444227436962,
           0.18066381894042693,
           0.18105704153217614,
           0.18158663505191697,
           0.18215503938805017,
           0.1827896274419619,
           0.18337304870730692,
           0.18397487123897013,
           0.18458415971257916,
           0.18514468450413718,
           0.18566135410224466,
           0.18608989423358493,
           0.1863908007084487,
           0.1866384914579631,
           0.18678096293081586,
           0.18680775212220563,
           0.18678836088810813,
           0.18679293150777654,
           0.1868200853321189,
           0.1868771270521574,
           0.18689180980815095,
           0.18683955704996344,
           0.18684659061473627,
           0.18692627543464727,
           0.18678106931185257
          ],
          [
           0.17140461626509412,
           0.19569811309395854,
           0.17576833500901623,
           0.17993776929944236,
           0.17916588304617725,
           0.18028258018787952,
           0.18182000776109739,
           0.18325213303870752,
           0.18508249526796786,
           0.18629642265452448,
           0.1871593018533103,
           0.18788495987412523,
           0.1881529242432766,
           0.18881203955831385,
           0.18902644617206163,
           0.18946313987715316,
           0.1899810792698672,
           0.19010190662426313,
           0.19088319585715077,
           0.19122772040663535,
           0.19116389283639124,
           0.1911130974018107,
           0.19091387050242684,
           0.19052004083082238,
           0.18971437765110197,
           0.18892910474350616,
           0.18800605388226782,
           0.1868663267188994,
           0.18604838506936616,
           0.1852787524636189,
           0.18531142194457498,
           0.18586205826664515,
           0.18623889227042592,
           0.1866288046330632,
           0.18694166860475903,
           0.1872286579853745,
           0.18749813780206415,
           0.18778297549086145,
           0.18803101710047793,
           0.18817031107910337,
           0.18828573482601016,
           0.18839887600241895,
           0.18842662570018515,
           0.18834402110450632,
           0.18831212464405536,
           0.18834513649089324,
           0.1884810351705283,
           0.18858504011319735,
           0.18868075742406787,
           0.18885846601689354,
           0.18907920460410674,
           0.18932437713785158,
           0.18955464161171173,
           0.18967937703346063,
           0.18978047574055257,
           0.18985207572877205,
           0.19003023711041783,
           0.19011570845527803,
           0.1901791815213669,
           0.1903809374383248,
           0.19079907270858631,
           0.19136341585091737,
           0.1919986559960087,
           0.19263632788835558,
           0.19322853341838608,
           0.19391632204805948,
           0.19460420155310465,
           0.19521818191869772,
           0.19579202251019465,
           0.19628085804940676,
           0.19660269405253172,
           0.19685440628906523,
           0.19701444555326417,
           0.19702588951012712,
           0.1969978018455163,
           0.1970017592017455,
           0.1970427465480606,
           0.19707406058444346,
           0.19709224383998855,
           0.19703535149507864,
           0.19700080594791422,
           0.1970727581180025,
           0.1968910111779569
          ],
          [
           0.17542258451880738,
           0.18776238419201913,
           0.19097545077246467,
           0.18572227575791095,
           0.18488418280650468,
           0.18645466976536904,
           0.1883062026236089,
           0.19024879526846472,
           0.1917109710999802,
           0.19342450955234838,
           0.1944563451872155,
           0.1955563460665293,
           0.19592283363822624,
           0.19646951792847725,
           0.19674596560369534,
           0.19713247755318278,
           0.19786219162931162,
           0.19821108433500945,
           0.1984360294064964,
           0.19889158832918744,
           0.19896569322849536,
           0.19880189196915543,
           0.19872787046167262,
           0.19835773895213157,
           0.19774119637565954,
           0.19717223680270798,
           0.19645390514292335,
           0.1952971531441984,
           0.19420149089206865,
           0.19322452463560952,
           0.19270812783012153,
           0.1931420734064312,
           0.193747236046502,
           0.1942996329967836,
           0.19469454020308272,
           0.1950489970287403,
           0.19534847425994614,
           0.19565423552233363,
           0.19596570462884452,
           0.19623208467347142,
           0.19644176376995703,
           0.19662614904742026,
           0.19673288485245083,
           0.19668049885478786,
           0.1966462966860633,
           0.19672629062696312,
           0.1968900595487873,
           0.19700905774532632,
           0.19711775823277397,
           0.19727661690176884,
           0.19752062470272566,
           0.19779504476340543,
           0.19802597005395642,
           0.19811000216600125,
           0.19824523123752813,
           0.1983539389273447,
           0.19850824068122655,
           0.19860754589480215,
           0.19866647322907222,
           0.19887102070261062,
           0.1992799518173979,
           0.19984851341803692,
           0.20050127939533827,
           0.2011643203772981,
           0.2017668897133092,
           0.2024381131052082,
           0.2031468357358757,
           0.2038195996030314,
           0.2044394155940927,
           0.2049472820439524,
           0.20531564804299046,
           0.20558238164087797,
           0.20574544681941645,
           0.20580056403700284,
           0.20580156792609264,
           0.20581235947749354,
           0.20586172305007108,
           0.20591027488153305,
           0.20593515542569754,
           0.20590463293025452,
           0.205883000580514,
           0.20594199146788764,
           0.2057830985233537
          ],
          [
           0.18304604270808209,
           0.19165352223498466,
           0.18716406034428643,
           0.1928977469358422,
           0.19050356758382744,
           0.19171451058251637,
           0.19386824628731306,
           0.19605241944520585,
           0.19785804750016184,
           0.19923847289727187,
           0.20065251439574613,
           0.20186986124482262,
           0.20258148112240812,
           0.20318669452310886,
           0.20338658553064962,
           0.20382291802063476,
           0.2044574090772235,
           0.20498098578893878,
           0.205364317144781,
           0.20529129684885652,
           0.20545472241841556,
           0.2053752758941058,
           0.20516030481310968,
           0.20490718762476864,
           0.20435794575662286,
           0.20398419598967593,
           0.2035277271729626,
           0.20266261127444188,
           0.2016408898747161,
           0.20048290345182532,
           0.19980617201701387,
           0.19966045043482336,
           0.20008049075090223,
           0.2007577003102783,
           0.20126646067351858,
           0.20167082500653438,
           0.20199386138278302,
           0.2022857140604092,
           0.20257115180180368,
           0.20288125339486351,
           0.20320268481833578,
           0.20345710695676503,
           0.20361891453992378,
           0.20362730680390498,
           0.2036293908847615,
           0.2037172436827299,
           0.20390535651157637,
           0.20403761675542276,
           0.2041584852738741,
           0.20433801380191227,
           0.2045895561762982,
           0.20488776247334994,
           0.20514472561890112,
           0.20525303391277128,
           0.20535413292240084,
           0.2055009483545873,
           0.20570382382938956,
           0.2057798346914977,
           0.20585226345959845,
           0.20604970835732378,
           0.20647046980288522,
           0.20702914514665272,
           0.20764636588179158,
           0.2083001813126103,
           0.208910004280366,
           0.20958283707916645,
           0.2102572588568473,
           0.2108995756092613,
           0.21152466007465492,
           0.21205151529871952,
           0.21241933202820618,
           0.212717066952486,
           0.21288366901346245,
           0.2129165160374939,
           0.21296208361920685,
           0.21300804087259564,
           0.21305855583373393,
           0.2131115843330404,
           0.21312459022654512,
           0.21311154860208162,
           0.2131206887787634,
           0.21318397848108173,
           0.21301961040969553
          ],
          [
           0.19085916078117374,
           0.20022316614625008,
           0.19085828781151504,
           0.19484544907119017,
           0.19379563798424299,
           0.19572457856624753,
           0.19752174397533764,
           0.1999212067872274,
           0.20194226829810927,
           0.20355814934083075,
           0.2047445808637518,
           0.2062680203184669,
           0.20711581160734324,
           0.20798149403376887,
           0.2081779492282509,
           0.20844193984336346,
           0.20903103411513602,
           0.2094201358091564,
           0.20989715674264559,
           0.2099538540829598,
           0.20954563904951076,
           0.20952766136406475,
           0.20938301790567948,
           0.20900421473261865,
           0.20859289670200282,
           0.20825723077581576,
           0.20798897364229946,
           0.2073942667578118,
           0.20660606614431926,
           0.20547502457903824,
           0.2044708513124702,
           0.20406897420465753,
           0.2039252218416967,
           0.20444519220549545,
           0.2051408982665166,
           0.2057252669553194,
           0.20614532664690652,
           0.20653230783866486,
           0.20686162246261156,
           0.20718453855409139,
           0.20757118143053455,
           0.20796505689035857,
           0.20823428338313857,
           0.20832717846382653,
           0.20840149201751917,
           0.20851816852269855,
           0.20869910996224392,
           0.20884735437951016,
           0.20896228978197282,
           0.2091130833057069,
           0.2093404892629308,
           0.20961568499884534,
           0.20986479890794213,
           0.2099815372502805,
           0.2100887544545054,
           0.21019098959138155,
           0.21040002626138704,
           0.2105019218172043,
           0.21052296218537914,
           0.21069666679419122,
           0.21105855270491303,
           0.211587620721178,
           0.21218479639390936,
           0.21278617462277544,
           0.21335891658471354,
           0.21401197572684894,
           0.21469860579714053,
           0.21532449480619725,
           0.2159335081605348,
           0.2164727215766325,
           0.21687543551321875,
           0.21718494747837067,
           0.21739369590496263,
           0.21745350418045833,
           0.21749617503553975,
           0.21758961585085923,
           0.2176683824372393,
           0.21771766084309074,
           0.2177442322937674,
           0.21771684312130093,
           0.2177170412402232,
           0.2177853661032202,
           0.21762498705839353
          ],
          [
           0.18864014986872787,
           0.20748831438762538,
           0.197136827649977,
           0.19690311145195147,
           0.19628880231185244,
           0.19707269263954863,
           0.19956286901501483,
           0.20163173069344578,
           0.20380175683424367,
           0.20563184206446422,
           0.20697752253521576,
           0.20829114178792635,
           0.20940707321129232,
           0.21032867689191795,
           0.21087992831909705,
           0.2111024784215382,
           0.21151378308054392,
           0.21184462998158834,
           0.2121297409906933,
           0.21230781789169978,
           0.21212872244845396,
           0.21155109025386704,
           0.21142346015953992,
           0.2111143691203624,
           0.21064275333197102,
           0.2104499323480531,
           0.2102107707875526,
           0.20982525639910607,
           0.20929525601448415,
           0.20848869151541724,
           0.20754810699670376,
           0.2068167846459438,
           0.2064169415928901,
           0.20633174427336082,
           0.20685755968475542,
           0.20757674276850244,
           0.20814725825731387,
           0.2085868433970414,
           0.20898325319973565,
           0.20933319304731068,
           0.2097070561833427,
           0.21012756055126455,
           0.21052027474121626,
           0.21071935962065863,
           0.21087782269093172,
           0.21105773397260566,
           0.2112670835265371,
           0.21141603095004544,
           0.21153630784764896,
           0.21169503534728765,
           0.21189619466430062,
           0.21215142414265414,
           0.21239504971010054,
           0.21250742501811148,
           0.21262778987212738,
           0.21273256366824234,
           0.21290364048402624,
           0.2130250120477347,
           0.21306485239002598,
           0.21320535104878946,
           0.21353387412743463,
           0.21399525619682366,
           0.21453707813030515,
           0.21509512788897503,
           0.21561690080521492,
           0.21618736079819448,
           0.21680650645244648,
           0.21741915098934728,
           0.21798543874167953,
           0.21848732600802379,
           0.2188843606238422,
           0.2192126385502491,
           0.21941761507457613,
           0.2194950424422407,
           0.21954718373507415,
           0.21962754775791457,
           0.21974207352727104,
           0.21980887326181028,
           0.21981246665811785,
           0.21979868684882817,
           0.21979331236845548,
           0.21984265290499688,
           0.2197082855383101
          ],
          [
           0.1910975277866823,
           0.20709619625369582,
           0.20442483946582823,
           0.19960333428297616,
           0.19703837582624456,
           0.19851014150432753,
           0.1996835549339226,
           0.20212908892391934,
           0.20399793318169837,
           0.20592741159621114,
           0.20741864813810673,
           0.20875162779668865,
           0.2097228821137393,
           0.21082802888136742,
           0.21142825883924396,
           0.21201356982173394,
           0.2123168922306864,
           0.2125169678720393,
           0.2127265165557568,
           0.21274381512041537,
           0.2126692629769226,
           0.21240426735435644,
           0.21174229426876523,
           0.21143554786405983,
           0.21104132156517322,
           0.21080514835702507,
           0.21069426664996896,
           0.21035004470226373,
           0.21001763513752708,
           0.2094834762311755,
           0.20888691904311424,
           0.20818698565113597,
           0.20744890971968769,
           0.20711456449569202,
           0.2070156949365241,
           0.2075381215228189,
           0.2082062646121608,
           0.20879480913293788,
           0.20922358912875386,
           0.20961979352511276,
           0.20999902799502523,
           0.21040884165159562,
           0.21082277692823354,
           0.21113493372755476,
           0.21139380660640894,
           0.21163280255531086,
           0.21189098259910158,
           0.21208508754380134,
           0.21221334850419607,
           0.2123749300584945,
           0.2125791493589916,
           0.21279826433293897,
           0.2130259386747544,
           0.21314334480665398,
           0.21325803903287557,
           0.21337244694215923,
           0.2135415113205799,
           0.21363400268240273,
           0.21368148396198577,
           0.21383058134422464,
           0.21410627593274129,
           0.21450680076298556,
           0.21497802048812312,
           0.21546401907274787,
           0.21593591430359607,
           0.21645309024224696,
           0.21698175086891466,
           0.21750796625691507,
           0.21804182664160685,
           0.21849769880213704,
           0.2188565644618021,
           0.21918506670411325,
           0.21940849084598296,
           0.21948422277712612,
           0.21954762840527844,
           0.21961798066383653,
           0.21971165095433692,
           0.21981534499818517,
           0.2198464768359963,
           0.21980983225130374,
           0.21980652924242633,
           0.21984789200184507,
           0.21968719822076097
          ],
          [
           0.19362939562145906,
           0.21072142558036444,
           0.2026611068859558,
           0.20434466192403297,
           0.1975993062772807,
           0.19829123493367948,
           0.19982361728242776,
           0.20127684993532313,
           0.2033100882527268,
           0.20501146080281668,
           0.20661393278150866,
           0.20809150100798507,
           0.20900308064488474,
           0.21002268278774344,
           0.21079190131240227,
           0.21141475274387697,
           0.21210690921209444,
           0.21217050014975591,
           0.2123030627013879,
           0.21227429595489505,
           0.21205866191383785,
           0.21184623666949604,
           0.21156272453415173,
           0.2107518771907224,
           0.21035317104950035,
           0.21013952065347458,
           0.21001274457032618,
           0.20980628931096718,
           0.20950258134066516,
           0.2091502947367623,
           0.2087872536457328,
           0.20844575337971857,
           0.20777809568755973,
           0.20710935689139506,
           0.2067867148919793,
           0.20670242827311228,
           0.20717837815145232,
           0.20782746807398916,
           0.2083857229213251,
           0.2088224765094677,
           0.20924616250782785,
           0.20963916337129268,
           0.21003688735667428,
           0.21036240766970754,
           0.21071183988748826,
           0.21104278158269155,
           0.21136336069126505,
           0.21159089690426686,
           0.2117624977795254,
           0.21193434996936272,
           0.21212468926991612,
           0.21234010969690603,
           0.2125385468954815,
           0.21264054042446998,
           0.21275442468852843,
           0.21285625739068553,
           0.2130289259939817,
           0.2131177437547213,
           0.21314650377432276,
           0.2132876356441763,
           0.21354747653570755,
           0.21390406986835617,
           0.21431837285964594,
           0.21474291865557255,
           0.21515084413042565,
           0.21560963038748132,
           0.21607447065651494,
           0.2165247971835691,
           0.21698857579737557,
           0.21740864381889044,
           0.21772255166588625,
           0.2180091125498806,
           0.21824054756203057,
           0.21832470660289258,
           0.21838727659157023,
           0.21847217362989643,
           0.21856089730886322,
           0.21864822819143961,
           0.2186948763159502,
           0.2186857733102974,
           0.21867642479081875,
           0.21871779482027917,
           0.21854577886208187
          ],
          [
           0.19142623137712036,
           0.213040483145461,
           0.2077941821911394,
           0.20344481675957624,
           0.20030853895338682,
           0.1982259789206713,
           0.19929043511143052,
           0.20091480871184242,
           0.2022695748667323,
           0.2040135162704818,
           0.20546300985379912,
           0.20708682018598729,
           0.20818472990412173,
           0.20910793690371118,
           0.20991981950643496,
           0.21071944532391534,
           0.21146337835858298,
           0.21193861343427348,
           0.2119007043578351,
           0.21188459218251665,
           0.21163277513218304,
           0.2112941095180847,
           0.21099638882399935,
           0.21060244716438692,
           0.20974806909387372,
           0.20951137693658253,
           0.20936183113720896,
           0.20916388224408095,
           0.2089690850742998,
           0.20864002361056683,
           0.20844135490195814,
           0.2082879847438739,
           0.20793294236040405,
           0.20732510506024815,
           0.2066841186200717,
           0.20637545131449414,
           0.20625641876537074,
           0.20672070555529995,
           0.20731544004829372,
           0.20787204559888894,
           0.20832644062359904,
           0.20876646874772864,
           0.20914935560019254,
           0.20945902115998416,
           0.2098303905580773,
           0.21024658493833798,
           0.21065114580619848,
           0.21094883705921844,
           0.2111558557317204,
           0.21137530109602815,
           0.21158559316568587,
           0.2117929074354068,
           0.2119876916014684,
           0.21207114695540735,
           0.2121837048281103,
           0.21227759422535844,
           0.21242805566970982,
           0.21251784153870376,
           0.21253199151209276,
           0.21265658968689571,
           0.21289901035925157,
           0.21322904793763173,
           0.21360324925420918,
           0.2139704304965459,
           0.21432447840461988,
           0.21473428191220406,
           0.21514792353299922,
           0.2155354593579516,
           0.21594030907423428,
           0.2163081505714177,
           0.21659527926781022,
           0.21684919717758902,
           0.21704727004435817,
           0.21713880511112063,
           0.21721156011867013,
           0.21730201421835696,
           0.21740448090657868,
           0.217492248515669,
           0.21753774180511734,
           0.21754707838393283,
           0.2175576240262201,
           0.21760382188437036,
           0.21742572814199532
          ],
          [
           0.18479127361915673,
           0.21007722199726891,
           0.20740011787374585,
           0.2067789371451987,
           0.19840758692939678,
           0.19809983322084423,
           0.19746818380141215,
           0.19870438102498858,
           0.20018890184813257,
           0.20156783141289641,
           0.20303546358384025,
           0.20459247457756422,
           0.20588357741568167,
           0.20706864054733026,
           0.20778358446492629,
           0.20872750296413445,
           0.209656708060286,
           0.2101911775046984,
           0.21056949801429375,
           0.21039826239851495,
           0.21023006679229886,
           0.20988094705228455,
           0.20946346470881105,
           0.2089709017320302,
           0.20859567243668575,
           0.20793704045851988,
           0.2077405338314794,
           0.20747033571917373,
           0.20729805933272052,
           0.2070574860890328,
           0.20687252212299548,
           0.20687343942086253,
           0.2066815036964498,
           0.20636941952284743,
           0.20580637204450294,
           0.20521152576564877,
           0.20487959098515354,
           0.20475944796353227,
           0.20516078606142948,
           0.20570444401097532,
           0.20624966858758823,
           0.2067037300553485,
           0.2071217824151268,
           0.2074122570989297,
           0.2077591564806952,
           0.20819279634719715,
           0.2086793596343985,
           0.20905269457353762,
           0.209337774501112,
           0.20959637034521938,
           0.20984519234451007,
           0.21007429512661654,
           0.2102715760529964,
           0.2103488141756982,
           0.21044885088097084,
           0.21054123666784652,
           0.21068597716263596,
           0.21074878236071826,
           0.21075722522392937,
           0.21087753684466934,
           0.21110734208412932,
           0.21141000861981296,
           0.21175339222351428,
           0.2120899843639285,
           0.2123963145707395,
           0.2127579067239367,
           0.21313287106617745,
           0.213476623602075,
           0.21382180196140077,
           0.21413332328931234,
           0.21437475628923655,
           0.21460127069694804,
           0.21477456932067662,
           0.21484386827050236,
           0.21492214852811128,
           0.21501001612276124,
           0.2151090885151963,
           0.21521466698093075,
           0.2152647171880338,
           0.21528179828838495,
           0.21531089924015331,
           0.2153633631112927,
           0.2151837970753134
          ],
          [
           0.19007344794951475,
           0.20735921128950335,
           0.20393975753121943,
           0.20653655157342418,
           0.20120182156954455,
           0.19657228948361546,
           0.19641282692472922,
           0.1965893113120223,
           0.19763481483086004,
           0.19907266509484609,
           0.20028723445494145,
           0.20178267771693947,
           0.2030515387710527,
           0.20445732445706863,
           0.20545083249198406,
           0.2062647969967945,
           0.20736137811304073,
           0.20807184743335996,
           0.2085293116983633,
           0.20876993547138079,
           0.20839688938986828,
           0.20816053081332445,
           0.20772543604748844,
           0.20711541201972997,
           0.2065747142885528,
           0.20640559344462886,
           0.20579037716845808,
           0.2054729444927364,
           0.20519987734974673,
           0.2049940382945738,
           0.2048934078112874,
           0.2049005100039808,
           0.204838526832379,
           0.20466572113034256,
           0.2043674977861988,
           0.20382524617233194,
           0.20317960294109946,
           0.202839547633001,
           0.20267959256268125,
           0.20307979904576456,
           0.2036432911407316,
           0.20421159774002187,
           0.20466595682736852,
           0.20500225459481805,
           0.2053494531450322,
           0.20577915975178662,
           0.20629397934320906,
           0.2067512589429482,
           0.20710953547867225,
           0.20746072590551864,
           0.2077559223863112,
           0.20801743193861985,
           0.20822730828403643,
           0.20830969230571963,
           0.20841053907466073,
           0.20848690884444926,
           0.2086248722516146,
           0.2086756048054835,
           0.2086556058166654,
           0.20876066437564192,
           0.208979786728128,
           0.20926728985988086,
           0.20957461412549952,
           0.20987667061666193,
           0.21015109847484895,
           0.2104703527611126,
           0.21080971367181112,
           0.21111235189847694,
           0.21142162155452282,
           0.21169038406727797,
           0.21189068705387457,
           0.21208611742263295,
           0.21224015232756693,
           0.21229757365212934,
           0.2123712882202567,
           0.2124767144183648,
           0.2125818082230288,
           0.2126941430995925,
           0.2127722927532856,
           0.21279358667242784,
           0.21283024644976564,
           0.2129114362421888,
           0.2127170473283619
          ],
          [
           0.1909891308234965,
           0.2095231629783135,
           0.20264342379611272,
           0.20512094893098615,
           0.20259181024913386,
           0.20060413813583078,
           0.1970531167096524,
           0.19706502625555403,
           0.1974996915871202,
           0.19844327208164336,
           0.19965471171631216,
           0.20095293065858116,
           0.2020713221511264,
           0.2034292178029155,
           0.20457022570485686,
           0.2056087549037334,
           0.20649409113170591,
           0.20738096787036286,
           0.2079667411077238,
           0.20826808672314562,
           0.20829984985007485,
           0.2078441012632328,
           0.20756749949619074,
           0.20692443648644776,
           0.20626853616377927,
           0.20589886725088907,
           0.20582728072954895,
           0.2051254066734258,
           0.2047921469629783,
           0.2044531962609156,
           0.20440417003312925,
           0.20448091211355568,
           0.20442217782148564,
           0.2043836538010088,
           0.20423422645074601,
           0.2039765359142331,
           0.20341964368786183,
           0.20279904830171197,
           0.20243410438180368,
           0.20229298745841548,
           0.20274548106619963,
           0.20333966658245223,
           0.2039042923934932,
           0.20426285033367084,
           0.20463002855627177,
           0.20504099152013028,
           0.20554625723175007,
           0.2060127392425775,
           0.20643151930746848,
           0.20683086588661728,
           0.20719787681610852,
           0.20748841760881725,
           0.20771834802616507,
           0.20780255435529196,
           0.20789611800776056,
           0.20796739664990052,
           0.208090214219834,
           0.20812674773579495,
           0.20809316049912577,
           0.208171536042815,
           0.20837176697713317,
           0.20865254403265926,
           0.208951721383069,
           0.2092179643551263,
           0.20947208649521937,
           0.20977374393640638,
           0.21007275853768792,
           0.21034707116503953,
           0.21063007218856913,
           0.21086544094638943,
           0.2110269201702941,
           0.21119112739952287,
           0.21131801727231214,
           0.21134874445452925,
           0.21140351632595683,
           0.21150526519747603,
           0.2116190900156119,
           0.2117282998104791,
           0.2118030022761069,
           0.21184304968224882,
           0.2118868811467893,
           0.2119745123996782,
           0.2117935048009505
          ],
          [
           0.18757693319669538,
           0.20894394032796862,
           0.2037850394708873,
           0.2032464401088955,
           0.20059888068433088,
           0.20112040845922927,
           0.199649734803138,
           0.1969662595684994,
           0.1968788529344396,
           0.19748707294637324,
           0.19811214795079743,
           0.19941608379533154,
           0.20040655581748248,
           0.20157946923375109,
           0.20272680827693046,
           0.20407892171618774,
           0.2052275015726546,
           0.20589312856594152,
           0.2066921460988383,
           0.20715423682494397,
           0.2072660501300836,
           0.20722172382348947,
           0.2066964347706864,
           0.20622690636902527,
           0.20555699770289346,
           0.20506212969986407,
           0.2047368587927947,
           0.20459846711084767,
           0.20386538845193686,
           0.2034628603803282,
           0.20326937625616728,
           0.20342823710992003,
           0.20343192873668584,
           0.20338318848247194,
           0.2033540508010515,
           0.20321809564147916,
           0.2029356941189084,
           0.2024288910828254,
           0.20181010705734725,
           0.20148315376605855,
           0.2013868657897081,
           0.20184375664118764,
           0.20240595552031854,
           0.20286308860534275,
           0.20326287976795024,
           0.20370688634950174,
           0.20419307593275637,
           0.20465478387168798,
           0.2050907259203266,
           0.2055569094280596,
           0.20597356003750122,
           0.20634720635271797,
           0.2066163644552755,
           0.206725941286282,
           0.20683625712946735,
           0.20690782247534759,
           0.20703003804691528,
           0.20705480392072523,
           0.20699845229978683,
           0.20706220324857247,
           0.20724324297961813,
           0.20751076350075978,
           0.20780324543808182,
           0.20806143758808682,
           0.20829258437232942,
           0.20858109681437403,
           0.20887117430642324,
           0.20912000442841533,
           0.20937901480055118,
           0.209584628302891,
           0.20971893972933156,
           0.20984779893159422,
           0.2099451068266376,
           0.20995157764825018,
           0.20998975952083207,
           0.21007522623016975,
           0.2101826100819008,
           0.21029761383903237,
           0.21037079755786997,
           0.21041502846781132,
           0.21047976820145275,
           0.21058222621290149,
           0.21040865476462214
          ],
          [
           0.1874778824402615,
           0.2086771242135915,
           0.20239082425186047,
           0.2043103188202295,
           0.1990006642657367,
           0.19936980614722047,
           0.20007229184631714,
           0.1988963170078645,
           0.19666013853632852,
           0.19657469111932224,
           0.1971062421419449,
           0.19787441738754138,
           0.19886542074363217,
           0.1999715200837384,
           0.20092882817722724,
           0.20221475133368813,
           0.20364461170174764,
           0.20457304599551418,
           0.20512083441662368,
           0.20583559470306878,
           0.20604259499151803,
           0.20606994539622822,
           0.20596095557713068,
           0.20522229701104813,
           0.20484433976994887,
           0.20432796924631716,
           0.20386999038136275,
           0.20343531844139584,
           0.20328773160092184,
           0.20249376875426145,
           0.20223688939834203,
           0.20223144862526898,
           0.202325133321961,
           0.20234004274161624,
           0.2023021944174316,
           0.2022864666240648,
           0.20212414956954752,
           0.20187337067029934,
           0.2013585010040613,
           0.20077661919387677,
           0.20049400019197372,
           0.20041652562511145,
           0.20086057451675332,
           0.20132942258140182,
           0.2018303385383266,
           0.20230189140119187,
           0.2028299488542038,
           0.2032648487093236,
           0.20369495741588567,
           0.20419287661507332,
           0.2046824191453827,
           0.20510035406945978,
           0.20544896214319258,
           0.20559722622843699,
           0.2057283648493749,
           0.20580512241595314,
           0.20592641338742343,
           0.20594272097105418,
           0.20587934173908565,
           0.2059256774824423,
           0.20608046731546162,
           0.20633437414610417,
           0.20661824770055764,
           0.2068709384986773,
           0.20708797488000927,
           0.20735347311890656,
           0.2076388087542249,
           0.20787620188108022,
           0.20811552392040056,
           0.20830061792756036,
           0.20840389144756102,
           0.2085027799545346,
           0.20856873905564735,
           0.20854920879616556,
           0.20856974208350335,
           0.2086465216701007,
           0.2087474674765559,
           0.20886224595542824,
           0.20894065655039065,
           0.20898411423812702,
           0.20905669940688157,
           0.20918143863595534,
           0.2090106242468175
          ],
          [
           0.18729757336979366,
           0.20621819515203335,
           0.20134487125748515,
           0.20108747675488128,
           0.19827623975495437,
           0.19621930624907896,
           0.1966845074216539,
           0.19754802561525608,
           0.19659790686170525,
           0.1947603545215194,
           0.19451131541819316,
           0.19524148268134628,
           0.19559870008676622,
           0.1966934443835713,
           0.1975974352441318,
           0.19861507872878492,
           0.1999844185365136,
           0.20115964675991768,
           0.20199443158849667,
           0.20243599365135737,
           0.20298316598209634,
           0.20315756314976813,
           0.20311198161733296,
           0.20279015899845138,
           0.2020356557040902,
           0.20183906403854396,
           0.2013118492273276,
           0.2007436442110797,
           0.20025935541559925,
           0.20004586436485755,
           0.1995309460740807,
           0.19946376167897154,
           0.19936982060606584,
           0.19949211838016584,
           0.19950836343104322,
           0.19948103940413234,
           0.19943794601774398,
           0.19930300121976774,
           0.19904505963793098,
           0.1985671060379121,
           0.1980212065857219,
           0.1977526494848181,
           0.19765660491487352,
           0.1980129686449793,
           0.198533425935585,
           0.1991314292526944,
           0.1997028710011351,
           0.20018839622740373,
           0.20058946642515785,
           0.20107710939292342,
           0.2015991997348962,
           0.20209034167255596,
           0.20248262630441108,
           0.2027127711862132,
           0.2028847377917308,
           0.20298031909243014,
           0.20310752728199494,
           0.20312245115943647,
           0.20304510954367525,
           0.2030808203586823,
           0.20322595834326773,
           0.20345865704794722,
           0.20372075382555746,
           0.2039597312311568,
           0.2041790152242931,
           0.2044369199744754,
           0.20470438714579045,
           0.20493588585131373,
           0.20516721605426835,
           0.2053391524497695,
           0.20542276880135263,
           0.2054971151930864,
           0.205537317261647,
           0.20548649544263176,
           0.2054815985660751,
           0.20553552514551862,
           0.20562576762921791,
           0.20574004977125596,
           0.20582672023860615,
           0.20588680201598278,
           0.2059622704360452,
           0.20609262789270522,
           0.2059389725929871
          ],
          [
           0.1838608258948891,
           0.20570227514799527,
           0.20035582869765547,
           0.2017914999611342,
           0.19698305916757067,
           0.1972440792418497,
           0.19562914388840805,
           0.19616689591988618,
           0.19701864504252323,
           0.196217580084893,
           0.19453835823337778,
           0.19447373590435396,
           0.19497539374465125,
           0.19548907347429847,
           0.19638059012103917,
           0.19738347680867904,
           0.19850178599747023,
           0.19967084612232577,
           0.20078443162967924,
           0.20151008533715065,
           0.2017495701824668,
           0.20222621507943941,
           0.20227255357868237,
           0.2020037521121299,
           0.2016665186822972,
           0.20106974263980484,
           0.2008920143807714,
           0.20030987993955585,
           0.19967474519157022,
           0.19910947971433843,
           0.19912059347915717,
           0.1987966773911816,
           0.19862942937778233,
           0.19853986778740493,
           0.19867617811449306,
           0.19865182964521153,
           0.1985946734411686,
           0.1985756736481652,
           0.19843174026785002,
           0.1981892341997581,
           0.19791420115144728,
           0.197448983309512,
           0.1972021161689525,
           0.1970304437914886,
           0.19740955095646115,
           0.1979687463982045,
           0.19862263123141857,
           0.19913302849878844,
           0.19957992792633455,
           0.20004047230039695,
           0.20054428321311893,
           0.2010575062845413,
           0.20151078915466036,
           0.20178204358258842,
           0.2020413069102975,
           0.2021706166691776,
           0.2023199748886202,
           0.20233781419267144,
           0.20226080880786557,
           0.202287421080468,
           0.2024231484525884,
           0.2026524530666127,
           0.202901847713757,
           0.20313100974204207,
           0.2033471204376704,
           0.20361469213090708,
           0.20388691639069456,
           0.2041147701428715,
           0.20434607968419377,
           0.20451341067390497,
           0.2045914643522674,
           0.20465201642356753,
           0.20467272862682384,
           0.2045900921361916,
           0.20455578323802462,
           0.20459016498839577,
           0.2046567148166845,
           0.20475217390623582,
           0.20483249013424207,
           0.2048947709295444,
           0.20497706193977425,
           0.20511447443067587,
           0.20496466169016123
          ],
          [
           0.18229081865934596,
           0.2028736985687845,
           0.19821992324518248,
           0.1996214933372339,
           0.19628121355363792,
           0.19476652949820378,
           0.19529573781661874,
           0.1940254088009788,
           0.19443120835843702,
           0.1953802603663825,
           0.19460191205541702,
           0.19332354265384055,
           0.19297834847247378,
           0.19365980520316753,
           0.19394460052050158,
           0.1948996928085128,
           0.19601753520053766,
           0.1968922776403448,
           0.19796855339788783,
           0.19889338953701755,
           0.1994108736417403,
           0.19955169587885607,
           0.1999609435962907,
           0.19980446259014434,
           0.19951357559016966,
           0.19932510931314207,
           0.1987938545695763,
           0.19861073875094437,
           0.19792297393725927,
           0.19720878345561801,
           0.19681845849337679,
           0.19705527845021648,
           0.19661994521551446,
           0.1964752426328817,
           0.19638598607152294,
           0.19655960837390815,
           0.19657128478768476,
           0.19655527143787868,
           0.19654657912489473,
           0.19645218323754457,
           0.19630970738874665,
           0.19608430082722167,
           0.1956441329736398,
           0.195338689293613,
           0.1952292362300648,
           0.19568547512710627,
           0.1963210704094494,
           0.19691504728610848,
           0.19737881345585817,
           0.1978775308801102,
           0.19829769248844212,
           0.19878614918037787,
           0.19924931238514096,
           0.19956566705375353,
           0.19982722771418562,
           0.2001232362957722,
           0.2002992017724868,
           0.20033164704961606,
           0.2002547557570563,
           0.20027984413164335,
           0.20040102170349366,
           0.20062434858336525,
           0.20086931605713426,
           0.2010880636404597,
           0.2012996364633747,
           0.20156473929740432,
           0.2018487440196632,
           0.20207624948902356,
           0.20230621868094728,
           0.20247781735763437,
           0.2025585431081117,
           0.2026149192380881,
           0.20261930382694252,
           0.20252891633365663,
           0.20247148653473446,
           0.20247873044569503,
           0.20252618936691222,
           0.20259994059461853,
           0.2026722133641778,
           0.20273126764084554,
           0.20280755218910587,
           0.20294637888353756,
           0.2028071268296906
          ],
          [
           0.1808157860829229,
           0.19879002385458416,
           0.19458222435778966,
           0.19769105108980914,
           0.19443629218212397,
           0.19397005439607984,
           0.19305974057281833,
           0.19368406307124644,
           0.19251231031743063,
           0.19290228891490502,
           0.193760919591391,
           0.19337099436495514,
           0.19198139500365502,
           0.19181947897789536,
           0.19235690294293936,
           0.19269172745401605,
           0.19376466108765722,
           0.19466404287848166,
           0.19544020004828927,
           0.1964052481428523,
           0.19716799392912687,
           0.19758671068449332,
           0.19763592948869999,
           0.19782542715171803,
           0.19765185432878554,
           0.19748883984913593,
           0.19735341684404892,
           0.19672897733276543,
           0.1964160107139539,
           0.1956744669533069,
           0.1951309125368327,
           0.19496052360561184,
           0.19516256053352518,
           0.19481445106401776,
           0.19466797043720185,
           0.1946045791700174,
           0.19477720768565984,
           0.1947725510336746,
           0.19475735997681698,
           0.19479395651495998,
           0.19475914848076517,
           0.19465981322186335,
           0.19442502331123923,
           0.19392329928824875,
           0.19368978875681647,
           0.19366298672954702,
           0.19420351664597393,
           0.19478520440825026,
           0.19535080262744914,
           0.19587450419960908,
           0.19638044737393115,
           0.19683952300765406,
           0.1972726904049037,
           0.19759745982843374,
           0.19792192560481522,
           0.19813232366327765,
           0.19846696859212504,
           0.19851954912868988,
           0.19845889017986437,
           0.19848335738546602,
           0.19860986603543554,
           0.1988279864858528,
           0.1990662678768509,
           0.1992900370948185,
           0.19949160918730557,
           0.19975719745505635,
           0.20004908062227467,
           0.20029103478591345,
           0.2005283064854679,
           0.20070090564380963,
           0.20078589021079726,
           0.20084234573276244,
           0.20084508392170142,
           0.20073739199363377,
           0.20067280924871367,
           0.20066194725080258,
           0.20068462343642,
           0.20074126398837028,
           0.20079086464084978,
           0.20084541550173723,
           0.20092761964215644,
           0.20106554106528887,
           0.2009157252170892
          ],
          [
           0.17795156392425207,
           0.196277604277475,
           0.19070985577168065,
           0.19281759151683864,
           0.19129843445355627,
           0.19099631322526334,
           0.19076383467941668,
           0.19032782140953114,
           0.19080091964119886,
           0.1897658726677331,
           0.189958032284417,
           0.19105383849899923,
           0.19042490338580847,
           0.18931229611009612,
           0.18893369065497181,
           0.18957063042606195,
           0.1900503518978827,
           0.1909215562060807,
           0.19179618162985343,
           0.1924794273539347,
           0.19329000873625712,
           0.19404255016877595,
           0.19441884637060514,
           0.19427104987554908,
           0.19448178852125292,
           0.1944063720077483,
           0.1943034015361267,
           0.19408677617966932,
           0.19337082883585838,
           0.19300358437209209,
           0.19243236833462585,
           0.19211043296445077,
           0.1918479765914851,
           0.19211664197771122,
           0.1917136584873674,
           0.19159493731510097,
           0.1915270711164104,
           0.1917482078911447,
           0.1917910820055895,
           0.19182082709388987,
           0.1919099252883346,
           0.19191736032947332,
           0.19184101535914913,
           0.19161002615519865,
           0.19117223559247815,
           0.1910139472941524,
           0.19106917781397442,
           0.19155191338598776,
           0.1921015215881008,
           0.19274191509310948,
           0.19328791505315748,
           0.19379494759477012,
           0.1941616969456631,
           0.19448759854093692,
           0.1948421062252312,
           0.19510370931469978,
           0.19535605135418527,
           0.19555350087379592,
           0.19552122978673764,
           0.19556196294510325,
           0.1956879472074819,
           0.1959158644754879,
           0.19614933935381418,
           0.19636780788266764,
           0.19657679623035812,
           0.1968312943838922,
           0.19712143014642258,
           0.19736709260453122,
           0.1976123775506328,
           0.1977875500105327,
           0.19787572916534238,
           0.19793207934101836,
           0.197929631436819,
           0.19781966737321566,
           0.19774137954965892,
           0.19772013446560227,
           0.19772175221417396,
           0.19775976596218925,
           0.19779859772938155,
           0.19783243265544673,
           0.19791096092229024,
           0.19806100637675647,
           0.19790025490070884
          ],
          [
           0.18081486592831628,
           0.1954450153819739,
           0.1868772848404039,
           0.18972198813058364,
           0.18620386525017918,
           0.1879091171081791,
           0.187882881478266,
           0.18778789532924786,
           0.18762734000900066,
           0.18821459724613845,
           0.18713450040931517,
           0.18750260156645443,
           0.18837335012183268,
           0.1880024784353438,
           0.18679507865080933,
           0.18652137149524847,
           0.18731716299839385,
           0.18758824006597047,
           0.18843411464554807,
           0.1892299990668003,
           0.18974236344366016,
           0.19051476552276897,
           0.1911263577037885,
           0.19131024096328408,
           0.19115140355159924,
           0.19153733439900306,
           0.19157500828715834,
           0.1914014716017983,
           0.19112236453134643,
           0.19030756626967454,
           0.19020658599243034,
           0.18983242804075132,
           0.18942018375618386,
           0.18924891511505137,
           0.1895618355501961,
           0.18927506575643943,
           0.18915283565308522,
           0.18912718833007702,
           0.18936262258819986,
           0.18943987352223424,
           0.18952106120124754,
           0.18967330073553304,
           0.1896924902021607,
           0.18957158986932496,
           0.18936865138221887,
           0.18902402116942724,
           0.1889714011006621,
           0.18898455467350245,
           0.1894589064008336,
           0.19010805234477696,
           0.19075864869034576,
           0.19127286559596804,
           0.19172818617030907,
           0.1919985970470184,
           0.19232686155445658,
           0.19258693347397055,
           0.192892713111176,
           0.19301574561689877,
           0.1931677761461955,
           0.19323097141570061,
           0.19337298485263377,
           0.1936049375978597,
           0.19385181790566874,
           0.19406962478838743,
           0.1942735587696284,
           0.19454561052422925,
           0.1948409585019767,
           0.1950924110607357,
           0.19535969567974737,
           0.19555404765539092,
           0.19565197342942328,
           0.19572332837256162,
           0.19573046626181786,
           0.19562113549238283,
           0.19554308563997397,
           0.1955145476757423,
           0.19550926753539843,
           0.19552756979311767,
           0.19555054429000115,
           0.19556923210454719,
           0.19562039771551074,
           0.19576268216494,
           0.19557650491335446
          ],
          [
           0.1718491618875776,
           0.19338146174685716,
           0.18702090191031584,
           0.18552160795550057,
           0.18294051318811394,
           0.18294524645784246,
           0.1847588989617749,
           0.18489254975174949,
           0.18478218155317908,
           0.18496091301280987,
           0.18536788967963158,
           0.18457586731767897,
           0.1846431021423891,
           0.18577850865237464,
           0.18538526340100117,
           0.18435579078730238,
           0.18424731266823263,
           0.18484850710866368,
           0.18503463564855613,
           0.1857569049456091,
           0.18637614450013826,
           0.1868135972834667,
           0.18748472916973366,
           0.18792423938832364,
           0.18806560574092487,
           0.18803002337644423,
           0.18848887526729755,
           0.18845851771112318,
           0.18818201469389542,
           0.18777266692857164,
           0.18715975808905105,
           0.18723772560254084,
           0.18680167452864066,
           0.18645829067949507,
           0.18629743777034652,
           0.18671177936600897,
           0.18648153767011488,
           0.18641445535435555,
           0.18641956505823562,
           0.1867052053555338,
           0.18679183809567518,
           0.18692999483656214,
           0.1870933630468873,
           0.1870544406973845,
           0.186987374469213,
           0.1869472833939543,
           0.1866940332615468,
           0.18657634369251244,
           0.18655492199125057,
           0.1870823231832535,
           0.187746798187916,
           0.1883820538249724,
           0.18883362073866589,
           0.18918883602353462,
           0.18946801086009604,
           0.18971177949965973,
           0.19004384551891798,
           0.19022207297772914,
           0.1902675017176863,
           0.19045592672488965,
           0.19062256189327736,
           0.1908872323880433,
           0.19114863477575145,
           0.19138194693388327,
           0.19158837124891157,
           0.19186537561866746,
           0.19218094050299686,
           0.19243580649947084,
           0.1927115411934709,
           0.19292247931929823,
           0.19303735733374772,
           0.1931211024547061,
           0.19313948004715653,
           0.19303263945027704,
           0.19295719191500632,
           0.19292696944005888,
           0.19290562219801563,
           0.19291714322609982,
           0.19292328191605757,
           0.1929257811639253,
           0.19296455571449148,
           0.19308389037233636,
           0.19287902361810197
          ],
          [
           0.17082387506505603,
           0.18793365435329842,
           0.18372854423222504,
           0.18587519017751447,
           0.17885557888375833,
           0.17979379937671827,
           0.18021841098229302,
           0.18257937885541728,
           0.18271941099082384,
           0.18270140293958928,
           0.18297440261120232,
           0.18346009791634585,
           0.182480829538347,
           0.18275904767377796,
           0.18376716129968423,
           0.18350811252170213,
           0.18272521619779453,
           0.18244708414142782,
           0.1830563733081808,
           0.18310661180325297,
           0.1836154110879571,
           0.1841352977398665,
           0.1844707325709289,
           0.1849328965085121,
           0.1853732576680097,
           0.18560866025197478,
           0.18561365680620168,
           0.18599739915308042,
           0.18581394319660746,
           0.18537325087423706,
           0.18516251606340242,
           0.18482053058664238,
           0.1848220270365619,
           0.18449678099998146,
           0.18416091956210767,
           0.18406435220046446,
           0.18453776492610988,
           0.1842895547403575,
           0.18425508032781118,
           0.18429070227716496,
           0.18463608051077787,
           0.18481393238563243,
           0.18495026089157748,
           0.18505521001340391,
           0.1850808119699264,
           0.1851346302482669,
           0.18523724487254184,
           0.18493808448769727,
           0.18479346264097662,
           0.1848275613614106,
           0.18534125768251924,
           0.18596909885471025,
           0.18653040364819187,
           0.18686684565679526,
           0.1872279733224361,
           0.1873646038452031,
           0.18766791085680556,
           0.18785652830032287,
           0.18795835538317815,
           0.18807393265708416,
           0.1884215262240905,
           0.18871189460891855,
           0.1889959271977097,
           0.1892497024103681,
           0.1894801597669674,
           0.1897652025491744,
           0.19009262659457785,
           0.19036982169870026,
           0.19065409695948785,
           0.19087158151552666,
           0.19100537072525056,
           0.1911051399897952,
           0.19114016902233483,
           0.19105169174595207,
           0.19097713851190812,
           0.19094624463537585,
           0.19092340441655692,
           0.19092416273843663,
           0.19092117005323697,
           0.19090197692297753,
           0.19092004455458336,
           0.19102665819771458,
           0.19081130612526637
          ],
          [
           0.173170990545599,
           0.18763292939324708,
           0.1783741490711004,
           0.18278849440160466,
           0.18006517650110476,
           0.1764755651676375,
           0.17770885070409342,
           0.17842360084473916,
           0.18049144532888373,
           0.18072306974709074,
           0.18059511834608072,
           0.18128059505977084,
           0.1819885469791359,
           0.18133520156712205,
           0.18144509528676242,
           0.18260663961166224,
           0.18239915128895054,
           0.18149052436861068,
           0.18123996005648052,
           0.18174443271199175,
           0.18172954014998677,
           0.18213992123277295,
           0.18256979351633215,
           0.1826964960759395,
           0.1831694570749609,
           0.18348104506927218,
           0.18376830362894175,
           0.18372669281085122,
           0.18400270836525898,
           0.1836313619871604,
           0.18339401158411678,
           0.18344467038116719,
           0.1830023835864338,
           0.1832019204958234,
           0.1828253271245524,
           0.18255658506354105,
           0.1824862880718103,
           0.18303302094840174,
           0.18286150718499766,
           0.18287014075601918,
           0.18295834918930598,
           0.18336749224928595,
           0.18355819319938266,
           0.18362948677843557,
           0.1837940952367405,
           0.18389955385722775,
           0.1840734012153517,
           0.18402607890762956,
           0.18370715506776628,
           0.18362665374833853,
           0.18366081408527132,
           0.1841478774356145,
           0.18471049133926395,
           0.18516301770043495,
           0.18550378038463283,
           0.18576196995598007,
           0.1860086664677541,
           0.18617040051635478,
           0.18628934931782426,
           0.1864735703337794,
           0.18670931478251948,
           0.18721620326367852,
           0.1875343271725501,
           0.18781214395232035,
           0.1880622570032912,
           0.18837193343925895,
           0.1887170835723261,
           0.18899794575236623,
           0.1892999499676381,
           0.18953337373908738,
           0.1896748896819925,
           0.1897887057371745,
           0.18984061363019766,
           0.18975636442086022,
           0.18969994624524064,
           0.18968701647799888,
           0.18965570388521477,
           0.18964471144159392,
           0.189638917411609,
           0.18961320951727254,
           0.18960871512358088,
           0.18969004996991343,
           0.18946310602992003
          ],
          [
           0.1659121285928937,
           0.18263086142001023,
           0.1761686830967336,
           0.17630508018792293,
           0.17599368215099942,
           0.17649419111351658,
           0.1734782114070149,
           0.1747751406637304,
           0.17562899205935378,
           0.1777160836410876,
           0.17782825723815734,
           0.17794434562288824,
           0.1784774025869474,
           0.17920696431549607,
           0.17843662064987847,
           0.17861864265176094,
           0.1799790816476125,
           0.18019343918130087,
           0.17935621456722356,
           0.1790170790844923,
           0.17934541170728865,
           0.17891687499057884,
           0.17922009641276032,
           0.17945291238361924,
           0.17952468106353706,
           0.17995315134763473,
           0.18054377349521147,
           0.18079624104964653,
           0.18062352331647893,
           0.18067872296742665,
           0.1806103552911311,
           0.18063385134902749,
           0.180562535747603,
           0.18024397365476488,
           0.18030680926589238,
           0.18001320045736202,
           0.17976063320783886,
           0.17976510253404024,
           0.1803902743005331,
           0.18034205879750703,
           0.18040177148642705,
           0.18055522570238192,
           0.18096601818050453,
           0.18105213555617905,
           0.18118118444783232,
           0.18142052256811678,
           0.1816286468601496,
           0.18172556302403486,
           0.18169541334448436,
           0.1814445111646949,
           0.18136511881996736,
           0.18137013852863249,
           0.18177472899243557,
           0.1822012007148184,
           0.18266184493743565,
           0.182893518990886,
           0.18322170242006852,
           0.18334479849719845,
           0.18344654422417916,
           0.18363096655482627,
           0.18391936073810902,
           0.18430321552100606,
           0.18474262774294903,
           0.18505114563058137,
           0.18533070159401563,
           0.18565878331264327,
           0.18603026335979386,
           0.18632488054221039,
           0.18663658827515356,
           0.18688299471171882,
           0.18704381943404919,
           0.18717360709477393,
           0.1872423162366422,
           0.1871805117005937,
           0.18713078848584852,
           0.18713180485413736,
           0.18711590230320727,
           0.1871080783595112,
           0.1870893632607497,
           0.18705239125118575,
           0.1870351356488869,
           0.1870943935331331,
           0.1868608177554692
          ],
          [
           0.16091630501325127,
           0.1785502391803672,
           0.1721420018211528,
           0.17428967686781155,
           0.17032239257824577,
           0.17301965676573738,
           0.17358678179121295,
           0.17090845722662842,
           0.17210688920167638,
           0.1731675133722997,
           0.1750400670593422,
           0.17539688336301681,
           0.17522750772653356,
           0.1761258739222058,
           0.17667720786042823,
           0.17603755843413785,
           0.17637681508850384,
           0.17756513196476675,
           0.1775928076016167,
           0.176683939228129,
           0.17615506889484112,
           0.17639395502276137,
           0.17600633546694885,
           0.17611310838045466,
           0.17629035587466632,
           0.17644514529823443,
           0.17696880431482134,
           0.17790518338816474,
           0.17799505991422465,
           0.17755525981269574,
           0.17781840034371238,
           0.17778497559719578,
           0.17766740049775429,
           0.17771533185600177,
           0.17738212829432604,
           0.17762057776466397,
           0.1774436593591335,
           0.1772688061283187,
           0.17732563134841506,
           0.178050884269442,
           0.17787433179593112,
           0.178000052849795,
           0.178145906063758,
           0.17850288357869729,
           0.1786545346230367,
           0.17885553669181412,
           0.17917957365383427,
           0.17930876771589715,
           0.17939670723742185,
           0.17951697384960788,
           0.17928820784372437,
           0.17919955090500558,
           0.1791403269516191,
           0.17943438719262447,
           0.1798610017057019,
           0.1801848645725062,
           0.1804928143047895,
           0.1806711068243606,
           0.180700843141463,
           0.1808590752849586,
           0.18114838094601116,
           0.18157397592512256,
           0.18195667286753217,
           0.18240847228578894,
           0.18271857527637525,
           0.18307271769717812,
           0.18346298526375246,
           0.18377955281051905,
           0.1841052869396885,
           0.18435862254121077,
           0.1845326283735675,
           0.18467410847845864,
           0.18475684166225245,
           0.1847131223022614,
           0.18468457749062017,
           0.18470245506932884,
           0.18469265813513278,
           0.18469333374554442,
           0.18468296601603382,
           0.18464533326624605,
           0.18462352963465348,
           0.18466445377299773,
           0.1844263282697133
          ],
          [
           0.16112691697752307,
           0.17314720044208434,
           0.1683890719227988,
           0.1699785720741008,
           0.16770284610797145,
           0.16693861083294448,
           0.17000364537138243,
           0.17095884597972805,
           0.16850764729059173,
           0.1697011114954831,
           0.17078839076343927,
           0.17246360452286016,
           0.1725109901122028,
           0.17260355903151525,
           0.17346663214762414,
           0.17409267760179659,
           0.17368003999600573,
           0.17382354332998648,
           0.17506415175160983,
           0.17498909049189132,
           0.17389909667080133,
           0.17328058469154295,
           0.17344764970560517,
           0.17288967224228513,
           0.17292898196377204,
           0.17319794330868207,
           0.173395360086892,
           0.17395448532622504,
           0.17450100889873424,
           0.17430566256051755,
           0.1740934421031598,
           0.17464052014455564,
           0.17453571693261163,
           0.17454262690357342,
           0.1745456480673921,
           0.17430933179587418,
           0.17492396182950953,
           0.1746037704573942,
           0.17449387327732868,
           0.17458047676330118,
           0.17525155526595748,
           0.17533283700503483,
           0.17544811972334518,
           0.1755341596843192,
           0.1759517396965793,
           0.17626324014867834,
           0.1765571495120788,
           0.17679567378778518,
           0.17689980114736056,
           0.1770975063792678,
           0.17704252288866756,
           0.17680023744616838,
           0.1766624471799861,
           0.17651526714542878,
           0.17682940486986745,
           0.17711262937427147,
           0.17751803945773872,
           0.17769326106426087,
           0.17782738134187115,
           0.17790069561686433,
           0.17816609623657453,
           0.17859824465190435,
           0.17904596709129655,
           0.17941710017904508,
           0.17994511830305812,
           0.18033046087477617,
           0.1807493361634745,
           0.18108368157312899,
           0.1814371153780152,
           0.1817064814251131,
           0.18188994464056282,
           0.18204050240652617,
           0.18213457437822314,
           0.1821042396621104,
           0.18209094829922198,
           0.18212637669761927,
           0.18212359325074398,
           0.18213599078932147,
           0.18213449317816077,
           0.18209415651626906,
           0.18206828499967817,
           0.18210281557683913,
           0.1818626374569935
          ],
          [
           0.15588624695442418,
           0.16981605765639066,
           0.1637706376384652,
           0.16786800767017404,
           0.16477371121584575,
           0.165440708845681,
           0.16529588940685913,
           0.1683825601926807,
           0.16942944936007243,
           0.16728934223701666,
           0.1682702189989057,
           0.1697292067868971,
           0.17142649357345394,
           0.1717703915514444,
           0.17173386256155002,
           0.17276419062956597,
           0.17321415322360734,
           0.17267663955425497,
           0.17287102111128091,
           0.1740790250170491,
           0.17382300411580182,
           0.17268271636738963,
           0.17201391999305776,
           0.1720438397409385,
           0.17144194793974793,
           0.17156877475314727,
           0.1718870220666578,
           0.1721348772626878,
           0.1725329501354256,
           0.17269814072749443,
           0.17273602549300945,
           0.172809602758372,
           0.17320469405097372,
           0.17324955271880232,
           0.17319309901413849,
           0.17330173418371683,
           0.1730794681802034,
           0.17360961431201,
           0.17342832556488316,
           0.17333867466050926,
           0.17345714253020453,
           0.174244890789728,
           0.17465483701050125,
           0.1747122440020694,
           0.17486234471996198,
           0.1753425529562417,
           0.17552396985111893,
           0.17572666757694308,
           0.17592725594853695,
           0.17608730324181945,
           0.176181542651027,
           0.17632320898979234,
           0.17605699614625592,
           0.17586086898680608,
           0.17576646575679855,
           0.17591702338469184,
           0.1762564069660075,
           0.17650500435634925,
           0.17663963583029654,
           0.1768039437153888,
           0.1770756093540128,
           0.17748435419987907,
           0.17792717425139074,
           0.17835372793569135,
           0.17876445302812896,
           0.17920221665497296,
           0.1796612775339782,
           0.18002237334625437,
           0.18039507857551373,
           0.18068484846257468,
           0.180883798902661,
           0.1810480150820563,
           0.18115014319086206,
           0.18112934039310866,
           0.18113069384096014,
           0.1811793900363929,
           0.1811820879629472,
           0.18120555529670568,
           0.18121855232229586,
           0.1811907660578142,
           0.18116610882091752,
           0.18120302226624954,
           0.18097509904884762
          ],
          [
           0.15213477299066802,
           0.16676584832011523,
           0.16118886798491397,
           0.16255736311432895,
           0.16202165760935336,
           0.16199246427990574,
           0.16306745907553674,
           0.1631798780353078,
           0.16616782896034124,
           0.16709983052079586,
           0.16504349861194315,
           0.1661534474679173,
           0.1673719735423328,
           0.16940737078941975,
           0.16958219903704563,
           0.16960690531350897,
           0.170864394208461,
           0.171560712190019,
           0.17113808172544373,
           0.17123401601174026,
           0.1722616138840901,
           0.1714868529204623,
           0.17031952734133943,
           0.16950853779804306,
           0.1694826234978806,
           0.16922762632942007,
           0.16938092606133173,
           0.16975451856198082,
           0.1697855539509681,
           0.1699341295022402,
           0.16996336535016743,
           0.17028252665712015,
           0.17017559135725815,
           0.1707120529169962,
           0.1706725473059976,
           0.17070986394220247,
           0.17081245947196305,
           0.1706675940845693,
           0.17122824849707563,
           0.1710805946241654,
           0.1710139833521307,
           0.17120093122978938,
           0.1720313009854413,
           0.17221180664421049,
           0.17234295110223155,
           0.17255416189065267,
           0.17313226914258642,
           0.17329473634878845,
           0.1734576733113168,
           0.17371429982797915,
           0.1738769292627721,
           0.17399530346625125,
           0.17442487314321234,
           0.1741107419948488,
           0.1739828910669912,
           0.17374214507293598,
           0.1739895632833256,
           0.17416539443912454,
           0.17436649403314722,
           0.1745260440660774,
           0.17479389164341416,
           0.17500095796563817,
           0.1754321200989965,
           0.1758582109621728,
           0.17628600202546837,
           0.17667534019878728,
           0.17734793835581897,
           0.1777394961893398,
           0.17814039441063706,
           0.17845156387791247,
           0.17867128481628508,
           0.17884387133401225,
           0.17896049387301266,
           0.17894780387229628,
           0.178952084132878,
           0.17901908687679804,
           0.17903225967308184,
           0.17905891020247972,
           0.17908581984135807,
           0.17906758851783686,
           0.17904861941708192,
           0.17908566627380668,
           0.1788619247344672
          ],
          [
           0.15244717757071335,
           0.16551809325958314,
           0.15800814823125273,
           0.16132910001306747,
           0.15745241261378645,
           0.1600654128462393,
           0.16085009555514268,
           0.16199030243056128,
           0.16225715291288806,
           0.1652193176677904,
           0.16576539554235564,
           0.16410100074076422,
           0.16480377082059475,
           0.16637750695573314,
           0.16808532479220206,
           0.16830240467887259,
           0.16849211719244592,
           0.1696195757769687,
           0.1704504244309529,
           0.1698927821224049,
           0.16974013454923317,
           0.17062421627717836,
           0.17031155964164485,
           0.168996738530894,
           0.16811943406816898,
           0.1681539236376677,
           0.1676047217900265,
           0.1678309981033252,
           0.16798979227169278,
           0.16764059914895194,
           0.16790457375824722,
           0.16821857246561842,
           0.1683800629697306,
           0.16843643782300316,
           0.1688883878740712,
           0.1691493736564509,
           0.1691699521038326,
           0.16933671270621922,
           0.16924859808339066,
           0.1696156418699044,
           0.16949489575940227,
           0.16949574005490994,
           0.16967424162670194,
           0.1704543815981444,
           0.17066218553636994,
           0.17084452615203838,
           0.1711527247947619,
           0.17163278653469757,
           0.17177979421675718,
           0.17200648285057604,
           0.17226503320644332,
           0.17239679235155075,
           0.17247738979063687,
           0.17265685520175014,
           0.17239561079039475,
           0.17209689992996619,
           0.17195369246773065,
           0.17206994190195876,
           0.17221796810732617,
           0.17245641737954923,
           0.17274378192730278,
           0.17318867342258368,
           0.17349362200853302,
           0.17391980554011052,
           0.174358597849605,
           0.1748639852105366,
           0.17537230181931343,
           0.1762948405188388,
           0.17672829642532112,
           0.1770613005539024,
           0.17729688722965212,
           0.17749077444452502,
           0.17761761776997295,
           0.1776100821353866,
           0.17761936251973517,
           0.17769055984446952,
           0.17771277416789008,
           0.17774869576306243,
           0.1777763308342118,
           0.17777444001192885,
           0.17776729368483934,
           0.1778049449010638,
           0.17758986766835552
          ],
          [
           0.14952116890755293,
           0.15300747781340657,
           0.14709480417885798,
           0.14921962448136736,
           0.14726943831854888,
           0.14590468114560243,
           0.14845259104096273,
           0.14818361147296916,
           0.14863065881877502,
           0.14855810579668174,
           0.15095843125442382,
           0.15159033193980256,
           0.14951241764213571,
           0.149847414351149,
           0.15145168811725446,
           0.1530914947505537,
           0.15348188563098492,
           0.1534687263641003,
           0.15411418037336624,
           0.15459155102070815,
           0.15377141179848733,
           0.15344253530805402,
           0.15420793304052252,
           0.15350930359130868,
           0.15127755392744474,
           0.1505647871841342,
           0.15068396596267425,
           0.15031353076330425,
           0.1502413772534855,
           0.15012055948732983,
           0.15017103880736946,
           0.15078137968477168,
           0.1514880161388536,
           0.15153631126241418,
           0.15141069686705463,
           0.15187361217958292,
           0.15180430578999096,
           0.1518079471614562,
           0.15192256872912668,
           0.1518025744034628,
           0.15201041194760384,
           0.1521320853276097,
           0.15210598539693815,
           0.15217817401221104,
           0.15310946708165546,
           0.15307604204225944,
           0.1533526768551027,
           0.1535532933416868,
           0.15395854313241686,
           0.15416435576375456,
           0.15438615115509557,
           0.1546166671777447,
           0.15470438238635079,
           0.15473612407827073,
           0.1549540984178998,
           0.15454289739220659,
           0.1543775491644083,
           0.1540999350047485,
           0.1541122859262932,
           0.15426009270178667,
           0.1545911962893236,
           0.15502769425753146,
           0.15546813318977243,
           0.15571751973903722,
           0.15611533690306303,
           0.15660374862207077,
           0.15714859150843383,
           0.1575722309082621,
           0.15834120432627935,
           0.1586883681698087,
           0.1589362474829334,
           0.15915066195490424,
           0.15930345946456798,
           0.15930313055938694,
           0.15933697402931682,
           0.15943449400315743,
           0.1594752573278753,
           0.15953232109909757,
           0.1595710658499655,
           0.15958972319566275,
           0.15960844510791355,
           0.15967518302483422,
           0.15947690148688845
          ],
          [
           0.13603748755671558,
           0.1485941624953522,
           0.13944343768054118,
           0.14158214373717204,
           0.13690429139048643,
           0.13753129338394182,
           0.1372765972207796,
           0.1401780636509401,
           0.14076429803590337,
           0.14154194581633475,
           0.14153266493093086,
           0.14412008449908548,
           0.14394372351611434,
           0.141320676430757,
           0.14203889775180975,
           0.1439813926436473,
           0.14610334750937926,
           0.14631675784033474,
           0.14559027570087485,
           0.14666542682544054,
           0.14667948965809033,
           0.1456626082735594,
           0.14520198816669186,
           0.14531557514122564,
           0.14477945358121735,
           0.1424099642160712,
           0.1417667127833802,
           0.14199497276191436,
           0.14122809476203466,
           0.14101296668197946,
           0.1412675713985971,
           0.14158461810719927,
           0.14200783438468667,
           0.142486984748213,
           0.1426065547843859,
           0.14255927434108942,
           0.14298691604123223,
           0.142912430863195,
           0.14289798935732465,
           0.14306029797204484,
           0.14294591912434437,
           0.1437055139943459,
           0.14356552090778074,
           0.14341612080829677,
           0.14360498939263167,
           0.1444808843128691,
           0.1445191379044492,
           0.14467981829836585,
           0.14480863904997235,
           0.14530499798379545,
           0.14572946546223065,
           0.1459406004191441,
           0.14612491739765474,
           0.14613577258342475,
           0.14638022246184995,
           0.14609815220867015,
           0.14580480941321808,
           0.14547656876666856,
           0.145046640277594,
           0.14513099702812932,
           0.14539443692552614,
           0.14590037623647206,
           0.14635060324759167,
           0.14671934179655527,
           0.14700539943705315,
           0.14748137679699305,
           0.14803069015178386,
           0.14850359451959566,
           0.14897350033696102,
           0.14963310919959863,
           0.14989472839700946,
           0.15013226783225422,
           0.1502984768454809,
           0.15029298032201002,
           0.1503359279949752,
           0.1504543917250197,
           0.15050582624542458,
           0.15056716704698717,
           0.15060593803527622,
           0.1506364111143844,
           0.15066478338336892,
           0.15075252859976193,
           0.1505590480669124
          ],
          [
           0.1407834739627847,
           0.1542021085771111,
           0.14522400125801027,
           0.14698830198690677,
           0.14288918406646767,
           0.14132485736989725,
           0.14288949630653264,
           0.14252535087118628,
           0.14549956361914512,
           0.14598739864332222,
           0.14646345428648383,
           0.14664287044064306,
           0.14882205709925553,
           0.14770043953148304,
           0.14584497440650984,
           0.14666608410785878,
           0.14891285446944594,
           0.15052058047159184,
           0.14968588396574878,
           0.14960318739261233,
           0.15051433386789242,
           0.15062262988615355,
           0.14963292398392883,
           0.14837237868048975,
           0.1490828675548944,
           0.14855052405565847,
           0.14589988589494,
           0.14556236551989168,
           0.14517772205885768,
           0.1444827305996412,
           0.14457394466653148,
           0.14496842986202832,
           0.14498221571115463,
           0.14498828106890357,
           0.14506679167361092,
           0.14516063686002906,
           0.1449996317688004,
           0.1453254789357029,
           0.14523510700031958,
           0.1452306480567575,
           0.14536220727592622,
           0.14534735520562342,
           0.14597262774787306,
           0.14572287183547694,
           0.14572264422337647,
           0.1459725054698866,
           0.14696712923368838,
           0.14733285477911495,
           0.1473966342536523,
           0.14762625355627879,
           0.148133849599295,
           0.1483229116403771,
           0.1484807601315071,
           0.1485575832059365,
           0.14872443215271175,
           0.14869322375164984,
           0.14858409013721996,
           0.1482380877043609,
           0.14777399321109147,
           0.14746375777006024,
           0.1475974186818501,
           0.14792969237823442,
           0.1483626637128368,
           0.14868102947619874,
           0.14905877985872584,
           0.14955676366473522,
           0.15003909413253463,
           0.15046193992540977,
           0.15093685724686684,
           0.1513635457725406,
           0.1516241319949612,
           0.15188019227511604,
           0.15206938091160482,
           0.1520621415573042,
           0.15211611995865526,
           0.15225451831418113,
           0.15233165234445847,
           0.1524114453712422,
           0.15244999212799834,
           0.15250428402826477,
           0.15255837763309715,
           0.15267299104894952,
           0.15257737783948197
          ],
          [
           0.12736687559708906,
           0.128658487002427,
           0.1319751328345853,
           0.1356085048409165,
           0.1336133035051611,
           0.1366601315793868,
           0.13566508768735125,
           0.13695181600706213,
           0.13647597846141388,
           0.13888676785297926,
           0.13887639848171895,
           0.1394656744424558,
           0.13921745788825476,
           0.14064554645018212,
           0.14068127869948377,
           0.1390226994676583,
           0.1400372679962451,
           0.14221708766579602,
           0.1423316980183277,
           0.14249678562024207,
           0.14222634710178886,
           0.1429826699491663,
           0.14277268066817475,
           0.14088938142589286,
           0.1405166950394555,
           0.14158023951911486,
           0.14150759702883173,
           0.13867753992353668,
           0.13770577467650452,
           0.1374658490652219,
           0.1370857283925012,
           0.13725816743291908,
           0.1372915978591342,
           0.13667622551704187,
           0.13676027868523555,
           0.136737412548987,
           0.13667563618262532,
           0.13642852208268588,
           0.13658804987805323,
           0.13661925391576082,
           0.136594133454708,
           0.1367658233006029,
           0.13677648997277153,
           0.13703441879487108,
           0.13705954288655725,
           0.13715230909678616,
           0.1374995213403712,
           0.1383900738426415,
           0.1385104109084132,
           0.13871817349847376,
           0.13895756045927493,
           0.13944781895699326,
           0.13960065737845145,
           0.13962791320298512,
           0.13986820687580787,
           0.13984806784662615,
           0.13999959506184348,
           0.14007585544145434,
           0.1395942048486802,
           0.13936100800487097,
           0.13918165890885886,
           0.13940454076697234,
           0.1396000376405289,
           0.13982381594302185,
           0.14018956112125613,
           0.14058991764756076,
           0.1409398954441795,
           0.14130138251336155,
           0.1417123978144623,
           0.14204514967249804,
           0.14238823686998417,
           0.14263565379633122,
           0.14283700263691748,
           0.1428337083551821,
           0.14290105142850043,
           0.14305350900617286,
           0.14314998527956016,
           0.14325289793937365,
           0.14329067886462363,
           0.14336329373644635,
           0.14344076735432254,
           0.14358712253168565,
           0.14359792879771843
          ],
          [
           0.124330532528189,
           0.1191406185424537,
           0.11285293903693645,
           0.1308644744395642,
           0.1291483403636155,
           0.12851782493167427,
           0.13049896449804402,
           0.1307044669854415,
           0.13219036351841115,
           0.13215551505052928,
           0.138073527854419,
           0.1382911739953787,
           0.13857891376181955,
           0.1367311189127674,
           0.1387915078005496,
           0.138354278039748,
           0.13618688280319205,
           0.13700696044179322,
           0.13973728396785678,
           0.1412933244566652,
           0.1412944069915355,
           0.14084456328710193,
           0.14141464474298765,
           0.13999766163437818,
           0.13928011292495912,
           0.13915017299291588,
           0.14052127233022235,
           0.14062967239920787,
           0.13664826949879852,
           0.13591297594362622,
           0.13611675659081177,
           0.13596338290127144,
           0.135837190804609,
           0.13518996638295666,
           0.1349501160539665,
           0.1351658530408035,
           0.13511508808212166,
           0.1350139337843446,
           0.13468816485133356,
           0.13500175100789621,
           0.1349959455552799,
           0.13506329617129753,
           0.13520967896433558,
           0.1350539606290428,
           0.13551532803109748,
           0.1356843508962157,
           0.13588983380527717,
           0.1361040275820049,
           0.13686698211573606,
           0.13700664012077546,
           0.13724360424699514,
           0.1374745569792771,
           0.13789335836456776,
           0.13793825041574523,
           0.13816074301890235,
           0.13816778798066776,
           0.13829128153741965,
           0.13829602332814325,
           0.13801967570083898,
           0.13777078502802018,
           0.13766840995942842,
           0.13766502168748396,
           0.1378387534649469,
           0.13787498546703122,
           0.13821014277755173,
           0.13865218481096492,
           0.13907314613663876,
           0.1393495338898641,
           0.13973851561592254,
           0.14004433398885965,
           0.14038949036483372,
           0.14064725014896926,
           0.14104036935156494,
           0.14104043674404873,
           0.1411245719175641,
           0.1412848622656709,
           0.14138743308122959,
           0.141492940356653,
           0.14153474297900287,
           0.14161803364981287,
           0.14169897944432228,
           0.14185674897703401,
           0.14191302788799562
          ],
          [
           0.1456728328696811,
           0.13520896659587683,
           0.14122347002889707,
           0.14884855376710218,
           0.16838256855653763,
           0.16900703034413667,
           0.1706364298291992,
           0.17064860720804576,
           0.1696334881501946,
           0.17134928274737152,
           0.17096869172489,
           0.17764596146186112,
           0.17896116988118368,
           0.17888807343775553,
           0.17965440381651704,
           0.18325899983911312,
           0.18254807713089563,
           0.17983376880474056,
           0.1791029065957525,
           0.18217064987821047,
           0.18370343270213838,
           0.18350761260738122,
           0.18282864060964701,
           0.18526207285396976,
           0.18511851859253903,
           0.18459690790176195,
           0.1845608517927085,
           0.18601705304882335,
           0.18466742472829206,
           0.18127059603530807,
           0.18077327353413433,
           0.18101920569508664,
           0.18051697105872055,
           0.18007173785791086,
           0.17995390279589024,
           0.17990744532163772,
           0.18019583855167207,
           0.18015065346188008,
           0.18013563804561167,
           0.18006351971350912,
           0.18048480959888483,
           0.180685653841655,
           0.18078099037448742,
           0.18081068283758542,
           0.18094420697200117,
           0.18157716670592802,
           0.18181342200016218,
           0.18192333482265444,
           0.18206687485996567,
           0.18305520779156337,
           0.18326467491739507,
           0.18352570637891552,
           0.1837201692541447,
           0.1840066148889313,
           0.18430835660156905,
           0.1843017261066425,
           0.18444587531025095,
           0.1844073433809972,
           0.18419747405946843,
           0.18404728906045115,
           0.1839525387387986,
           0.18406093298361198,
           0.18408150841347606,
           0.1841866908105049,
           0.1843711338249099,
           0.18480983331237252,
           0.18535772714661017,
           0.1857482014715884,
           0.18611963379094357,
           0.18644306957801587,
           0.18673821853772038,
           0.18699574176935377,
           0.18717353228171132,
           0.1873048494355321,
           0.1873741844910259,
           0.18751502740110712,
           0.18759350062171362,
           0.18768319854248794,
           0.18772730454705466,
           0.18780323827980602,
           0.18787225536633886,
           0.1880171765150778,
           0.18808732903242986
          ],
          [
           0.11611238569183317,
           0.12199797745622995,
           0.11785103071324383,
           0.12306987613389252,
           0.13096816493973165,
           0.15568051972289126,
           0.15742699740721416,
           0.15886135863930978,
           0.15995385067990125,
           0.15960093211183704,
           0.16149090603664226,
           0.1618567817026888,
           0.16436732383342437,
           0.16547602149243065,
           0.16711523441988044,
           0.16781056229455787,
           0.17252183968540083,
           0.17196227080177476,
           0.1683172199588148,
           0.1693769449033842,
           0.1712818498898466,
           0.1727561656123133,
           0.1725066659489982,
           0.17077119935721627,
           0.17169028206396522,
           0.17146706991255503,
           0.17097736195663743,
           0.17123074600708693,
           0.17539349291393974,
           0.17465062823151606,
           0.1711716339434084,
           0.1708458598422468,
           0.17071494793351547,
           0.17015519499793813,
           0.17006132129052215,
           0.17017596287982048,
           0.17019149732179692,
           0.17052962143066241,
           0.17069700517861483,
           0.1708822156657558,
           0.17090386851413608,
           0.17151420900643352,
           0.17171839544921105,
           0.17175059093151118,
           0.17201883863711967,
           0.17222752572214406,
           0.17292136966518581,
           0.17311008820923618,
           0.17317639959524658,
           0.17348200401321084,
           0.17448892295596402,
           0.1747456832686663,
           0.17494464156510942,
           0.1750183023812459,
           0.17550315631136523,
           0.17552208967771205,
           0.17562229414187117,
           0.1755968431152766,
           0.17544688827911528,
           0.1753756195250706,
           0.17537788753098807,
           0.17548963907302922,
           0.17562875464192074,
           0.17565704283304923,
           0.1759253286846524,
           0.17619277505753453,
           0.1767264809727679,
           0.1772339033517595,
           0.1776801717210883,
           0.17803460601408766,
           0.17829751822438378,
           0.17851849816428572,
           0.1786931213616812,
           0.17871976974760126,
           0.17881011260479984,
           0.17893868561327939,
           0.17899949684517358,
           0.17906528483670484,
           0.17911863158761865,
           0.1791741086756224,
           0.17922876110859137,
           0.1793487940561325,
           0.17940571057527616
          ],
          [
           0.1260483102679712,
           0.10655864074987648,
           0.11274875404532633,
           0.11200621977619338,
           0.11396789508631162,
           0.11746403525222035,
           0.12202996347429679,
           0.11785380157736723,
           0.11825179563042029,
           0.11768118201319197,
           0.11696055601601596,
           0.11788463203654723,
           0.11740530256227165,
           0.15641260074825794,
           0.1590873001819879,
           0.16109647163091598,
           0.16209129245550855,
           0.16371823671717894,
           0.1617983532275521,
           0.1588969536583516,
           0.15947871044381484,
           0.16211610263869503,
           0.16413124256508552,
           0.16370471946140713,
           0.16328630108701586,
           0.16291298405798843,
           0.16269888739260474,
           0.1624508549020454,
           0.16143241978082132,
           0.16333123015631798,
           0.16324511997369598,
           0.16144811515896534,
           0.16120455965489744,
           0.16378065678435094,
           0.16321129600085757,
           0.16326960302770815,
           0.1633282973793962,
           0.1633923787741047,
           0.1635446770657388,
           0.1637413849412525,
           0.16395194762289442,
           0.1640805987130833,
           0.16459503534796316,
           0.16461843504457768,
           0.16482170749571243,
           0.16515488880500007,
           0.16547806456106487,
           0.16604484802009156,
           0.16611856771652656,
           0.1662837881484771,
           0.16661592405567333,
           0.1676213027768604,
           0.1677728501118416,
           0.16785526864138736,
           0.16809548873523456,
           0.16836156994443943,
           0.16853866469784792,
           0.1685026031649486,
           0.16837350777226306,
           0.16830267248230524,
           0.1684005395928108,
           0.16864430704718555,
           0.1687870157742743,
           0.16891162654383227,
           0.16900528271957035,
           0.16933240426961968,
           0.16965808389256734,
           0.17010987810764516,
           0.17064504601663483,
           0.17102241385355102,
           0.1712314661608273,
           0.17144438247588195,
           0.1715962389692469,
           0.17160497361386048,
           0.17167534540022808,
           0.17185067275115073,
           0.17192651954268884,
           0.1720070563248028,
           0.17205998813299356,
           0.17211643337070154,
           0.17217505112063575,
           0.172303193211206,
           0.17237369331899305
          ],
          [
           0.12948125578165423,
           0.08864882065340784,
           0.09977266963025003,
           0.10405137237827436,
           0.10211040301206509,
           0.10497889137659687,
           0.1082403216241792,
           0.11126213303113429,
           0.111975187102171,
           0.11168324183074967,
           0.10813416286203197,
           0.10430413139869252,
           0.10495915683195563,
           0.10312982732862086,
           0.1109107421994831,
           0.11134538809761348,
           0.1116668464946512,
           0.1118397662736046,
           0.1507429627389723,
           0.14966445511882076,
           0.14662766201586447,
           0.14717746220845154,
           0.14681217002674513,
           0.14830280632188647,
           0.14884820664783366,
           0.14825081347593266,
           0.14975758057207184,
           0.15047624239735935,
           0.1493882776461758,
           0.14904384663617093,
           0.1487674187841229,
           0.14882722712574675,
           0.14717223617271993,
           0.14649954553659697,
           0.1466987652472518,
           0.1464106055025931,
           0.14681899266836487,
           0.14707376549973264,
           0.14727838652258524,
           0.14787054907936414,
           0.148002610340105,
           0.14835543485461875,
           0.14853463751921148,
           0.15165759678453927,
           0.15181931375289817,
           0.1520718060828036,
           0.15249425707037118,
           0.15273150347427727,
           0.153119194079603,
           0.1532748575690512,
           0.15345627305774093,
           0.15377235490000407,
           0.15451383854435186,
           0.15452522550713582,
           0.1547668497998186,
           0.1548150232730581,
           0.1551785146935898,
           0.15520055926923637,
           0.15504793406645215,
           0.15500164318974405,
           0.15508448457769597,
           0.15535685025362553,
           0.15556238677314183,
           0.1556934067030596,
           0.15588720674941048,
           0.1560510974397945,
           0.15646915211685394,
           0.1567101692912688,
           0.15716843172122033,
           0.15761475617746068,
           0.1579034287030834,
           0.15810527080488293,
           0.15824928202974942,
           0.15824435747770438,
           0.1583053900971954,
           0.15847273685134772,
           0.1586264584456854,
           0.1587156091118581,
           0.1587849833766548,
           0.1588416059867514,
           0.1588992781429252,
           0.15902323442534408,
           0.1591047096984922
          ],
          [
           0.12380289861483143,
           0.08113524602568432,
           0.08770157756282727,
           0.09259777790236152,
           0.09491006085941847,
           0.09346008902294188,
           0.09419721650024312,
           0.0966170076240347,
           0.09888889288041312,
           0.09743768884668286,
           0.09782790795138237,
           0.0980448346020186,
           0.0981427789455604,
           0.09907842626011272,
           0.09803079954814241,
           0.09640197604060341,
           0.09667568282540369,
           0.09689559340341455,
           0.09524146638439694,
           0.10359945626067302,
           0.10452454848002132,
           0.10407996472869838,
           0.10427922817805037,
           0.13225097902974325,
           0.13484548496457013,
           0.13575783126922922,
           0.1352739102560929,
           0.13436321976161147,
           0.1343146886290192,
           0.1335856138235181,
           0.13323306222384262,
           0.13559806907752606,
           0.13520361372323036,
           0.1336562325174015,
           0.13362334450517518,
           0.13378362301708552,
           0.133163123402998,
           0.13352961029180616,
           0.13392230089631396,
           0.13421843564859465,
           0.13331651279764112,
           0.1335409686009247,
           0.13393783007673854,
           0.13382370268474136,
           0.13481836521809737,
           0.13492933325792528,
           0.13534641623310803,
           0.13576101597078302,
           0.1360063866841932,
           0.13669326724580458,
           0.13684126165767224,
           0.13705208757304752,
           0.13742176931609407,
           0.14111777356667587,
           0.14126891948398154,
           0.14132822246625235,
           0.14149085686588764,
           0.1416317976819357,
           0.1415177873909918,
           0.1414326541575595,
           0.1415384431274163,
           0.14180015919635722,
           0.14209289530624108,
           0.14224517572481646,
           0.14244003380441211,
           0.14270263142163614,
           0.14293549072389491,
           0.14321551525650725,
           0.14343857370276308,
           0.14382140372698393,
           0.1441910082363387,
           0.14445759499829885,
           0.14458101745738772,
           0.1445774593203196,
           0.14462323751448708,
           0.14476138472905795,
           0.14489305699812635,
           0.14502250428103022,
           0.14511321562598378,
           0.145191329225073,
           0.14525636819106483,
           0.14538384098919693,
           0.14547298496708672
          ],
          [
           0.13499134571425833,
           0.06499503761022653,
           0.08362272156159434,
           0.08623169973243293,
           0.09017000061001623,
           0.0915105593273942,
           0.09033159240038698,
           0.08872929241148773,
           0.08871274679019639,
           0.09152896967642134,
           0.09216520707792038,
           0.0917065602012219,
           0.09086542316083679,
           0.0900602696560289,
           0.09054080603917973,
           0.08988757240758347,
           0.093623970021086,
           0.0932940286591648,
           0.09331499825921513,
           0.09260261143100862,
           0.09101180402374133,
           0.09143704278756616,
           0.09151278614086583,
           0.08995017315772831,
           0.09613676518953125,
           0.09635120980329262,
           0.09608902390140928,
           0.09626513954656793,
           0.12232666904969641,
           0.12278584154824843,
           0.12256160693812486,
           0.12232485250618168,
           0.1218501417329344,
           0.12076078603621518,
           0.1199512065949026,
           0.1197219089746351,
           0.12280836222065551,
           0.12206147140873068,
           0.12217645705019568,
           0.12288290743667095,
           0.12295171558877262,
           0.1236199917442952,
           0.12340142091327416,
           0.12361116456208288,
           0.12380819154677561,
           0.12341384623389985,
           0.12347281072154999,
           0.12384207688201847,
           0.12422566402104443,
           0.12464224863487329,
           0.12425437476713182,
           0.12435243920119139,
           0.12452769203780362,
           0.12459203319157494,
           0.1259454817900044,
           0.12584575382991675,
           0.12612942193065071,
           0.12630171818429686,
           0.12993729939032564,
           0.12997787584201773,
           0.1300275716792346,
           0.13030417635177002,
           0.13058744386256899,
           0.1308035585360466,
           0.1309774450955068,
           0.1312392756036398,
           0.1315658664912866,
           0.13173821704447863,
           0.13206793898955538,
           0.13219466626395754,
           0.1324973602010915,
           0.13281895684503345,
           0.1329882551038243,
           0.13288316674320294,
           0.13293179934471114,
           0.13305747836029788,
           0.13315018363548115,
           0.13327924057171092,
           0.13345769585310013,
           0.1335598267091851,
           0.13364921596202253,
           0.13378449299352482,
           0.1338849520247342
          ],
          [
           0.11573669671188598,
           0.031823193364573024,
           0.07043589177231749,
           0.07413848993152661,
           0.07522941506411171,
           0.0775477221188194,
           0.0784735998035316,
           0.07661480246242364,
           0.07776313294633781,
           0.07954508167450543,
           0.08008647750760717,
           0.08037020749830287,
           0.08036276873655125,
           0.08137451585880262,
           0.0818061792319952,
           0.08242582136596112,
           0.08153798865264636,
           0.08186136232882868,
           0.08207229285044748,
           0.08204827383543703,
           0.08187340269822539,
           0.08682856034680347,
           0.0874642087513637,
           0.08788740673735759,
           0.08723397314129966,
           0.0832223836518213,
           0.08285666130664128,
           0.08302436006029713,
           0.0814501744576115,
           0.08717857106624095,
           0.08749599369007044,
           0.08762222200372768,
           0.08764708760480394,
           0.10919658510412236,
           0.10888090157392434,
           0.10845970867084354,
           0.1081103904894892,
           0.11044699155589761,
           0.1093830807260862,
           0.10964183274880918,
           0.11050202842562658,
           0.1107077828693064,
           0.11021391563722265,
           0.10994521596801687,
           0.110332803666803,
           0.11044022115552471,
           0.11124319916302976,
           0.11121831761184474,
           0.11151853455164534,
           0.11201086841875188,
           0.11232945005368783,
           0.11062560880391774,
           0.11066955742602155,
           0.11081309410548781,
           0.11127122974129139,
           0.11249650234820478,
           0.11245412851394229,
           0.11266996317682446,
           0.112533132697113,
           0.11323899708806087,
           0.11347801986290354,
           0.11368448080941168,
           0.1140887696640093,
           0.11446202168835813,
           0.11490506331914326,
           0.11502397197760135,
           0.11545619740434819,
           0.1158417394468276,
           0.11612592867043878,
           0.11657827212246093,
           0.11665396404078007,
           0.1170105638522074,
           0.11737744787288111,
           0.12073257922076028,
           0.12067080880493469,
           0.12080475354339368,
           0.12089548727875778,
           0.12102107944475025,
           0.12112442801719371,
           0.12129667236418736,
           0.12141034039002117,
           0.12156753583517992,
           0.12168077464189335
          ],
          [
           0.1139783756267128,
           0.03764614222301491,
           0.05911001902806344,
           0.06706963186514492,
           0.07049192901600762,
           0.07144489069572102,
           0.07351037688579357,
           0.07310475417574672,
           0.07161149464175776,
           0.07141300481330655,
           0.07468349803700022,
           0.07582115071607663,
           0.0743117651448945,
           0.07484659137090771,
           0.07519980028297991,
           0.07541099415943524,
           0.0756839389637878,
           0.0736522911333496,
           0.07773052281903463,
           0.07783012749767083,
           0.07792371989843387,
           0.07701465895317572,
           0.07809774255747054,
           0.0787687669277751,
           0.07926173105787258,
           0.07895197891939697,
           0.08271811312397834,
           0.08223478121547623,
           0.08216906451291929,
           0.08116184439920596,
           0.07722898778988949,
           0.07743805862944789,
           0.07780324729081502,
           0.07660849908819717,
           0.08232140415551184,
           0.08253854143900531,
           0.08258299879269204,
           0.08245958590336129,
           0.09299464293977633,
           0.09251046290232483,
           0.09249499349719642,
           0.09279233725777554,
           0.09299777146785271,
           0.10279213042526722,
           0.10261385127353415,
           0.10307496443411214,
           0.10329639400476316,
           0.10298854361209368,
           0.102631787865326,
           0.10303241218200362,
           0.10360848826476496,
           0.10414332565253456,
           0.10385386587569995,
           0.1037514852343283,
           0.10407688091927644,
           0.10401888175543704,
           0.10542810312890083,
           0.1050052231562049,
           0.10529459545770327,
           0.10541276402552499,
           0.1049181218185546,
           0.10535349899447013,
           0.10552851661079665,
           0.10595810944858636,
           0.10646133891969534,
           0.10439177051110772,
           0.10449827982015661,
           0.10494906739662457,
           0.10542832637978745,
           0.10569082764322756,
           0.10758416494863059,
           0.10758080813043672,
           0.10792851800132153,
           0.1079543367985948,
           0.10866501642825531,
           0.10858948239666184,
           0.10877844369028532,
           0.10898526578927432,
           0.109200606837316,
           0.10960138003529725,
           0.10985338774453528,
           0.11011937159471626,
           0.11034381114707834
          ],
          [
           0.09696752343263186,
           0.02352539166013811,
           0.055342012176711385,
           0.05687621502587589,
           0.0635975944995016,
           0.06648689361805771,
           0.06731206258978344,
           0.0678514746846997,
           0.06749892273599085,
           0.06629524719707958,
           0.06642407168578114,
           0.06912755424337173,
           0.07105444496236284,
           0.07211338847763914,
           0.07237574136547369,
           0.07154765236315448,
           0.06997445615963362,
           0.07022504031656698,
           0.06960876285198093,
           0.07141088332250171,
           0.0715808031272408,
           0.07105548677434198,
           0.06914549091095537,
           0.07398217465751235,
           0.07476755132149815,
           0.07576026814194049,
           0.07461631637418152,
           0.07460396942165533,
           0.07405636536822989,
           0.07366976500887383,
           0.07323775032245515,
           0.07739890844092859,
           0.07775978332314429,
           0.07847876848079519,
           0.07809338571241599,
           0.07335928906539826,
           0.07329199844327157,
           0.07370660066113598,
           0.07306209470190327,
           0.07561205762564815,
           0.07551377653490626,
           0.07505364957617477,
           0.07491700810295669,
           0.07419719790162184,
           0.0766737856032514,
           0.07619877583742894,
           0.07605420262533509,
           0.07590191622102384,
           0.08589134795983225,
           0.08574598867189061,
           0.08596139894374952,
           0.08634327828066185,
           0.08670839451200836,
           0.09537778208373214,
           0.09541796958101542,
           0.09557656878486556,
           0.09602654716169037,
           0.09549165614471243,
           0.09506859223807883,
           0.09533952695477949,
           0.0954785992829697,
           0.09634564724029461,
           0.09674775552252259,
           0.09680546793951138,
           0.09731003410936481,
           0.09809387065376794,
           0.0986575811951123,
           0.09854164675757603,
           0.09927319322358255,
           0.09987685289931875,
           0.10000087628654789,
           0.10043102497428417,
           0.10033648637435896,
           0.10040978554305967,
           0.10063432041759643,
           0.09997784568764148,
           0.09978667420635103,
           0.09997297467741476,
           0.10021690169358181,
           0.10045166095887634,
           0.0999571000016743,
           0.10028408109836054,
           0.10055568273464013
          ],
          [
           0.11124242591736115,
           0.019359732377028985,
           0.05408150214436808,
           0.061567163485890676,
           0.06433866041217862,
           0.07066742463121148,
           0.07349105526065479,
           0.07128871937017996,
           0.07119877162332239,
           0.0700935688989496,
           0.06887909972394995,
           0.06712069080586304,
           0.06775415510355469,
           0.06947476163385027,
           0.0691754792631451,
           0.0696972236980699,
           0.07106380899463374,
           0.07202829084236446,
           0.07243825640710046,
           0.07156213116647928,
           0.06986334434899279,
           0.0693744179193614,
           0.06901861820282358,
           0.06811341278641976,
           0.07088392802747559,
           0.0720475792421071,
           0.07249170106458254,
           0.07041591977056881,
           0.07440270615279691,
           0.0734523563384876,
           0.0735774243641068,
           0.07264841151530196,
           0.07294097120419313,
           0.0734611946381415,
           0.0741794393793362,
           0.0741397166294563,
           0.07845630386079315,
           0.07851117667465733,
           0.07912132149088924,
           0.07903882827868952,
           0.07643352802985047,
           0.0763015655518611,
           0.07583331245278915,
           0.07534691105132343,
           0.07491163701597689,
           0.07201498824133894,
           0.07128263539513838,
           0.07108887789346897,
           0.07007479779787577,
           0.07253267172198258,
           0.07253642422370134,
           0.07255610101576543,
           0.0725770599001963,
           0.07213759618390916,
           0.07377863794776794,
           0.07387063227707256,
           0.07396780793712028,
           0.07396933755409621,
           0.09325176834461406,
           0.09280865430581167,
           0.09315933345357257,
           0.09357971445760198,
           0.09343702690294368,
           0.09250106909337878,
           0.09259067237528534,
           0.09325227040880185,
           0.09386292994645039,
           0.09374661908667442,
           0.09364899435357307,
           0.09435977579521525,
           0.09502399142770235,
           0.09516838278835404,
           0.09528663342348292,
           0.09482316239116635,
           0.09501442670442586,
           0.0951484527530993,
           0.09567412885503179,
           0.09537993898427488,
           0.09562853922410385,
           0.09587026416519254,
           0.09589853607020529,
           0.09659108047251048,
           0.09691434729660224
          ],
          [
           0.13448291441840726,
           0.03474998787186264,
           0.0675746936460954,
           0.08790600195803777,
           0.09238654139308655,
           0.08883515468588393,
           0.09118875505438596,
           0.08796563830519818,
           0.08672941674905846,
           0.08680118292752141,
           0.08631214282274421,
           0.08539230836386869,
           0.08610880156881416,
           0.08684444530325468,
           0.08687341221508027,
           0.08694605306657957,
           0.08691537338723732,
           0.08775837243382191,
           0.08822521937050251,
           0.08821480418848819,
           0.08742589894209025,
           0.08950276550895325,
           0.0888108637003961,
           0.08792203494848,
           0.08664974365259591,
           0.08598811510779263,
           0.08652566664713254,
           0.08740647418233313,
           0.08649326609939047,
           0.0881322166101597,
           0.08756997197064252,
           0.08740192807187275,
           0.08531249364940212,
           0.0896924265403972,
           0.09027117269885333,
           0.0914044396651573,
           0.09068609333664937,
           0.09101180856793241,
           0.09118921575154594,
           0.09188339360700663,
           0.09186714166670845,
           0.09376724701392922,
           0.09373144710850011,
           0.09295204082099785,
           0.09248494990275674,
           0.09206311926855777,
           0.0936598441533405,
           0.09226854456920407,
           0.09159211391031531,
           0.09075505924623097,
           0.08862180554442604,
           0.08872815186012419,
           0.0884353742033662,
           0.08822952373587492,
           0.0883942956593178,
           0.08568525728934306,
           0.08598401215672292,
           0.08588214674137942,
           0.08467132305000281,
           0.0904677679967144,
           0.09040545588372548,
           0.0905300910170771,
           0.09054998043605995,
           0.09931381705477951,
           0.09889435325057574,
           0.09907967076535254,
           0.0993656579231518,
           0.09986991278589738,
           0.09841172337467873,
           0.09848897023491072,
           0.09917797791193247,
           0.09958897324212285,
           0.0997930948945224,
           0.10763439649301117,
           0.10723861513456631,
           0.10746189178151086,
           0.10769825553745241,
           0.10719863363667538,
           0.10676558718625134,
           0.10697751320366605,
           0.10719324444052605,
           0.10729918286726994,
           0.10736454028768748
          ],
          [
           0.07684164078854003,
           0.00718799569085016,
           0.041336770952397184,
           0.04100804586458248,
           0.04532639941373129,
           0.0477296333669651,
           0.048786296320791483,
           0.0520236483320849,
           0.05396115320568669,
           0.05504952306896179,
           0.056239212469674574,
           0.0565685613337622,
           0.05596873794636095,
           0.06079598900236025,
           0.0658636016289131,
           0.06641365269567562,
           0.06511507181565052,
           0.0653767711477865,
           0.06635053071921893,
           0.06655569200096288,
           0.06665936389368077,
           0.06559447686057789,
           0.06676898670631151,
           0.0662253821946665,
           0.06570076275895677,
           0.06497443875654221,
           0.06891028652003232,
           0.07002339266701103,
           0.07066463109909313,
           0.06954801404618717,
           0.06759953593057728,
           0.06668262777077405,
           0.06672864885893438,
           0.06597028922454666,
           0.06837783989694013,
           0.06930251558747437,
           0.07008093856063155,
           0.06801512796333253,
           0.07267162322394638,
           0.07288168100287062,
           0.0737113621769212,
           0.07339262066148064,
           0.07364824675330274,
           0.0734429675828992,
           0.07274973436569206,
           0.07225382395199244,
           0.07154296936786728,
           0.070774724789448,
           0.0694605815266516,
           0.06886885832167777,
           0.06810438686579559,
           0.06961975895667248,
           0.06931425966190422,
           0.06882005614206534,
           0.0687565244328623,
           0.06878533822248604,
           0.06716290903435033,
           0.06731140011520599,
           0.06713140904904279,
           0.0666115439899967,
           0.06654402529947932,
           0.06656174221055075,
           0.0666106945977613,
           0.06602496194628167,
           0.06851513422040617,
           0.06885118973281863,
           0.06887759619316547,
           0.0690293051041527,
           0.06939327541553032,
           0.06944157786302672,
           0.06980455436875832,
           0.0703294835732669,
           0.07072528173680942,
           0.07013234353187059,
           0.07256884384626329,
           0.07208953797629676,
           0.07165852978406272,
           0.07131830421294696,
           0.07812702304311746,
           0.07779467468772376,
           0.07777698618244132,
           0.0777198867873797,
           0.07752652743603769
          ],
          [
           0.07596728402666518,
           -0.021177402778970598,
           0.04133129835163631,
           0.04358617888393113,
           0.043511466957266764,
           0.04796651892290522,
           0.050123897794646904,
           0.05175114525907551,
           0.05393199812357252,
           0.05555719467373884,
           0.05675408252602594,
           0.05785606261723895,
           0.0579869241145574,
           0.057602468056898525,
           0.05826411240737314,
           0.06350884487425086,
           0.0684544840098375,
           0.06896426593927808,
           0.06906342271166689,
           0.06867011792216542,
           0.06782515192562755,
           0.06749589484663521,
           0.06663179437498888,
           0.0679161914002814,
           0.06742281535057391,
           0.06717145445937744,
           0.06599577996931395,
           0.06869139106099317,
           0.06943970009477647,
           0.06976129817497013,
           0.06918481593806076,
           0.07235700638851573,
           0.07161074169852406,
           0.07168520671041413,
           0.07098255756817944,
           0.06968123642499476,
           0.07017160018080026,
           0.07117801546607949,
           0.07047450188375246,
           0.07326060535761446,
           0.0735993036478321,
           0.07423812754870492,
           0.07237104263529776,
           0.07515869044016166,
           0.07500730978674783,
           0.07428080200816295,
           0.07358744318308827,
           0.07288629380596476,
           0.07373997412597968,
           0.07231276472052206,
           0.0716467360026222,
           0.07076089345549591,
           0.07044619171415882,
           0.06997118720489272,
           0.06965757149665344,
           0.06935776213420615,
           0.06959545997831625,
           0.0698014813807183,
           0.0698845873251436,
           0.06972657210774054,
           0.06948141638686434,
           0.07303598895329873,
           0.07275867066800083,
           0.07272217654902259,
           0.07237881016435449,
           0.07099179830745048,
           0.07105057256623189,
           0.0711412211418102,
           0.07130895116120968,
           0.07157583618029781,
           0.06816139683940065,
           0.06833307185329685,
           0.0689706519165209,
           0.06907078516927724,
           0.06889138429384113,
           0.07032584735625046,
           0.06984728978221373,
           0.06931527172582691,
           0.06845351328399624,
           0.070554675907228,
           0.07034932118642152,
           0.07004972921719126,
           0.06957385928222251
          ],
          [
           0.09117439370062576,
           -0.009680355831452474,
           0.036473031591054236,
           0.04724797065713482,
           0.049795557289479195,
           0.04970534974596284,
           0.0542009539368129,
           0.055841760665108646,
           0.05827686444449089,
           0.059275892500680626,
           0.06076055475752152,
           0.061968329445049396,
           0.0629059624576206,
           0.06323343792345386,
           0.06229709501264472,
           0.0634052011017719,
           0.06526182288378524,
           0.06962738711385419,
           0.07272336483243087,
           0.07253416130228216,
           0.0739938961238113,
           0.07410474946904919,
           0.07395029309112422,
           0.07298884694210499,
           0.07229187021369977,
           0.07209871419752237,
           0.07141876549733664,
           0.0705569897356246,
           0.07324286256694958,
           0.07393661086755472,
           0.07455544451023462,
           0.07396899603992464,
           0.0757508486547055,
           0.07485207007882357,
           0.0749460740460577,
           0.0745996555130337,
           0.07835359163178808,
           0.07917439833757868,
           0.0801495419651477,
           0.07948546900257317,
           0.07832095327942501,
           0.07838304061097498,
           0.07911705859679605,
           0.07862872386123038,
           0.08068644803405431,
           0.08057439339314106,
           0.07964821922009846,
           0.07893024729624687,
           0.078021247293922,
           0.07785240313985901,
           0.07648788424221484,
           0.07579411645796136,
           0.07316699538542284,
           0.0748734078440484,
           0.07450317396171417,
           0.07395944250652439,
           0.07389540083609913,
           0.07363989221041223,
           0.07429591264968374,
           0.07438659158283745,
           0.07433130444178193,
           0.0742239689992029,
           0.07545494451436656,
           0.07536255696453856,
           0.07538822976494347,
           0.0752847321182193,
           0.07696894005006578,
           0.07713511976615535,
           0.07724312033478793,
           0.07734023985572341,
           0.0776586679597383,
           0.07867156681413609,
           0.07897229500798311,
           0.07946500509708311,
           0.07982847489782455,
           0.07967438075627159,
           0.08044163023738,
           0.07960514913748423,
           0.07880735756524958,
           0.0780075258987368,
           0.07607150287870076,
           0.07575002778330882,
           0.07506296623687034
          ],
          [
           0.08738484266354436,
           0.0200166104537203,
           0.04201744327077336,
           0.04671437826717266,
           0.053126667379035916,
           0.05564350840779332,
           0.05517562965535334,
           0.059550225696488414,
           0.06063135117905427,
           0.06405060545890419,
           0.06401348702213838,
           0.06520064345133178,
           0.06635520296284632,
           0.06751760259841261,
           0.06740435535685083,
           0.0664265663583604,
           0.06764223922659891,
           0.0693056956323552,
           0.07122405680380574,
           0.0717281074193395,
           0.07240577014221977,
           0.07427314224391618,
           0.07642480872908212,
           0.07614980280864557,
           0.07507739697989839,
           0.07816353079168857,
           0.07731532230886697,
           0.07702200728355926,
           0.0759217045101967,
           0.07668080505669657,
           0.07786390442207022,
           0.07817295075151397,
           0.0780004999514368,
           0.07985566353574167,
           0.07908013097491715,
           0.07941886989299053,
           0.07891228670533197,
           0.08129308626249024,
           0.08183329518239497,
           0.08284506515697682,
           0.0823239317239942,
           0.08676821562060638,
           0.08700217118236042,
           0.08762279264991331,
           0.08730809417874899,
           0.08740462749709295,
           0.08710365998132327,
           0.08613358689518673,
           0.08511391887548529,
           0.08419434313178643,
           0.08190474432007509,
           0.0804885233624723,
           0.07951930019737537,
           0.07796449174516908,
           0.0790154114357606,
           0.07846129900714587,
           0.07815408125160031,
           0.07772034850046468,
           0.07603043939503873,
           0.07789486987450868,
           0.07803987811795093,
           0.07821406063198558,
           0.07795422473770738,
           0.08085489497819838,
           0.08090126093923347,
           0.08120399312556846,
           0.08061592905255584,
           0.08107316450510557,
           0.08123100839539725,
           0.0812608239575116,
           0.08139976655906228,
           0.08138516685759396,
           0.08077337801850151,
           0.08086375028464303,
           0.08156053300505783,
           0.0818729624735051,
           0.08181692134878367,
           0.08220556599567559,
           0.08139777976877137,
           0.08066203555658763,
           0.07985130473543757,
           0.08106958818573151,
           0.08026120814254772
          ],
          [
           0.08872278640561705,
           0.023517937764471895,
           0.052594539553219806,
           0.05268471300761512,
           0.056944808725047424,
           0.060542673949459856,
           0.06247376480282456,
           0.0639122073294538,
           0.06590750094091997,
           0.0663548320025487,
           0.07110443787447672,
           0.06955404554437031,
           0.07021869351590411,
           0.07202908609436479,
           0.07273080282356191,
           0.0728569673743963,
           0.07143838088761141,
           0.07404524679707841,
           0.07694341041379762,
           0.07850505932893102,
           0.0789561677842452,
           0.07954468153712743,
           0.07969141511623327,
           0.07974251180251689,
           0.07952276377381365,
           0.07866255141508854,
           0.08339552686306655,
           0.08291311654810826,
           0.08243916348664103,
           0.08115759209281208,
           0.085838367418446,
           0.08681817107716057,
           0.08728283956775226,
           0.08726993275916861,
           0.08729036273495117,
           0.08678776518229656,
           0.08684834056110698,
           0.08665150561418421,
           0.08902739397406532,
           0.08973187398258553,
           0.09083011720325943,
           0.09028020772778107,
           0.09329772125636777,
           0.09319263775361054,
           0.09376098850002698,
           0.09355508592993166,
           0.09635257211779728,
           0.09613593702817416,
           0.09488052775268452,
           0.09384871735187418,
           0.0929110795975721,
           0.09364572750906276,
           0.0917770577848949,
           0.09047792168860087,
           0.08900570356743397,
           0.08807449702530484,
           0.08767455378478006,
           0.08700489896726334,
           0.08639210806988434,
           0.08587316276570772,
           0.08552299803436973,
           0.08592056683248145,
           0.08594726113139291,
           0.08569916584000328,
           0.0874932588513128,
           0.08777797576411399,
           0.0877322575714485,
           0.08598610736320121,
           0.08852845198710431,
           0.08855956127929342,
           0.08864252636627842,
           0.08854243700504334,
           0.08866359464827625,
           0.08928012055522089,
           0.08958373855124742,
           0.0902982305518435,
           0.09066518926849135,
           0.09054655034631867,
           0.09089437593078888,
           0.09007512916023785,
           0.08920388193182682,
           0.08819182446345367,
           0.08841374163745389
          ],
          [
           0.08601937671835404,
           0.02947773797087829,
           0.05800705537906367,
           0.06070347188413564,
           0.06354851637133811,
           0.06762361645799636,
           0.06881888755563915,
           0.07018361967741628,
           0.07100021058177972,
           0.07302452869531376,
           0.07321581283985265,
           0.07920151188048166,
           0.07639915058851295,
           0.07703349082865413,
           0.07855793703803714,
           0.07944973320887742,
           0.07934788801608328,
           0.07758266619887416,
           0.07948794445561479,
           0.08168790167886728,
           0.08462685238374947,
           0.08480399936627613,
           0.08552223027544997,
           0.08547109794041607,
           0.08526258567256903,
           0.08531608016838217,
           0.08420360568178374,
           0.08609581246713513,
           0.08550614394950586,
           0.08497332602130828,
           0.08399519908660671,
           0.08993580539868865,
           0.09130940798358779,
           0.09148608562786109,
           0.09174253331201365,
           0.09562176278922466,
           0.09464911614194672,
           0.0949575279548694,
           0.09475795390769304,
           0.09541527266107734,
           0.096213091634397,
           0.09719502015005405,
           0.09682387332266057,
           0.09985183083061418,
           0.09983117336431595,
           0.10033691480984831,
           0.10010038185648162,
           0.10211120497780093,
           0.10163585345730677,
           0.10043036608048961,
           0.09940114490587595,
           0.09851647939891264,
           0.09822130249069559,
           0.09629046049028007,
           0.09515309261859116,
           0.0936498941411637,
           0.09527216172395937,
           0.09455684143129754,
           0.0937437154718593,
           0.09314597751036838,
           0.09277266692965619,
           0.09371474378610031,
           0.09396214486401669,
           0.09402684523433148,
           0.09382759158705088,
           0.09384060655360849,
           0.09382844160647041,
           0.09390653355246356,
           0.09328017752421736,
           0.0950384986505797,
           0.09513663112220505,
           0.09496835280133166,
           0.0949889827422653,
           0.09480935510316706,
           0.09500946148144725,
           0.09530832386818193,
           0.09605163505517107,
           0.09630355916556405,
           0.09615894805556705,
           0.09621882999016618,
           0.09528240193279972,
           0.09441335742439873,
           0.09191807822951235
          ],
          [
           0.0941502173950443,
           0.04907061302577453,
           0.06652620064737388,
           0.06901268224517065,
           0.07125725376724787,
           0.07630951392837083,
           0.08017962263456935,
           0.07934575619935653,
           0.08023489481955061,
           0.0805847149727925,
           0.08289651076655773,
           0.08278950661706826,
           0.09012114476281032,
           0.08633640969529562,
           0.08640328029028599,
           0.08823097851919215,
           0.08902309481873484,
           0.08879283182488094,
           0.08683984715352328,
           0.08877715752736474,
           0.08976561468568846,
           0.09230458812337872,
           0.09381999189888697,
           0.09466609606888914,
           0.09435708591392072,
           0.09426227490596625,
           0.09416352195528231,
           0.09312775629614255,
           0.09492717547473313,
           0.09413545624323638,
           0.09397329277348533,
           0.09292215884326058,
           0.09624519217379568,
           0.09760149673882808,
           0.09761239961915408,
           0.09819790504909558,
           0.1031501309432822,
           0.10250736827587754,
           0.1026283064107062,
           0.10263369205713964,
           0.10683858968187575,
           0.10746905317762032,
           0.1086979496255171,
           0.10825681161879755,
           0.10955193663932525,
           0.10954373453088881,
           0.10983132682187306,
           0.10972253816448055,
           0.11161401332363102,
           0.11116983463810587,
           0.10995881299421116,
           0.10892597657810973,
           0.1078196070813702,
           0.10747765442489882,
           0.1057493815992908,
           0.10439748751727705,
           0.10319847487135796,
           0.10385540159023694,
           0.10296076906930637,
           0.10220056213803057,
           0.10165084426343793,
           0.1015468348719923,
           0.10395583960729095,
           0.10423349589590164,
           0.10439970661087035,
           0.10435140294226453,
           0.10679645073357583,
           0.10693095300262456,
           0.10704635488003773,
           0.1062965660148005,
           0.10650319731947291,
           0.10632985583527858,
           0.10629405160208986,
           0.10596331137715953,
           0.10595807865587796,
           0.10443616131793954,
           0.10468593165142083,
           0.10535478747987205,
           0.10558812438572257,
           0.10552596510699036,
           0.10528257789873527,
           0.10434701981929086,
           0.10330251556937792
          ],
          [
           0.0927282793742222,
           0.066949310651162,
           0.07258479046835631,
           0.07485895834808098,
           0.07633435733248249,
           0.07822234864956945,
           0.08448139973649954,
           0.0879711331216538,
           0.08562234637252139,
           0.08614431986990617,
           0.08622330140777919,
           0.08860083548854594,
           0.08815584852915576,
           0.09664363955826726,
           0.09167504092475218,
           0.09177926811501524,
           0.09349965251646532,
           0.09424546539306905,
           0.09404891428629857,
           0.09153976896895619,
           0.09381564126139136,
           0.0945076060498151,
           0.09564687776414404,
           0.09536915341453442,
           0.09609695001312069,
           0.09719923382334052,
           0.09848019460571521,
           0.09852433118384056,
           0.09741234034439702,
           0.0991927079439385,
           0.09865673081932473,
           0.0985159249641971,
           0.09752518874112868,
           0.10065775478550484,
           0.10211338840181515,
           0.10224688966606851,
           0.10284841140745804,
           0.10496075081376398,
           0.10428728046847287,
           0.10438202687693089,
           0.10446427584220296,
           0.1096172510086075,
           0.11034458027709798,
           0.11131733218583939,
           0.1110123721707811,
           0.11602244704727066,
           0.11576052333724196,
           0.11609002278376108,
           0.1159277070170962,
           0.11698029984082517,
           0.11661637543574853,
           0.11545912501305054,
           0.11412815322228151,
           0.11281953053385455,
           0.11160750069352901,
           0.10976319570831879,
           0.1086454783251968,
           0.10726122637037126,
           0.10780108760733752,
           0.10695019567205448,
           0.10627103787856045,
           0.1059055615297889,
           0.10573441898940668,
           0.10774822472871162,
           0.10807791767788329,
           0.10843509604118041,
           0.10814316560188679,
           0.10993029547420816,
           0.11012113439457796,
           0.1101323529732418,
           0.10956438052726591,
           0.11176578287318492,
           0.11172085903903657,
           0.11134011854369696,
           0.11118416268798567,
           0.11115026438581099,
           0.11228532674780484,
           0.11245659039694877,
           0.11321519109863717,
           0.11358405375759537,
           0.11344755370608095,
           0.11312985697194249,
           0.11155956671058764
          ],
          [
           0.09256725734640908,
           0.0741039457562249,
           0.07811355246212912,
           0.07846863359344308,
           0.081155831256557,
           0.08205407119060301,
           0.08352210302180474,
           0.09039842160902774,
           0.09359559723482992,
           0.0902965732706787,
           0.09071190319716044,
           0.0905623905712562,
           0.09289045051202371,
           0.09250534140701232,
           0.10132584727502816,
           0.09598770905849163,
           0.09592264087086944,
           0.09759719487394933,
           0.09850306614570291,
           0.09789493066203041,
           0.09536828167481134,
           0.09767407967604799,
           0.09839690570475115,
           0.09953019470682242,
           0.0991882506493535,
           0.1002197670970279,
           0.09936091573853711,
           0.09880381900633595,
           0.09878350747539476,
           0.09753485660948248,
           0.10291744398172557,
           0.10232525101889862,
           0.10231589122894892,
           0.10127951708341537,
           0.10446927162112102,
           0.10617616012593545,
           0.10609795740645714,
           0.10693922720494156,
           0.10866197119065454,
           0.10795535227389084,
           0.10808686299857459,
           0.1082051550658255,
           0.1104842684744423,
           0.1109353175296425,
           0.11177767761541783,
           0.11148224657844999,
           0.11758798757197149,
           0.11735999532568021,
           0.11735429619835315,
           0.11734388990008923,
           0.12046067871032928,
           0.12027813547952433,
           0.11882647028191606,
           0.11731965093713549,
           0.11621609554904842,
           0.11661373442218685,
           0.1149554945651338,
           0.11345340803122116,
           0.11204691516223313,
           0.1118368145583828,
           0.11105335884777011,
           0.11060403846265113,
           0.11006893796210714,
           0.11002820170066724,
           0.11128119919468527,
           0.11178218910440382,
           0.11193573007367218,
           0.11172697837487773,
           0.11363998055873749,
           0.113800921173287,
           0.11392050106942875,
           0.11313463641347575,
           0.11480135820076243,
           0.11438784050594082,
           0.11419294915251421,
           0.1139998775776335,
           0.11391592294750702,
           0.11430032028827744,
           0.11442348114905793,
           0.11519940598681115,
           0.11545040293726387,
           0.11539279327087801,
           0.11490303253421871
          ],
          [
           0.09539163693046905,
           0.0806683817040299,
           0.0814880284739012,
           0.08042331944840708,
           0.08179027326956594,
           0.08470620957252156,
           0.08499814895165914,
           0.08601371561745062,
           0.09309451481449924,
           0.09604189278945362,
           0.09225376812418053,
           0.0925321880858095,
           0.0921104590254613,
           0.09456627637861663,
           0.09378333086902732,
           0.10304209302774393,
           0.0973230330007936,
           0.09725077864562442,
           0.0989941535063125,
           0.09960396591517622,
           0.09901690738980175,
           0.09625069130816995,
           0.09865903457648949,
           0.09936040060510666,
           0.10039006860431417,
           0.10032464241195,
           0.10119757626942613,
           0.10046790051881765,
           0.09988130529549391,
           0.0997723568552143,
           0.09890023818914533,
           0.10032844927555842,
           0.09969054171468333,
           0.09968111807860457,
           0.09876295513818036,
           0.10544982731403664,
           0.10702471911073622,
           0.1069990076831928,
           0.10790484607050026,
           0.10953732489478252,
           0.10879373931591635,
           0.10883411787997321,
           0.10909359313240831,
           0.11083613252924461,
           0.11126120953703506,
           0.11214036737723491,
           0.11184553614694263,
           0.11468911605704794,
           0.11425381045157712,
           0.11414975496716334,
           0.11424075614216596,
           0.1173623038501224,
           0.11692007976508131,
           0.11548403878499049,
           0.1142529595205344,
           0.11314794231466371,
           0.11521198491672602,
           0.11329727921822078,
           0.11180368461097055,
           0.11059662711133081,
           0.11210549219403058,
           0.11160782550423586,
           0.11103151024307119,
           0.11053366633395273,
           0.11069282851542918,
           0.11289570969795311,
           0.1131771539922961,
           0.11347349969275836,
           0.11325377923236325,
           0.11407299197534002,
           0.11438420477731806,
           0.11422729747664441,
           0.11363747767327492,
           0.11498565126180109,
           0.11472533667561503,
           0.1145044282096914,
           0.11424773411924097,
           0.11408859120860194,
           0.11447979273604963,
           0.11468756482919557,
           0.11537209453014925,
           0.11569192519217555,
           0.11577030466381175
          ],
          [
           0.0917613659276912,
           0.08834330191702257,
           0.08319451428629483,
           0.08333217087030059,
           0.0819739465447791,
           0.08394125972002545,
           0.08679798367554861,
           0.08653809351319296,
           0.0872075414755793,
           0.09439947027176611,
           0.09728100973854595,
           0.09311995626225084,
           0.09323383755705575,
           0.09285871066871286,
           0.09495072186410093,
           0.0942988093511431,
           0.1035983867685453,
           0.09768525807877139,
           0.09782493025609323,
           0.09919746765567025,
           0.09995539919643838,
           0.09905640542742136,
           0.09633301920884252,
           0.09884556688655759,
           0.09938357520255581,
           0.1005384688281736,
           0.10033968635667445,
           0.10133979645456646,
           0.1005820483399258,
           0.09993939444872996,
           0.10011929927019324,
           0.09932078534718812,
           0.10089759294912648,
           0.10022412975324396,
           0.10030196350380359,
           0.09957858582218891,
           0.10175832640839713,
           0.10319532394047459,
           0.10301348687916927,
           0.10396707475516487,
           0.10955093577418339,
           0.10862740165958007,
           0.10866020475722452,
           0.10888687445970036,
           0.1104734600580943,
           0.11084856656102395,
           0.11166460314781072,
           0.11142996457720873,
           0.11372785416231979,
           0.11329806297233874,
           0.11322108234348734,
           0.11342528598661308,
           0.11510291968795039,
           0.11453046806742452,
           0.11330108140387443,
           0.11202320821805369,
           0.11114281109684541,
           0.11108307239657708,
           0.10935632233708108,
           0.10802489676705518,
           0.10715929281086901,
           0.10889344606377874,
           0.10826366845293167,
           0.10774630014045083,
           0.10732760841251314,
           0.10758494764582363,
           0.11234961756839104,
           0.11278516849537765,
           0.11311404206927635,
           0.11278993197925889,
           0.11514036048405385,
           0.11511902245000287,
           0.11512114000120761,
           0.11425941485833907,
           0.1149984699293168,
           0.11469221068135885,
           0.11443844183261509,
           0.11407873466381727,
           0.11388157128018993,
           0.11352393445054548,
           0.11363275071608953,
           0.11436497465410149,
           0.1153815447100705
          ],
          [
           0.11547814422049915,
           0.09222106347531488,
           0.08617304248749855,
           0.08549618355061245,
           0.08549557711787209,
           0.08392538788603329,
           0.08598083648539036,
           0.08857688676691672,
           0.08778253913077683,
           0.08814774919750976,
           0.09542790552892302,
           0.0981326565341533,
           0.09355273917173257,
           0.09373035039651838,
           0.09289827288625124,
           0.09503031583976126,
           0.09418937039268113,
           0.10345055110506844,
           0.09757345994668717,
           0.09750078096880009,
           0.09888001628663776,
           0.09942418725498575,
           0.0984215023041071,
           0.09573642574338255,
           0.09820550664575732,
           0.09893198081085527,
           0.0997934263082443,
           0.0997617054056086,
           0.10069875966981488,
           0.09988397123336848,
           0.09956516346565451,
           0.09969567187995704,
           0.09907159029894422,
           0.10046005481133835,
           0.09982124413805704,
           0.10010402956767078,
           0.09920853392104133,
           0.10141481519175352,
           0.10278941410434149,
           0.1026570618017413,
           0.10379860334939627,
           0.10438205008791356,
           0.1035249819444518,
           0.10327262689194558,
           0.10350754888274384,
           0.10901931127791809,
           0.1092419322378993,
           0.1100545917136497,
           0.10975155469998235,
           0.11192523981672202,
           0.1115159060110755,
           0.11140210054497399,
           0.11171848680848798,
           0.11297973923932585,
           0.11261229321762233,
           0.11133652620448367,
           0.11019192611355916,
           0.10919869119961027,
           0.10886229525257245,
           0.10729553373910662,
           0.1060851010125344,
           0.10548565920897908,
           0.10603538376098028,
           0.10540890709058529,
           0.104997201184007,
           0.10466333385002373,
           0.1048046603778647,
           0.10807568144832261,
           0.10841436803357017,
           0.10860357425525916,
           0.10833979004344368,
           0.11151263189133016,
           0.11165872560177816,
           0.11129034337109069,
           0.11072839841954567,
           0.11298428056382495,
           0.11267862935658751,
           0.11232077247333136,
           0.11192985703117578,
           0.11179482025099353,
           0.11290344132544194,
           0.1129744722439106,
           0.11490266193155357
          ],
          [
           0.11824375907515856,
           0.08558581598466623,
           0.091026363519949,
           0.09094572555562422,
           0.091385004389314,
           0.0913663542944201,
           0.08942413920265263,
           0.09147739866582978,
           0.09393265292535165,
           0.09272538251358897,
           0.0929911243325062,
           0.10055452324423833,
           0.10317841083128941,
           0.09834364944005267,
           0.09818461991535811,
           0.09738411570728128,
           0.0993905446395484,
           0.09844547819437423,
           0.10823345287728875,
           0.10173201591755633,
           0.1018694070887917,
           0.10298569590904938,
           0.10357337588486522,
           0.102442535208618,
           0.09960291041981859,
           0.10245084213375517,
           0.1029534960979691,
           0.10388125149095323,
           0.10384155111741421,
           0.10473292618746588,
           0.10421249144239406,
           0.10388067093196501,
           0.10407004326184752,
           0.10349380763728962,
           0.10493688209226075,
           0.1044456039572656,
           0.10458166449792478,
           0.10368475029881108,
           0.10568385161280451,
           0.10714090864682232,
           0.10703391548132436,
           0.10826809403418318,
           0.10884516125196492,
           0.1076905812841434,
           0.10745889180505236,
           0.10784043612735011,
           0.10825533571110131,
           0.1083400356921503,
           0.10888658094401375,
           0.10871076307812864,
           0.11521084340685792,
           0.11472094684102006,
           0.11452431832996786,
           0.11481558359748789,
           0.11611443983593084,
           0.11572095063926086,
           0.11457453216681898,
           0.11323368389309288,
           0.11207207558371302,
           0.1118740666112807,
           0.11040437141163677,
           0.10930347258967402,
           0.1087475123037821,
           0.10907647483706215,
           0.10853690811633021,
           0.10822620204207815,
           0.1077784996129616,
           0.10800303234086937,
           0.11016300521484512,
           0.11034489846275251,
           0.1105912033747305,
           0.11004409426179083,
           0.11149002336997531,
           0.11144229541977771,
           0.1112515416348113,
           0.11077201458340165,
           0.1129757366726158,
           0.11253751183341146,
           0.1121373864939309,
           0.11176921906073524,
           0.11154280957388844,
           0.11364929844684273,
           0.11457660837152976
          ],
          [
           0.11271474788755358,
           0.10822629093454196,
           0.11478989541896402,
           0.09668964006669417,
           0.09781829822245158,
           0.09911018507507362,
           0.09883699539314791,
           0.0964078494524537,
           0.09848217156270574,
           0.10093051119672254,
           0.0994239976827695,
           0.09955456784569039,
           0.10760881818622224,
           0.11052059737192775,
           0.10485392958260047,
           0.10484837174951724,
           0.10378286357907797,
           0.10583127648646067,
           0.1049234283007354,
           0.11517689834980097,
           0.1082378012380597,
           0.10824809037429843,
           0.10933984656256496,
           0.10998558713469066,
           0.1085921788474703,
           0.10584098098823147,
           0.10884364052448552,
           0.10946264964805313,
           0.1103032582691707,
           0.11024887461343644,
           0.11151717241868268,
           0.11095737447428249,
           0.11068708100735516,
           0.11085006514842033,
           0.11039258218832759,
           0.11208152767394443,
           0.11137278764153252,
           0.1115788559624994,
           0.11053337034150013,
           0.1126197353632864,
           0.11422480599595312,
           0.11399970560593808,
           0.1154573458478335,
           0.11569317609046505,
           0.11442210214263998,
           0.1141933535159764,
           0.1146593119703284,
           0.11505953785468508,
           0.11496543767423219,
           0.11565455207767489,
           0.11562762665522211,
           0.11667664512787795,
           0.11612324130305583,
           0.11559097980918026,
           0.11594684128944784,
           0.11943526830940648,
           0.11918737956880812,
           0.11792604555984287,
           0.1164379483054701,
           0.11546139826159943,
           0.11772717733310444,
           0.11635996449670584,
           0.11513242884641459,
           0.1146657724959448,
           0.11498144752167447,
           0.11451853164511029,
           0.11410766554440362,
           0.11362209392098176,
           0.11389000694314769,
           0.11582491834082789,
           0.11605658762154912,
           0.11606652196457198,
           0.11552477828739735,
           0.11662881458690293,
           0.11671276954921994,
           0.11653241085481984,
           0.11602462864920934,
           0.1171308315480842,
           0.11657841889576964,
           0.11623752250488699,
           0.11580412282482351,
           0.1156286710735091,
           0.11550526502314411
          ],
          [
           0.12205549376656277,
           0.11288464958119634,
           0.11242922703035041,
           0.1299369052948654,
           0.10480634590844623,
           0.106897397988379,
           0.10858766520318788,
           0.10792535011672143,
           0.10493560887732441,
           0.10705631076671532,
           0.10961793884899355,
           0.10767604737794154,
           0.10762220766024645,
           0.11650985238017461,
           0.11931986890297361,
           0.11315791495539376,
           0.11301172658334263,
           0.11169660826809186,
           0.11393283664278246,
           0.11259474815559535,
           0.12386493345801963,
           0.11602353408306078,
           0.11607530942564137,
           0.11711398986446257,
           0.117694025254038,
           0.11630919146641532,
           0.11318982412005099,
           0.11657127087265289,
           0.11706800947768171,
           0.11783364167466827,
           0.11811820436708954,
           0.11944148596884847,
           0.11890833457932741,
           0.11857581863575277,
           0.11876573327299762,
           0.11854550045311608,
           0.12002354357186008,
           0.11926306359513782,
           0.11939084411131994,
           0.11827714595977812,
           0.12042706859329698,
           0.12204510619629096,
           0.12176163938097995,
           0.12331669874873337,
           0.12345955628501425,
           0.1219952273973799,
           0.12166730065266958,
           0.1222720313450314,
           0.1222723542722542,
           0.12218404141369608,
           0.12299802595145652,
           0.12302695638906384,
           0.12410760638930646,
           0.12330142936969918,
           0.122855554904939,
           0.12335383832658356,
           0.1240287425408097,
           0.12364225330409516,
           0.12222101323993957,
           0.12086418952708944,
           0.12005472553993592,
           0.11970440207797076,
           0.1184455773181619,
           0.11733641976605687,
           0.11702959414839632,
           0.11938537342182211,
           0.11882151803940903,
           0.11841042123993192,
           0.11786430567671828,
           0.11803552962319871,
           0.1219614613724973,
           0.12192843980815855,
           0.12197581350147278,
           0.12113135436930822,
           0.12240895907316779,
           0.12250227657418745,
           0.12221167942076648,
           0.12176484618787702,
           0.1225850874471018,
           0.12208585681437484,
           0.12169600055415047,
           0.12128908660166182,
           0.12124489991317203
          ],
          [
           0.12550409964879955,
           0.11925332699044809,
           0.11667034320527996,
           0.1202070515639403,
           0.1447046531435159,
           0.1136523660371473,
           0.11628492648506021,
           0.11819911077538106,
           0.1171321249931347,
           0.11360487055895174,
           0.1158898263715514,
           0.1185118207888929,
           0.11607880702631491,
           0.11607263089227579,
           0.12548627124551404,
           0.12871866481006444,
           0.12172914518187183,
           0.12154874386251599,
           0.12009678440866853,
           0.12209637568277386,
           0.12071943372708548,
           0.13283143658344068,
           0.12416584079427342,
           0.12433565303426167,
           0.12520051923269998,
           0.12605685420236498,
           0.12422542928931549,
           0.12101557532513958,
           0.12481715762551791,
           0.12522115628721447,
           0.12614445496391002,
           0.126466861158112,
           0.12795088710316815,
           0.1273372617912552,
           0.1270169657122932,
           0.12734747146206868,
           0.12703934507009665,
           0.12863137657657525,
           0.12767195050629254,
           0.12783853188608282,
           0.1266467370179928,
           0.12865975307621771,
           0.13039724992163299,
           0.12991642773802056,
           0.13182224969015377,
           0.13182963978288037,
           0.13005270714984152,
           0.1296769039943072,
           0.13034421306812613,
           0.13022593651565584,
           0.1301375616596663,
           0.13102452534462333,
           0.1310850008233683,
           0.1318273272712215,
           0.13102917777936102,
           0.13048646620851434,
           0.13129094172515907,
           0.13186195928009176,
           0.13133680866547262,
           0.1299551038557033,
           0.12859431512151676,
           0.127834820876359,
           0.12751477559020571,
           0.12609720823540502,
           0.12494775252411851,
           0.12483245072851451,
           0.12461000915208807,
           0.12402914865291169,
           0.12356812088735078,
           0.12289897173942049,
           0.1230836320751909,
           0.12633599330959389,
           0.12629159948733645,
           0.12608048062846783,
           0.1253200143287384,
           0.12871591751983094,
           0.1287296499768234,
           0.12842067567714238,
           0.12796349569634397,
           0.12878261960604812,
           0.1282250567597653,
           0.12788562604776157,
           0.12740145792574856
          ],
          [
           0.14065429317633685,
           0.13061841662120235,
           0.13199180396363155,
           0.12700007278624248,
           0.13140810499794023,
           0.16171814914122765,
           0.1252244419193549,
           0.128316996220489,
           0.13048904562768548,
           0.1291407232264097,
           0.1252407889007734,
           0.12770133211528004,
           0.13043390879236333,
           0.1277504344206272,
           0.12749988001138182,
           0.13806299776946454,
           0.14158008675998737,
           0.1337955716982136,
           0.13378714485181972,
           0.1317786669316573,
           0.13398031275834024,
           0.132237431025039,
           0.14559388969718132,
           0.13596569091829036,
           0.1361900122238977,
           0.1371986381019976,
           0.13796802444211118,
           0.1359391739240988,
           0.1324205387957461,
           0.13652584965209627,
           0.13714498622701876,
           0.1380602011121289,
           0.13854628685538925,
           0.14010697655518412,
           0.13949361371515562,
           0.1393165421711769,
           0.13944021644771545,
           0.1392732916666882,
           0.14059617583919634,
           0.13953394429826896,
           0.13976227673733285,
           0.1383505058751279,
           0.1404553951584032,
           0.14222703751699223,
           0.14175809890637936,
           0.1440849538557344,
           0.14372883502800995,
           0.14163184046516508,
           0.14107373456533293,
           0.14207017798277582,
           0.14176996158151955,
           0.1415899205170007,
           0.1425402456563376,
           0.14255498426500687,
           0.1433268330510794,
           0.14234592364400936,
           0.14182973653402542,
           0.14275745868325507,
           0.14299968197390428,
           0.14262720401287315,
           0.14122886617928979,
           0.1398150983011537,
           0.13892816331442426,
           0.13848246034487727,
           0.13698438485048084,
           0.13578362068309335,
           0.13564471272403444,
           0.1353338065691721,
           0.1346484356051105,
           0.13403794021978632,
           0.13326166251002972,
           0.13336297615349632,
           0.13432832797173672,
           0.1340228862993509,
           0.13389747045336278,
           0.13310052064427388,
           0.13380071518907022,
           0.13375497322189228,
           0.13335145682304897,
           0.133015036647941,
           0.1359188504761394,
           0.13541536998514778,
           0.13505257876490814
          ],
          [
           0.161600643425054,
           0.14380597301228093,
           0.13592769831556745,
           0.14257591863317925,
           0.1366290780046847,
           0.14192305327897145,
           0.17642917821295623,
           0.13546025781252882,
           0.13889965955767444,
           0.14128619770617223,
           0.13975298286465457,
           0.13546182145914148,
           0.1380070498978116,
           0.14098068158986668,
           0.13764383859045584,
           0.13760924028945465,
           0.14886792899971305,
           0.15271834602693146,
           0.14437711186998103,
           0.1442014011056559,
           0.14198382938291856,
           0.14388212472777537,
           0.14192246577044468,
           0.15628297621646334,
           0.14571996135345636,
           0.14646048813226883,
           0.14710812824301786,
           0.148073659004318,
           0.14556678222120156,
           0.1418374085719324,
           0.14672984749584816,
           0.14714824277651684,
           0.14777936066158026,
           0.1483158790024852,
           0.14996618966767825,
           0.14948756610568947,
           0.14912288881363567,
           0.14917295855559212,
           0.14910495044368816,
           0.15053413988027503,
           0.14934517739248587,
           0.14949146378056694,
           0.14792548331146832,
           0.14956834576971492,
           0.151540402741701,
           0.15110577188781704,
           0.15383286226189946,
           0.15322039319023603,
           0.15057410289381157,
           0.1500298309710972,
           0.15141342115938458,
           0.15062859660918287,
           0.1502832406789753,
           0.15122319514890584,
           0.15151939864532613,
           0.1520601453327749,
           0.15102289715996653,
           0.15032184519311756,
           0.15140948993306275,
           0.15162433293536712,
           0.15140122214110263,
           0.14999168415954006,
           0.14832015533352097,
           0.1473465973877341,
           0.14692908261413862,
           0.14536807609079,
           0.14386520603025654,
           0.14387445080009909,
           0.14321730282155226,
           0.14235862946101238,
           0.14169053158105316,
           0.1405960331414005,
           0.14082615484482494,
           0.14145279143592737,
           0.14123242698877628,
           0.14112074555549253,
           0.1401673876324892,
           0.14101578637201984,
           0.14090414903912982,
           0.1405702375629905,
           0.14032368427010855,
           0.1405160870744493,
           0.13993933545551532
          ],
          [
           0.1651857644407233,
           0.1691847722961839,
           0.15013873831621535,
           0.14399900909410301,
           0.15186525076329163,
           0.1453602249440138,
           0.15094592014281927,
           0.1877202966554257,
           0.14393355316118417,
           0.14750959113912346,
           0.1500167842130443,
           0.148179005554766,
           0.14355984664719412,
           0.1462145730464088,
           0.14884032316062965,
           0.14528215781570444,
           0.14521895091089784,
           0.15669893620031936,
           0.1608888818932281,
           0.15195450828539742,
           0.15208383065025527,
           0.14928178945209666,
           0.15074014864824256,
           0.1485751374543888,
           0.16318050342225854,
           0.1524486188530532,
           0.15358485302615016,
           0.15395111310969334,
           0.1549306690592465,
           0.15187910982659708,
           0.1484967881678208,
           0.15365520440191108,
           0.15399614012595603,
           0.1541777579394261,
           0.15491349189232803,
           0.15668306281997335,
           0.15606468825828065,
           0.15575647477991622,
           0.15552364215772782,
           0.15576613331011213,
           0.15654275050491653,
           0.1550765567041384,
           0.15518322428920825,
           0.1533355415732471,
           0.15484513021089238,
           0.1569644097760474,
           0.1565787244164484,
           0.1598259225874331,
           0.15835677328384826,
           0.15527581120965786,
           0.1547431780881935,
           0.15654908674477874,
           0.1552875949371584,
           0.15467244678574876,
           0.15594219628154918,
           0.156420379640752,
           0.15661744529865607,
           0.1552985805163203,
           0.15443113845584197,
           0.1560692574503245,
           0.15617372556063883,
           0.15620053043378132,
           0.15460326560556867,
           0.15275478669895778,
           0.1518345765805415,
           0.15149181916703394,
           0.14965770101426376,
           0.14800919131819093,
           0.14822103138252116,
           0.1471332395848532,
           0.14621464080607807,
           0.14529602837353803,
           0.1440833813201308,
           0.1442352872057431,
           0.14483673594401164,
           0.14459875853771537,
           0.14446060646986736,
           0.1433724558180303,
           0.14393145438398275,
           0.1439414221975032,
           0.1436044616455293,
           0.14351771766282057,
           0.14275980582080053
          ],
          [
           0.1605102511966115,
           0.17475015244316391,
           0.17205933393787126,
           0.1570000999661766,
           0.15088717526477963,
           0.15993600529167626,
           0.15319278694324504,
           0.15911911745528448,
           0.1973921237706622,
           0.15205302682962865,
           0.15600868757224243,
           0.1587521568357347,
           0.1567496644552476,
           0.15222314754685382,
           0.1547970450183884,
           0.15765916844836758,
           0.1537317260484044,
           0.15392690362021189,
           0.1659644597583202,
           0.1704079567163214,
           0.1613821476021357,
           0.16173161389515983,
           0.15849924339348334,
           0.15943498708904222,
           0.15695669336837695,
           0.17239717349747063,
           0.16105807065116845,
           0.1630228390277393,
           0.1629164332998684,
           0.1640102731990766,
           0.16066517476981126,
           0.15734452365110677,
           0.16305980727400063,
           0.1630525066979495,
           0.16273213146325752,
           0.16386528072722537,
           0.16546558680522805,
           0.16494133762274812,
           0.16459681748938107,
           0.16419811010933186,
           0.16490845131751355,
           0.16529840844575636,
           0.16363768005674592,
           0.1636191615658534,
           0.1616532773606158,
           0.16247411514212268,
           0.16476365616778535,
           0.16454575246425432,
           0.168409959440614,
           0.16660701400849512,
           0.1629840069141639,
           0.1624145852988346,
           0.16471758822448582,
           0.1624473478205249,
           0.16182187232091277,
           0.1633045708065032,
           0.16420230448041764,
           0.16399498413041144,
           0.16234660853458657,
           0.1616063152286723,
           0.1638713204148925,
           0.1637963959583789,
           0.16386829396653754,
           0.1621367250763569,
           0.16014676863589417,
           0.15929839851580313,
           0.15867695192964906,
           0.15668461381024232,
           0.1548090938570032,
           0.1552165974542579,
           0.15374597756517763,
           0.15252975946265263,
           0.15157932749077152,
           0.1499694132153431,
           0.15043607436456777,
           0.15091205890028075,
           0.1506251522523467,
           0.1505099667861476,
           0.14923474943060722,
           0.14979508282205786,
           0.14986249342521338,
           0.14957130668871046,
           0.14951944512186938
          ],
          [
           0.15877531500573372,
           0.18029146657846967,
           0.1815831095391829,
           0.17848313842369112,
           0.163410410679056,
           0.15753232587025764,
           0.16707404483934168,
           0.16036279871628137,
           0.16643768237111572,
           0.2046209459368489,
           0.1594899216072859,
           0.16364893023230667,
           0.16647368731961448,
           0.16449612166658528,
           0.15987656221868696,
           0.1627130784771793,
           0.16539887343479195,
           0.16120395612359018,
           0.1619022019192522,
           0.17376144454278067,
           0.17885997150859,
           0.1698399515856776,
           0.1709082538730477,
           0.16712171771862705,
           0.1670189508929851,
           0.16454442016436294,
           0.1799878521721337,
           0.1686367334405643,
           0.17165815681546356,
           0.17089401903889823,
           0.172485201418513,
           0.16840395740815794,
           0.16559619683088703,
           0.17141556566150554,
           0.17075080281247718,
           0.16971370153904494,
           0.17097888886473012,
           0.17253153470885862,
           0.17202913243979878,
           0.17180649144077909,
           0.17114729111749058,
           0.17235362280554412,
           0.17194724686439805,
           0.1698996097648537,
           0.16990229210470523,
           0.16782433365258592,
           0.1680079208830165,
           0.17053516636940388,
           0.17047940969473221,
           0.17529113334238192,
           0.17236236090292065,
           0.16800296029670111,
           0.16735341337212115,
           0.17025771483350136,
           0.16739351332734417,
           0.16656806235977917,
           0.16852308567921756,
           0.16964880255119547,
           0.16848738235572536,
           0.16677506326593544,
           0.16617950930899325,
           0.1693148947153335,
           0.16887004090865368,
           0.1691756983702031,
           0.16740097171523236,
           0.16530542844391102,
           0.16430106719191792,
           0.16373860851099015,
           0.1615437301218635,
           0.15934590472344842,
           0.1601834831253373,
           0.15784663136694152,
           0.15657064294923445,
           0.15530867195852402,
           0.15361321200186406,
           0.15433243589278833,
           0.15446616618632514,
           0.15414521106823054,
           0.1540221706162537,
           0.15271513044161955,
           0.1531238606031129,
           0.15331109288573724,
           0.15302605658943252
          ],
          [
           0.18660894319126226,
           0.18798990129597337,
           0.18219619661461403,
           0.18515257970210905,
           0.1807059812690009,
           0.16635155740471066,
           0.16055995429047282,
           0.17018072703181747,
           0.1638307750721995,
           0.1698867914706613,
           0.2063908941756512,
           0.1631267134482729,
           0.16731977910320106,
           0.17033477012616405,
           0.16802669250946792,
           0.16394684988259045,
           0.16670396445229843,
           0.16915161615417498,
           0.16481829661261768,
           0.16590324150553093,
           0.17772310409009467,
           0.18333315349731685,
           0.17498817153085813,
           0.17719534507370321,
           0.1724997360631972,
           0.17108331743247762,
           0.16814555626959193,
           0.1833975901387408,
           0.1721232901231968,
           0.17656715964434666,
           0.17513617334504508,
           0.17683595848040848,
           0.17201027113733358,
           0.16981739099746024,
           0.17684950512507097,
           0.1761323160015217,
           0.17353068872732355,
           0.17527506709533902,
           0.17660671238857353,
           0.1763509195239951,
           0.17632807521668703,
           0.1752063203502979,
           0.17725325552587173,
           0.17552831858551995,
           0.17324385995118727,
           0.1732794298058323,
           0.17100283304500533,
           0.17013856631083266,
           0.1728347195877414,
           0.17329391787989182,
           0.1793627662506046,
           0.17544820918493503,
           0.17008437021775197,
           0.1693348375540039,
           0.1733650679296114,
           0.1689740603840981,
           0.16814953670142346,
           0.17043987570653676,
           0.17199446299601648,
           0.1702444345110129,
           0.16845136333465857,
           0.16817579977540073,
           0.1721685817033093,
           0.1712145663539798,
           0.1719336031827542,
           0.17018123848502772,
           0.16767557848432205,
           0.16674526347961374,
           0.16599653940392342,
           0.16349598765092907,
           0.16109747087389767,
           0.1622233641843312,
           0.15929105606507615,
           0.15765401368709872,
           0.1564441787480637,
           0.15450793113173708,
           0.15554429684366394,
           0.15542896265847048,
           0.15506825449117054,
           0.15514344515394912,
           0.15369853919377174,
           0.15382534312678067,
           0.15438317217808634
          ],
          [
           0.17132465924226092,
           0.20626777459866072,
           0.17903681419183134,
           0.1883290146288382,
           0.18952128561469855,
           0.18467033937064803,
           0.17155326690354397,
           0.16605748315775407,
           0.17555907840935628,
           0.17008805915328734,
           0.1761469935124891,
           0.20922737606910005,
           0.16962410282098042,
           0.17407908369292655,
           0.17694358437252922,
           0.17476101575048417,
           0.17126180212511954,
           0.1740591633333632,
           0.1763285159613458,
           0.1716223522020897,
           0.17386568708828137,
           0.18525674335620115,
           0.1920635653217869,
           0.18518570042080687,
           0.18957443050355133,
           0.1837706193019454,
           0.17959428204628414,
           0.1761249470744096,
           0.19083818744412115,
           0.1798697115827896,
           0.18665220164265608,
           0.18372387660913178,
           0.18587664054233508,
           0.17989613385430492,
           0.17884094307869078,
           0.18629058720536004,
           0.18480902252657133,
           0.1812874350155416,
           0.1835313534891827,
           0.18471567039279627,
           0.1847940459334811,
           0.1849013410940799,
           0.1833290652487031,
           0.1863872966906404,
           0.1825215544618189,
           0.17991464095652557,
           0.1798899614521756,
           0.17748514290412915,
           0.17504864418789534,
           0.17823934391104387,
           0.1794267154785922,
           0.18711942436410758,
           0.18138807712275673,
           0.17470517372912478,
           0.17418953569578607,
           0.17946141956593567,
           0.17386839742724647,
           0.17270619605354204,
           0.1755195567935745,
           0.17792223806329743,
           0.17490393227214737,
           0.17316632662210243,
           0.17305357880832808,
           0.17843384243192373,
           0.17698614887076158,
           0.178320561284134,
           0.17626705220356406,
           0.17350874354826137,
           0.17262768300995102,
           0.17163015849717259,
           0.1689555011474308,
           0.16595614210465345,
           0.16786189765517742,
           0.16355454008946818,
           0.16190895817725473,
           0.16059805814088188,
           0.15833860216468104,
           0.15981150715038156,
           0.15914710224108386,
           0.15891880027255648,
           0.15912408318647547,
           0.15762820912941425,
           0.1576261811443796
          ],
          [
           0.18955984781901797,
           0.20176548179987105,
           0.195496815798879,
           0.17611109444000936,
           0.18478738490121172,
           0.18506754837498057,
           0.17990164767709246,
           0.16895712254192627,
           0.1640491666944994,
           0.17313649802935574,
           0.16931010245927722,
           0.1752997206386204,
           0.2023520454355372,
           0.1691826651301908,
           0.1735780652297741,
           0.17669343486805947,
           0.17435816725686976,
           0.17197794162240082,
           0.17498617141268372,
           0.1766679821220865,
           0.17211571827578145,
           0.1759032135771747,
           0.18718931050255924,
           0.19610361258934594,
           0.19249259219614545,
           0.20230645122171828,
           0.19358365555525292,
           0.184130150376675,
           0.17933618794972095,
           0.19304789914657453,
           0.18297390070732317,
           0.19274617174606176,
           0.18761918738792271,
           0.1900510612710317,
           0.1828009889903308,
           0.18374486494673736,
           0.19189038935733002,
           0.18883901033190112,
           0.1825500294314944,
           0.18570286247462955,
           0.18667985167690623,
           0.187135060778272,
           0.18757077006230571,
           0.18522381695122825,
           0.1899483046173421,
           0.18529744707242504,
           0.18215357269833032,
           0.18218548620821143,
           0.17949907135312893,
           0.17455565714955432,
           0.178469927445038,
           0.1807174575686881,
           0.19043854413959016,
           0.18206005968938108,
           0.17396815092984758,
           0.17358877635635578,
           0.18091968881621623,
           0.17277337759829117,
           0.17131901262326554,
           0.17516720889373855,
           0.17863950407383994,
           0.17465348265894157,
           0.17266324996983856,
           0.17314204404298714,
           0.18052552606487873,
           0.17825652333954312,
           0.18008496851587177,
           0.17796151002256252,
           0.17479328305420405,
           0.1738648492006796,
           0.17265147359809144,
           0.16927956040970665,
           0.1659593945432281,
           0.1685214510329403,
           0.1628871795661859,
           0.16102043231721294,
           0.15956798563795843,
           0.15691194489338686,
           0.15904621511231087,
           0.15786856222061782,
           0.15767956961684676,
           0.15823102464715702,
           0.1563443893058646
          ]
         ]
        }
       ],
       "layout": {
        "scene": {
         "xaxis": {
          "autorange": "reversed",
          "title": {
           "text": "År"
          }
         },
         "yaxis": {
          "autorange": "reversed",
          "title": {
           "text": "Alder"
          }
         },
         "zaxis": {
          "title": {
           "text": ""
          }
         }
        },
        "template": {
         "data": {
          "bar": [
           {
            "error_x": {
             "color": "#2a3f5f"
            },
            "error_y": {
             "color": "#2a3f5f"
            },
            "marker": {
             "line": {
              "color": "#E5ECF6",
              "width": 0.5
             }
            },
            "type": "bar"
           }
          ],
          "barpolar": [
           {
            "marker": {
             "line": {
              "color": "#E5ECF6",
              "width": 0.5
             }
            },
            "type": "barpolar"
           }
          ],
          "carpet": [
           {
            "aaxis": {
             "endlinecolor": "#2a3f5f",
             "gridcolor": "white",
             "linecolor": "white",
             "minorgridcolor": "white",
             "startlinecolor": "#2a3f5f"
            },
            "baxis": {
             "endlinecolor": "#2a3f5f",
             "gridcolor": "white",
             "linecolor": "white",
             "minorgridcolor": "white",
             "startlinecolor": "#2a3f5f"
            },
            "type": "carpet"
           }
          ],
          "choropleth": [
           {
            "colorbar": {
             "outlinewidth": 0,
             "ticks": ""
            },
            "type": "choropleth"
           }
          ],
          "contour": [
           {
            "colorbar": {
             "outlinewidth": 0,
             "ticks": ""
            },
            "colorscale": [
             [
              0,
              "#0d0887"
             ],
             [
              0.1111111111111111,
              "#46039f"
             ],
             [
              0.2222222222222222,
              "#7201a8"
             ],
             [
              0.3333333333333333,
              "#9c179e"
             ],
             [
              0.4444444444444444,
              "#bd3786"
             ],
             [
              0.5555555555555556,
              "#d8576b"
             ],
             [
              0.6666666666666666,
              "#ed7953"
             ],
             [
              0.7777777777777778,
              "#fb9f3a"
             ],
             [
              0.8888888888888888,
              "#fdca26"
             ],
             [
              1,
              "#f0f921"
             ]
            ],
            "type": "contour"
           }
          ],
          "contourcarpet": [
           {
            "colorbar": {
             "outlinewidth": 0,
             "ticks": ""
            },
            "type": "contourcarpet"
           }
          ],
          "heatmap": [
           {
            "colorbar": {
             "outlinewidth": 0,
             "ticks": ""
            },
            "colorscale": [
             [
              0,
              "#0d0887"
             ],
             [
              0.1111111111111111,
              "#46039f"
             ],
             [
              0.2222222222222222,
              "#7201a8"
             ],
             [
              0.3333333333333333,
              "#9c179e"
             ],
             [
              0.4444444444444444,
              "#bd3786"
             ],
             [
              0.5555555555555556,
              "#d8576b"
             ],
             [
              0.6666666666666666,
              "#ed7953"
             ],
             [
              0.7777777777777778,
              "#fb9f3a"
             ],
             [
              0.8888888888888888,
              "#fdca26"
             ],
             [
              1,
              "#f0f921"
             ]
            ],
            "type": "heatmap"
           }
          ],
          "heatmapgl": [
           {
            "colorbar": {
             "outlinewidth": 0,
             "ticks": ""
            },
            "colorscale": [
             [
              0,
              "#0d0887"
             ],
             [
              0.1111111111111111,
              "#46039f"
             ],
             [
              0.2222222222222222,
              "#7201a8"
             ],
             [
              0.3333333333333333,
              "#9c179e"
             ],
             [
              0.4444444444444444,
              "#bd3786"
             ],
             [
              0.5555555555555556,
              "#d8576b"
             ],
             [
              0.6666666666666666,
              "#ed7953"
             ],
             [
              0.7777777777777778,
              "#fb9f3a"
             ],
             [
              0.8888888888888888,
              "#fdca26"
             ],
             [
              1,
              "#f0f921"
             ]
            ],
            "type": "heatmapgl"
           }
          ],
          "histogram": [
           {
            "marker": {
             "colorbar": {
              "outlinewidth": 0,
              "ticks": ""
             }
            },
            "type": "histogram"
           }
          ],
          "histogram2d": [
           {
            "colorbar": {
             "outlinewidth": 0,
             "ticks": ""
            },
            "colorscale": [
             [
              0,
              "#0d0887"
             ],
             [
              0.1111111111111111,
              "#46039f"
             ],
             [
              0.2222222222222222,
              "#7201a8"
             ],
             [
              0.3333333333333333,
              "#9c179e"
             ],
             [
              0.4444444444444444,
              "#bd3786"
             ],
             [
              0.5555555555555556,
              "#d8576b"
             ],
             [
              0.6666666666666666,
              "#ed7953"
             ],
             [
              0.7777777777777778,
              "#fb9f3a"
             ],
             [
              0.8888888888888888,
              "#fdca26"
             ],
             [
              1,
              "#f0f921"
             ]
            ],
            "type": "histogram2d"
           }
          ],
          "histogram2dcontour": [
           {
            "colorbar": {
             "outlinewidth": 0,
             "ticks": ""
            },
            "colorscale": [
             [
              0,
              "#0d0887"
             ],
             [
              0.1111111111111111,
              "#46039f"
             ],
             [
              0.2222222222222222,
              "#7201a8"
             ],
             [
              0.3333333333333333,
              "#9c179e"
             ],
             [
              0.4444444444444444,
              "#bd3786"
             ],
             [
              0.5555555555555556,
              "#d8576b"
             ],
             [
              0.6666666666666666,
              "#ed7953"
             ],
             [
              0.7777777777777778,
              "#fb9f3a"
             ],
             [
              0.8888888888888888,
              "#fdca26"
             ],
             [
              1,
              "#f0f921"
             ]
            ],
            "type": "histogram2dcontour"
           }
          ],
          "mesh3d": [
           {
            "colorbar": {
             "outlinewidth": 0,
             "ticks": ""
            },
            "type": "mesh3d"
           }
          ],
          "parcoords": [
           {
            "line": {
             "colorbar": {
              "outlinewidth": 0,
              "ticks": ""
             }
            },
            "type": "parcoords"
           }
          ],
          "pie": [
           {
            "automargin": true,
            "type": "pie"
           }
          ],
          "scatter": [
           {
            "marker": {
             "colorbar": {
              "outlinewidth": 0,
              "ticks": ""
             }
            },
            "type": "scatter"
           }
          ],
          "scatter3d": [
           {
            "line": {
             "colorbar": {
              "outlinewidth": 0,
              "ticks": ""
             }
            },
            "marker": {
             "colorbar": {
              "outlinewidth": 0,
              "ticks": ""
             }
            },
            "type": "scatter3d"
           }
          ],
          "scattercarpet": [
           {
            "marker": {
             "colorbar": {
              "outlinewidth": 0,
              "ticks": ""
             }
            },
            "type": "scattercarpet"
           }
          ],
          "scattergeo": [
           {
            "marker": {
             "colorbar": {
              "outlinewidth": 0,
              "ticks": ""
             }
            },
            "type": "scattergeo"
           }
          ],
          "scattergl": [
           {
            "marker": {
             "colorbar": {
              "outlinewidth": 0,
              "ticks": ""
             }
            },
            "type": "scattergl"
           }
          ],
          "scattermapbox": [
           {
            "marker": {
             "colorbar": {
              "outlinewidth": 0,
              "ticks": ""
             }
            },
            "type": "scattermapbox"
           }
          ],
          "scatterpolar": [
           {
            "marker": {
             "colorbar": {
              "outlinewidth": 0,
              "ticks": ""
             }
            },
            "type": "scatterpolar"
           }
          ],
          "scatterpolargl": [
           {
            "marker": {
             "colorbar": {
              "outlinewidth": 0,
              "ticks": ""
             }
            },
            "type": "scatterpolargl"
           }
          ],
          "scatterternary": [
           {
            "marker": {
             "colorbar": {
              "outlinewidth": 0,
              "ticks": ""
             }
            },
            "type": "scatterternary"
           }
          ],
          "surface": [
           {
            "colorbar": {
             "outlinewidth": 0,
             "ticks": ""
            },
            "colorscale": [
             [
              0,
              "#0d0887"
             ],
             [
              0.1111111111111111,
              "#46039f"
             ],
             [
              0.2222222222222222,
              "#7201a8"
             ],
             [
              0.3333333333333333,
              "#9c179e"
             ],
             [
              0.4444444444444444,
              "#bd3786"
             ],
             [
              0.5555555555555556,
              "#d8576b"
             ],
             [
              0.6666666666666666,
              "#ed7953"
             ],
             [
              0.7777777777777778,
              "#fb9f3a"
             ],
             [
              0.8888888888888888,
              "#fdca26"
             ],
             [
              1,
              "#f0f921"
             ]
            ],
            "type": "surface"
           }
          ],
          "table": [
           {
            "cells": {
             "fill": {
              "color": "#EBF0F8"
             },
             "line": {
              "color": "white"
             }
            },
            "header": {
             "fill": {
              "color": "#C8D4E3"
             },
             "line": {
              "color": "white"
             }
            },
            "type": "table"
           }
          ]
         },
         "layout": {
          "annotationdefaults": {
           "arrowcolor": "#2a3f5f",
           "arrowhead": 0,
           "arrowwidth": 1
          },
          "coloraxis": {
           "colorbar": {
            "outlinewidth": 0,
            "ticks": ""
           }
          },
          "colorscale": {
           "diverging": [
            [
             0,
             "#8e0152"
            ],
            [
             0.1,
             "#c51b7d"
            ],
            [
             0.2,
             "#de77ae"
            ],
            [
             0.3,
             "#f1b6da"
            ],
            [
             0.4,
             "#fde0ef"
            ],
            [
             0.5,
             "#f7f7f7"
            ],
            [
             0.6,
             "#e6f5d0"
            ],
            [
             0.7,
             "#b8e186"
            ],
            [
             0.8,
             "#7fbc41"
            ],
            [
             0.9,
             "#4d9221"
            ],
            [
             1,
             "#276419"
            ]
           ],
           "sequential": [
            [
             0,
             "#0d0887"
            ],
            [
             0.1111111111111111,
             "#46039f"
            ],
            [
             0.2222222222222222,
             "#7201a8"
            ],
            [
             0.3333333333333333,
             "#9c179e"
            ],
            [
             0.4444444444444444,
             "#bd3786"
            ],
            [
             0.5555555555555556,
             "#d8576b"
            ],
            [
             0.6666666666666666,
             "#ed7953"
            ],
            [
             0.7777777777777778,
             "#fb9f3a"
            ],
            [
             0.8888888888888888,
             "#fdca26"
            ],
            [
             1,
             "#f0f921"
            ]
           ],
           "sequentialminus": [
            [
             0,
             "#0d0887"
            ],
            [
             0.1111111111111111,
             "#46039f"
            ],
            [
             0.2222222222222222,
             "#7201a8"
            ],
            [
             0.3333333333333333,
             "#9c179e"
            ],
            [
             0.4444444444444444,
             "#bd3786"
            ],
            [
             0.5555555555555556,
             "#d8576b"
            ],
            [
             0.6666666666666666,
             "#ed7953"
            ],
            [
             0.7777777777777778,
             "#fb9f3a"
            ],
            [
             0.8888888888888888,
             "#fdca26"
            ],
            [
             1,
             "#f0f921"
            ]
           ]
          },
          "colorway": [
           "#636efa",
           "#EF553B",
           "#00cc96",
           "#ab63fa",
           "#FFA15A",
           "#19d3f3",
           "#FF6692",
           "#B6E880",
           "#FF97FF",
           "#FECB52"
          ],
          "font": {
           "color": "#2a3f5f"
          },
          "geo": {
           "bgcolor": "white",
           "lakecolor": "white",
           "landcolor": "#E5ECF6",
           "showlakes": true,
           "showland": true,
           "subunitcolor": "white"
          },
          "hoverlabel": {
           "align": "left"
          },
          "hovermode": "closest",
          "mapbox": {
           "style": "light"
          },
          "paper_bgcolor": "white",
          "plot_bgcolor": "#E5ECF6",
          "polar": {
           "angularaxis": {
            "gridcolor": "white",
            "linecolor": "white",
            "ticks": ""
           },
           "bgcolor": "#E5ECF6",
           "radialaxis": {
            "gridcolor": "white",
            "linecolor": "white",
            "ticks": ""
           }
          },
          "scene": {
           "xaxis": {
            "backgroundcolor": "#E5ECF6",
            "gridcolor": "white",
            "gridwidth": 2,
            "linecolor": "white",
            "showbackground": true,
            "ticks": "",
            "zerolinecolor": "white"
           },
           "yaxis": {
            "backgroundcolor": "#E5ECF6",
            "gridcolor": "white",
            "gridwidth": 2,
            "linecolor": "white",
            "showbackground": true,
            "ticks": "",
            "zerolinecolor": "white"
           },
           "zaxis": {
            "backgroundcolor": "#E5ECF6",
            "gridcolor": "white",
            "gridwidth": 2,
            "linecolor": "white",
            "showbackground": true,
            "ticks": "",
            "zerolinecolor": "white"
           }
          },
          "shapedefaults": {
           "line": {
            "color": "#2a3f5f"
           }
          },
          "ternary": {
           "aaxis": {
            "gridcolor": "white",
            "linecolor": "white",
            "ticks": ""
           },
           "baxis": {
            "gridcolor": "white",
            "linecolor": "white",
            "ticks": ""
           },
           "bgcolor": "#E5ECF6",
           "caxis": {
            "gridcolor": "white",
            "linecolor": "white",
            "ticks": ""
           }
          },
          "title": {
           "x": 0.05
          },
          "xaxis": {
           "automargin": true,
           "gridcolor": "white",
           "linecolor": "white",
           "ticks": "",
           "title": {
            "standoff": 15
           },
           "zerolinecolor": "white",
           "zerolinewidth": 2
          },
          "yaxis": {
           "automargin": true,
           "gridcolor": "white",
           "linecolor": "white",
           "ticks": "",
           "title": {
            "standoff": 15
           },
           "zerolinecolor": "white",
           "zerolinewidth": 2
          }
         }
        },
        "title": {
         "text": "",
         "x": 0.5,
         "y": 0.925
        }
       }
      }
     },
     "metadata": {}
    }
   ],
   "source": [
    "dt.age_figure_3d(s.vC_a, end_age=99, end_year=2099)\n"
   ]
  },
  {
   "cell_type": "markdown",
   "metadata": {},
   "source": [
    "### Exporting plots\n",
    "There are many ways to export the plots, but one easy way to store and share them is to export an html file:"
   ]
  },
  {
   "cell_type": "code",
   "execution_count": 121,
   "metadata": {},
   "outputs": [],
   "source": [
    "figures = [\n",
    "    plot(s.vC),\n",
    "    plot(s.vG)\n",
    "]\n",
    "dt.figures_to_html(figures, \"example.html\")"
   ]
  },
  {
   "cell_type": "markdown",
   "metadata": {},
   "source": [
    "Or we can simply share a Jupyter notebook or export the notebook to html. To export a notebook without the code, the following command can be used:\n",
    "\n",
    "```jupyter nbconvert examples.ipynb --to=html --TemplateExporter.exclude_input=True```"
   ]
  }
 ]
}