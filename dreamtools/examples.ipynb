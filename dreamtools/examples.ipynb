{
 "cells": [
  {
   "cell_type": "markdown",
   "metadata": {},
   "source": [
    "# DREAM-tools\n",
    "\n",
    "Install or upgrade dream-tools:"
   ]
  },
  {
   "cell_type": "code",
   "execution_count": 1,
   "metadata": {
    "tags": []
   },
   "outputs": [
    {
     "name": "stdout",
     "output_type": "stream",
     "text": [
      "Requirement already satisfied: dream-tools in c:\\gams\\40\\gmspython\\lib\\site-packages (2.0.0)\n",
      "Requirement already satisfied: pandas in c:\\gams\\40\\gmspython\\lib\\site-packages (from dream-tools) (1.3.5)\n",
      "Requirement already satisfied: easygui in c:\\gams\\40\\gmspython\\lib\\site-packages (from dream-tools) (0.98.3)\n",
      "Requirement already satisfied: pytz>=2017.3 in c:\\gams\\40\\apifiles\\python\\thirdparty (from pandas->dream-tools) (2022.1)\n",
      "Requirement already satisfied: numpy>=1.17.3 in c:\\gams\\40\\gmspython\\lib\\site-packages (from pandas->dream-tools) (1.23.5)\n",
      "Requirement already satisfied: python-dateutil>=2.7.3 in c:\\gams\\40\\apifiles\\python\\thirdparty (from pandas->dream-tools) (2.8.2)\n",
      "Requirement already satisfied: six>=1.5 in c:\\gams\\40\\apifiles\\python\\thirdparty (from python-dateutil>=2.7.3->pandas->dream-tools) (1.16.0)\n"
     ]
    }
   ],
   "source": [
    "!pip install dream-tools --upgrade"
   ]
  },
  {
   "cell_type": "markdown",
   "metadata": {},
   "source": [
    "Our convention is to import the *dreamtools* package under the alias *dt*.\n"
   ]
  },
  {
   "cell_type": "code",
   "execution_count": 2,
   "metadata": {},
   "outputs": [
    {
     "name": "stdout",
     "output_type": "stream",
     "text": [
      "<module 'dreamtools' from 'c:\\\\Users\\\\B031441\\\\Dropbox\\\\Programming\\\\dream-tools\\\\dreamtools\\\\__init__.py'>\n",
      "c:\\Users\\B031441\\Dropbox\\Programming\\dream-tools\n"
     ]
    }
   ],
   "source": [
    "import os\n",
    "os.chdir(\"..\")\n",
    "sys.path.insert(0, os.getcwd())\n",
    "import dreamtools as dt\n",
    "print(dt)\n",
    "print(os.getcwd())\n"
   ]
  },
  {
   "cell_type": "code",
   "execution_count": 3,
   "metadata": {},
   "outputs": [],
   "source": [
    "import dreamtools as dt"
   ]
  },
  {
   "cell_type": "markdown",
   "metadata": {},
   "source": [
    "## Gams Pandas\n",
    "DREAM-tools provides a wrapper class *GamsPandasDatabase* that enables convertion between Pandas data structures and a Gams Database.\n",
    "\n",
    "We can either open an existing GDX file as a GamsPandasDatabase or create new database from scratch."
   ]
  },
  {
   "cell_type": "markdown",
   "metadata": {},
   "source": [
    "### Creating and populating a new GamsPandasDatabase\n",
    "\n",
    "To create an empty database we use the GamsPandasDatabase class.\n",
    "\n",
    "The GamsPandasDatabase has 3 main methods for creating new Gams symbols: *create_parameter*, *create_variable*, and *create_set*. Each of these methods adds a Gams symbol to the underlying Gams Database and returns a Pandas object (or a scalar) representing the symbol.\n",
    "\n",
    "To improve readability, we can assign some shorter names (In SnakeCase to indicate that these methods essentially work as classes):"
   ]
  },
  {
   "cell_type": "code",
   "execution_count": 4,
   "metadata": {},
   "outputs": [],
   "source": [
    "db = dt.GamsPandasDatabase()\n",
    "Par, Var, Set = db.create_parameter, db.create_variable, db.create_set"
   ]
  },
  {
   "cell_type": "markdown",
   "metadata": {},
   "source": [
    "### Define sets"
   ]
  },
  {
   "cell_type": "code",
   "execution_count": 5,
   "metadata": {
    "tags": []
   },
   "outputs": [],
   "source": [
    "t = Set(\"t\", range(2010, 2020), \"Årstal\")\n",
    "s = Set(\"s\", [\"tjenester\", \"fremstilling\"], \"Brancher\")\n",
    "\n",
    "st = Set(\"st\", [s, t], \"Branche x år dummy\")\n",
    "sub = Set(\"sub\", [\"tjenester\"], \"Subset af brancher\", domains=[\"s\"])\n",
    "\n",
    "one2one = Set(\"one2one\", [(2010, 2015), (2011, 2016)], \"1 til 1 mapping\", domains=[\"t\", \"t\"])\n",
    "one2many = Set(\"one2many\",\n",
    "               [(\"tot\", \"tjenester\"), (\"tot\", \"fremstilling\")],\n",
    "               \"1 til mange mapping\", domains=[\"*\", \"s\"],\n",
    "               )\n"
   ]
  },
  {
   "cell_type": "markdown",
   "metadata": {},
   "source": [
    "### Define new parameters and variables\n",
    "\n"
   ]
  },
  {
   "cell_type": "code",
   "execution_count": 6,
   "metadata": {},
   "outputs": [],
   "source": [
    "gq = Par(\"gq\", None, \"Produktivitets-vækst\", 0.01)\n",
    "fq = Par(\"fp\", t, \"Vækstkorrektionsfaktor\", (1 + 0.01) ** (t - 2010))\n",
    "d = Par(\"d\", st, \"Dummy\")\n",
    "y = Var(\"y\", [s, t], \"Produktion\")\n",
    "p = Var(\"p\", [s, t], \"Pris\")"
   ]
  },
  {
   "attachments": {},
   "cell_type": "markdown",
   "metadata": {},
   "source": [
    "### Python representation of GAMS symbols\n",
    "\n",
    "A GAMS set is represented by a Pandas Index or a Pandas MultIndex if it has more than one dimension.\n",
    "\n",
    "Scalars, such as *gq*, are simply Floats or Ints, while all other variable or parameters are accessed as Pandas Series:"
   ]
  },
  {
   "cell_type": "code",
   "execution_count": 7,
   "metadata": {
    "tags": []
   },
   "outputs": [
    {
     "name": "stdout",
     "output_type": "stream",
     "text": [
      "<class 'pandas.core.indexes.base.Index'>\n",
      "<class 'pandas.core.indexes.multi.MultiIndex'>\n",
      "<class 'float'>\n",
      "<class 'pandas.core.series.Series'>\n"
     ]
    }
   ],
   "source": [
    "print(type(s))\n",
    "print(type(one2many))\n",
    "\n",
    "print(type(gq))\n",
    "print(type(p))"
   ]
  },
  {
   "attachments": {},
   "cell_type": "markdown",
   "metadata": {},
   "source": [
    "As they are regular Pandas Series, all the usual methods can be used (and googled). E.g. reset_index can be used to get a DataFrame from a multiindex Series:"
   ]
  },
  {
   "cell_type": "code",
   "execution_count": 8,
   "metadata": {},
   "outputs": [
    {
     "data": {
      "text/html": [
       "<div>\n",
       "<style scoped>\n",
       "    .dataframe tbody tr th:only-of-type {\n",
       "        vertical-align: middle;\n",
       "    }\n",
       "\n",
       "    .dataframe tbody tr th {\n",
       "        vertical-align: top;\n",
       "    }\n",
       "\n",
       "    .dataframe thead th {\n",
       "        text-align: right;\n",
       "    }\n",
       "</style>\n",
       "<table border=\"1\" class=\"dataframe\">\n",
       "  <thead>\n",
       "    <tr style=\"text-align: right;\">\n",
       "      <th></th>\n",
       "      <th>s</th>\n",
       "      <th>t</th>\n",
       "      <th>p</th>\n",
       "    </tr>\n",
       "  </thead>\n",
       "  <tbody>\n",
       "    <tr>\n",
       "      <th>0</th>\n",
       "      <td>tjenester</td>\n",
       "      <td>2010</td>\n",
       "      <td>NaN</td>\n",
       "    </tr>\n",
       "    <tr>\n",
       "      <th>1</th>\n",
       "      <td>tjenester</td>\n",
       "      <td>2011</td>\n",
       "      <td>NaN</td>\n",
       "    </tr>\n",
       "    <tr>\n",
       "      <th>2</th>\n",
       "      <td>tjenester</td>\n",
       "      <td>2012</td>\n",
       "      <td>NaN</td>\n",
       "    </tr>\n",
       "    <tr>\n",
       "      <th>3</th>\n",
       "      <td>tjenester</td>\n",
       "      <td>2013</td>\n",
       "      <td>NaN</td>\n",
       "    </tr>\n",
       "    <tr>\n",
       "      <th>4</th>\n",
       "      <td>tjenester</td>\n",
       "      <td>2014</td>\n",
       "      <td>NaN</td>\n",
       "    </tr>\n",
       "  </tbody>\n",
       "</table>\n",
       "</div>"
      ],
      "text/plain": [
       "           s     t   p\n",
       "0  tjenester  2010 NaN\n",
       "1  tjenester  2011 NaN\n",
       "2  tjenester  2012 NaN\n",
       "3  tjenester  2013 NaN\n",
       "4  tjenester  2014 NaN"
      ]
     },
     "execution_count": 8,
     "metadata": {},
     "output_type": "execute_result"
    }
   ],
   "source": [
    "p.reset_index().head()"
   ]
  },
  {
   "cell_type": "markdown",
   "metadata": {},
   "source": [
    "### Assigning to existing symbols\n",
    "To change the values of the underlying Gams symbols, start by assigning values to their Pandas Series representations:"
   ]
  },
  {
   "cell_type": "code",
   "execution_count": 9,
   "metadata": {},
   "outputs": [],
   "source": [
    "y[\"tjenester\"], y[\"fremstilling\"] = 7, 3\n",
    "p[:] = 100"
   ]
  },
  {
   "cell_type": "markdown",
   "metadata": {},
   "source": [
    "DREAM-tools defaults to using Pandas Series with multi-indexes rather than DataFrames.\n",
    "\n",
    "That is because using multi-indexes greatly simplifies operations when our variables have multiple dimensions with consistent names. For example, Pandas automatically aligns the *y* and *fq* variables on their shared *t* axis without us having to do any complicated merging operations:"
   ]
  },
  {
   "cell_type": "code",
   "execution_count": 10,
   "metadata": {},
   "outputs": [
    {
     "data": {
      "text/plain": [
       "s             t   \n",
       "tjenester     2010    700.000000\n",
       "              2011    707.000000\n",
       "              2012    714.070000\n",
       "              2013    721.210700\n",
       "              2014    728.422807\n",
       "              2015    735.707035\n",
       "              2016    743.064105\n",
       "              2017    750.494746\n",
       "              2018    757.999694\n",
       "              2019    765.579691\n",
       "fremstilling  2010    300.000000\n",
       "              2011    303.000000\n",
       "              2012    306.030000\n",
       "              2013    309.090300\n",
       "              2014    312.181203\n",
       "              2015    315.303015\n",
       "              2016    318.456045\n",
       "              2017    321.640606\n",
       "              2018    324.857012\n",
       "              2019    328.105582\n",
       "dtype: float64"
      ]
     },
     "execution_count": 10,
     "metadata": {},
     "output_type": "execute_result"
    }
   ],
   "source": [
    "y *= fq\n",
    "p * y"
   ]
  },
  {
   "cell_type": "markdown",
   "metadata": {},
   "source": [
    "Checking if a symbol name already exists in the database is as simple as"
   ]
  },
  {
   "cell_type": "code",
   "execution_count": 11,
   "metadata": {
    "tags": []
   },
   "outputs": [
    {
     "name": "stdout",
     "output_type": "stream",
     "text": [
      "True\n",
      "False\n"
     ]
    }
   ],
   "source": [
    "print(\"y\" in db)\n",
    "print(\"free_lunch\" in db)"
   ]
  },
  {
   "cell_type": "markdown",
   "metadata": {},
   "source": [
    "To figure out which type of symbol it is, we can either check which dictionary it belongs to or access the underlying Gams Symbol through the *.symbols* dictionary."
   ]
  },
  {
   "cell_type": "code",
   "execution_count": 12,
   "metadata": {
    "tags": []
   },
   "outputs": [
    {
     "name": "stdout",
     "output_type": "stream",
     "text": [
      "False\n",
      "True\n",
      "False\n",
      "<class 'gams.database.GamsVariable'>\n"
     ]
    }
   ],
   "source": [
    "print(\"y\" in db.sets)\n",
    "print(\"y\" in db.variables)\n",
    "print(\"y\" in db.parameters)\n",
    "\n",
    "print(type(db.symbols[\"y\"]))"
   ]
  },
  {
   "cell_type": "markdown",
   "metadata": {},
   "source": [
    "Usually we only want to access the Pandas representation of a symbol. We can access those using either **\\[  \\]** or **.** notation."
   ]
  },
  {
   "cell_type": "code",
   "execution_count": 13,
   "metadata": {
    "tags": []
   },
   "outputs": [
    {
     "name": "stdout",
     "output_type": "stream",
     "text": [
      "<class 'pandas.core.series.Series'>\n",
      "True\n"
     ]
    }
   ],
   "source": [
    "print(type(db[\"y\"]))\n",
    "print(db.y is db[\"y\"])"
   ]
  },
  {
   "cell_type": "markdown",
   "metadata": {},
   "source": [
    "Use **\\[ \\]** notation to assign a new value to an existing scalar"
   ]
  },
  {
   "cell_type": "code",
   "execution_count": 14,
   "metadata": {},
   "outputs": [],
   "source": [
    "db[\"gq\"] = 0.02"
   ]
  },
  {
   "cell_type": "markdown",
   "metadata": {},
   "source": [
    "### Exporting the database to a gdx file"
   ]
  },
  {
   "cell_type": "code",
   "execution_count": 15,
   "metadata": {},
   "outputs": [],
   "source": [
    "db.export(\"test_io.gdx\")"
   ]
  },
  {
   "cell_type": "markdown",
   "metadata": {},
   "source": [
    "## Working with an existing gdx file\n",
    "If we already have a gdx file, such as the one we just exported, we can read that instead of creating a GamsPandasDatabase from scratch using the Gdx class:"
   ]
  },
  {
   "cell_type": "code",
   "execution_count": 16,
   "metadata": {
    "tags": []
   },
   "outputs": [],
   "source": [
    "gdx = dt.Gdx(\"test_io.gdx\")"
   ]
  },
  {
   "cell_type": "markdown",
   "metadata": {},
   "source": [
    "## Time series analysis"
   ]
  },
  {
   "cell_type": "markdown",
   "metadata": {},
   "source": [
    "If the *Plotly* package is installed, DREAM-tools sets the plotting backend of Pandas to Plotly. That means Plotly is used by default when plotting or printing a Pandas objects instead of Matplotlib. Neither plotting packages handles multi-indexes well. To plot our *y* variable from befroe we could write:"
   ]
  },
  {
   "cell_type": "code",
   "execution_count": 17,
   "metadata": {},
   "outputs": [
    {
     "data": {
      "application/vnd.plotly.v1+json": {
       "config": {
        "plotlyServerURL": "https://plot.ly"
       },
       "data": [
        {
         "hovertemplate": "s=fremstilling<br>t=%{x}<br>value=%{y}<extra></extra>",
         "legendgroup": "fremstilling",
         "line": {
          "color": "rgb(245,82,82)",
          "dash": "solid"
         },
         "marker": {
          "symbol": "circle"
         },
         "mode": "lines",
         "name": "fremstilling",
         "orientation": "v",
         "showlegend": true,
         "type": "scatter",
         "x": [
          2010,
          2011,
          2012,
          2013,
          2014,
          2015,
          2016,
          2017,
          2018,
          2019
         ],
         "xaxis": "x",
         "y": [
          3,
          3.0300000000000002,
          3.0603,
          3.0909030000000004,
          3.12181203,
          3.1530301503000002,
          3.1845604518030006,
          3.21640605632103,
          3.248570116884241,
          3.2810558180530824
         ],
         "yaxis": "y"
        },
        {
         "hovertemplate": "s=tjenester<br>t=%{x}<br>value=%{y}<extra></extra>",
         "legendgroup": "tjenester",
         "line": {
          "color": "rgb(20,175,166)",
          "dash": "solid"
         },
         "marker": {
          "symbol": "circle"
         },
         "mode": "lines",
         "name": "tjenester",
         "orientation": "v",
         "showlegend": true,
         "type": "scatter",
         "x": [
          2010,
          2011,
          2012,
          2013,
          2014,
          2015,
          2016,
          2017,
          2018,
          2019
         ],
         "xaxis": "x",
         "y": [
          7,
          7.07,
          7.1407,
          7.212107000000001,
          7.28422807,
          7.357070350700001,
          7.430641054207001,
          7.504947464749071,
          7.579996939396562,
          7.655796908790526
         ],
         "yaxis": "y"
        }
       ],
       "layout": {
        "legend": {
         "title": {
          "text": "s"
         },
         "tracegroupgap": 0
        },
        "template": {
         "data": {
          "scatter": [
           {
            "line": {
             "width": 4
            },
            "type": "scatter"
           }
          ],
          "scattergl": [
           {
            "line": {
             "width": 4
            },
            "type": "scattergl"
           }
          ]
         },
         "layout": {
          "colorway": [
           "rgb(245,82,82)",
           "rgb(20,175,166)",
           "rgb(255,155,75)",
           "rgb(92,210,114)",
           "rgb(66,180,224)",
           "rgb(188,173,221)",
           "rgb(0,95,151)",
           "rgb(137,48,112)",
           "rgb(70,70,76)",
           "rgb(230,230,232)"
          ],
          "font": {
           "color": "black",
           "family": "Hind",
           "size": 14
          },
          "legend": {
           "orientation": "h",
           "x": 0.5,
           "xanchor": "center",
           "y": -0.3,
           "yanchor": "top"
          },
          "margin": {
           "l": 56.69291338582677,
           "r": 18.89763779527559,
           "t": 37.79527559055118
          },
          "plot_bgcolor": "rgb(230,230,232)",
          "title": {
           "font": {
            "size": 14
           }
          },
          "width": 585.8267716535432,
          "xaxis": {
           "automargin": false,
           "gridcolor": "white",
           "linecolor": "black",
           "showline": true,
           "ticklen": 10,
           "ticks": "outside",
           "title": {
            "font": {
             "size": 14
            },
            "standoff": 0
           }
          },
          "yaxis": {
           "automargin": false,
           "gridcolor": "white",
           "linecolor": "black",
           "showline": true,
           "ticklen": 10,
           "tickmode": "auto",
           "ticks": "outside",
           "title": {
            "font": {
             "size": 14
            }
           }
          }
         }
        },
        "xaxis": {
         "anchor": "y",
         "domain": [
          0,
          1
         ],
         "title": {
          "text": "t"
         }
        },
        "yaxis": {
         "anchor": "x",
         "domain": [
          0,
          1
         ],
         "title": {
          "text": "value"
         }
        }
       }
      }
     },
     "metadata": {},
     "output_type": "display_data"
    }
   ],
   "source": [
    "y.unstack(\"s\").plot()"
   ]
  },
  {
   "attachments": {},
   "cell_type": "markdown",
   "metadata": {},
   "source": [
    "We could also use the DREAM-tools plot function:"
   ]
  },
  {
   "cell_type": "code",
   "execution_count": 18,
   "metadata": {},
   "outputs": [
    {
     "data": {
      "application/vnd.plotly.v1+json": {
       "config": {
        "plotlyServerURL": "https://plot.ly"
       },
       "data": [
        {
         "hovertemplate": "variable=y[tjenester]<br>t=%{x}<br>value=%{y}<extra></extra>",
         "legendgroup": "0.0",
         "line": {
          "color": "rgb(245,82,82)",
          "dash": "solid"
         },
         "marker": {
          "symbol": "circle"
         },
         "mode": "lines",
         "name": "y[tjenester]",
         "orientation": "v",
         "showlegend": true,
         "type": "scatter",
         "x": [
          2010,
          2011,
          2012,
          2013,
          2014,
          2015,
          2016,
          2017,
          2018,
          2019
         ],
         "xaxis": "x",
         "y": [
          7,
          7.07,
          7.1407,
          7.212107000000001,
          7.28422807,
          7.357070350700001,
          7.430641054207001,
          7.504947464749071,
          7.579996939396562,
          7.655796908790526
         ],
         "yaxis": "y"
        },
        {
         "hovertemplate": "variable=y[fremstilling]<br>t=%{x}<br>value=%{y}<extra></extra>",
         "legendgroup": "1.0",
         "line": {
          "color": "rgb(20,175,166)",
          "dash": "solid"
         },
         "marker": {
          "symbol": "circle"
         },
         "mode": "lines",
         "name": "y[fremstilling]",
         "orientation": "v",
         "showlegend": true,
         "type": "scatter",
         "x": [
          2010,
          2011,
          2012,
          2013,
          2014,
          2015,
          2016,
          2017,
          2018,
          2019
         ],
         "xaxis": "x",
         "y": [
          3,
          3.0300000000000002,
          3.0603,
          3.0909030000000004,
          3.12181203,
          3.1530301503000002,
          3.1845604518030006,
          3.21640605632103,
          3.248570116884241,
          3.2810558180530824
         ],
         "yaxis": "y"
        }
       ],
       "layout": {
        "annotations": [
         {
          "showarrow": false,
          "text": "",
          "x": 0,
          "xref": "paper",
          "xshift": -45.35433070866142,
          "y": 1,
          "yref": "paper",
          "yshift": 30.236220472440944
         }
        ],
        "legend": {
         "title": {
          "text": ""
         },
         "tracegroupgap": 0
        },
        "margin": {
         "l": 56.69291338582677,
         "r": 18.89763779527559,
         "t": 37.79527559055118
        },
        "template": {
         "data": {
          "scatter": [
           {
            "line": {
             "width": 4
            },
            "type": "scatter"
           }
          ],
          "scattergl": [
           {
            "line": {
             "width": 4
            },
            "type": "scattergl"
           }
          ]
         },
         "layout": {
          "colorway": [
           "rgb(245,82,82)",
           "rgb(20,175,166)",
           "rgb(255,155,75)",
           "rgb(92,210,114)",
           "rgb(66,180,224)",
           "rgb(188,173,221)",
           "rgb(0,95,151)",
           "rgb(137,48,112)",
           "rgb(70,70,76)",
           "rgb(230,230,232)"
          ],
          "font": {
           "color": "black",
           "family": "Hind",
           "size": 14
          },
          "legend": {
           "orientation": "h",
           "x": 0.5,
           "xanchor": "center",
           "y": -0.3,
           "yanchor": "top"
          },
          "margin": {
           "l": 56.69291338582677,
           "r": 18.89763779527559,
           "t": 37.79527559055118
          },
          "plot_bgcolor": "rgb(230,230,232)",
          "title": {
           "font": {
            "size": 14
           }
          },
          "width": 585.8267716535432,
          "xaxis": {
           "automargin": false,
           "gridcolor": "white",
           "linecolor": "black",
           "showline": true,
           "ticklen": 10,
           "ticks": "outside",
           "title": {
            "font": {
             "size": 14
            },
            "standoff": 0
           }
          },
          "yaxis": {
           "automargin": false,
           "gridcolor": "white",
           "linecolor": "black",
           "showline": true,
           "ticklen": 10,
           "tickmode": "auto",
           "ticks": "outside",
           "title": {
            "font": {
             "size": 14
            }
           }
          }
         }
        },
        "width": 585.8267716535432,
        "xaxis": {
         "anchor": "y",
         "domain": [
          0,
          1
         ],
         "title": {
          "text": "År"
         }
        },
        "yaxis": {
         "anchor": "x",
         "domain": [
          0,
          1
         ],
         "title": {
          "text": ""
         }
        }
       }
      }
     },
     "metadata": {},
     "output_type": "display_data"
    }
   ],
   "source": [
    "from dreamtools import plot\n",
    "plot(y)"
   ]
  },
  {
   "attachments": {},
   "cell_type": "markdown",
   "metadata": {},
   "source": [
    "The plot is simply shorthand for calling DREAM-tools DataFrame followed by a plot method:"
   ]
  },
  {
   "cell_type": "code",
   "execution_count": 19,
   "metadata": {},
   "outputs": [
    {
     "data": {
      "application/vnd.plotly.v1+json": {
       "config": {
        "plotlyServerURL": "https://plot.ly"
       },
       "data": [
        {
         "hovertemplate": "variable=y[tjenester]<br>t=%{x}<br>value=%{y}<extra></extra>",
         "legendgroup": "0.0",
         "line": {
          "color": "rgb(245,82,82)",
          "dash": "solid"
         },
         "marker": {
          "symbol": "circle"
         },
         "mode": "lines",
         "name": "y[tjenester]",
         "orientation": "v",
         "showlegend": true,
         "type": "scatter",
         "x": [
          2010,
          2011,
          2012,
          2013,
          2014,
          2015,
          2016,
          2017,
          2018,
          2019
         ],
         "xaxis": "x",
         "y": [
          7,
          7.07,
          7.1407,
          7.212107000000001,
          7.28422807,
          7.357070350700001,
          7.430641054207001,
          7.504947464749071,
          7.579996939396562,
          7.655796908790526
         ],
         "yaxis": "y"
        },
        {
         "hovertemplate": "variable=y[fremstilling]<br>t=%{x}<br>value=%{y}<extra></extra>",
         "legendgroup": "1.0",
         "line": {
          "color": "rgb(20,175,166)",
          "dash": "solid"
         },
         "marker": {
          "symbol": "circle"
         },
         "mode": "lines",
         "name": "y[fremstilling]",
         "orientation": "v",
         "showlegend": true,
         "type": "scatter",
         "x": [
          2010,
          2011,
          2012,
          2013,
          2014,
          2015,
          2016,
          2017,
          2018,
          2019
         ],
         "xaxis": "x",
         "y": [
          3,
          3.0300000000000002,
          3.0603,
          3.0909030000000004,
          3.12181203,
          3.1530301503000002,
          3.1845604518030006,
          3.21640605632103,
          3.248570116884241,
          3.2810558180530824
         ],
         "yaxis": "y"
        }
       ],
       "layout": {
        "annotations": [
         {
          "showarrow": false,
          "text": "",
          "x": 0,
          "xref": "paper",
          "xshift": -45.35433070866142,
          "y": 1,
          "yref": "paper",
          "yshift": 30.236220472440944
         }
        ],
        "legend": {
         "title": {
          "text": ""
         },
         "tracegroupgap": 0
        },
        "margin": {
         "l": 56.69291338582677,
         "r": 18.89763779527559,
         "t": 37.79527559055118
        },
        "template": {
         "data": {
          "scatter": [
           {
            "line": {
             "width": 4
            },
            "type": "scatter"
           }
          ],
          "scattergl": [
           {
            "line": {
             "width": 4
            },
            "type": "scattergl"
           }
          ]
         },
         "layout": {
          "colorway": [
           "rgb(245,82,82)",
           "rgb(20,175,166)",
           "rgb(255,155,75)",
           "rgb(92,210,114)",
           "rgb(66,180,224)",
           "rgb(188,173,221)",
           "rgb(0,95,151)",
           "rgb(137,48,112)",
           "rgb(70,70,76)",
           "rgb(230,230,232)"
          ],
          "font": {
           "color": "black",
           "family": "Hind",
           "size": 14
          },
          "legend": {
           "orientation": "h",
           "x": 0.5,
           "xanchor": "center",
           "y": -0.3,
           "yanchor": "top"
          },
          "margin": {
           "l": 56.69291338582677,
           "r": 18.89763779527559,
           "t": 37.79527559055118
          },
          "plot_bgcolor": "rgb(230,230,232)",
          "title": {
           "font": {
            "size": 14
           }
          },
          "width": 585.8267716535432,
          "xaxis": {
           "automargin": false,
           "gridcolor": "white",
           "linecolor": "black",
           "showline": true,
           "ticklen": 10,
           "ticks": "outside",
           "title": {
            "font": {
             "size": 14
            },
            "standoff": 0
           }
          },
          "yaxis": {
           "automargin": false,
           "gridcolor": "white",
           "linecolor": "black",
           "showline": true,
           "ticklen": 10,
           "tickmode": "auto",
           "ticks": "outside",
           "title": {
            "font": {
             "size": 14
            }
           }
          }
         }
        },
        "width": 585.8267716535432,
        "xaxis": {
         "anchor": "y",
         "domain": [
          0,
          1
         ],
         "title": {
          "text": "År"
         }
        },
        "yaxis": {
         "anchor": "x",
         "domain": [
          0,
          1
         ],
         "title": {
          "text": ""
         }
        }
       }
      }
     },
     "metadata": {},
     "output_type": "display_data"
    }
   ],
   "source": [
    "dt.DataFrame(y).plot()"
   ]
  },
  {
   "attachments": {},
   "cell_type": "markdown",
   "metadata": {},
   "source": [
    "Calling dt.DataFrame directly is especially useful if we want to inspect, manipulate or save the underlying plot data."
   ]
  },
  {
   "cell_type": "markdown",
   "metadata": {},
   "source": [
    "For more advanced examples, we open a gdx file as a GamsPandasDatabase and set it as the \"reference database\".\n",
    "The reference database should be our baseline scenario for any analysis."
   ]
  },
  {
   "cell_type": "code",
   "execution_count": 20,
   "metadata": {},
   "outputs": [],
   "source": [
    "dt.REFERENCE_DATABASE = dt.Gdx(\"Q:/MAKRO/Data/PreviousSolutions/previous_dynamic_calibration\")"
   ]
  },
  {
   "cell_type": "markdown",
   "metadata": {},
   "source": [
    "We read another gdx file and assign it to a short name for easy access."
   ]
  },
  {
   "cell_type": "code",
   "execution_count": 21,
   "metadata": {},
   "outputs": [],
   "source": [
    "s = dt.Gdx(\"Q:/MAKRO/Data/PreviousSolutions/previous_dynamic_calibration2\")"
   ]
  },
  {
   "cell_type": "markdown",
   "metadata": {},
   "source": [
    "Let's try plotting a few national income variables:"
   ]
  },
  {
   "cell_type": "code",
   "execution_count": 22,
   "metadata": {},
   "outputs": [
    {
     "data": {
      "application/vnd.plotly.v1+json": {
       "config": {
        "plotlyServerURL": "https://plot.ly"
       },
       "data": [
        {
         "hovertemplate": "variable=qX[xTot]<br>t=%{x}<br>value=%{y}<extra></extra>",
         "legendgroup": "0.0",
         "line": {
          "color": "rgb(245,82,82)",
          "dash": "solid"
         },
         "marker": {
          "symbol": "circle"
         },
         "mode": "lines",
         "name": "qX[xTot]",
         "orientation": "v",
         "showlegend": true,
         "type": "scatter",
         "x": [
          1983,
          1984,
          1985,
          1986,
          1987,
          1988,
          1989,
          1990,
          1991,
          1992,
          1993,
          1994,
          1995,
          1996,
          1997,
          1998,
          1999,
          2000,
          2001,
          2002,
          2003,
          2004,
          2005,
          2006,
          2007,
          2008,
          2009,
          2010,
          2011,
          2012,
          2013,
          2014,
          2015,
          2016,
          2017,
          2018,
          2019,
          2020,
          2021,
          2022,
          2023,
          2024,
          2025,
          2026,
          2027,
          2028,
          2029,
          2030,
          2031,
          2032,
          2033,
          2034,
          2035,
          2036,
          2037,
          2038,
          2039,
          2040,
          2041,
          2042,
          2043,
          2044,
          2045,
          2046,
          2047,
          2048,
          2049,
          2050,
          2051,
          2052,
          2053,
          2054,
          2055,
          2056,
          2057,
          2058,
          2059,
          2060
         ],
         "xaxis": "x",
         "y": [
          376.2262135541958,
          384.7866113383512,
          403.9744624192033,
          405.3316182400531,
          420.8124586282726,
          454.7361244047301,
          471.20490236947296,
          496.9890423130658,
          522.4232089922399,
          518.6516571001146,
          519.8287606566771,
          557.0691732652895,
          567.4545235984069,
          587.9629449718858,
          608.2651156979247,
          626.9433239551256,
          690.6905843147805,
          769.8641074194951,
          787.7976896866297,
          813.9871635864639,
          796.2419299951549,
          812.1279586506007,
          866.2348192987603,
          946.319748271288,
          971.1823436770319,
          998.798742061863,
          897.6887306799129,
          914.9326499309997,
          971.0504287450385,
          972.6099531783382,
          978.4976056892987,
          999.1221381314034,
          1012.452924682965,
          1030.898335226378,
          1065.1835796294372,
          1051.931834549259,
          1047.1508307590818,
          1068.6279881428623,
          1092.0077946437086,
          1112.83305035729,
          1126.6286266355767,
          1135.7576193506031,
          1143.056142256524,
          1148.7781608007836,
          1153.9558407642528,
          1160.1167764053068,
          1165.197893191044,
          1169.3431601367536,
          1174.0334418136886,
          1177.9368267853897,
          1180.6559044776086,
          1182.8609709262864,
          1186.4377368532216,
          1190.0024538529499,
          1194.3321588233955,
          1199.1809690714833,
          1205.0913876040636,
          1212.9455729107688,
          1221.3359089023072,
          1229.920969292976,
          1239.262951807368,
          1250.5554765577215,
          1262.461960812058,
          1275.0721321244537,
          1288.0122109366212,
          1301.9390233356771,
          1317.8629348439883,
          1334.7407793565962,
          1352.449188841651,
          1370.6292271325278,
          1389.2091039733702,
          1409.0676125396446,
          1428.6192400087245,
          1448.0335452788142,
          1466.836544229484,
          1485.1873880281569,
          1504.008290169843,
          1521.9989627895482
         ],
         "yaxis": "y"
        },
        {
         "hovertemplate": "variable=qC[cTot]<br>t=%{x}<br>value=%{y}<extra></extra>",
         "legendgroup": "0.0",
         "line": {
          "color": "rgb(20,175,166)",
          "dash": "solid"
         },
         "marker": {
          "symbol": "circle"
         },
         "mode": "lines",
         "name": "qC[cTot]",
         "orientation": "v",
         "showlegend": true,
         "type": "scatter",
         "x": [
          1983,
          1984,
          1985,
          1986,
          1987,
          1988,
          1989,
          1990,
          1991,
          1992,
          1993,
          1994,
          1995,
          1996,
          1997,
          1998,
          1999,
          2000,
          2001,
          2002,
          2003,
          2004,
          2005,
          2006,
          2007,
          2008,
          2009,
          2010,
          2011,
          2012,
          2013,
          2014,
          2015,
          2016,
          2017,
          2018,
          2019,
          2020,
          2021,
          2022,
          2023,
          2024,
          2025,
          2026,
          2027,
          2028,
          2029,
          2030,
          2031,
          2032,
          2033,
          2034,
          2035,
          2036,
          2037,
          2038,
          2039,
          2040,
          2041,
          2042,
          2043,
          2044,
          2045,
          2046,
          2047,
          2048,
          2049,
          2050,
          2051,
          2052,
          2053,
          2054,
          2055,
          2056,
          2057,
          2058,
          2059,
          2060
         ],
         "xaxis": "x",
         "y": [
          719.3193947194908,
          737.246773477053,
          762.7157542884875,
          809.0049292978165,
          785.7469704953221,
          763.7094668914366,
          758.5535261356647,
          757.0581865431858,
          761.7247018307559,
          773.5307442323355,
          759.2796040417262,
          801.8158561469464,
          807.2048478231804,
          818.8333138719238,
          834.6074780697273,
          845.7830299667154,
          836.4062984092601,
          831.3269382969178,
          824.9763382505996,
          828.6187675925167,
          831.3610841539112,
          861.3825963991262,
          884.3948036978237,
          901.4501694123041,
          908.3140064236773,
          903.7309827720665,
          864.0732179855008,
          862.2220052697759,
          856.0393457356727,
          851.9067825299197,
          845.8287475529793,
          845.086806743187,
          849.8882945457367,
          858.7630574668483,
          863.1117979576619,
          889.632173278233,
          900.4381393820033,
          915.5120704983258,
          919.1182520773449,
          926.1718629598212,
          934.147327318258,
          940.2046664284019,
          945.8694718185809,
          951.5473622872543,
          957.4088608324182,
          963.867395741506,
          969.6569713086892,
          975.9918902945783,
          981.5306545425063,
          985.8432456255672,
          990.2729541821885,
          994.3328635802691,
          999.5572101187402,
          1003.0553167253778,
          1006.3896449103938,
          1009.8105060158352,
          1012.9322442572867,
          1016.8321610091925,
          1019.2753075745978,
          1021.3047625705373,
          1023.660460388963,
          1026.275690488121,
          1029.6215189483569,
          1032.4437414038614,
          1035.3737112991676,
          1039.2376216425391,
          1043.0219029740495,
          1048.145970879071,
          1052.9534088382698,
          1057.744224953145,
          1063.0525535315503,
          1068.6789669990587,
          1074.6934173307168,
          1080.3375825594517,
          1086.095140349412,
          1092.0040930387602,
          1097.711224216936,
          1103.805765723018
         ],
         "yaxis": "y"
        },
        {
         "hovertemplate": "variable=qG[gTot]<br>t=%{x}<br>value=%{y}<extra></extra>",
         "legendgroup": "1.0",
         "line": {
          "color": "rgb(255,155,75)",
          "dash": "solid"
         },
         "marker": {
          "symbol": "circle"
         },
         "mode": "lines",
         "name": "qG[gTot]",
         "orientation": "v",
         "showlegend": true,
         "type": "scatter",
         "x": [
          1983,
          1984,
          1985,
          1986,
          1987,
          1988,
          1989,
          1990,
          1991,
          1992,
          1993,
          1994,
          1995,
          1996,
          1997,
          1998,
          1999,
          2000,
          2001,
          2002,
          2003,
          2004,
          2005,
          2006,
          2007,
          2008,
          2009,
          2010,
          2011,
          2012,
          2013,
          2014,
          2015,
          2016,
          2017,
          2018,
          2019,
          2020,
          2021,
          2022,
          2023,
          2024,
          2025,
          2026,
          2027,
          2028,
          2029,
          2030,
          2031,
          2032,
          2033,
          2034,
          2035,
          2036,
          2037,
          2038,
          2039,
          2040,
          2041,
          2042,
          2043,
          2044,
          2045,
          2046,
          2047,
          2048,
          2049,
          2050,
          2051,
          2052,
          2053,
          2054,
          2055,
          2056,
          2057,
          2058,
          2059,
          2060
         ],
         "xaxis": "x",
         "y": [
          429.82627535318045,
          418.48625130071093,
          423.539974554072,
          422.60629705854785,
          421.0151616289826,
          416.522389782606,
          408.72340808527065,
          398.4412559970508,
          401.04488959305525,
          399.6756452964759,
          412.5712356018317,
          416.859165136875,
          421.62778792618525,
          430.181423392585,
          428.09487121263356,
          436.9413593639388,
          446.7653041271267,
          455.3116656493279,
          459.3846905509173,
          464.5277362357741,
          461.0448249197234,
          463.43981496158045,
          464.3854326939527,
          471.4617359235201,
          472.39690489332463,
          482.93691691656284,
          492.62934933344775,
          495.5751875,
          487.58809390394174,
          486.4183797451931,
          481.1224205944095,
          485.5819764890196,
          485.9002517733439,
          482.4574400701738,
          483.2072744609171,
          496.4987904183047,
          499.6584674213598,
          503.396746261969,
          506.6417222775603,
          509.27188717228427,
          511.51166851377116,
          513.4690226449853,
          515.2426664535081,
          517.2232769778501,
          519.0517334542131,
          520.6348620779818,
          522.3331244147614,
          523.6001032655097,
          524.6853440271273,
          525.609256975664,
          526.4097876719632,
          527.0342963549784,
          527.3738067442462,
          527.5080030742289,
          527.4211070854313,
          527.1100393400252,
          526.6046736871708,
          525.9010743198929,
          525.0877641162741,
          524.2038605974834,
          523.2592319118197,
          522.2323273551199,
          521.2164593491033,
          520.2196990537353,
          519.2251950084163,
          518.2718912208825,
          517.2874751522098,
          516.3000984017383,
          515.3182299437264,
          514.3517284393038,
          513.4170914537497,
          512.466810183415,
          511.52368713601743,
          510.58559754083143,
          509.6350963061882,
          508.6514597284473,
          507.58636552886986,
          506.4969426817906
         ],
         "yaxis": "y"
        },
        {
         "hovertemplate": "variable=qI[iTot]<br>t=%{x}<br>value=%{y}<extra></extra>",
         "legendgroup": "1.0",
         "line": {
          "color": "rgb(92,210,114)",
          "dash": "solid"
         },
         "marker": {
          "symbol": "circle"
         },
         "mode": "lines",
         "name": "qI[iTot]",
         "orientation": "v",
         "showlegend": true,
         "type": "scatter",
         "x": [
          1983,
          1984,
          1985,
          1986,
          1987,
          1988,
          1989,
          1990,
          1991,
          1992,
          1993,
          1994,
          1995,
          1996,
          1997,
          1998,
          1999,
          2000,
          2001,
          2002,
          2003,
          2004,
          2005,
          2006,
          2007,
          2008,
          2009,
          2010,
          2011,
          2012,
          2013,
          2014,
          2015,
          2016,
          2017,
          2018,
          2019,
          2020,
          2021,
          2022,
          2023,
          2024,
          2025,
          2026,
          2027,
          2028,
          2029,
          2030,
          2031,
          2032,
          2033,
          2034,
          2035,
          2036,
          2037,
          2038,
          2039,
          2040,
          2041,
          2042,
          2043,
          2044,
          2045,
          2046,
          2047,
          2048,
          2049,
          2050,
          2051,
          2052,
          2053,
          2054,
          2055,
          2056,
          2057,
          2058,
          2059,
          2060
         ],
         "xaxis": "x",
         "y": [
          202.30575336208543,
          237.3173663803091,
          261.558982197909,
          300.0154087446545,
          286.5956132245938,
          274.80946456393656,
          281.9718167653228,
          277.68146947747965,
          264.189258445372,
          266.5646533986826,
          243.47513157031614,
          273.6103583851565,
          310.66469153580505,
          310.83122331771153,
          352.09484804585315,
          369.10244490634614,
          347.62053389118057,
          384.5991822817201,
          375.1802717373846,
          367.00133206621075,
          360.8962181972531,
          381.48011981815466,
          398.5976714531742,
          445.0319792718926,
          452.399720092488,
          426.4349277621803,
          332.57131393420667,
          327.3453031453319,
          341.781875728693,
          346.16364595503615,
          354.35775194382575,
          365.90005336642986,
          365.71057671457254,
          383.80264474918437,
          394.8470661429305,
          402.17810845635364,
          388.09756361399684,
          412.0159022539964,
          416.7025722330494,
          422.3342093341002,
          426.5013467306135,
          428.3551054592203,
          431.3802635819601,
          429.56075264285255,
          427.4531056120549,
          423.93025876966544,
          419.97736226087113,
          417.4897219268274,
          413.80239515632246,
          410.6714137710943,
          407.87155554209744,
          405.89290624462745,
          404.18019933836666,
          403.32006758150095,
          402.4406642020187,
          402.0086426479712,
          402.15625403024893,
          402.5390799671432,
          403.5690492168651,
          405.2823599042385,
          408.1089373764986,
          410.10273170761235,
          413.8290097266308,
          417.02608664690086,
          420.59104844697146,
          424.8338201893275,
          427.90545133527405,
          431.8619363709621,
          435.4123182647118,
          438.7886362561808,
          442.57931083790845,
          444.8993868030579,
          447.7358483414405,
          449.93852457470456,
          451.9107218012758,
          454.101683783637,
          454.98915891458256,
          456.2826629776403
         ],
         "yaxis": "y"
        }
       ],
       "layout": {
        "annotations": [
         {
          "showarrow": false,
          "text": "",
          "x": 0,
          "xref": "paper",
          "xshift": -45.35433070866142,
          "y": 1,
          "yref": "paper",
          "yshift": 30.236220472440944
         }
        ],
        "legend": {
         "title": {
          "text": ""
         },
         "tracegroupgap": 0
        },
        "margin": {
         "l": 56.69291338582677,
         "r": 18.89763779527559,
         "t": 37.79527559055118
        },
        "template": {
         "data": {
          "scatter": [
           {
            "line": {
             "width": 4
            },
            "type": "scatter"
           }
          ],
          "scattergl": [
           {
            "line": {
             "width": 4
            },
            "type": "scattergl"
           }
          ]
         },
         "layout": {
          "colorway": [
           "rgb(245,82,82)",
           "rgb(20,175,166)",
           "rgb(255,155,75)",
           "rgb(92,210,114)",
           "rgb(66,180,224)",
           "rgb(188,173,221)",
           "rgb(0,95,151)",
           "rgb(137,48,112)",
           "rgb(70,70,76)",
           "rgb(230,230,232)"
          ],
          "font": {
           "color": "black",
           "family": "Hind",
           "size": 14
          },
          "legend": {
           "orientation": "h",
           "x": 0.5,
           "xanchor": "center",
           "y": -0.3,
           "yanchor": "top"
          },
          "margin": {
           "l": 56.69291338582677,
           "r": 18.89763779527559,
           "t": 37.79527559055118
          },
          "plot_bgcolor": "rgb(230,230,232)",
          "title": {
           "font": {
            "size": 14
           }
          },
          "width": 585.8267716535432,
          "xaxis": {
           "automargin": false,
           "gridcolor": "white",
           "linecolor": "black",
           "showline": true,
           "ticklen": 10,
           "ticks": "outside",
           "title": {
            "font": {
             "size": 14
            },
            "standoff": 0
           }
          },
          "yaxis": {
           "automargin": false,
           "gridcolor": "white",
           "linecolor": "black",
           "showline": true,
           "ticklen": 10,
           "tickmode": "auto",
           "ticks": "outside",
           "title": {
            "font": {
             "size": 14
            }
           }
          }
         }
        },
        "width": 585.8267716535432,
        "xaxis": {
         "anchor": "y",
         "domain": [
          0,
          1
         ],
         "title": {
          "text": "År"
         }
        },
        "yaxis": {
         "anchor": "x",
         "domain": [
          0,
          1
         ],
         "title": {
          "text": ""
         }
        }
       }
      }
     },
     "metadata": {},
     "output_type": "display_data"
    }
   ],
   "source": [
    "plot([s.qX, s.qC, s.qG, s.qI])"
   ]
  },
  {
   "cell_type": "markdown",
   "metadata": {},
   "source": [
    "Note that only the aggregate elements are plotted despite each variable being multidimensional.\n",
    "\n",
    "That is because *dreamtools* is setup with a dictionary defining which elements should be shown for a number of sets if we haven't specified anything."
   ]
  },
  {
   "cell_type": "code",
   "execution_count": 23,
   "metadata": {},
   "outputs": [
    {
     "data": {
      "text/plain": [
       "{'a_': ['tot'],\n",
       " 'a': [10, 20, 30, 40, 50, 60, 70, 80, 90, 100],\n",
       " 'c_': ['cTot'],\n",
       " 'c': ['cBil', 'cEne', 'cVar', 'cBol', 'cTje', 'cTur'],\n",
       " 'x_': ['xTot'],\n",
       " 'x': ['xEne', 'xVar', 'xSoe', 'xTje', 'xTur'],\n",
       " 'g_': ['gTot'],\n",
       " 'g': ['g'],\n",
       " 's_': ['tot'],\n",
       " 'sp': ['tje', 'fre', 'byg', 'soe', 'bol', 'lan', 'ene', 'udv'],\n",
       " 's': ['tje', 'fre', 'byg', 'soe', 'bol', 'lan', 'ene', 'udv', 'off'],\n",
       " 'r_': ['tot'],\n",
       " 'r': ['tje', 'fre', 'byg', 'soe', 'bol', 'lan', 'ene', 'udv', 'off'],\n",
       " 'd_': ['tot'],\n",
       " 'i_': ['iTot'],\n",
       " 'i': ['IM', 'IB', 'IL'],\n",
       " 'k_': ['IM', 'IB'],\n",
       " 'k': ['IM', 'IB'],\n",
       " 'portf_': ['NetFin'],\n",
       " 'portf': ['NetFin']}"
      ]
     },
     "execution_count": 23,
     "metadata": {},
     "output_type": "execute_result"
    }
   ],
   "source": [
    "dt.DEFAULT_SET_AGGREGATIONS"
   ]
  },
  {
   "cell_type": "markdown",
   "metadata": {},
   "source": [
    "If we want other components we can simply be more specific (or supply a different *default_set_aggregations* dictionary):"
   ]
  },
  {
   "cell_type": "code",
   "execution_count": 24,
   "metadata": {},
   "outputs": [
    {
     "data": {
      "application/vnd.plotly.v1+json": {
       "config": {
        "plotlyServerURL": "https://plot.ly"
       },
       "data": [
        {
         "hovertemplate": "variable=vC[cBol]<br>t=%{x}<br>value=%{y}<extra></extra>",
         "legendgroup": "0.0",
         "line": {
          "color": "rgb(245,82,82)",
          "dash": "solid"
         },
         "marker": {
          "symbol": "circle"
         },
         "mode": "lines",
         "name": "vC[cBol]",
         "orientation": "v",
         "showlegend": true,
         "type": "scatter",
         "x": [
          1983,
          1984,
          1985,
          1986,
          1987,
          1988,
          1989,
          1990,
          1991,
          1992,
          1993,
          1994,
          1995,
          1996,
          1997,
          1998,
          1999,
          2000,
          2001,
          2002,
          2003,
          2004,
          2005,
          2006,
          2007,
          2008,
          2009,
          2010,
          2011,
          2012,
          2013,
          2014,
          2015,
          2016,
          2017,
          2018,
          2019,
          2020,
          2021,
          2022,
          2023,
          2024,
          2025,
          2026,
          2027,
          2028,
          2029,
          2030,
          2031,
          2032,
          2033,
          2034,
          2035,
          2036,
          2037,
          2038,
          2039,
          2040,
          2041,
          2042,
          2043,
          2044,
          2045,
          2046,
          2047,
          2048,
          2049,
          2050,
          2051,
          2052,
          2053,
          2054,
          2055,
          2056,
          2057,
          2058,
          2059,
          2060
         ],
         "xaxis": "x",
         "y": [
          102.79427455782192,
          108.57429450485066,
          112.5479564269546,
          118.3633464950754,
          123.2946316948603,
          127.80740277968115,
          134.153326736658,
          139.14922113701766,
          143.5314339019899,
          146.11133641553073,
          147.1355411268317,
          148.38950532606663,
          148.73404523690942,
          149.90700320054373,
          151.02123144594023,
          151.86030577119632,
          151.68516022166358,
          153.24863698988716,
          155.6882515078452,
          158.3897004031609,
          161.07710604743173,
          163.47965204471555,
          166.18758112090643,
          168.89671311582177,
          171.3678492648006,
          173.57525390882023,
          176.09108943299998,
          181.39320310000005,
          184.21074556070266,
          186.0307506102219,
          186.45735257962073,
          186.51534523178853,
          185.79441425179576,
          185.85104700267556,
          185.65716535426782,
          185.0056224022359,
          185.15706486309924,
          185.95652524771322,
          186.7523647594811,
          187.69653463218484,
          188.88026126208302,
          190.28265604485435,
          191.87330943426971,
          193.58974354229883,
          195.41997545764806,
          197.35081893425084,
          199.36415538404663,
          201.44834088214662,
          203.583803037066,
          205.7609951686672,
          207.9587150687575,
          210.16414741330044,
          212.36403368419178,
          214.56259367423846,
          216.74821680836226,
          218.92365907593555,
          221.06703143294746,
          223.16501101043923,
          225.23166034916784,
          227.2684352002118,
          229.26959653209005,
          231.22619729152055,
          233.1487443750278,
          235.05541119083276,
          236.95554034290467,
          238.83642947292495,
          240.70059361170576,
          242.56226189127446,
          244.4319691291405,
          246.31418169494933,
          248.2138302869617,
          250.13404991747242,
          252.09285104722977,
          254.0927644519814,
          256.14096006377383,
          258.2408475050796,
          260.3899722237382,
          262.59514249403105
         ],
         "yaxis": "y"
        },
        {
         "hovertemplate": "variable=vC[cBil]<br>t=%{x}<br>value=%{y}<extra></extra>",
         "legendgroup": "0.0",
         "line": {
          "color": "rgb(20,175,166)",
          "dash": "solid"
         },
         "marker": {
          "symbol": "circle"
         },
         "mode": "lines",
         "name": "vC[cBil]",
         "orientation": "v",
         "showlegend": true,
         "type": "scatter",
         "x": [
          1983,
          1984,
          1985,
          1986,
          1987,
          1988,
          1989,
          1990,
          1991,
          1992,
          1993,
          1994,
          1995,
          1996,
          1997,
          1998,
          1999,
          2000,
          2001,
          2002,
          2003,
          2004,
          2005,
          2006,
          2007,
          2008,
          2009,
          2010,
          2011,
          2012,
          2013,
          2014,
          2015,
          2016,
          2017,
          2018,
          2019,
          2020,
          2021,
          2022,
          2023,
          2024,
          2025,
          2026,
          2027,
          2028,
          2029,
          2030,
          2031,
          2032,
          2033,
          2034,
          2035,
          2036,
          2037,
          2038,
          2039,
          2040,
          2041,
          2042,
          2043,
          2044,
          2045,
          2046,
          2047,
          2048,
          2049,
          2050,
          2051,
          2052,
          2053,
          2054,
          2055,
          2056,
          2057,
          2058,
          2059,
          2060
         ],
         "xaxis": "x",
         "y": [
          27.21650732818382,
          35.13411255246066,
          42.40035941543894,
          44.7116318260252,
          35.570604595103646,
          26.22094364891116,
          24.55177668215446,
          24.31866239087926,
          25.542951577538517,
          25.616400180072205,
          23.80270779696222,
          41.80255815344778,
          43.770519414171986,
          46.63722631582655,
          47.46418960180166,
          49.691579044048886,
          43.92513713780075,
          34.631884117880254,
          30.66637202252933,
          34.84331684610875,
          29.255317803063726,
          40.78293912351935,
          48.83743383704183,
          53.02055149537577,
          50.53202435033636,
          40.85610897531799,
          27.507077035866814,
          28.301779300000007,
          28.40791431334133,
          28.304261972814025,
          29.932886688578062,
          30.096816596129635,
          30.64883078618816,
          30.768171977921178,
          30.640817063271335,
          32.83130252855748,
          34.26340992578718,
          35.56223681173793,
          36.047033716331306,
          36.571937447196056,
          37.07896860347712,
          37.448492938524986,
          37.75816397443113,
          38.01921120184782,
          38.26204433407057,
          38.519978336976074,
          38.733391920501056,
          38.97529947027258,
          39.17682968514922,
          39.321369121091244,
          39.47570403272686,
          39.61508045238278,
          39.81479948731825,
          39.93209820297655,
          40.042892331482285,
          40.16354933400022,
          40.26526346510137,
          40.401437066166956,
          40.46826624320677,
          40.52016793617713,
          40.59090918357052,
          40.67130983929668,
          40.78999964025932,
          40.8880144312632,
          40.996412070802535,
          41.149191590869115,
          41.292592640904644,
          41.503752249949024,
          41.69832044343773,
          41.891171441246364,
          42.110009641458035,
          42.342375763979845,
          42.59654475971936,
          42.83239577108686,
          43.07559987615864,
          43.32745325548318,
          43.566967965895536,
          43.82821613927911
         ],
         "yaxis": "y"
        },
        {
         "hovertemplate": "variable=vC[cEne]<br>t=%{x}<br>value=%{y}<extra></extra>",
         "legendgroup": "0.0",
         "line": {
          "color": "rgb(255,155,75)",
          "dash": "solid"
         },
         "marker": {
          "symbol": "circle"
         },
         "mode": "lines",
         "name": "vC[cEne]",
         "orientation": "v",
         "showlegend": true,
         "type": "scatter",
         "x": [
          1983,
          1984,
          1985,
          1986,
          1987,
          1988,
          1989,
          1990,
          1991,
          1992,
          1993,
          1994,
          1995,
          1996,
          1997,
          1998,
          1999,
          2000,
          2001,
          2002,
          2003,
          2004,
          2005,
          2006,
          2007,
          2008,
          2009,
          2010,
          2011,
          2012,
          2013,
          2014,
          2015,
          2016,
          2017,
          2018,
          2019,
          2020,
          2021,
          2022,
          2023,
          2024,
          2025,
          2026,
          2027,
          2028,
          2029,
          2030,
          2031,
          2032,
          2033,
          2034,
          2035,
          2036,
          2037,
          2038,
          2039,
          2040,
          2041,
          2042,
          2043,
          2044,
          2045,
          2046,
          2047,
          2048,
          2049,
          2050,
          2051,
          2052,
          2053,
          2054,
          2055,
          2056,
          2057,
          2058,
          2059,
          2060
         ],
         "xaxis": "x",
         "y": [
          68.47717559098375,
          67.8541303335321,
          71.95002764154279,
          70.31926041621776,
          73.96180460612034,
          66.64805335793675,
          67.34445413830042,
          64.76002118574894,
          65.16988888072794,
          64.1426825407322,
          63.26964264905969,
          62.857995282205664,
          64.70588473301294,
          70.27891222608729,
          68.38311618052012,
          67.67352699052424,
          70.01192064270394,
          74.97884350858887,
          75.5683122893824,
          74.52805243145887,
          74.20288557616269,
          74.35270525227222,
          76.88153536676926,
          77.89675065747964,
          73.71252263488473,
          77.46960256083973,
          71.41668518348065,
          79.62807336,
          78.58411129353647,
          76.48378004182078,
          78.3961911021883,
          70.66831724522547,
          66.99701983878121,
          62.49198677437773,
          62.02538616721422,
          64.01917354843157,
          63.378129356258896,
          64.07872147181857,
          64.12137577613079,
          64.73480684566768,
          65.55630761170126,
          66.25352778907899,
          66.83232579199125,
          67.16258794512058,
          67.43107936105784,
          67.76082907250037,
          67.99296781052523,
          68.27806833761565,
          68.50701354524857,
          68.6584333399459,
          68.80951460145877,
          68.92362570733162,
          69.14177653809621,
          69.24039989516184,
          69.33079070663304,
          69.48234205015403,
          69.54819710261125,
          69.61565390755541,
          69.58741622479941,
          69.56184567444635,
          69.56133474033491,
          69.53879554369243,
          69.55557056335884,
          69.59324306276372,
          69.69804281142441,
          69.84348702410476,
          69.95927626847389,
          70.19414515312273,
          70.41947788730049,
          70.64425438460601,
          70.90657704845131,
          71.18339319557876,
          71.50165261391176,
          71.78283842432798,
          72.0743599487136,
          72.37959725820609,
          72.6630845654792,
          72.98439223722896
         ],
         "yaxis": "y"
        },
        {
         "hovertemplate": "variable=vC[cVar]<br>t=%{x}<br>value=%{y}<extra></extra>",
         "legendgroup": "1.0",
         "line": {
          "color": "rgb(92,210,114)",
          "dash": "solid"
         },
         "marker": {
          "symbol": "circle"
         },
         "mode": "lines",
         "name": "vC[cVar]",
         "orientation": "v",
         "showlegend": true,
         "type": "scatter",
         "x": [
          1983,
          1984,
          1985,
          1986,
          1987,
          1988,
          1989,
          1990,
          1991,
          1992,
          1993,
          1994,
          1995,
          1996,
          1997,
          1998,
          1999,
          2000,
          2001,
          2002,
          2003,
          2004,
          2005,
          2006,
          2007,
          2008,
          2009,
          2010,
          2011,
          2012,
          2013,
          2014,
          2015,
          2016,
          2017,
          2018,
          2019,
          2020,
          2021,
          2022,
          2023,
          2024,
          2025,
          2026,
          2027,
          2028,
          2029,
          2030,
          2031,
          2032,
          2033,
          2034,
          2035,
          2036,
          2037,
          2038,
          2039,
          2040,
          2041,
          2042,
          2043,
          2044,
          2045,
          2046,
          2047,
          2048,
          2049,
          2050,
          2051,
          2052,
          2053,
          2054,
          2055,
          2056,
          2057,
          2058,
          2059,
          2060
         ],
         "xaxis": "x",
         "y": [
          238.8691348631233,
          257.2031839453066,
          266.0464088734298,
          279.6764560028779,
          270.3288397049884,
          265.9970904444639,
          263.28758730207875,
          261.2495627526919,
          262.42116122276144,
          261.17325502917953,
          255.18682626865186,
          269.5052004797441,
          272.3286479546623,
          274.26023256152064,
          280.3919821259145,
          279.7119480749625,
          271.90723946433536,
          271.45957493092436,
          269.00531014779096,
          266.8072294342165,
          266.2404878862526,
          269.6857385759917,
          271.36997712800735,
          278.5113092850505,
          284.1242344860246,
          282.50312030890206,
          268.18804749943064,
          261.20800440000005,
          256.4488329939572,
          257.40320494147824,
          249.71747760012437,
          247.93477025736794,
          240.86846531657807,
          239.35086636769418,
          237.04519704502354,
          244.52887059699907,
          246.0969418490229,
          249.4948407832694,
          249.03742424909376,
          250.04021489234884,
          251.66137459875182,
          252.8217104546832,
          253.91473573711946,
          254.96295158781408,
          256.0333693867401,
          257.2719468257249,
          258.273418700877,
          259.4938115711943,
          260.45935403415365,
          261.0494825784894,
          261.72181521413955,
          262.30678748245896,
          263.2983429101045,
          263.73840861895656,
          264.13948848614234,
          264.59109933073626,
          264.9462571312052,
          265.5591388770187,
          265.70943441791945,
          265.7537698130444,
          265.9299420029448,
          266.1921819872589,
          266.7205771813601,
          267.0933864437854,
          267.5170242830074,
          268.25029710122607,
          268.9337837612785,
          270.0610839813512,
          271.0758990823059,
          272.08201031985215,
          273.26287452685114,
          274.5388375270554,
          275.9562592060319,
          277.25975899114104,
          278.6139401422434,
          280.0268834233926,
          281.36400113189046,
          282.84325096598434
         ],
         "yaxis": "y"
        },
        {
         "hovertemplate": "variable=vC[cTje]<br>t=%{x}<br>value=%{y}<extra></extra>",
         "legendgroup": "1.0",
         "line": {
          "color": "rgb(66,180,224)",
          "dash": "solid"
         },
         "marker": {
          "symbol": "circle"
         },
         "mode": "lines",
         "name": "vC[cTje]",
         "orientation": "v",
         "showlegend": true,
         "type": "scatter",
         "x": [
          1983,
          1984,
          1985,
          1986,
          1987,
          1988,
          1989,
          1990,
          1991,
          1992,
          1993,
          1994,
          1995,
          1996,
          1997,
          1998,
          1999,
          2000,
          2001,
          2002,
          2003,
          2004,
          2005,
          2006,
          2007,
          2008,
          2009,
          2010,
          2011,
          2012,
          2013,
          2014,
          2015,
          2016,
          2017,
          2018,
          2019,
          2020,
          2021,
          2022,
          2023,
          2024,
          2025,
          2026,
          2027,
          2028,
          2029,
          2030,
          2031,
          2032,
          2033,
          2034,
          2035,
          2036,
          2037,
          2038,
          2039,
          2040,
          2041,
          2042,
          2043,
          2044,
          2045,
          2046,
          2047,
          2048,
          2049,
          2050,
          2051,
          2052,
          2053,
          2054,
          2055,
          2056,
          2057,
          2058,
          2059,
          2060
         ],
         "xaxis": "x",
         "y": [
          159.1410108084521,
          172.79517327002665,
          181.6405095420275,
          193.74686370960293,
          200.06996395869464,
          211.18805424978223,
          225.1319407993114,
          221.58456428528876,
          228.4691330813393,
          234.1352197068326,
          227.6555017011975,
          241.12577609000778,
          239.64097207977406,
          239.808144405334,
          247.0667304621543,
          252.6851467827652,
          252.13904648180844,
          256.9622108372354,
          256.95106027579874,
          252.7839439934238,
          257.1856599570588,
          266.0214438651601,
          275.08096332771663,
          280.520611207563,
          284.6401068916301,
          293.71364430846006,
          279.79186662323724,
          275.73185,
          276.8582153384904,
          276.4908779821457,
          267.03112377729235,
          265.11805369145776,
          271.87437037920336,
          275.9405205421629,
          279.43561676855836,
          289.47759314811816,
          292.371148910858,
          297.37385733711716,
          297.7475111080328,
          299.8417138401459,
          302.66440276896856,
          304.9252180068886,
          307.09928963543604,
          309.21639610417895,
          311.35754436086324,
          313.70023524806385,
          315.7494794168211,
          318.06243737214027,
          320.0586003890281,
          321.5864726901825,
          323.20742681718724,
          324.7124691609644,
          326.7136248868071,
          328.0235227118679,
          329.2760495168297,
          330.58268956878896,
          331.759814375103,
          333.2508176088181,
          334.15233682233827,
          334.9097849478457,
          335.82240365040354,
          336.8332468646436,
          338.1712719878518,
          339.3028589948274,
          340.48945297850366,
          342.0612153876359,
          343.56127729920905,
          345.62055786663166,
          347.5290210167507,
          349.41890290948487,
          351.52575197038,
          353.74777705209806,
          356.14516173751,
          358.3884965283463,
          360.689810911132,
          363.0596449555569,
          365.3234467401592,
          367.76385379413426
         ],
         "yaxis": "y"
        },
        {
         "hovertemplate": "variable=vC[cTur]<br>t=%{x}<br>value=%{y}<extra></extra>",
         "legendgroup": "1.0",
         "line": {
          "color": "rgb(188,173,221)",
          "dash": "solid"
         },
         "marker": {
          "symbol": "circle"
         },
         "mode": "lines",
         "name": "vC[cTur]",
         "orientation": "v",
         "showlegend": true,
         "type": "scatter",
         "x": [
          1983,
          1984,
          1985,
          1986,
          1987,
          1988,
          1989,
          1990,
          1991,
          1992,
          1993,
          1994,
          1995,
          1996,
          1997,
          1998,
          1999,
          2000,
          2001,
          2002,
          2003,
          2004,
          2005,
          2006,
          2007,
          2008,
          2009,
          2010,
          2011,
          2012,
          2013,
          2014,
          2015,
          2016,
          2017,
          2018,
          2019,
          2020,
          2021,
          2022,
          2023,
          2024,
          2025,
          2026,
          2027,
          2028,
          2029,
          2030,
          2031,
          2032,
          2033,
          2034,
          2035,
          2036,
          2037,
          2038,
          2039,
          2040,
          2041,
          2042,
          2043,
          2044,
          2045,
          2046,
          2047,
          2048,
          2049,
          2050,
          2051,
          2052,
          2053,
          2054,
          2055,
          2056,
          2057,
          2058,
          2059,
          2060
         ],
         "xaxis": "x",
         "y": [
          16.18082882306063,
          18.1061717522096,
          20.736533985386618,
          23.985439629339297,
          25.622452432831597,
          26.751157280158264,
          26.611253332339174,
          27.89902501989754,
          25.868418234543267,
          27.058927519310302,
          21.983881718208067,
          23.107980341236875,
          23.429529677261574,
          22.326218584204863,
          25.05294198848578,
          26.482098703811072,
          30.154399846757507,
          31.661694243946698,
          33.34783787161833,
          38.07403944903256,
          35.46604028177592,
          33.84204768095951,
          31.72069900564389,
          31.68886348699426,
          32.61200433649975,
          34.069088648642996,
          35.250670668910345,
          35.95914063,
          36.30549486467609,
          36.805246868908526,
          35.68996599187505,
          36.363341622872035,
          36.02783890926106,
          35.94146295689026,
          35.515570961272346,
          36.77939260173361,
          37.12363284660872,
          37.742761297246936,
          37.76831716797427,
          38.01904812324574,
          38.374998280706066,
          38.668711762973004,
          38.955350721733026,
          39.23408774101745,
          39.51492234858476,
          39.81999458267488,
          40.08790215671026,
          40.391757425305734,
          40.65629734325029,
          40.8632564616223,
          41.08391687066759,
          41.291301007488315,
          41.56146862296321,
          41.744825501743826,
          41.92094377256502,
          42.10398962847039,
          42.270234781082756,
          42.475434260767706,
          42.60630621797065,
          42.71960949595451,
          42.852907970735025,
          42.99782500487733,
          43.184971529824566,
          43.34601702943806,
          43.514041861312435,
          43.73060385651406,
          43.93642373633637,
          44.21298314338209,
          44.4699285419118,
          44.724492052549984,
          45.0070833314397,
          45.30404062659082,
          45.62457692247695,
          45.92672408565134,
          46.23767030150597,
          46.55848773851513,
          46.865884530640486,
          47.197242240597674
         ],
         "yaxis": "y"
        }
       ],
       "layout": {
        "annotations": [
         {
          "showarrow": false,
          "text": "",
          "x": 0,
          "xref": "paper",
          "xshift": -45.35433070866142,
          "y": 1,
          "yref": "paper",
          "yshift": 30.236220472440944
         }
        ],
        "legend": {
         "title": {
          "text": ""
         },
         "tracegroupgap": 0
        },
        "margin": {
         "l": 56.69291338582677,
         "r": 18.89763779527559,
         "t": 37.79527559055118
        },
        "template": {
         "data": {
          "scatter": [
           {
            "line": {
             "width": 4
            },
            "type": "scatter"
           }
          ],
          "scattergl": [
           {
            "line": {
             "width": 4
            },
            "type": "scattergl"
           }
          ]
         },
         "layout": {
          "colorway": [
           "rgb(245,82,82)",
           "rgb(20,175,166)",
           "rgb(255,155,75)",
           "rgb(92,210,114)",
           "rgb(66,180,224)",
           "rgb(188,173,221)",
           "rgb(0,95,151)",
           "rgb(137,48,112)",
           "rgb(70,70,76)",
           "rgb(230,230,232)"
          ],
          "font": {
           "color": "black",
           "family": "Hind",
           "size": 14
          },
          "legend": {
           "orientation": "h",
           "x": 0.5,
           "xanchor": "center",
           "y": -0.3,
           "yanchor": "top"
          },
          "margin": {
           "l": 56.69291338582677,
           "r": 18.89763779527559,
           "t": 37.79527559055118
          },
          "plot_bgcolor": "rgb(230,230,232)",
          "title": {
           "font": {
            "size": 14
           }
          },
          "width": 585.8267716535432,
          "xaxis": {
           "automargin": false,
           "gridcolor": "white",
           "linecolor": "black",
           "showline": true,
           "ticklen": 10,
           "ticks": "outside",
           "title": {
            "font": {
             "size": 14
            },
            "standoff": 0
           }
          },
          "yaxis": {
           "automargin": false,
           "gridcolor": "white",
           "linecolor": "black",
           "showline": true,
           "ticklen": 10,
           "tickmode": "auto",
           "ticks": "outside",
           "title": {
            "font": {
             "size": 14
            }
           }
          }
         }
        },
        "width": 585.8267716535432,
        "xaxis": {
         "anchor": "y",
         "domain": [
          0,
          1
         ],
         "title": {
          "text": "År"
         }
        },
        "yaxis": {
         "anchor": "x",
         "domain": [
          0,
          1
         ],
         "title": {
          "text": ""
         }
        }
       }
      }
     },
     "metadata": {},
     "output_type": "display_data"
    }
   ],
   "source": [
    "plot(s.vC[s.c])"
   ]
  },
  {
   "attachments": {},
   "cell_type": "markdown",
   "metadata": {},
   "source": [
    "For a better legend, we supply a names iterable with the same length as the number of series to be plottet:"
   ]
  },
  {
   "cell_type": "code",
   "execution_count": 25,
   "metadata": {},
   "outputs": [
    {
     "data": {
      "application/vnd.plotly.v1+json": {
       "config": {
        "plotlyServerURL": "https://plot.ly"
       },
       "data": [
        {
         "hovertemplate": "variable=Eksport (qX)<br>t=%{x}<br>value=%{y}<extra></extra>",
         "legendgroup": "0.0",
         "line": {
          "color": "rgb(245,82,82)",
          "dash": "solid"
         },
         "marker": {
          "symbol": "circle"
         },
         "mode": "lines",
         "name": "Eksport (qX)",
         "orientation": "v",
         "showlegend": true,
         "type": "scatter",
         "x": [
          1983,
          1984,
          1985,
          1986,
          1987,
          1988,
          1989,
          1990,
          1991,
          1992,
          1993,
          1994,
          1995,
          1996,
          1997,
          1998,
          1999,
          2000,
          2001,
          2002,
          2003,
          2004,
          2005,
          2006,
          2007,
          2008,
          2009,
          2010,
          2011,
          2012,
          2013,
          2014,
          2015,
          2016,
          2017,
          2018,
          2019,
          2020,
          2021,
          2022,
          2023,
          2024,
          2025,
          2026,
          2027,
          2028,
          2029,
          2030,
          2031,
          2032,
          2033,
          2034,
          2035,
          2036,
          2037,
          2038,
          2039,
          2040,
          2041,
          2042,
          2043,
          2044,
          2045,
          2046,
          2047,
          2048,
          2049,
          2050,
          2051,
          2052,
          2053,
          2054,
          2055,
          2056,
          2057,
          2058,
          2059,
          2060
         ],
         "xaxis": "x",
         "y": [
          376.2262135541958,
          384.7866113383512,
          403.9744624192033,
          405.3316182400531,
          420.8124586282726,
          454.7361244047301,
          471.20490236947296,
          496.9890423130658,
          522.4232089922399,
          518.6516571001146,
          519.8287606566771,
          557.0691732652895,
          567.4545235984069,
          587.9629449718858,
          608.2651156979247,
          626.9433239551256,
          690.6905843147805,
          769.8641074194951,
          787.7976896866297,
          813.9871635864639,
          796.2419299951549,
          812.1279586506007,
          866.2348192987603,
          946.319748271288,
          971.1823436770319,
          998.798742061863,
          897.6887306799129,
          914.9326499309997,
          971.0504287450385,
          972.6099531783382,
          978.4976056892987,
          999.1221381314034,
          1012.452924682965,
          1030.898335226378,
          1065.1835796294372,
          1051.931834549259,
          1047.1508307590818,
          1068.6279881428623,
          1092.0077946437086,
          1112.83305035729,
          1126.6286266355767,
          1135.7576193506031,
          1143.056142256524,
          1148.7781608007836,
          1153.9558407642528,
          1160.1167764053068,
          1165.197893191044,
          1169.3431601367536,
          1174.0334418136886,
          1177.9368267853897,
          1180.6559044776086,
          1182.8609709262864,
          1186.4377368532216,
          1190.0024538529499,
          1194.3321588233955,
          1199.1809690714833,
          1205.0913876040636,
          1212.9455729107688,
          1221.3359089023072,
          1229.920969292976,
          1239.262951807368,
          1250.5554765577215,
          1262.461960812058,
          1275.0721321244537,
          1288.0122109366212,
          1301.9390233356771,
          1317.8629348439883,
          1334.7407793565962,
          1352.449188841651,
          1370.6292271325278,
          1389.2091039733702,
          1409.0676125396446,
          1428.6192400087245,
          1448.0335452788142,
          1466.836544229484,
          1485.1873880281569,
          1504.008290169843,
          1521.9989627895482
         ],
         "yaxis": "y"
        },
        {
         "hovertemplate": "variable=Privat forbrug (qC)<br>t=%{x}<br>value=%{y}<extra></extra>",
         "legendgroup": "0.0",
         "line": {
          "color": "rgb(20,175,166)",
          "dash": "solid"
         },
         "marker": {
          "symbol": "circle"
         },
         "mode": "lines",
         "name": "Privat forbrug (qC)",
         "orientation": "v",
         "showlegend": true,
         "type": "scatter",
         "x": [
          1983,
          1984,
          1985,
          1986,
          1987,
          1988,
          1989,
          1990,
          1991,
          1992,
          1993,
          1994,
          1995,
          1996,
          1997,
          1998,
          1999,
          2000,
          2001,
          2002,
          2003,
          2004,
          2005,
          2006,
          2007,
          2008,
          2009,
          2010,
          2011,
          2012,
          2013,
          2014,
          2015,
          2016,
          2017,
          2018,
          2019,
          2020,
          2021,
          2022,
          2023,
          2024,
          2025,
          2026,
          2027,
          2028,
          2029,
          2030,
          2031,
          2032,
          2033,
          2034,
          2035,
          2036,
          2037,
          2038,
          2039,
          2040,
          2041,
          2042,
          2043,
          2044,
          2045,
          2046,
          2047,
          2048,
          2049,
          2050,
          2051,
          2052,
          2053,
          2054,
          2055,
          2056,
          2057,
          2058,
          2059,
          2060
         ],
         "xaxis": "x",
         "y": [
          719.3193947194908,
          737.246773477053,
          762.7157542884875,
          809.0049292978165,
          785.7469704953221,
          763.7094668914366,
          758.5535261356647,
          757.0581865431858,
          761.7247018307559,
          773.5307442323355,
          759.2796040417262,
          801.8158561469464,
          807.2048478231804,
          818.8333138719238,
          834.6074780697273,
          845.7830299667154,
          836.4062984092601,
          831.3269382969178,
          824.9763382505996,
          828.6187675925167,
          831.3610841539112,
          861.3825963991262,
          884.3948036978237,
          901.4501694123041,
          908.3140064236773,
          903.7309827720665,
          864.0732179855008,
          862.2220052697759,
          856.0393457356727,
          851.9067825299197,
          845.8287475529793,
          845.086806743187,
          849.8882945457367,
          858.7630574668483,
          863.1117979576619,
          889.632173278233,
          900.4381393820033,
          915.5120704983258,
          919.1182520773449,
          926.1718629598212,
          934.147327318258,
          940.2046664284019,
          945.8694718185809,
          951.5473622872543,
          957.4088608324182,
          963.867395741506,
          969.6569713086892,
          975.9918902945783,
          981.5306545425063,
          985.8432456255672,
          990.2729541821885,
          994.3328635802691,
          999.5572101187402,
          1003.0553167253778,
          1006.3896449103938,
          1009.8105060158352,
          1012.9322442572867,
          1016.8321610091925,
          1019.2753075745978,
          1021.3047625705373,
          1023.660460388963,
          1026.275690488121,
          1029.6215189483569,
          1032.4437414038614,
          1035.3737112991676,
          1039.2376216425391,
          1043.0219029740495,
          1048.145970879071,
          1052.9534088382698,
          1057.744224953145,
          1063.0525535315503,
          1068.6789669990587,
          1074.6934173307168,
          1080.3375825594517,
          1086.095140349412,
          1092.0040930387602,
          1097.711224216936,
          1103.805765723018
         ],
         "yaxis": "y"
        },
        {
         "hovertemplate": "variable=Offentligt forbrug (qG)<br>t=%{x}<br>value=%{y}<extra></extra>",
         "legendgroup": "1.0",
         "line": {
          "color": "rgb(255,155,75)",
          "dash": "solid"
         },
         "marker": {
          "symbol": "circle"
         },
         "mode": "lines",
         "name": "Offentligt forbrug (qG)",
         "orientation": "v",
         "showlegend": true,
         "type": "scatter",
         "x": [
          1983,
          1984,
          1985,
          1986,
          1987,
          1988,
          1989,
          1990,
          1991,
          1992,
          1993,
          1994,
          1995,
          1996,
          1997,
          1998,
          1999,
          2000,
          2001,
          2002,
          2003,
          2004,
          2005,
          2006,
          2007,
          2008,
          2009,
          2010,
          2011,
          2012,
          2013,
          2014,
          2015,
          2016,
          2017,
          2018,
          2019,
          2020,
          2021,
          2022,
          2023,
          2024,
          2025,
          2026,
          2027,
          2028,
          2029,
          2030,
          2031,
          2032,
          2033,
          2034,
          2035,
          2036,
          2037,
          2038,
          2039,
          2040,
          2041,
          2042,
          2043,
          2044,
          2045,
          2046,
          2047,
          2048,
          2049,
          2050,
          2051,
          2052,
          2053,
          2054,
          2055,
          2056,
          2057,
          2058,
          2059,
          2060
         ],
         "xaxis": "x",
         "y": [
          429.82627535318045,
          418.48625130071093,
          423.539974554072,
          422.60629705854785,
          421.0151616289826,
          416.522389782606,
          408.72340808527065,
          398.4412559970508,
          401.04488959305525,
          399.6756452964759,
          412.5712356018317,
          416.859165136875,
          421.62778792618525,
          430.181423392585,
          428.09487121263356,
          436.9413593639388,
          446.7653041271267,
          455.3116656493279,
          459.3846905509173,
          464.5277362357741,
          461.0448249197234,
          463.43981496158045,
          464.3854326939527,
          471.4617359235201,
          472.39690489332463,
          482.93691691656284,
          492.62934933344775,
          495.5751875,
          487.58809390394174,
          486.4183797451931,
          481.1224205944095,
          485.5819764890196,
          485.9002517733439,
          482.4574400701738,
          483.2072744609171,
          496.4987904183047,
          499.6584674213598,
          503.396746261969,
          506.6417222775603,
          509.27188717228427,
          511.51166851377116,
          513.4690226449853,
          515.2426664535081,
          517.2232769778501,
          519.0517334542131,
          520.6348620779818,
          522.3331244147614,
          523.6001032655097,
          524.6853440271273,
          525.609256975664,
          526.4097876719632,
          527.0342963549784,
          527.3738067442462,
          527.5080030742289,
          527.4211070854313,
          527.1100393400252,
          526.6046736871708,
          525.9010743198929,
          525.0877641162741,
          524.2038605974834,
          523.2592319118197,
          522.2323273551199,
          521.2164593491033,
          520.2196990537353,
          519.2251950084163,
          518.2718912208825,
          517.2874751522098,
          516.3000984017383,
          515.3182299437264,
          514.3517284393038,
          513.4170914537497,
          512.466810183415,
          511.52368713601743,
          510.58559754083143,
          509.6350963061882,
          508.6514597284473,
          507.58636552886986,
          506.4969426817906
         ],
         "yaxis": "y"
        },
        {
         "hovertemplate": "variable=Investeringer (qI)<br>t=%{x}<br>value=%{y}<extra></extra>",
         "legendgroup": "1.0",
         "line": {
          "color": "rgb(92,210,114)",
          "dash": "solid"
         },
         "marker": {
          "symbol": "circle"
         },
         "mode": "lines",
         "name": "Investeringer (qI)",
         "orientation": "v",
         "showlegend": true,
         "type": "scatter",
         "x": [
          1983,
          1984,
          1985,
          1986,
          1987,
          1988,
          1989,
          1990,
          1991,
          1992,
          1993,
          1994,
          1995,
          1996,
          1997,
          1998,
          1999,
          2000,
          2001,
          2002,
          2003,
          2004,
          2005,
          2006,
          2007,
          2008,
          2009,
          2010,
          2011,
          2012,
          2013,
          2014,
          2015,
          2016,
          2017,
          2018,
          2019,
          2020,
          2021,
          2022,
          2023,
          2024,
          2025,
          2026,
          2027,
          2028,
          2029,
          2030,
          2031,
          2032,
          2033,
          2034,
          2035,
          2036,
          2037,
          2038,
          2039,
          2040,
          2041,
          2042,
          2043,
          2044,
          2045,
          2046,
          2047,
          2048,
          2049,
          2050,
          2051,
          2052,
          2053,
          2054,
          2055,
          2056,
          2057,
          2058,
          2059,
          2060
         ],
         "xaxis": "x",
         "y": [
          202.30575336208543,
          237.3173663803091,
          261.558982197909,
          300.0154087446545,
          286.5956132245938,
          274.80946456393656,
          281.9718167653228,
          277.68146947747965,
          264.189258445372,
          266.5646533986826,
          243.47513157031614,
          273.6103583851565,
          310.66469153580505,
          310.83122331771153,
          352.09484804585315,
          369.10244490634614,
          347.62053389118057,
          384.5991822817201,
          375.1802717373846,
          367.00133206621075,
          360.8962181972531,
          381.48011981815466,
          398.5976714531742,
          445.0319792718926,
          452.399720092488,
          426.4349277621803,
          332.57131393420667,
          327.3453031453319,
          341.781875728693,
          346.16364595503615,
          354.35775194382575,
          365.90005336642986,
          365.71057671457254,
          383.80264474918437,
          394.8470661429305,
          402.17810845635364,
          388.09756361399684,
          412.0159022539964,
          416.7025722330494,
          422.3342093341002,
          426.5013467306135,
          428.3551054592203,
          431.3802635819601,
          429.56075264285255,
          427.4531056120549,
          423.93025876966544,
          419.97736226087113,
          417.4897219268274,
          413.80239515632246,
          410.6714137710943,
          407.87155554209744,
          405.89290624462745,
          404.18019933836666,
          403.32006758150095,
          402.4406642020187,
          402.0086426479712,
          402.15625403024893,
          402.5390799671432,
          403.5690492168651,
          405.2823599042385,
          408.1089373764986,
          410.10273170761235,
          413.8290097266308,
          417.02608664690086,
          420.59104844697146,
          424.8338201893275,
          427.90545133527405,
          431.8619363709621,
          435.4123182647118,
          438.7886362561808,
          442.57931083790845,
          444.8993868030579,
          447.7358483414405,
          449.93852457470456,
          451.9107218012758,
          454.101683783637,
          454.98915891458256,
          456.2826629776403
         ],
         "yaxis": "y"
        }
       ],
       "layout": {
        "annotations": [
         {
          "showarrow": false,
          "text": "",
          "x": 0,
          "xref": "paper",
          "xshift": -45.35433070866142,
          "y": 1,
          "yref": "paper",
          "yshift": 30.236220472440944
         }
        ],
        "legend": {
         "title": {
          "text": ""
         },
         "tracegroupgap": 0
        },
        "margin": {
         "l": 56.69291338582677,
         "r": 18.89763779527559,
         "t": 37.79527559055118
        },
        "template": {
         "data": {
          "scatter": [
           {
            "line": {
             "width": 4
            },
            "type": "scatter"
           }
          ],
          "scattergl": [
           {
            "line": {
             "width": 4
            },
            "type": "scattergl"
           }
          ]
         },
         "layout": {
          "colorway": [
           "rgb(245,82,82)",
           "rgb(20,175,166)",
           "rgb(255,155,75)",
           "rgb(92,210,114)",
           "rgb(66,180,224)",
           "rgb(188,173,221)",
           "rgb(0,95,151)",
           "rgb(137,48,112)",
           "rgb(70,70,76)",
           "rgb(230,230,232)"
          ],
          "font": {
           "color": "black",
           "family": "Hind",
           "size": 14
          },
          "legend": {
           "orientation": "h",
           "x": 0.5,
           "xanchor": "center",
           "y": -0.3,
           "yanchor": "top"
          },
          "margin": {
           "l": 56.69291338582677,
           "r": 18.89763779527559,
           "t": 37.79527559055118
          },
          "plot_bgcolor": "rgb(230,230,232)",
          "title": {
           "font": {
            "size": 14
           }
          },
          "width": 585.8267716535432,
          "xaxis": {
           "automargin": false,
           "gridcolor": "white",
           "linecolor": "black",
           "showline": true,
           "ticklen": 10,
           "ticks": "outside",
           "title": {
            "font": {
             "size": 14
            },
            "standoff": 0
           }
          },
          "yaxis": {
           "automargin": false,
           "gridcolor": "white",
           "linecolor": "black",
           "showline": true,
           "ticklen": 10,
           "tickmode": "auto",
           "ticks": "outside",
           "title": {
            "font": {
             "size": 14
            }
           }
          }
         }
        },
        "width": 585.8267716535432,
        "xaxis": {
         "anchor": "y",
         "domain": [
          0,
          1
         ],
         "title": {
          "text": "År"
         }
        },
        "yaxis": {
         "anchor": "x",
         "domain": [
          0,
          1
         ],
         "title": {
          "text": ""
         }
        }
       }
      }
     },
     "metadata": {},
     "output_type": "display_data"
    },
    {
     "data": {
      "application/vnd.plotly.v1+json": {
       "config": {
        "plotlyServerURL": "https://plot.ly"
       },
       "data": [
        {
         "hovertemplate": "variable=Bolig<br>t=%{x}<br>value=%{y}<extra></extra>",
         "legendgroup": "0.0",
         "line": {
          "color": "rgb(245,82,82)",
          "dash": "solid"
         },
         "marker": {
          "symbol": "circle"
         },
         "mode": "lines",
         "name": "Bolig",
         "orientation": "v",
         "showlegend": true,
         "type": "scatter",
         "x": [
          1983,
          1984,
          1985,
          1986,
          1987,
          1988,
          1989,
          1990,
          1991,
          1992,
          1993,
          1994,
          1995,
          1996,
          1997,
          1998,
          1999,
          2000,
          2001,
          2002,
          2003,
          2004,
          2005,
          2006,
          2007,
          2008,
          2009,
          2010,
          2011,
          2012,
          2013,
          2014,
          2015,
          2016,
          2017,
          2018,
          2019,
          2020,
          2021,
          2022,
          2023,
          2024,
          2025,
          2026,
          2027,
          2028,
          2029,
          2030,
          2031,
          2032,
          2033,
          2034,
          2035,
          2036,
          2037,
          2038,
          2039,
          2040,
          2041,
          2042,
          2043,
          2044,
          2045,
          2046,
          2047,
          2048,
          2049,
          2050,
          2051,
          2052,
          2053,
          2054,
          2055,
          2056,
          2057,
          2058,
          2059,
          2060
         ],
         "xaxis": "x",
         "y": [
          102.79427455782192,
          108.57429450485066,
          112.5479564269546,
          118.3633464950754,
          123.2946316948603,
          127.80740277968115,
          134.153326736658,
          139.14922113701766,
          143.5314339019899,
          146.11133641553073,
          147.1355411268317,
          148.38950532606663,
          148.73404523690942,
          149.90700320054373,
          151.02123144594023,
          151.86030577119632,
          151.68516022166358,
          153.24863698988716,
          155.6882515078452,
          158.3897004031609,
          161.07710604743173,
          163.47965204471555,
          166.18758112090643,
          168.89671311582177,
          171.3678492648006,
          173.57525390882023,
          176.09108943299998,
          181.39320310000005,
          184.21074556070266,
          186.0307506102219,
          186.45735257962073,
          186.51534523178853,
          185.79441425179576,
          185.85104700267556,
          185.65716535426782,
          185.0056224022359,
          185.15706486309924,
          185.95652524771322,
          186.7523647594811,
          187.69653463218484,
          188.88026126208302,
          190.28265604485435,
          191.87330943426971,
          193.58974354229883,
          195.41997545764806,
          197.35081893425084,
          199.36415538404663,
          201.44834088214662,
          203.583803037066,
          205.7609951686672,
          207.9587150687575,
          210.16414741330044,
          212.36403368419178,
          214.56259367423846,
          216.74821680836226,
          218.92365907593555,
          221.06703143294746,
          223.16501101043923,
          225.23166034916784,
          227.2684352002118,
          229.26959653209005,
          231.22619729152055,
          233.1487443750278,
          235.05541119083276,
          236.95554034290467,
          238.83642947292495,
          240.70059361170576,
          242.56226189127446,
          244.4319691291405,
          246.31418169494933,
          248.2138302869617,
          250.13404991747242,
          252.09285104722977,
          254.0927644519814,
          256.14096006377383,
          258.2408475050796,
          260.3899722237382,
          262.59514249403105
         ],
         "yaxis": "y"
        },
        {
         "hovertemplate": "variable=Biler<br>t=%{x}<br>value=%{y}<extra></extra>",
         "legendgroup": "0.0",
         "line": {
          "color": "rgb(20,175,166)",
          "dash": "solid"
         },
         "marker": {
          "symbol": "circle"
         },
         "mode": "lines",
         "name": "Biler",
         "orientation": "v",
         "showlegend": true,
         "type": "scatter",
         "x": [
          1983,
          1984,
          1985,
          1986,
          1987,
          1988,
          1989,
          1990,
          1991,
          1992,
          1993,
          1994,
          1995,
          1996,
          1997,
          1998,
          1999,
          2000,
          2001,
          2002,
          2003,
          2004,
          2005,
          2006,
          2007,
          2008,
          2009,
          2010,
          2011,
          2012,
          2013,
          2014,
          2015,
          2016,
          2017,
          2018,
          2019,
          2020,
          2021,
          2022,
          2023,
          2024,
          2025,
          2026,
          2027,
          2028,
          2029,
          2030,
          2031,
          2032,
          2033,
          2034,
          2035,
          2036,
          2037,
          2038,
          2039,
          2040,
          2041,
          2042,
          2043,
          2044,
          2045,
          2046,
          2047,
          2048,
          2049,
          2050,
          2051,
          2052,
          2053,
          2054,
          2055,
          2056,
          2057,
          2058,
          2059,
          2060
         ],
         "xaxis": "x",
         "y": [
          27.21650732818382,
          35.13411255246066,
          42.40035941543894,
          44.7116318260252,
          35.570604595103646,
          26.22094364891116,
          24.55177668215446,
          24.31866239087926,
          25.542951577538517,
          25.616400180072205,
          23.80270779696222,
          41.80255815344778,
          43.770519414171986,
          46.63722631582655,
          47.46418960180166,
          49.691579044048886,
          43.92513713780075,
          34.631884117880254,
          30.66637202252933,
          34.84331684610875,
          29.255317803063726,
          40.78293912351935,
          48.83743383704183,
          53.02055149537577,
          50.53202435033636,
          40.85610897531799,
          27.507077035866814,
          28.301779300000007,
          28.40791431334133,
          28.304261972814025,
          29.932886688578062,
          30.096816596129635,
          30.64883078618816,
          30.768171977921178,
          30.640817063271335,
          32.83130252855748,
          34.26340992578718,
          35.56223681173793,
          36.047033716331306,
          36.571937447196056,
          37.07896860347712,
          37.448492938524986,
          37.75816397443113,
          38.01921120184782,
          38.26204433407057,
          38.519978336976074,
          38.733391920501056,
          38.97529947027258,
          39.17682968514922,
          39.321369121091244,
          39.47570403272686,
          39.61508045238278,
          39.81479948731825,
          39.93209820297655,
          40.042892331482285,
          40.16354933400022,
          40.26526346510137,
          40.401437066166956,
          40.46826624320677,
          40.52016793617713,
          40.59090918357052,
          40.67130983929668,
          40.78999964025932,
          40.8880144312632,
          40.996412070802535,
          41.149191590869115,
          41.292592640904644,
          41.503752249949024,
          41.69832044343773,
          41.891171441246364,
          42.110009641458035,
          42.342375763979845,
          42.59654475971936,
          42.83239577108686,
          43.07559987615864,
          43.32745325548318,
          43.566967965895536,
          43.82821613927911
         ],
         "yaxis": "y"
        },
        {
         "hovertemplate": "variable=Energi<br>t=%{x}<br>value=%{y}<extra></extra>",
         "legendgroup": "0.0",
         "line": {
          "color": "rgb(255,155,75)",
          "dash": "solid"
         },
         "marker": {
          "symbol": "circle"
         },
         "mode": "lines",
         "name": "Energi",
         "orientation": "v",
         "showlegend": true,
         "type": "scatter",
         "x": [
          1983,
          1984,
          1985,
          1986,
          1987,
          1988,
          1989,
          1990,
          1991,
          1992,
          1993,
          1994,
          1995,
          1996,
          1997,
          1998,
          1999,
          2000,
          2001,
          2002,
          2003,
          2004,
          2005,
          2006,
          2007,
          2008,
          2009,
          2010,
          2011,
          2012,
          2013,
          2014,
          2015,
          2016,
          2017,
          2018,
          2019,
          2020,
          2021,
          2022,
          2023,
          2024,
          2025,
          2026,
          2027,
          2028,
          2029,
          2030,
          2031,
          2032,
          2033,
          2034,
          2035,
          2036,
          2037,
          2038,
          2039,
          2040,
          2041,
          2042,
          2043,
          2044,
          2045,
          2046,
          2047,
          2048,
          2049,
          2050,
          2051,
          2052,
          2053,
          2054,
          2055,
          2056,
          2057,
          2058,
          2059,
          2060
         ],
         "xaxis": "x",
         "y": [
          68.47717559098375,
          67.8541303335321,
          71.95002764154279,
          70.31926041621776,
          73.96180460612034,
          66.64805335793675,
          67.34445413830042,
          64.76002118574894,
          65.16988888072794,
          64.1426825407322,
          63.26964264905969,
          62.857995282205664,
          64.70588473301294,
          70.27891222608729,
          68.38311618052012,
          67.67352699052424,
          70.01192064270394,
          74.97884350858887,
          75.5683122893824,
          74.52805243145887,
          74.20288557616269,
          74.35270525227222,
          76.88153536676926,
          77.89675065747964,
          73.71252263488473,
          77.46960256083973,
          71.41668518348065,
          79.62807336,
          78.58411129353647,
          76.48378004182078,
          78.3961911021883,
          70.66831724522547,
          66.99701983878121,
          62.49198677437773,
          62.02538616721422,
          64.01917354843157,
          63.378129356258896,
          64.07872147181857,
          64.12137577613079,
          64.73480684566768,
          65.55630761170126,
          66.25352778907899,
          66.83232579199125,
          67.16258794512058,
          67.43107936105784,
          67.76082907250037,
          67.99296781052523,
          68.27806833761565,
          68.50701354524857,
          68.6584333399459,
          68.80951460145877,
          68.92362570733162,
          69.14177653809621,
          69.24039989516184,
          69.33079070663304,
          69.48234205015403,
          69.54819710261125,
          69.61565390755541,
          69.58741622479941,
          69.56184567444635,
          69.56133474033491,
          69.53879554369243,
          69.55557056335884,
          69.59324306276372,
          69.69804281142441,
          69.84348702410476,
          69.95927626847389,
          70.19414515312273,
          70.41947788730049,
          70.64425438460601,
          70.90657704845131,
          71.18339319557876,
          71.50165261391176,
          71.78283842432798,
          72.0743599487136,
          72.37959725820609,
          72.6630845654792,
          72.98439223722896
         ],
         "yaxis": "y"
        },
        {
         "hovertemplate": "variable=Varer<br>t=%{x}<br>value=%{y}<extra></extra>",
         "legendgroup": "1.0",
         "line": {
          "color": "rgb(92,210,114)",
          "dash": "solid"
         },
         "marker": {
          "symbol": "circle"
         },
         "mode": "lines",
         "name": "Varer",
         "orientation": "v",
         "showlegend": true,
         "type": "scatter",
         "x": [
          1983,
          1984,
          1985,
          1986,
          1987,
          1988,
          1989,
          1990,
          1991,
          1992,
          1993,
          1994,
          1995,
          1996,
          1997,
          1998,
          1999,
          2000,
          2001,
          2002,
          2003,
          2004,
          2005,
          2006,
          2007,
          2008,
          2009,
          2010,
          2011,
          2012,
          2013,
          2014,
          2015,
          2016,
          2017,
          2018,
          2019,
          2020,
          2021,
          2022,
          2023,
          2024,
          2025,
          2026,
          2027,
          2028,
          2029,
          2030,
          2031,
          2032,
          2033,
          2034,
          2035,
          2036,
          2037,
          2038,
          2039,
          2040,
          2041,
          2042,
          2043,
          2044,
          2045,
          2046,
          2047,
          2048,
          2049,
          2050,
          2051,
          2052,
          2053,
          2054,
          2055,
          2056,
          2057,
          2058,
          2059,
          2060
         ],
         "xaxis": "x",
         "y": [
          238.8691348631233,
          257.2031839453066,
          266.0464088734298,
          279.6764560028779,
          270.3288397049884,
          265.9970904444639,
          263.28758730207875,
          261.2495627526919,
          262.42116122276144,
          261.17325502917953,
          255.18682626865186,
          269.5052004797441,
          272.3286479546623,
          274.26023256152064,
          280.3919821259145,
          279.7119480749625,
          271.90723946433536,
          271.45957493092436,
          269.00531014779096,
          266.8072294342165,
          266.2404878862526,
          269.6857385759917,
          271.36997712800735,
          278.5113092850505,
          284.1242344860246,
          282.50312030890206,
          268.18804749943064,
          261.20800440000005,
          256.4488329939572,
          257.40320494147824,
          249.71747760012437,
          247.93477025736794,
          240.86846531657807,
          239.35086636769418,
          237.04519704502354,
          244.52887059699907,
          246.0969418490229,
          249.4948407832694,
          249.03742424909376,
          250.04021489234884,
          251.66137459875182,
          252.8217104546832,
          253.91473573711946,
          254.96295158781408,
          256.0333693867401,
          257.2719468257249,
          258.273418700877,
          259.4938115711943,
          260.45935403415365,
          261.0494825784894,
          261.72181521413955,
          262.30678748245896,
          263.2983429101045,
          263.73840861895656,
          264.13948848614234,
          264.59109933073626,
          264.9462571312052,
          265.5591388770187,
          265.70943441791945,
          265.7537698130444,
          265.9299420029448,
          266.1921819872589,
          266.7205771813601,
          267.0933864437854,
          267.5170242830074,
          268.25029710122607,
          268.9337837612785,
          270.0610839813512,
          271.0758990823059,
          272.08201031985215,
          273.26287452685114,
          274.5388375270554,
          275.9562592060319,
          277.25975899114104,
          278.6139401422434,
          280.0268834233926,
          281.36400113189046,
          282.84325096598434
         ],
         "yaxis": "y"
        },
        {
         "hovertemplate": "variable=Tjenester<br>t=%{x}<br>value=%{y}<extra></extra>",
         "legendgroup": "1.0",
         "line": {
          "color": "rgb(66,180,224)",
          "dash": "solid"
         },
         "marker": {
          "symbol": "circle"
         },
         "mode": "lines",
         "name": "Tjenester",
         "orientation": "v",
         "showlegend": true,
         "type": "scatter",
         "x": [
          1983,
          1984,
          1985,
          1986,
          1987,
          1988,
          1989,
          1990,
          1991,
          1992,
          1993,
          1994,
          1995,
          1996,
          1997,
          1998,
          1999,
          2000,
          2001,
          2002,
          2003,
          2004,
          2005,
          2006,
          2007,
          2008,
          2009,
          2010,
          2011,
          2012,
          2013,
          2014,
          2015,
          2016,
          2017,
          2018,
          2019,
          2020,
          2021,
          2022,
          2023,
          2024,
          2025,
          2026,
          2027,
          2028,
          2029,
          2030,
          2031,
          2032,
          2033,
          2034,
          2035,
          2036,
          2037,
          2038,
          2039,
          2040,
          2041,
          2042,
          2043,
          2044,
          2045,
          2046,
          2047,
          2048,
          2049,
          2050,
          2051,
          2052,
          2053,
          2054,
          2055,
          2056,
          2057,
          2058,
          2059,
          2060
         ],
         "xaxis": "x",
         "y": [
          159.1410108084521,
          172.79517327002665,
          181.6405095420275,
          193.74686370960293,
          200.06996395869464,
          211.18805424978223,
          225.1319407993114,
          221.58456428528876,
          228.4691330813393,
          234.1352197068326,
          227.6555017011975,
          241.12577609000778,
          239.64097207977406,
          239.808144405334,
          247.0667304621543,
          252.6851467827652,
          252.13904648180844,
          256.9622108372354,
          256.95106027579874,
          252.7839439934238,
          257.1856599570588,
          266.0214438651601,
          275.08096332771663,
          280.520611207563,
          284.6401068916301,
          293.71364430846006,
          279.79186662323724,
          275.73185,
          276.8582153384904,
          276.4908779821457,
          267.03112377729235,
          265.11805369145776,
          271.87437037920336,
          275.9405205421629,
          279.43561676855836,
          289.47759314811816,
          292.371148910858,
          297.37385733711716,
          297.7475111080328,
          299.8417138401459,
          302.66440276896856,
          304.9252180068886,
          307.09928963543604,
          309.21639610417895,
          311.35754436086324,
          313.70023524806385,
          315.7494794168211,
          318.06243737214027,
          320.0586003890281,
          321.5864726901825,
          323.20742681718724,
          324.7124691609644,
          326.7136248868071,
          328.0235227118679,
          329.2760495168297,
          330.58268956878896,
          331.759814375103,
          333.2508176088181,
          334.15233682233827,
          334.9097849478457,
          335.82240365040354,
          336.8332468646436,
          338.1712719878518,
          339.3028589948274,
          340.48945297850366,
          342.0612153876359,
          343.56127729920905,
          345.62055786663166,
          347.5290210167507,
          349.41890290948487,
          351.52575197038,
          353.74777705209806,
          356.14516173751,
          358.3884965283463,
          360.689810911132,
          363.0596449555569,
          365.3234467401592,
          367.76385379413426
         ],
         "yaxis": "y"
        },
        {
         "hovertemplate": "variable=Turisme<br>t=%{x}<br>value=%{y}<extra></extra>",
         "legendgroup": "1.0",
         "line": {
          "color": "rgb(188,173,221)",
          "dash": "solid"
         },
         "marker": {
          "symbol": "circle"
         },
         "mode": "lines",
         "name": "Turisme",
         "orientation": "v",
         "showlegend": true,
         "type": "scatter",
         "x": [
          1983,
          1984,
          1985,
          1986,
          1987,
          1988,
          1989,
          1990,
          1991,
          1992,
          1993,
          1994,
          1995,
          1996,
          1997,
          1998,
          1999,
          2000,
          2001,
          2002,
          2003,
          2004,
          2005,
          2006,
          2007,
          2008,
          2009,
          2010,
          2011,
          2012,
          2013,
          2014,
          2015,
          2016,
          2017,
          2018,
          2019,
          2020,
          2021,
          2022,
          2023,
          2024,
          2025,
          2026,
          2027,
          2028,
          2029,
          2030,
          2031,
          2032,
          2033,
          2034,
          2035,
          2036,
          2037,
          2038,
          2039,
          2040,
          2041,
          2042,
          2043,
          2044,
          2045,
          2046,
          2047,
          2048,
          2049,
          2050,
          2051,
          2052,
          2053,
          2054,
          2055,
          2056,
          2057,
          2058,
          2059,
          2060
         ],
         "xaxis": "x",
         "y": [
          16.18082882306063,
          18.1061717522096,
          20.736533985386618,
          23.985439629339297,
          25.622452432831597,
          26.751157280158264,
          26.611253332339174,
          27.89902501989754,
          25.868418234543267,
          27.058927519310302,
          21.983881718208067,
          23.107980341236875,
          23.429529677261574,
          22.326218584204863,
          25.05294198848578,
          26.482098703811072,
          30.154399846757507,
          31.661694243946698,
          33.34783787161833,
          38.07403944903256,
          35.46604028177592,
          33.84204768095951,
          31.72069900564389,
          31.68886348699426,
          32.61200433649975,
          34.069088648642996,
          35.250670668910345,
          35.95914063,
          36.30549486467609,
          36.805246868908526,
          35.68996599187505,
          36.363341622872035,
          36.02783890926106,
          35.94146295689026,
          35.515570961272346,
          36.77939260173361,
          37.12363284660872,
          37.742761297246936,
          37.76831716797427,
          38.01904812324574,
          38.374998280706066,
          38.668711762973004,
          38.955350721733026,
          39.23408774101745,
          39.51492234858476,
          39.81999458267488,
          40.08790215671026,
          40.391757425305734,
          40.65629734325029,
          40.8632564616223,
          41.08391687066759,
          41.291301007488315,
          41.56146862296321,
          41.744825501743826,
          41.92094377256502,
          42.10398962847039,
          42.270234781082756,
          42.475434260767706,
          42.60630621797065,
          42.71960949595451,
          42.852907970735025,
          42.99782500487733,
          43.184971529824566,
          43.34601702943806,
          43.514041861312435,
          43.73060385651406,
          43.93642373633637,
          44.21298314338209,
          44.4699285419118,
          44.724492052549984,
          45.0070833314397,
          45.30404062659082,
          45.62457692247695,
          45.92672408565134,
          46.23767030150597,
          46.55848773851513,
          46.865884530640486,
          47.197242240597674
         ],
         "yaxis": "y"
        }
       ],
       "layout": {
        "annotations": [
         {
          "showarrow": false,
          "text": "",
          "x": 0,
          "xref": "paper",
          "xshift": -45.35433070866142,
          "y": 1,
          "yref": "paper",
          "yshift": 30.236220472440944
         }
        ],
        "legend": {
         "title": {
          "text": ""
         },
         "tracegroupgap": 0
        },
        "margin": {
         "l": 56.69291338582677,
         "r": 18.89763779527559,
         "t": 37.79527559055118
        },
        "template": {
         "data": {
          "scatter": [
           {
            "line": {
             "width": 4
            },
            "type": "scatter"
           }
          ],
          "scattergl": [
           {
            "line": {
             "width": 4
            },
            "type": "scattergl"
           }
          ]
         },
         "layout": {
          "colorway": [
           "rgb(245,82,82)",
           "rgb(20,175,166)",
           "rgb(255,155,75)",
           "rgb(92,210,114)",
           "rgb(66,180,224)",
           "rgb(188,173,221)",
           "rgb(0,95,151)",
           "rgb(137,48,112)",
           "rgb(70,70,76)",
           "rgb(230,230,232)"
          ],
          "font": {
           "color": "black",
           "family": "Hind",
           "size": 14
          },
          "legend": {
           "orientation": "h",
           "x": 0.5,
           "xanchor": "center",
           "y": -0.3,
           "yanchor": "top"
          },
          "margin": {
           "l": 56.69291338582677,
           "r": 18.89763779527559,
           "t": 37.79527559055118
          },
          "plot_bgcolor": "rgb(230,230,232)",
          "title": {
           "font": {
            "size": 14
           }
          },
          "width": 585.8267716535432,
          "xaxis": {
           "automargin": false,
           "gridcolor": "white",
           "linecolor": "black",
           "showline": true,
           "ticklen": 10,
           "ticks": "outside",
           "title": {
            "font": {
             "size": 14
            },
            "standoff": 0
           }
          },
          "yaxis": {
           "automargin": false,
           "gridcolor": "white",
           "linecolor": "black",
           "showline": true,
           "ticklen": 10,
           "tickmode": "auto",
           "ticks": "outside",
           "title": {
            "font": {
             "size": 14
            }
           }
          }
         }
        },
        "width": 585.8267716535432,
        "xaxis": {
         "anchor": "y",
         "domain": [
          0,
          1
         ],
         "title": {
          "text": "År"
         }
        },
        "yaxis": {
         "anchor": "x",
         "domain": [
          0,
          1
         ],
         "title": {
          "text": ""
         }
        }
       }
      }
     },
     "metadata": {},
     "output_type": "display_data"
    }
   ],
   "source": [
    "plot([s.qX, s.qC, s.qG, s.qI], names=[\"Eksport (qX)\", \"Privat forbrug (qC)\", \"Offentligt forbrug (qG)\", \"Investeringer (qI)\"]).show()\n",
    "plot(s.vC[s.c], names=list(s.c.texts))"
   ]
  },
  {
   "attachments": {},
   "cell_type": "markdown",
   "metadata": {},
   "source": [
    "To compare variables with our baseline (the reference database) instead of writing\n",
    "\n",
    "```\n",
    "100 * (s.vX / baseline.vX - 1), 100 * (s.vX / baseline.vX - 1) ...\n",
    "```\n",
    "\n",
    "we can use the operator \"pq\":"
   ]
  },
  {
   "cell_type": "code",
   "execution_count": 26,
   "metadata": {
    "tags": []
   },
   "outputs": [
    {
     "data": {
      "application/vnd.plotly.v1+json": {
       "config": {
        "plotlyServerURL": "https://plot.ly"
       },
       "data": [
        {
         "hovertemplate": "variable=vX[xTot]<br>t=%{x}<br>value=%{y}<extra></extra>",
         "legendgroup": "0.0",
         "line": {
          "color": "rgb(245,82,82)",
          "dash": "solid"
         },
         "marker": {
          "symbol": "circle"
         },
         "mode": "lines",
         "name": "vX[xTot]",
         "orientation": "v",
         "showlegend": true,
         "type": "scatter",
         "x": [
          2015,
          2016,
          2017,
          2018,
          2019,
          2020,
          2021,
          2022,
          2023,
          2024,
          2025
         ],
         "xaxis": "x",
         "y": [
          2.220446049250313e-14,
          -1.1102230246251565e-14,
          0,
          0.01076173041207884,
          0.018350882294715376,
          0.015634187532098665,
          -0.014610593133035366,
          -0.048289592055372754,
          -0.07884164928174675,
          -0.0997978123308263,
          -0.11451095152367197
         ],
         "yaxis": "y"
        },
        {
         "hovertemplate": "variable=vC[cTot]<br>t=%{x}<br>value=%{y}<extra></extra>",
         "legendgroup": "0.0",
         "line": {
          "color": "rgb(20,175,166)",
          "dash": "solid"
         },
         "marker": {
          "symbol": "circle"
         },
         "mode": "lines",
         "name": "vC[cTot]",
         "orientation": "v",
         "showlegend": true,
         "type": "scatter",
         "x": [
          2015,
          2016,
          2017,
          2018,
          2019,
          2020,
          2021,
          2022,
          2023,
          2024,
          2025
         ],
         "xaxis": "x",
         "y": [
          0,
          0,
          -5.329070518200751e-13,
          -0.35001761850895763,
          -0.41692778004263076,
          -0.37979635160527714,
          -0.32158387285000645,
          -0.24076884696703216,
          -0.16593359461348767,
          -0.08832227593085218,
          -0.028943186375529617
         ],
         "yaxis": "y"
        },
        {
         "hovertemplate": "variable=vG[gTot]<br>t=%{x}<br>value=%{y}<extra></extra>",
         "legendgroup": "1.0",
         "line": {
          "color": "rgb(255,155,75)",
          "dash": "solid"
         },
         "marker": {
          "symbol": "circle"
         },
         "mode": "lines",
         "name": "vG[gTot]",
         "orientation": "v",
         "showlegend": true,
         "type": "scatter",
         "x": [
          2015,
          2016,
          2017,
          2018,
          2019,
          2020,
          2021,
          2022,
          2023,
          2024,
          2025
         ],
         "xaxis": "x",
         "y": [
          0,
          0,
          0,
          -0.03900146784764358,
          -0.06257154534643483,
          -0.07447307642995948,
          -0.06370347024097223,
          -0.051206207341114585,
          -0.042999641910068664,
          -0.038742759233112434,
          -0.03787577046653334
         ],
         "yaxis": "y"
        },
        {
         "hovertemplate": "variable=vI[iTot]<br>t=%{x}<br>value=%{y}<extra></extra>",
         "legendgroup": "1.0",
         "line": {
          "color": "rgb(92,210,114)",
          "dash": "solid"
         },
         "marker": {
          "symbol": "circle"
         },
         "mode": "lines",
         "name": "vI[iTot]",
         "orientation": "v",
         "showlegend": true,
         "type": "scatter",
         "x": [
          2015,
          2016,
          2017,
          2018,
          2019,
          2020,
          2021,
          2022,
          2023,
          2024,
          2025
         ],
         "xaxis": "x",
         "y": [
          0,
          0,
          0,
          -0.22399367254324343,
          -0.23910372153216342,
          -0.3296507955180994,
          -0.2863476634079154,
          -0.29471964080735047,
          -0.3237460642218193,
          -0.3510949582683165,
          -0.43765216826068265
         ],
         "yaxis": "y"
        }
       ],
       "layout": {
        "annotations": [
         {
          "showarrow": false,
          "text": "Pct.-ændringer relativt til grundforløb",
          "x": 0,
          "xref": "paper",
          "xshift": -45.35433070866142,
          "y": 1,
          "yref": "paper",
          "yshift": 30.236220472440944
         }
        ],
        "legend": {
         "title": {
          "text": ""
         },
         "tracegroupgap": 0
        },
        "margin": {
         "l": 56.69291338582677,
         "r": 18.89763779527559,
         "t": 37.79527559055118
        },
        "template": {
         "data": {
          "scatter": [
           {
            "line": {
             "width": 4
            },
            "type": "scatter"
           }
          ],
          "scattergl": [
           {
            "line": {
             "width": 4
            },
            "type": "scattergl"
           }
          ]
         },
         "layout": {
          "colorway": [
           "rgb(245,82,82)",
           "rgb(20,175,166)",
           "rgb(255,155,75)",
           "rgb(92,210,114)",
           "rgb(66,180,224)",
           "rgb(188,173,221)",
           "rgb(0,95,151)",
           "rgb(137,48,112)",
           "rgb(70,70,76)",
           "rgb(230,230,232)"
          ],
          "font": {
           "color": "black",
           "family": "Hind",
           "size": 14
          },
          "legend": {
           "orientation": "h",
           "x": 0.5,
           "xanchor": "center",
           "y": -0.3,
           "yanchor": "top"
          },
          "margin": {
           "l": 56.69291338582677,
           "r": 18.89763779527559,
           "t": 37.79527559055118
          },
          "plot_bgcolor": "rgb(230,230,232)",
          "title": {
           "font": {
            "size": 14
           }
          },
          "width": 585.8267716535432,
          "xaxis": {
           "automargin": false,
           "gridcolor": "white",
           "linecolor": "black",
           "showline": true,
           "ticklen": 10,
           "ticks": "outside",
           "title": {
            "font": {
             "size": 14
            },
            "standoff": 0
           }
          },
          "yaxis": {
           "automargin": false,
           "gridcolor": "white",
           "linecolor": "black",
           "showline": true,
           "ticklen": 10,
           "tickmode": "auto",
           "ticks": "outside",
           "title": {
            "font": {
             "size": 14
            }
           }
          }
         }
        },
        "width": 585.8267716535432,
        "xaxis": {
         "anchor": "y",
         "domain": [
          0,
          1
         ],
         "title": {
          "text": "År"
         }
        },
        "yaxis": {
         "anchor": "x",
         "domain": [
          0,
          1
         ],
         "title": {
          "text": ""
         }
        }
       }
      }
     },
     "metadata": {},
     "output_type": "display_data"
    }
   ],
   "source": [
    "plot([s.vX, s.vC, s.vG, s.vI], \"pq\", start_year=2015, end_year=2025)"
   ]
  },
  {
   "attachments": {},
   "cell_type": "markdown",
   "metadata": {},
   "source": [
    "The *prt* function works identically, except instead of returning a plotly figure for plotting, it returns a string for printing.\n",
    "\n",
    "We can set a global time period of interest using the *time* function.\n",
    "\n",
    "4 operators are currently implemented:\n",
    "- \"s\": show baseline side-by-side (shock, baseline)\n",
    "- \"q\": relative multiplier (shock / baseline - 1)\n",
    "- \"pq\": pct. relative multiplier (shock / baseline - 1) * 100\n",
    "- \"m\": absolute multiplyer (shock - baseline)\n",
    "\n"
   ]
  },
  {
   "cell_type": "code",
   "execution_count": 27,
   "metadata": {
    "tags": []
   },
   "outputs": [
    {
     "data": {
      "text/html": [
       "<div>\n",
       "<style scoped>\n",
       "    .dataframe tbody tr th:only-of-type {\n",
       "        vertical-align: middle;\n",
       "    }\n",
       "\n",
       "    .dataframe tbody tr th {\n",
       "        vertical-align: top;\n",
       "    }\n",
       "\n",
       "    .dataframe thead th {\n",
       "        text-align: right;\n",
       "    }\n",
       "</style>\n",
       "<table border=\"1\" class=\"dataframe\">\n",
       "  <thead>\n",
       "    <tr style=\"text-align: right;\">\n",
       "      <th></th>\n",
       "      <th>vX[xTot]</th>\n",
       "      <th>baseline.vX[xTot]</th>\n",
       "    </tr>\n",
       "    <tr>\n",
       "      <th>t</th>\n",
       "      <th></th>\n",
       "      <th></th>\n",
       "    </tr>\n",
       "  </thead>\n",
       "  <tbody>\n",
       "    <tr>\n",
       "      <th>2017</th>\n",
       "      <td>976.289020</td>\n",
       "      <td>976.289020</td>\n",
       "    </tr>\n",
       "    <tr>\n",
       "      <th>2018</th>\n",
       "      <td>962.310680</td>\n",
       "      <td>962.207130</td>\n",
       "    </tr>\n",
       "    <tr>\n",
       "      <th>2019</th>\n",
       "      <td>952.206049</td>\n",
       "      <td>952.031343</td>\n",
       "    </tr>\n",
       "    <tr>\n",
       "      <th>2020</th>\n",
       "      <td>968.451771</td>\n",
       "      <td>968.300385</td>\n",
       "    </tr>\n",
       "    <tr>\n",
       "      <th>2021</th>\n",
       "      <td>987.076999</td>\n",
       "      <td>987.221238</td>\n",
       "    </tr>\n",
       "    <tr>\n",
       "      <th>2022</th>\n",
       "      <td>1004.459249</td>\n",
       "      <td>1004.944533</td>\n",
       "    </tr>\n",
       "    <tr>\n",
       "      <th>2023</th>\n",
       "      <td>1016.586564</td>\n",
       "      <td>1017.388690</td>\n",
       "    </tr>\n",
       "    <tr>\n",
       "      <th>2024</th>\n",
       "      <td>1025.172015</td>\n",
       "      <td>1026.196137</td>\n",
       "    </tr>\n",
       "    <tr>\n",
       "      <th>2025</th>\n",
       "      <td>1032.232029</td>\n",
       "      <td>1033.415403</td>\n",
       "    </tr>\n",
       "  </tbody>\n",
       "</table>\n",
       "</div>"
      ],
      "text/plain": [
       "         vX[xTot]  baseline.vX[xTot]\n",
       "t                                   \n",
       "2017   976.289020         976.289020\n",
       "2018   962.310680         962.207130\n",
       "2019   952.206049         952.031343\n",
       "2020   968.451771         968.300385\n",
       "2021   987.076999         987.221238\n",
       "2022  1004.459249        1004.944533\n",
       "2023  1016.586564        1017.388690\n",
       "2024  1025.172015        1026.196137\n",
       "2025  1032.232029        1033.415403"
      ]
     },
     "metadata": {},
     "output_type": "display_data"
    }
   ],
   "source": [
    "from dreamtools import prt\n",
    "dt.time(2017, 2025)\n",
    "prt(s.vX, \"s\")"
   ]
  },
  {
   "cell_type": "markdown",
   "metadata": {},
   "source": [
    "Here is an example with a few more useful arguments:"
   ]
  },
  {
   "cell_type": "code",
   "execution_count": 28,
   "metadata": {},
   "outputs": [
    {
     "data": {
      "application/vnd.plotly.v1+json": {
       "config": {
        "plotlyServerURL": "https://plot.ly"
       },
       "data": [
        {
         "hovertemplate": "variable=qY[tje]<br>t=%{x}<br>value=%{y}<extra></extra>",
         "legendgroup": "0.0",
         "line": {
          "color": "rgb(245,82,82)",
          "dash": "solid"
         },
         "marker": {
          "symbol": "circle"
         },
         "mode": "lines",
         "name": "qY[tje]",
         "orientation": "v",
         "showlegend": true,
         "type": "scatter",
         "x": [
          2016,
          2017,
          2018,
          2019,
          2020,
          2021,
          2022,
          2023,
          2024,
          2025,
          2026,
          2027,
          2028,
          2029,
          2030,
          2031,
          2032,
          2033,
          2034,
          2035,
          2036,
          2037,
          2038,
          2039,
          2040,
          2041,
          2042,
          2043,
          2044,
          2045,
          2046,
          2047,
          2048,
          2049,
          2050,
          2051,
          2052,
          2053,
          2054,
          2055,
          2056,
          2057,
          2058,
          2059,
          2060,
          2061,
          2062,
          2063,
          2064,
          2065,
          2066,
          2067,
          2068,
          2069,
          2070,
          2071,
          2072,
          2073,
          2074,
          2075,
          2076,
          2077,
          2078,
          2079,
          2080
         ],
         "xaxis": "x",
         "y": [
          0,
          -2.5011104298755527e-12,
          -2.789846832890589,
          -3.027465175222005,
          -3.032448826201289,
          -2.52594010040184,
          -2.2973706145148753,
          -2.229752724450691,
          -2.0780609461953645,
          -2.1530248385624873,
          -2.2098734862747733,
          -2.356021895317781,
          -2.729423839614128,
          -3.142043418907633,
          -3.713802542794383,
          -4.167040472498229,
          -4.428350705511548,
          -4.673300333227417,
          -4.821400192976398,
          -5.000008265156566,
          -5.162862005492343,
          -5.1463119327263485,
          -5.3331748765047,
          -5.562046253358631,
          -5.600491781258825,
          -5.498862973653786,
          -5.420041064137422,
          -5.182469829827141,
          -4.801202422845336,
          -4.500542384996606,
          -4.3032871129712476,
          -4.089834528674146,
          -3.8025637452601586,
          -3.645724933978272,
          -3.5929663368981437,
          -3.5727483321368254,
          -3.673039948001133,
          -3.870855973251082,
          -4.236205013878134,
          -4.602719703946377,
          -4.973517933375206,
          -5.386833514790624,
          -5.702082563045678,
          -5.968949739836262,
          -6.07311631315315,
          -6.214079293617715,
          -6.2163971934439815,
          -6.192847806099053,
          -6.108500890189816,
          -6.021224399355788,
          -5.818707595216438,
          -5.582060273819707,
          -5.469787868649746,
          -5.458846018378381,
          -5.428723409464737,
          -5.431792426900074,
          -5.3669818971891345,
          -5.264588934045605,
          -5.2667077846579105,
          -5.164876768117665,
          -4.8684526450897465,
          -4.6478558683613755,
          -4.451066965430755,
          -4.3554566245616115,
          -4.424856804013871
         ],
         "yaxis": "y"
        },
        {
         "hovertemplate": "variable=qK[IB,tje]<br>t=%{x}<br>value=%{y}<extra></extra>",
         "legendgroup": "0.0",
         "line": {
          "color": "rgb(20,175,166)",
          "dash": "solid"
         },
         "marker": {
          "symbol": "circle"
         },
         "mode": "lines",
         "name": "qK[IB,tje]",
         "orientation": "v",
         "showlegend": true,
         "type": "scatter",
         "x": [
          2016,
          2017,
          2018,
          2019,
          2020,
          2021,
          2022,
          2023,
          2024,
          2025,
          2026,
          2027,
          2028,
          2029,
          2030,
          2031,
          2032,
          2033,
          2034,
          2035,
          2036,
          2037,
          2038,
          2039,
          2040,
          2041,
          2042,
          2043,
          2044,
          2045,
          2046,
          2047,
          2048,
          2049,
          2050,
          2051,
          2052,
          2053,
          2054,
          2055,
          2056,
          2057,
          2058,
          2059,
          2060,
          2061,
          2062,
          2063,
          2064,
          2065,
          2066,
          2067,
          2068,
          2069,
          2070,
          2071,
          2072,
          2073,
          2074,
          2075,
          2076,
          2077,
          2078,
          2079,
          2080
         ],
         "xaxis": "x",
         "y": [
          0,
          0,
          -0.06534836705520775,
          -0.1473153394883866,
          -0.22313087025736422,
          -0.29754176337473837,
          -0.3724493803435962,
          -0.4496015531884723,
          -0.5309138944014649,
          -0.6181248540807474,
          -0.7166994967983555,
          -0.8299903597024922,
          -0.9593914953302374,
          -1.1031287500270537,
          -1.2536398241253437,
          -1.4038753763154546,
          -1.5464694213358143,
          -1.6727026149339963,
          -1.778026385608655,
          -1.8628403899137993,
          -1.9329114877331222,
          -1.9970897853676206,
          -2.056736821370805,
          -2.109013774824689,
          -2.151152833963579,
          -2.179468858487553,
          -2.1890416442350897,
          -2.17758057114861,
          -2.1448392163783865,
          -2.092369789525719,
          -2.022999443765457,
          -1.9409015580326923,
          -1.8520853038739915,
          -1.7625822857903586,
          -1.678546529475625,
          -1.6043676600199888,
          -1.5413439954655814,
          -1.4885653685443003,
          -1.4425324370768067,
          -1.3996881726330912,
          -1.3560317555704842,
          -1.3070406885966577,
          -1.2482257564851125,
          -1.1752262181202013,
          -1.0865903760453648,
          -0.9811459824704798,
          -0.8597409116320023,
          -0.7251022147395361,
          -0.5818420852042436,
          -0.43616366558046593,
          -0.29697951789523813,
          -0.17214895581832934,
          -0.06703023986619883,
          0.01589670874454896,
          0.07678491114484132,
          0.11897502017382067,
          0.14544957741054532,
          0.1611765317102254,
          0.17304230862703207,
          0.18641532269089112,
          0.20426376220700604,
          0.2282147832265764,
          0.2551527793198147,
          0.2809990576188284,
          0.30236279229984575
         ],
         "yaxis": "y"
        },
        {
         "hovertemplate": "variable=qK[IM,tje]<br>t=%{x}<br>value=%{y}<extra></extra>",
         "legendgroup": "1.0",
         "line": {
          "color": "rgb(255,155,75)",
          "dash": "solid"
         },
         "marker": {
          "symbol": "circle"
         },
         "mode": "lines",
         "name": "qK[IM,tje]",
         "orientation": "v",
         "showlegend": true,
         "type": "scatter",
         "x": [
          2016,
          2017,
          2018,
          2019,
          2020,
          2021,
          2022,
          2023,
          2024,
          2025,
          2026,
          2027,
          2028,
          2029,
          2030,
          2031,
          2032,
          2033,
          2034,
          2035,
          2036,
          2037,
          2038,
          2039,
          2040,
          2041,
          2042,
          2043,
          2044,
          2045,
          2046,
          2047,
          2048,
          2049,
          2050,
          2051,
          2052,
          2053,
          2054,
          2055,
          2056,
          2057,
          2058,
          2059,
          2060,
          2061,
          2062,
          2063,
          2064,
          2065,
          2066,
          2067,
          2068,
          2069,
          2070,
          2071,
          2072,
          2073,
          2074,
          2075,
          2076,
          2077,
          2078,
          2079,
          2080
         ],
         "xaxis": "x",
         "y": [
          0,
          0,
          -0.14285516192700243,
          -0.30564387963664785,
          -0.42791679729862153,
          -0.4994229187119572,
          -0.5319010850558925,
          -0.5443680630687595,
          -0.5569118963773008,
          -0.5850980052841805,
          -0.6399101074808868,
          -0.7254184726098174,
          -0.8375849180995374,
          -0.9665196365409656,
          -1.098749122191407,
          -1.222994914907531,
          -1.332660508761819,
          -1.4247515871120413,
          -1.4998356228676357,
          -1.5603711420990294,
          -1.6097715434542579,
          -1.6508640259243066,
          -1.6810863574286259,
          -1.6946326237106177,
          -1.6870280900761827,
          -1.6564357214888332,
          -1.6033518254222372,
          -1.5322704859604528,
          -1.4507616544439088,
          -1.3664035687411342,
          -1.2858532691984692,
          -1.2161355713412831,
          -1.1650841949631285,
          -1.139263144629922,
          -1.1433463927589855,
          -1.1798111086989138,
          -1.247648430549134,
          -1.3420549077815167,
          -1.4545947028146884,
          -1.575451462496062,
          -1.6944737137032462,
          -1.8018490136656737,
          -1.889876900887316,
          -1.9534985049421039,
          -1.9909051929582802,
          -2.0019552821751176,
          -1.9889034352255521,
          -1.955651309702148,
          -1.907734224449996,
          -1.851983997609409,
          -1.796502203626119,
          -1.748283949783172,
          -1.7103571160027968,
          -1.681563572343748,
          -1.6582770734663654,
          -1.6357128582961877,
          -1.60971026211746,
          -1.5771274314602124,
          -1.536039986303308,
          -1.4885470944757344,
          -1.4416046030655707,
          -1.403990401444048,
          -1.3842123588121922,
          -1.3878441894331672,
          -1.4154530578294953
         ],
         "yaxis": "y"
        }
       ],
       "layout": {
        "annotations": [
         {
          "showarrow": false,
          "text": "Difference from baseline",
          "x": 0,
          "xref": "paper",
          "xshift": -45.35433070866142,
          "y": 1,
          "yref": "paper",
          "yshift": 30.236220472440944
         }
        ],
        "legend": {
         "title": {
          "text": ""
         },
         "tracegroupgap": 0
        },
        "margin": {
         "l": 56.69291338582677,
         "r": 18.89763779527559,
         "t": 37.79527559055118
        },
        "template": {
         "data": {
          "scatter": [
           {
            "line": {
             "width": 4
            },
            "type": "scatter"
           }
          ],
          "scattergl": [
           {
            "line": {
             "width": 4
            },
            "type": "scattergl"
           }
          ]
         },
         "layout": {
          "colorway": [
           "rgb(245,82,82)",
           "rgb(20,175,166)",
           "rgb(255,155,75)",
           "rgb(92,210,114)",
           "rgb(66,180,224)",
           "rgb(188,173,221)",
           "rgb(0,95,151)",
           "rgb(137,48,112)",
           "rgb(70,70,76)",
           "rgb(230,230,232)"
          ],
          "font": {
           "color": "black",
           "family": "Hind",
           "size": 14
          },
          "legend": {
           "orientation": "h",
           "x": 0.5,
           "xanchor": "center",
           "y": -0.3,
           "yanchor": "top"
          },
          "margin": {
           "l": 56.69291338582677,
           "r": 18.89763779527559,
           "t": 37.79527559055118
          },
          "plot_bgcolor": "rgb(230,230,232)",
          "title": {
           "font": {
            "size": 14
           }
          },
          "width": 585.8267716535432,
          "xaxis": {
           "automargin": false,
           "gridcolor": "white",
           "linecolor": "black",
           "showline": true,
           "ticklen": 10,
           "ticks": "outside",
           "title": {
            "font": {
             "size": 14
            },
            "standoff": 0
           }
          },
          "yaxis": {
           "automargin": false,
           "gridcolor": "white",
           "linecolor": "black",
           "showline": true,
           "ticklen": 10,
           "tickmode": "auto",
           "ticks": "outside",
           "title": {
            "font": {
             "size": 14
            }
           }
          }
         }
        },
        "title": {
         "text": "Example graph"
        },
        "width": 585.8267716535432,
        "xaxis": {
         "anchor": "y",
         "domain": [
          0,
          1
         ],
         "title": {
          "text": "År"
         }
        },
        "yaxis": {
         "anchor": "x",
         "domain": [
          0,
          1
         ],
         "title": {
          "text": ""
         }
        }
       }
      }
     },
     "metadata": {},
     "output_type": "display_data"
    }
   ],
   "source": [
    "plot([s.qY, s.qK],\n",
    "        operator=\"m\",\n",
    "        start_year=2016,\n",
    "        end_year=2080,\n",
    "        default_set_aggregations={\"s_\": [\"tje\"], \"s\": [\"tje\"]},\n",
    "        layout=dict(title = \"Example graph\", yaxis_title = \"Difference from baseline\"), # See plotly documentation for other layout options\n",
    ")"
   ]
  },
  {
   "attachments": {},
   "cell_type": "markdown",
   "metadata": {},
   "source": [
    "### Operators (multipliers) with expressions\n",
    "To get multipliers on arbitrary expressions, we can call dt.Dataframe with a database as input together with an operator and a function to be applied to the database:"
   ]
  },
  {
   "cell_type": "code",
   "execution_count": 29,
   "metadata": {},
   "outputs": [
    {
     "data": {
      "application/vnd.plotly.v1+json": {
       "config": {
        "plotlyServerURL": "https://plot.ly"
       },
       "data": [
        {
         "hovertemplate": "variable=Private tjenester ekskl. søtransport<br>t=%{x}<br>value=%{y}<extra></extra>",
         "legendgroup": "0.0",
         "line": {
          "color": "rgb(245,82,82)",
          "dash": "solid"
         },
         "marker": {
          "symbol": "circle"
         },
         "mode": "lines",
         "name": "Private tjenester ekskl. søtransport",
         "orientation": "v",
         "showlegend": true,
         "type": "scatter",
         "x": [
          2017,
          2018,
          2019,
          2020,
          2021,
          2022,
          2023,
          2024,
          2025
         ],
         "xaxis": "x",
         "y": [
          -1.887379141862766e-13,
          -0.20494880106155522,
          -0.226965429438597,
          -0.22244902139013645,
          -0.18026350695221627,
          -0.1529128646355682,
          -0.13657439519105807,
          -0.11717192163099854,
          -0.11380201500015286
         ],
         "yaxis": "y"
        },
        {
         "hovertemplate": "variable=Fremstilling ekskl. energi<br>t=%{x}<br>value=%{y}<extra></extra>",
         "legendgroup": "0.0",
         "line": {
          "color": "rgb(20,175,166)",
          "dash": "solid"
         },
         "marker": {
          "symbol": "circle"
         },
         "mode": "lines",
         "name": "Fremstilling ekskl. energi",
         "orientation": "v",
         "showlegend": true,
         "type": "scatter",
         "x": [
          2017,
          2018,
          2019,
          2020,
          2021,
          2022,
          2023,
          2024,
          2025
         ],
         "xaxis": "x",
         "y": [
          -4.440892098500626e-14,
          -0.06332115741233268,
          -0.06479451635780231,
          -0.07720485363870155,
          -0.08376321191083669,
          -0.10467883607181427,
          -0.12942424640874917,
          -0.14662721991083316,
          -0.17166240969170854
         ],
         "yaxis": "y"
        },
        {
         "hovertemplate": "variable=Byggeri og anlæg<br>t=%{x}<br>value=%{y}<extra></extra>",
         "legendgroup": "0.0",
         "line": {
          "color": "rgb(255,155,75)",
          "dash": "solid"
         },
         "marker": {
          "symbol": "circle"
         },
         "mode": "lines",
         "name": "Byggeri og anlæg",
         "orientation": "v",
         "showlegend": true,
         "type": "scatter",
         "x": [
          2017,
          2018,
          2019,
          2020,
          2021,
          2022,
          2023,
          2024,
          2025
         ],
         "xaxis": "x",
         "y": [
          0,
          -0.2377941817911844,
          -0.24228774355403715,
          -0.34368780543277966,
          -0.29660090154361995,
          -0.3135760008892263,
          -0.3519215256979402,
          -0.38336896000987775,
          -0.47115338566333653
         ],
         "yaxis": "y"
        },
        {
         "hovertemplate": "variable=Landbrug og fiskeri<br>t=%{x}<br>value=%{y}<extra></extra>",
         "legendgroup": "0.0",
         "line": {
          "color": "rgb(92,210,114)",
          "dash": "solid"
         },
         "marker": {
          "symbol": "circle"
         },
         "mode": "lines",
         "name": "Landbrug og fiskeri",
         "orientation": "v",
         "showlegend": true,
         "type": "scatter",
         "x": [
          2017,
          2018,
          2019,
          2020,
          2021,
          2022,
          2023,
          2024,
          2025
         ],
         "xaxis": "x",
         "y": [
          -2.220446049250313e-14,
          -0.0810171948433247,
          -0.0878697328242195,
          -0.0976434737584797,
          -0.09831218838145528,
          -0.11491240428868066,
          -0.1340264250648704,
          -0.14340620964674589,
          -0.15886214975754376
         ],
         "yaxis": "y"
        },
        {
         "hovertemplate": "variable=Søtransport<br>t=%{x}<br>value=%{y}<extra></extra>",
         "legendgroup": "0.0",
         "line": {
          "color": "rgb(66,180,224)",
          "dash": "solid"
         },
         "marker": {
          "symbol": "circle"
         },
         "mode": "lines",
         "name": "Søtransport",
         "orientation": "v",
         "showlegend": true,
         "type": "scatter",
         "x": [
          2017,
          2018,
          2019,
          2020,
          2021,
          2022,
          2023,
          2024,
          2025
         ],
         "xaxis": "x",
         "y": [
          0,
          -0.009559721988616765,
          -0.017233467880906073,
          -0.024744670973175786,
          -0.04753105641379651,
          -0.06733815967822077,
          -0.0847687907169492,
          -0.09494227934343513,
          -0.10273932241797734
         ],
         "yaxis": "y"
        },
        {
         "hovertemplate": "variable=Bolig<br>t=%{x}<br>value=%{y}<extra></extra>",
         "legendgroup": "1.0",
         "line": {
          "color": "rgb(188,173,221)",
          "dash": "solid"
         },
         "marker": {
          "symbol": "circle"
         },
         "mode": "lines",
         "name": "Bolig",
         "orientation": "v",
         "showlegend": true,
         "type": "scatter",
         "x": [
          2017,
          2018,
          2019,
          2020,
          2021,
          2022,
          2023,
          2024,
          2025
         ],
         "xaxis": "x",
         "y": [
          0,
          -0.002329278972379445,
          -0.014898530950080424,
          -0.03210269359180673,
          -0.051025424967343636,
          -0.07177937296573011,
          -0.09485759492148249,
          -0.1208182749981912,
          -0.149890170466227
         ],
         "yaxis": "y"
        },
        {
         "hovertemplate": "variable=Energi<br>t=%{x}<br>value=%{y}<extra></extra>",
         "legendgroup": "1.0",
         "line": {
          "color": "rgb(0,95,151)",
          "dash": "solid"
         },
         "marker": {
          "symbol": "circle"
         },
         "mode": "lines",
         "name": "Energi",
         "orientation": "v",
         "showlegend": true,
         "type": "scatter",
         "x": [
          2017,
          2018,
          2019,
          2020,
          2021,
          2022,
          2023,
          2024,
          2025
         ],
         "xaxis": "x",
         "y": [
          -9.992007221626409e-14,
          -0.25157613315595073,
          -0.28258452988975113,
          -0.25428151908740704,
          -0.1902002279582704,
          -0.1365881521083412,
          -0.09748672050197138,
          -0.06036773395857731,
          -0.042841020870620916
         ],
         "yaxis": "y"
        },
        {
         "hovertemplate": "variable=Udvinding<br>t=%{x}<br>value=%{y}<extra></extra>",
         "legendgroup": "1.0",
         "line": {
          "color": "rgb(137,48,112)",
          "dash": "solid"
         },
         "marker": {
          "symbol": "circle"
         },
         "mode": "lines",
         "name": "Udvinding",
         "orientation": "v",
         "showlegend": true,
         "type": "scatter",
         "x": [
          2017,
          2018,
          2019,
          2020,
          2021,
          2022,
          2023,
          2024,
          2025
         ],
         "xaxis": "x",
         "y": [
          0,
          -0.00009039392745435748,
          -0.00031726484847061087,
          -0.0016626518541618118,
          -0.0018348212684538012,
          -0.0021565610692220183,
          -0.0020265692647791766,
          -0.0019312033988860833,
          -0.0018258250580438506
         ],
         "yaxis": "y"
        },
        {
         "hovertemplate": "variable=Offentlig<br>t=%{x}<br>value=%{y}<extra></extra>",
         "legendgroup": "1.0",
         "line": {
          "color": "rgb(70,70,76)",
          "dash": "solid"
         },
         "marker": {
          "symbol": "circle"
         },
         "mode": "lines",
         "name": "Offentlig",
         "orientation": "v",
         "showlegend": true,
         "type": "scatter",
         "x": [
          2017,
          2018,
          2019,
          2020,
          2021,
          2022,
          2023,
          2024,
          2025
         ],
         "xaxis": "x",
         "y": [
          2.220446049250313e-14,
          -0.042802308585832005,
          -0.06645641638789446,
          -0.07803346055150762,
          -0.06719663292958922,
          -0.054630222820784,
          -0.04636757806852909,
          -0.04178829806930073,
          -0.040903238280043386
         ],
         "yaxis": "y"
        }
       ],
       "layout": {
        "annotations": [
         {
          "showarrow": false,
          "text": "Pct.-ændringer relativt til grundforløb",
          "x": 0,
          "xref": "paper",
          "xshift": -45.35433070866142,
          "y": 1,
          "yref": "paper",
          "yshift": 30.236220472440944
         }
        ],
        "legend": {
         "title": {
          "text": ""
         },
         "tracegroupgap": 0
        },
        "margin": {
         "l": 56.69291338582677,
         "r": 18.89763779527559,
         "t": 37.79527559055118
        },
        "template": {
         "data": {
          "scatter": [
           {
            "line": {
             "width": 4
            },
            "type": "scatter"
           }
          ],
          "scattergl": [
           {
            "line": {
             "width": 4
            },
            "type": "scattergl"
           }
          ]
         },
         "layout": {
          "colorway": [
           "rgb(245,82,82)",
           "rgb(20,175,166)",
           "rgb(255,155,75)",
           "rgb(92,210,114)",
           "rgb(66,180,224)",
           "rgb(188,173,221)",
           "rgb(0,95,151)",
           "rgb(137,48,112)",
           "rgb(70,70,76)",
           "rgb(230,230,232)"
          ],
          "font": {
           "color": "black",
           "family": "Hind",
           "size": 14
          },
          "legend": {
           "orientation": "h",
           "x": 0.5,
           "xanchor": "center",
           "y": -0.3,
           "yanchor": "top"
          },
          "margin": {
           "l": 56.69291338582677,
           "r": 18.89763779527559,
           "t": 37.79527559055118
          },
          "plot_bgcolor": "rgb(230,230,232)",
          "title": {
           "font": {
            "size": 14
           }
          },
          "width": 585.8267716535432,
          "xaxis": {
           "automargin": false,
           "gridcolor": "white",
           "linecolor": "black",
           "showline": true,
           "ticklen": 10,
           "ticks": "outside",
           "title": {
            "font": {
             "size": 14
            },
            "standoff": 0
           }
          },
          "yaxis": {
           "automargin": false,
           "gridcolor": "white",
           "linecolor": "black",
           "showline": true,
           "ticklen": 10,
           "tickmode": "auto",
           "ticks": "outside",
           "title": {
            "font": {
             "size": 14
            }
           }
          }
         }
        },
        "width": 585.8267716535432,
        "xaxis": {
         "anchor": "y",
         "domain": [
          0,
          1
         ],
         "title": {
          "text": "År"
         }
        },
        "yaxis": {
         "anchor": "x",
         "domain": [
          0,
          1
         ],
         "title": {
          "text": ""
         }
        }
       }
      }
     },
     "metadata": {},
     "output_type": "display_data"
    }
   ],
   "source": [
    "dt.DataFrame(s, \"pq\", lambda s: s.pY[s.s] * s.qY[s.s], names=list(s.s.texts)).plot()"
   ]
  },
  {
   "attachments": {},
   "cell_type": "markdown",
   "metadata": {},
   "source": [
    "### Comparing multiple shocks and baselines"
   ]
  },
  {
   "attachments": {},
   "cell_type": "markdown",
   "metadata": {},
   "source": [
    "This above method of calling dt.DataFrame (or dt.plot) with a database and a function is especially useful for comparing multiple shocks. First, we import the shock and baseline databases:"
   ]
  },
  {
   "cell_type": "code",
   "execution_count": 30,
   "metadata": {},
   "outputs": [],
   "source": [
    "# Import shock data\n",
    "s1 = dt.Gdx(\"Q:/MAKRO/Data/PreviousSolutions/previous_dynamic_calibration\")\n",
    "s2 = dt.Gdx(\"Q:/MAKRO/Data/PreviousSolutions/previous_dynamic_calibration2\")\n",
    "\n",
    "# If they share a baseline, you can set it globally with\n",
    "dt.REFERENCE_DATABASE = dt.Gdx(\"Q:/MAKRO/Data/PreviousSolutions/previous_dynamic_calibration\")\n",
    "\n",
    "# We can also set different baselines associated with each shock using\n",
    "s1.reference_database = dt.Gdx(\"Q:/MAKRO/Data/PreviousSolutions/previous_dynamic_calibration\")\n",
    "s2.reference_database = dt.Gdx(\"Q:/MAKRO/Data/PreviousSolutions/previous_dynamic_calibration\")"
   ]
  },
  {
   "attachments": {},
   "cell_type": "markdown",
   "metadata": {},
   "source": [
    "We can create multipliers by calling dt.DataFrame with a list of databases, an operator, and a function to be applied to each database:"
   ]
  },
  {
   "cell_type": "code",
   "execution_count": 31,
   "metadata": {},
   "outputs": [
    {
     "data": {
      "application/vnd.plotly.v1+json": {
       "config": {
        "plotlyServerURL": "https://plot.ly"
       },
       "data": [
        {
         "hovertemplate": "variable=Shock 1<br>t=%{x}<br>value=%{y}<extra></extra>",
         "legendgroup": "0.0",
         "line": {
          "color": "rgb(245,82,82)",
          "dash": "solid"
         },
         "marker": {
          "symbol": "circle"
         },
         "mode": "lines",
         "name": "Shock 1",
         "orientation": "v",
         "showlegend": true,
         "type": "scatter",
         "x": [
          2017,
          2018,
          2019,
          2020,
          2021,
          2022,
          2023,
          2024,
          2025
         ],
         "xaxis": "x",
         "y": [
          0,
          0,
          0,
          0,
          0,
          0,
          0,
          0,
          0
         ],
         "yaxis": "y"
        },
        {
         "hovertemplate": "variable=Shock 2<br>t=%{x}<br>value=%{y}<extra></extra>",
         "legendgroup": "1.0",
         "line": {
          "color": "rgb(20,175,166)",
          "dash": "solid"
         },
         "marker": {
          "symbol": "circle"
         },
         "mode": "lines",
         "name": "Shock 2",
         "orientation": "v",
         "showlegend": true,
         "type": "scatter",
         "x": [
          2017,
          2018,
          2019,
          2020,
          2021,
          2022,
          2023,
          2024,
          2025
         ],
         "xaxis": "x",
         "y": [
          -2.1094237467877974e-13,
          -0.13087866205446774,
          -0.14900674801129332,
          -0.1461706124303963,
          -0.1413794032101512,
          -0.136289721490912,
          -0.13534465883134894,
          -0.12925499861988765,
          -0.13332748801873073
         ],
         "yaxis": "y"
        }
       ],
       "layout": {
        "annotations": [
         {
          "showarrow": false,
          "text": "Pct.-ændringer relativt til grundforløb",
          "x": 0,
          "xref": "paper",
          "xshift": -45.35433070866142,
          "y": 1,
          "yref": "paper",
          "yshift": 30.236220472440944
         }
        ],
        "legend": {
         "title": {
          "text": ""
         },
         "tracegroupgap": 0
        },
        "margin": {
         "l": 56.69291338582677,
         "r": 18.89763779527559,
         "t": 37.79527559055118
        },
        "template": {
         "data": {
          "scatter": [
           {
            "line": {
             "width": 4
            },
            "type": "scatter"
           }
          ],
          "scattergl": [
           {
            "line": {
             "width": 4
            },
            "type": "scattergl"
           }
          ]
         },
         "layout": {
          "colorway": [
           "rgb(245,82,82)",
           "rgb(20,175,166)",
           "rgb(255,155,75)",
           "rgb(92,210,114)",
           "rgb(66,180,224)",
           "rgb(188,173,221)",
           "rgb(0,95,151)",
           "rgb(137,48,112)",
           "rgb(70,70,76)",
           "rgb(230,230,232)"
          ],
          "font": {
           "color": "black",
           "family": "Hind",
           "size": 14
          },
          "legend": {
           "orientation": "h",
           "x": 0.5,
           "xanchor": "center",
           "y": -0.3,
           "yanchor": "top"
          },
          "margin": {
           "l": 56.69291338582677,
           "r": 18.89763779527559,
           "t": 37.79527559055118
          },
          "plot_bgcolor": "rgb(230,230,232)",
          "title": {
           "font": {
            "size": 14
           }
          },
          "width": 585.8267716535432,
          "xaxis": {
           "automargin": false,
           "gridcolor": "white",
           "linecolor": "black",
           "showline": true,
           "ticklen": 10,
           "ticks": "outside",
           "title": {
            "font": {
             "size": 14
            },
            "standoff": 0
           }
          },
          "yaxis": {
           "automargin": false,
           "gridcolor": "white",
           "linecolor": "black",
           "showline": true,
           "ticklen": 10,
           "tickmode": "auto",
           "ticks": "outside",
           "title": {
            "font": {
             "size": 14
            }
           }
          }
         }
        },
        "width": 585.8267716535432,
        "xaxis": {
         "anchor": "y",
         "domain": [
          0,
          1
         ],
         "title": {
          "text": "År"
         }
        },
        "yaxis": {
         "anchor": "x",
         "domain": [
          0,
          1
         ],
         "title": {
          "text": ""
         }
        }
       }
      }
     },
     "metadata": {},
     "output_type": "display_data"
    }
   ],
   "source": [
    "dt.DataFrame([s1, s2], \"pq\", lambda s: s.qBNP, names=[\"Shock 1\", \"Shock 2\"]).plot()"
   ]
  },
  {
   "attachments": {},
   "cell_type": "markdown",
   "metadata": {},
   "source": [
    "For even more complicated expressions involving baseline values, we can supply a function that takes two databases as input:"
   ]
  },
  {
   "cell_type": "code",
   "execution_count": 32,
   "metadata": {},
   "outputs": [
    {
     "data": {
      "application/vnd.plotly.v1+json": {
       "config": {
        "plotlyServerURL": "https://plot.ly"
       },
       "data": [
        {
         "hovertemplate": "variable=Shock 1<br>t=%{x}<br>value=%{y}<extra></extra>",
         "legendgroup": "0.0",
         "line": {
          "color": "rgb(245,82,82)",
          "dash": "solid"
         },
         "marker": {
          "symbol": "circle"
         },
         "mode": "lines",
         "name": "Shock 1",
         "orientation": "v",
         "showlegend": true,
         "type": "scatter",
         "x": [
          2017,
          2018,
          2019,
          2020,
          2021,
          2022,
          2023,
          2024,
          2025
         ],
         "xaxis": "x",
         "y": [
          3044.1107683928726,
          3056.950891778609,
          3025.7389287474994,
          3106.095414689107,
          3137.7303137071885,
          3179.2106620132126,
          3215.4979541604134,
          3242.756579912934,
          3268.022617221569
         ],
         "yaxis": "y"
        },
        {
         "hovertemplate": "variable=Shock 2<br>t=%{x}<br>value=%{y}<extra></extra>",
         "legendgroup": "1.0",
         "line": {
          "color": "rgb(20,175,166)",
          "dash": "solid"
         },
         "marker": {
          "symbol": "circle"
         },
         "mode": "lines",
         "name": "Shock 2",
         "orientation": "v",
         "showlegend": true,
         "type": "scatter",
         "x": [
          2017,
          2018,
          2019,
          2020,
          2021,
          2022,
          2023,
          2024,
          2025
         ],
         "xaxis": "x",
         "y": [
          3044.1107683928694,
          3053.231675176317,
          3021.780805245423,
          3101.788746341921,
          3133.894865723082,
          3175.3465495101796,
          3211.3607823282878,
          3238.4911701629176,
          3263.223616142185
         ],
         "yaxis": "y"
        }
       ],
       "layout": {
        "annotations": [
         {
          "showarrow": false,
          "text": "",
          "x": 0,
          "xref": "paper",
          "xshift": -45.35433070866142,
          "y": 1,
          "yref": "paper",
          "yshift": 30.236220472440944
         }
        ],
        "legend": {
         "title": {
          "text": ""
         },
         "tracegroupgap": 0
        },
        "margin": {
         "l": 56.69291338582677,
         "r": 18.89763779527559,
         "t": 37.79527559055118
        },
        "template": {
         "data": {
          "scatter": [
           {
            "line": {
             "width": 4
            },
            "type": "scatter"
           }
          ],
          "scattergl": [
           {
            "line": {
             "width": 4
            },
            "type": "scattergl"
           }
          ]
         },
         "layout": {
          "colorway": [
           "rgb(245,82,82)",
           "rgb(20,175,166)",
           "rgb(255,155,75)",
           "rgb(92,210,114)",
           "rgb(66,180,224)",
           "rgb(188,173,221)",
           "rgb(0,95,151)",
           "rgb(137,48,112)",
           "rgb(70,70,76)",
           "rgb(230,230,232)"
          ],
          "font": {
           "color": "black",
           "family": "Hind",
           "size": 14
          },
          "legend": {
           "orientation": "h",
           "x": 0.5,
           "xanchor": "center",
           "y": -0.3,
           "yanchor": "top"
          },
          "margin": {
           "l": 56.69291338582677,
           "r": 18.89763779527559,
           "t": 37.79527559055118
          },
          "plot_bgcolor": "rgb(230,230,232)",
          "title": {
           "font": {
            "size": 14
           }
          },
          "width": 585.8267716535432,
          "xaxis": {
           "automargin": false,
           "gridcolor": "white",
           "linecolor": "black",
           "showline": true,
           "ticklen": 10,
           "ticks": "outside",
           "title": {
            "font": {
             "size": 14
            },
            "standoff": 0
           }
          },
          "yaxis": {
           "automargin": false,
           "gridcolor": "white",
           "linecolor": "black",
           "showline": true,
           "ticklen": 10,
           "tickmode": "auto",
           "ticks": "outside",
           "title": {
            "font": {
             "size": 14
            }
           }
          }
         }
        },
        "width": 585.8267716535432,
        "xaxis": {
         "anchor": "y",
         "domain": [
          0,
          1
         ],
         "title": {
          "text": "År"
         }
        },
        "yaxis": {
         "anchor": "x",
         "domain": [
          0,
          1
         ],
         "title": {
          "text": ""
         }
        }
       }
      }
     },
     "metadata": {},
     "output_type": "display_data"
    }
   ],
   "source": [
    "dt.plot([s1, s2], function=lambda s, b: s.qY * b.pY, names=[\"Shock 1\", \"Shock 2\"])"
   ]
  },
  {
   "cell_type": "markdown",
   "metadata": {},
   "source": [
    "### Age profiles\n",
    "2 functions have been added specifically to plot age profiles more easily:"
   ]
  },
  {
   "cell_type": "code",
   "execution_count": 33,
   "metadata": {},
   "outputs": [
    {
     "data": {
      "application/vnd.plotly.v1+json": {
       "config": {
        "plotlyServerURL": "https://plot.ly"
       },
       "data": [
        {
         "hovertemplate": "variable=vC_a[2017]<br>a=%{x}<br>value=%{y}<extra></extra>",
         "legendgroup": "vC_a[2017]",
         "line": {
          "color": "rgb(245,82,82)",
          "dash": "solid"
         },
         "marker": {
          "symbol": "circle"
         },
         "mode": "lines",
         "name": "vC_a[2017]",
         "orientation": "v",
         "showlegend": true,
         "type": "scatter",
         "x": [
          18,
          19,
          20,
          21,
          22,
          23,
          24,
          25,
          26,
          27,
          28,
          29,
          30,
          31,
          32,
          33,
          34,
          35,
          36,
          37,
          38,
          39,
          40,
          41,
          42,
          43,
          44,
          45,
          46,
          47,
          48,
          49,
          50,
          51,
          52,
          53,
          54,
          55,
          56,
          57,
          58,
          59,
          60,
          61,
          62,
          63,
          64,
          65,
          66,
          67,
          68,
          69,
          70,
          71,
          72,
          73,
          74,
          75,
          76,
          77,
          78,
          79,
          80,
          81,
          82,
          83,
          84,
          85,
          86,
          87,
          88,
          89,
          90,
          91,
          92,
          93,
          94,
          95,
          96,
          97,
          98,
          99,
          100
         ],
         "xaxis": "x",
         "y": [
          0.03685411209508252,
          0.04420178196819564,
          0.05414941274482914,
          0.06119257748235881,
          0.06588769042885981,
          0.07528538659323795,
          0.08853953673899143,
          0.1018487126881275,
          0.11052699892780807,
          0.12168663957147355,
          0.13300273757165393,
          0.14131750648269625,
          0.14925635088563913,
          0.16063307852830397,
          0.16486814124804844,
          0.1717718429899501,
          0.17635539267361403,
          0.18085695652420705,
          0.18594481041177485,
          0.1883637335379366,
          0.1940500373974352,
          0.19423723111287647,
          0.19238730763921796,
          0.19843285138591665,
          0.19695986536534069,
          0.19604771829402534,
          0.1957916756295769,
          0.19546633869376967,
          0.19243351402608755,
          0.18966584753715032,
          0.18716649975371444,
          0.18557610150945866,
          0.18479865031872722,
          0.176440886557699,
          0.1759159446922943,
          0.17445362308206022,
          0.16733121467256548,
          0.16229984190981497,
          0.1593695167484632,
          0.15184984177545835,
          0.14803916698171107,
          0.14465239710590633,
          0.15319786312317918,
          0.14364831647855827,
          0.13784154809685648,
          0.1454998245311331,
          0.1447403333437541,
          0.1280275560868235,
          0.11122828771438463,
          0.11740891544143735,
          0.12456989808902165,
          0.12305694997047935,
          0.1329854147121923,
          0.1187017961385987,
          0.11753078924565569,
          0.10255417450905716,
          0.10788045623436096,
          0.10439796534402143,
          0.09308098064390005,
          0.08951482084307992,
          0.08980808797691126,
          0.08544503086375353,
          0.08245230317665408,
          0.07956701322926357,
          0.08192693809133791,
          0.07868479448158833,
          0.077022117107272,
          0.07806898392678645,
          0.0747160313892915,
          0.08592090503767652,
          0.08787369001833834,
          0.08143411438232177,
          0.08497397387248994,
          0.08739166824513442,
          0.09330417364511083,
          0.10578749419445437,
          0.10399752232143822,
          0.09889238259447926,
          0.10206156343103916,
          0.10884193859807591,
          0.10935203520180743,
          0.11522421484783314,
          0.12200027489641009
         ],
         "yaxis": "y"
        },
        {
         "hovertemplate": "variable=vC_a[2090]<br>a=%{x}<br>value=%{y}<extra></extra>",
         "legendgroup": "vC_a[2090]",
         "line": {
          "color": "rgb(20,175,166)",
          "dash": "solid"
         },
         "marker": {
          "symbol": "circle"
         },
         "mode": "lines",
         "name": "vC_a[2090]",
         "orientation": "v",
         "showlegend": true,
         "type": "scatter",
         "x": [
          18,
          19,
          20,
          21,
          22,
          23,
          24,
          25,
          26,
          27,
          28,
          29,
          30,
          31,
          32,
          33,
          34,
          35,
          36,
          37,
          38,
          39,
          40,
          41,
          42,
          43,
          44,
          45,
          46,
          47,
          48,
          49,
          50,
          51,
          52,
          53,
          54,
          55,
          56,
          57,
          58,
          59,
          60,
          61,
          62,
          63,
          64,
          65,
          66,
          67,
          68,
          69,
          70,
          71,
          72,
          73,
          74,
          75,
          76,
          77,
          78,
          79,
          80,
          81,
          82,
          83,
          84,
          85,
          86,
          87,
          88,
          89,
          90,
          91,
          92,
          93,
          94,
          95,
          96,
          97,
          98,
          99,
          100
         ],
         "xaxis": "x",
         "y": [
          0.04979090333179324,
          0.06591857920508216,
          0.07171215724870127,
          0.07587677320180182,
          0.08200028306183957,
          0.09002972510282908,
          0.0999466952041987,
          0.11175578053095807,
          0.12417203799216686,
          0.1362990544513303,
          0.14996300203989713,
          0.1595680344141324,
          0.16938075973549802,
          0.17879429454344645,
          0.1876500512419068,
          0.19637951804025813,
          0.20443685557355465,
          0.20926926656399636,
          0.21453415943479148,
          0.2190245677993565,
          0.2216167733928806,
          0.2246149768266179,
          0.2274528075840165,
          0.22935999984835187,
          0.22884989246424717,
          0.2299329579262245,
          0.2303094299864555,
          0.23010112365304314,
          0.2307060253710094,
          0.2286536832081942,
          0.22668316799341368,
          0.22453384401910684,
          0.2203195959822362,
          0.21730257902454578,
          0.21407496811314686,
          0.21034380648852635,
          0.2064844842588798,
          0.20241232679536664,
          0.19807825447625907,
          0.19423409755510326,
          0.18990231956270576,
          0.1855872403882491,
          0.18166952846404494,
          0.1782230007729772,
          0.17679614804730232,
          0.17522184364013565,
          0.17389717794597082,
          0.17476990314448854,
          0.17110719135605168,
          0.1666869988066834,
          0.16138436556915073,
          0.15437236152587833,
          0.14689094533123656,
          0.1403809481837597,
          0.13658121042116936,
          0.11554654760532673,
          0.11233211162727667,
          0.1093667367916481,
          0.10844522482475764,
          0.10573739518668726,
          0.10754149435816004,
          0.10559724651857522,
          0.1056474576118309,
          0.1046672400622236,
          0.10577014813146154,
          0.10683721982479284,
          0.10690676763392314,
          0.10762847859773061,
          0.10750859744474281,
          0.10907602273228047,
          0.11174979501802931,
          0.1148377084584679,
          0.11959298351313372,
          0.12228910190072374,
          0.12487588603177391,
          0.13064176114533815,
          0.1352093940299688,
          0.14020304874810552,
          0.14866380052898165,
          0.1564139781602021,
          0.16609393252678292,
          0.18069303596131536,
          0.19118578585446333
         ],
         "yaxis": "y"
        }
       ],
       "layout": {
        "legend": {
         "title": {
          "text": ""
         },
         "tracegroupgap": 0
        },
        "template": {
         "data": {
          "scatter": [
           {
            "line": {
             "width": 4
            },
            "type": "scatter"
           }
          ],
          "scattergl": [
           {
            "line": {
             "width": 4
            },
            "type": "scattergl"
           }
          ]
         },
         "layout": {
          "colorway": [
           "rgb(245,82,82)",
           "rgb(20,175,166)",
           "rgb(255,155,75)",
           "rgb(92,210,114)",
           "rgb(66,180,224)",
           "rgb(188,173,221)",
           "rgb(0,95,151)",
           "rgb(137,48,112)",
           "rgb(70,70,76)",
           "rgb(230,230,232)"
          ],
          "font": {
           "color": "black",
           "family": "Hind",
           "size": 14
          },
          "legend": {
           "orientation": "h",
           "x": 0.5,
           "xanchor": "center",
           "y": -0.3,
           "yanchor": "top"
          },
          "margin": {
           "l": 56.69291338582677,
           "r": 18.89763779527559,
           "t": 37.79527559055118
          },
          "plot_bgcolor": "rgb(230,230,232)",
          "title": {
           "font": {
            "size": 14
           }
          },
          "width": 585.8267716535432,
          "xaxis": {
           "automargin": false,
           "gridcolor": "white",
           "linecolor": "black",
           "showline": true,
           "ticklen": 10,
           "ticks": "outside",
           "title": {
            "font": {
             "size": 14
            },
            "standoff": 0
           }
          },
          "yaxis": {
           "automargin": false,
           "gridcolor": "white",
           "linecolor": "black",
           "showline": true,
           "ticklen": 10,
           "tickmode": "auto",
           "ticks": "outside",
           "title": {
            "font": {
             "size": 14
            }
           }
          }
         }
        },
        "xaxis": {
         "anchor": "y",
         "domain": [
          0,
          1
         ],
         "title": {
          "text": "Alder"
         }
        },
        "yaxis": {
         "anchor": "x",
         "domain": [
          0,
          1
         ],
         "title": {
          "text": ""
         }
        }
       }
      }
     },
     "metadata": {},
     "output_type": "display_data"
    }
   ],
   "source": [
    "dt.age_figure_2d(s.vC_a, years=[2017, 2090], start_age=18, end_age=100)"
   ]
  },
  {
   "cell_type": "code",
   "execution_count": 34,
   "metadata": {},
   "outputs": [
    {
     "data": {
      "application/vnd.plotly.v1+json": {
       "config": {
        "plotlyServerURL": "https://plot.ly"
       },
       "data": [
        {
         "showscale": false,
         "type": "surface",
         "x": [
          2017,
          2018,
          2019,
          2020,
          2021,
          2022,
          2023,
          2024,
          2025
         ],
         "y": [
          0,
          1,
          2,
          3,
          4,
          5,
          6,
          7,
          8,
          9,
          10,
          11,
          12,
          13,
          14,
          15,
          16,
          17,
          18,
          19,
          20,
          21,
          22,
          23,
          24,
          25,
          26,
          27,
          28,
          29,
          30,
          31,
          32,
          33,
          34,
          35,
          36,
          37,
          38,
          39,
          40,
          41,
          42,
          43,
          44,
          45,
          46,
          47,
          48,
          49,
          50,
          51,
          52,
          53,
          54,
          55,
          56,
          57,
          58,
          59,
          60,
          61,
          62,
          63,
          64,
          65,
          66,
          67,
          68,
          69,
          70,
          71,
          72,
          73,
          74,
          75,
          76,
          77,
          78,
          79,
          80,
          81,
          82,
          83,
          84,
          85,
          86,
          87,
          88,
          89,
          90,
          91,
          92,
          93,
          94,
          95,
          96,
          97,
          98,
          99,
          100
         ],
         "z": [
          [
           0,
           0,
           0,
           0,
           0,
           0,
           0,
           0,
           0
          ],
          [
           0,
           0,
           0,
           0,
           0,
           0,
           0,
           0,
           0
          ],
          [
           0,
           0,
           0,
           0,
           0,
           0,
           0,
           0,
           0
          ],
          [
           0,
           0,
           0,
           0,
           0,
           0,
           0,
           0,
           0
          ],
          [
           0,
           0,
           0,
           0,
           0,
           0,
           0,
           0,
           0
          ],
          [
           0,
           0,
           0,
           0,
           0,
           0,
           0,
           0,
           0
          ],
          [
           0,
           0,
           0,
           0,
           0,
           0,
           0,
           0,
           0
          ],
          [
           0,
           0,
           0,
           0,
           0,
           0,
           0,
           0,
           0
          ],
          [
           0,
           0,
           0,
           0,
           0,
           0,
           0,
           0,
           0
          ],
          [
           0,
           0,
           0,
           0,
           0,
           0,
           0,
           0,
           0
          ],
          [
           0,
           0,
           0,
           0,
           0,
           0,
           0,
           0,
           0
          ],
          [
           0,
           0,
           0,
           0,
           0,
           0,
           0,
           0,
           0
          ],
          [
           0,
           0,
           0,
           0,
           0,
           0,
           0,
           0,
           0
          ],
          [
           0,
           0,
           0,
           0,
           0,
           0,
           0,
           0,
           0
          ],
          [
           0,
           0,
           0,
           0,
           0,
           0,
           0,
           0,
           0
          ],
          [
           0,
           0,
           0,
           0,
           0,
           0,
           0,
           0,
           0
          ],
          [
           0,
           0,
           0,
           0,
           0,
           0,
           0,
           0,
           0
          ],
          [
           0,
           0,
           0,
           0,
           0,
           0,
           0,
           0,
           0
          ],
          [
           0.03685411209508252,
           0.04018480371826033,
           0.04013033841744449,
           0.040744267786686696,
           0.041590407135671394,
           0.042195720124062676,
           0.042997459698115845,
           0.04347565771976402,
           0.043743346200464266
          ],
          [
           0.04420178196819564,
           0.052389727671847935,
           0.05506407848444266,
           0.05509419109684279,
           0.056200727617509,
           0.05734669191827617,
           0.05838577886388272,
           0.05928206149599661,
           0.05964831344786533
          ],
          [
           0.05414941274482914,
           0.057354729717016606,
           0.05970786326919729,
           0.061500951240520095,
           0.06207157245786744,
           0.06318252423232769,
           0.06444277936452499,
           0.0653828881617189,
           0.06588573061857624
          ],
          [
           0.06119257748235881,
           0.06423644536421509,
           0.06561961506391904,
           0.06562559724680242,
           0.06755930904711124,
           0.06834609033396631,
           0.06950727140732782,
           0.07054636247071613,
           0.07105098588062463
          ],
          [
           0.06588769042885981,
           0.07136993368574655,
           0.07302251680719711,
           0.07408194096664152,
           0.07353353947821967,
           0.07521768680323412,
           0.07624733421182743,
           0.07718602830651644,
           0.07775515251983636
          ],
          [
           0.07528538659323795,
           0.07924659254937957,
           0.08116055368410695,
           0.08259954507031092,
           0.08331898880585754,
           0.08283288495429024,
           0.08449199653379193,
           0.08537451057133427,
           0.08585472803403754
          ],
          [
           0.08853953673899143,
           0.08939356009623221,
           0.09126983180429471,
           0.09219282529227628,
           0.09299041892645699,
           0.09375931599279032,
           0.09364643338853722,
           0.09492934435986991,
           0.0954401060469627
          ],
          [
           0.1018487126881275,
           0.10264871757317526,
           0.10283768057366985,
           0.10412053576864397,
           0.10394078235209807,
           0.10482582149745148,
           0.10570916133600097,
           0.10558918544400712,
           0.10635213209287687
          ],
          [
           0.11052699892780807,
           0.1172075982226321,
           0.11559068862538567,
           0.11595672493538016,
           0.11613372366770935,
           0.11619869584410471,
           0.11712010592295015,
           0.11774313237399492,
           0.11740396812127075
          ],
          [
           0.12168663957147355,
           0.124439388771317,
           0.129469021839853,
           0.12762259121523964,
           0.12706370781634027,
           0.1277578909927923,
           0.12800865265094535,
           0.12866241830306688,
           0.12885580104293273
          ],
          [
           0.13300273757165393,
           0.13638329917784686,
           0.13756559872067783,
           0.14237101242855296,
           0.13947159993574695,
           0.13985135610183566,
           0.14062054475117813,
           0.14069015289637476,
           0.14088276916666007
          ],
          [
           0.14131750648269625,
           0.14434679668158973,
           0.14644374990977416,
           0.14781420582394392,
           0.15050025522493427,
           0.14870904677085925,
           0.1493201883892686,
           0.14990056393115228,
           0.14965007182644813
          ],
          [
           0.14925635088563913,
           0.1523334975256343,
           0.15368918445214366,
           0.15582573021214924,
           0.15559331876639196,
           0.15900993114464393,
           0.15777684730123967,
           0.1583416783121122,
           0.1585626930942403
          ],
          [
           0.16063307852830397,
           0.15966235910569015,
           0.16177792455582563,
           0.1632386234528692,
           0.16350880661327555,
           0.16449814993866915,
           0.1677919622415572,
           0.16667117637948223,
           0.1668966185411046
          ],
          [
           0.16486814124804844,
           0.1716044094355605,
           0.16843841464979306,
           0.17090757184454997,
           0.1704182778706183,
           0.17191324721293932,
           0.1731223619190919,
           0.17595458434675423,
           0.17468822843887877
          ],
          [
           0.1717718429899501,
           0.17454462366084064,
           0.17964867266833112,
           0.1772824844657466,
           0.17777221325928577,
           0.17870382282037595,
           0.18031689674276544,
           0.18135024879210915,
           0.18355540295706055
          ],
          [
           0.17635539267361403,
           0.18070248171482858,
           0.18229697734082098,
           0.18762033686725046,
           0.18355761193911038,
           0.18544373323772595,
           0.18657050347172421,
           0.18793470435102036,
           0.18857097445733667
          ],
          [
           0.18085695652420705,
           0.18481398743749342,
           0.18559589489994305,
           0.1877919405009845,
           0.19031087669632682,
           0.18823208848380682,
           0.19031968749379793,
           0.1913430072893442,
           0.19231822767230297
          ],
          [
           0.18594481041177485,
           0.1908855374628309,
           0.19060550835034892,
           0.1914412113735706,
           0.1911041335542523,
           0.19502852999855363,
           0.19352816880999682,
           0.19538110034660142,
           0.1960295353896189
          ],
          [
           0.1883637335379366,
           0.19473564240777683,
           0.1963093046242175,
           0.195812275847418,
           0.19379267683283014,
           0.19542567318960596,
           0.19918533758880302,
           0.19786245555892057,
           0.19925532830316278
          ],
          [
           0.1940500373974352,
           0.19935927945058204,
           0.19740066869579206,
           0.1998603522334732,
           0.19642895468704197,
           0.19643235903257036,
           0.19823905148628473,
           0.2015111145836076,
           0.20008784150062003
          ],
          [
           0.19423723111287647,
           0.20475445581388116,
           0.20387738084027032,
           0.20095564375970656,
           0.2005694076876111,
           0.19935136615085808,
           0.19957080965868895,
           0.2011092421719096,
           0.20365774174260576
          ],
          [
           0.19238730763921796,
           0.20588676252279425,
           0.2081782116057046,
           0.2074442347561383,
           0.20135520870888438,
           0.2030166136394674,
           0.20208020741100638,
           0.20214930697485636,
           0.20319410596176724
          ],
          [
           0.19843285138591665,
           0.2060076611259153,
           0.20881473469704176,
           0.21054162029336904,
           0.20690148279285225,
           0.20300801715978523,
           0.20466053743191867,
           0.20367556710638912,
           0.20339694297645824
          ],
          [
           0.19695986536534069,
           0.2067382367821803,
           0.20681871699845858,
           0.2090029836624994,
           0.2073354820629692,
           0.20610385443060322,
           0.20270006236164828,
           0.20407750903617466,
           0.20288469806861265
          ],
          [
           0.19604771829402534,
           0.20655293001718092,
           0.20845111169346184,
           0.20836373920215293,
           0.2071703354435842,
           0.20771737660703804,
           0.20677809594305693,
           0.20350335678449188,
           0.2043439251637768
          ],
          [
           0.1957916756295769,
           0.2094905675060162,
           0.20807582595476223,
           0.20923999038015761,
           0.20606544576718486,
           0.20700092560837266,
           0.20765267072750893,
           0.20657852063539728,
           0.20321663405447377
          ],
          [
           0.19546633869376967,
           0.20807131778658153,
           0.2112616717477377,
           0.20816225807376496,
           0.20646643340167875,
           0.20551665699756022,
           0.2064735167879846,
           0.20691775328641682,
           0.20557336537489265
          ],
          [
           0.19243351402608755,
           0.20655756787736562,
           0.210047594546578,
           0.21173835783384518,
           0.20593653721491112,
           0.20626067905366327,
           0.20551874602929285,
           0.2061763256100654,
           0.20623223828801915
          ],
          [
           0.18966584753715032,
           0.2021780302467686,
           0.20642578733497402,
           0.2080926033693514,
           0.20674087863916707,
           0.2032625706330976,
           0.2038364989492103,
           0.20308519788168564,
           0.20325594849429432
          ],
          [
           0.18716649975371444,
           0.1991293304720293,
           0.20144030866867862,
           0.20456172877600728,
           0.2035133189492353,
           0.2038670986026251,
           0.20100191190517336,
           0.20128800187533524,
           0.20024171071152064
          ],
          [
           0.18557610150945866,
           0.19470787111633422,
           0.19875383324122897,
           0.1993306670821311,
           0.1998792698823688,
           0.20067803509320406,
           0.200940108142809,
           0.19837616665867516,
           0.19831413328080866
          ],
          [
           0.18479865031872722,
           0.19327096137727365,
           0.19165211873252178,
           0.1954941068013157,
           0.19277123217278144,
           0.19531366427589777,
           0.19625558300857557,
           0.19621196320182313,
           0.19373856000274342
          ],
          [
           0.176440886557699,
           0.18827122877300528,
           0.1913706478895505,
           0.18914676859300786,
           0.18977361722442565,
           0.18934311241595247,
           0.19183053540050865,
           0.19259931074227202,
           0.19210641633223724
          ],
          [
           0.1759159446922943,
           0.1814124837724575,
           0.18514728510808406,
           0.18877600104416642,
           0.1835548166918945,
           0.18608201411180644,
           0.1859515183857255,
           0.18848872108531464,
           0.18889742014611755
          ],
          [
           0.17445362308206022,
           0.17975456401383272,
           0.17789169949086173,
           0.1818665242838554,
           0.1830463342342964,
           0.1798214854154962,
           0.1822305854608607,
           0.18214380096334415,
           0.1841446765936329
          ],
          [
           0.16733121467256548,
           0.1742283528919059,
           0.17523855020149523,
           0.17445238217090514,
           0.1762300785057976,
           0.17917479903769545,
           0.17626634772433422,
           0.17830427517450817,
           0.17806975384629498
          ],
          [
           0.16229984190981497,
           0.1693919453016859,
           0.16974735034131802,
           0.17141753676980975,
           0.1692264966493754,
           0.1725966067127792,
           0.17535241972180024,
           0.1725081077817442,
           0.17400850750351757
          ],
          [
           0.1593695167484632,
           0.16351695888406545,
           0.1645228047001536,
           0.1656992083859469,
           0.1656179396582836,
           0.16534542824102344,
           0.16881481767841533,
           0.17156303400702705,
           0.16857278714454202
          ],
          [
           0.15184984177545835,
           0.1586998120831812,
           0.15843845374758356,
           0.16067461849990838,
           0.16006251017666145,
           0.1617272142856386,
           0.16180881998829827,
           0.16505656265116161,
           0.16743378155948097
          ],
          [
           0.14803916698171107,
           0.1515449320903598,
           0.15453733579258458,
           0.15471771142139404,
           0.15508601623738674,
           0.15626897972886752,
           0.15806792546207182,
           0.15817009660788697,
           0.16105536484417576
          ],
          [
           0.14465239710590633,
           0.1494643711614696,
           0.14737157966651954,
           0.15131485411230247,
           0.14916861811475848,
           0.15133058158982368,
           0.1529495964206572,
           0.1545658703566193,
           0.15449905018816995
          ],
          [
           0.15319786312317918,
           0.1522970593950028,
           0.15050762177244456,
           0.1501965012766505,
           0.1513071089195149,
           0.14988028775059814,
           0.1522200747580814,
           0.15340698900426955,
           0.15458311584937065
          ],
          [
           0.14364831647855827,
           0.15435589414159598,
           0.1514717905700042,
           0.15233520103343548,
           0.1484366891205696,
           0.15028668493604594,
           0.1499633764594799,
           0.15182905708555863,
           0.15300095854954926
          ],
          [
           0.13784154809685648,
           0.15034562236211887,
           0.1540368205830093,
           0.15640445215400603,
           0.15237013246080314,
           0.1499295048942311,
           0.153008742431397,
           0.15211662215750604,
           0.15363702732391427
          ],
          [
           0.1454998245311331,
           0.1420872214163841,
           0.14420625788692715,
           0.14974728942646534,
           0.14843183456355,
           0.14994018862326897,
           0.15102743673180635,
           0.153358118489641,
           0.15234070988880966
          ],
          [
           0.1447403333437541,
           0.14591262755911066,
           0.13783264552370875,
           0.15183349607318547,
           0.14939885468551184,
           0.14693236304146057,
           0.1462327354895685,
           0.1444153508862156,
           0.1509031960829814
          ],
          [
           0.1280275560868235,
           0.12398855795567902,
           0.1347604519222509,
           0.14296523067890723,
           0.151366733936815,
           0.14776456290124745,
           0.14972841888394808,
           0.14748210359477915,
           0.14589683381642335
          ],
          [
           0.11122828771438463,
           0.125743568417704,
           0.12133693642031147,
           0.12902159882056152,
           0.13426235391373523,
           0.14532497829602722,
           0.14576109362720507,
           0.14725935274341906,
           0.14734282960408912
          ],
          [
           0.11740891544143735,
           0.11968713683429273,
           0.12264670748619037,
           0.12291306000435669,
           0.12691153468637228,
           0.12572876915393977,
           0.12852651100210552,
           0.12706042726550607,
           0.12899525373960813
          ],
          [
           0.12456989808902165,
           0.1170070762585532,
           0.11886000744745476,
           0.12411156402995818,
           0.1213592535890974,
           0.12486901328816895,
           0.12490253321538508,
           0.12722833193073183,
           0.12746227413360783
          ],
          [
           0.12305694997047935,
           0.11950137152682641,
           0.116384004664851,
           0.12149787828325301,
           0.12280520017255415,
           0.11975240378263256,
           0.12358104734322674,
           0.12326180791166844,
           0.12596252398176164
          ],
          [
           0.1329854147121923,
           0.12007287621390832,
           0.11641544173562708,
           0.1193616262846162,
           0.12147014434841277,
           0.12168471330443982,
           0.11955089861178292,
           0.12230080304129691,
           0.12144790115227906
          ],
          [
           0.1187017961385987,
           0.12443835744019562,
           0.11448930448491566,
           0.11558115660271454,
           0.11686411801899407,
           0.11805463651917895,
           0.1188623903968996,
           0.11646196518726977,
           0.12079170552154649
          ],
          [
           0.11753078924565569,
           0.11016070405292544,
           0.11896166309300443,
           0.11352940949069094,
           0.11245944742967488,
           0.1135134627869373,
           0.11546202287466469,
           0.11568859861693162,
           0.11369583666840449
          ],
          [
           0.10255417450905716,
           0.10869726266050486,
           0.10468178433289492,
           0.11806520304116623,
           0.11062195504477158,
           0.10921311884023248,
           0.11128930743265866,
           0.11276567400755219,
           0.1131682986630496
          ],
          [
           0.10788045623436096,
           0.09798185522522337,
           0.10280868268961646,
           0.10338287318660579,
           0.11451743510541194,
           0.10687595063063102,
           0.10650254063874971,
           0.10823854118201753,
           0.10995622242283919
          ],
          [
           0.10439796534402143,
           0.09907327558239551,
           0.09377339317196262,
           0.10114617739841746,
           0.09989363092604261,
           0.11031581648398836,
           0.1038010287746542,
           0.10324427536092141,
           0.10528456423085301
          ],
          [
           0.09308098064390005,
           0.09660013046786754,
           0.09396131904349907,
           0.09289901162618903,
           0.09749409310621682,
           0.09601476088058707,
           0.107010090705244,
           0.10045322027469951,
           0.10030335528191227
          ],
          [
           0.08951482084307992,
           0.09098696141315535,
           0.09142573136707503,
           0.09273838634624641,
           0.09001951440419682,
           0.0938420941415684,
           0.09330202243246777,
           0.1037270964079194,
           0.09769115794730548
          ],
          [
           0.08980808797691126,
           0.08815560674998839,
           0.08934347737610464,
           0.09048714937314097,
           0.09024694031669922,
           0.08727418762812772,
           0.09170278964072262,
           0.09099682703933537,
           0.10141209997338323
          ],
          [
           0.08544503086375353,
           0.08295259620618213,
           0.08606259629542652,
           0.09009457144502991,
           0.0881579821641655,
           0.08765626592871703,
           0.08551984182152325,
           0.08961198892716668,
           0.08924561675140409
          ],
          [
           0.08245230317665408,
           0.0792820507280022,
           0.07870980486317762,
           0.0855113344447284,
           0.08740543792014609,
           0.08464818149744104,
           0.08486027244482945,
           0.08414372278273319,
           0.08696678281028433
          ],
          [
           0.07956701322926357,
           0.0783067840819972,
           0.07720995710328045,
           0.0792686647457775,
           0.08455950845054264,
           0.08599735739306556,
           0.08373564898417969,
           0.0838375572442967,
           0.0834504090804936
          ],
          [
           0.08192693809133791,
           0.07624818788377058,
           0.07709487616958657,
           0.0783952788359709,
           0.07877188399960759,
           0.08374636415945654,
           0.08584651478235424,
           0.08333134982689551,
           0.08374754687905829
          ],
          [
           0.07868479448158833,
           0.07640078098447718,
           0.07512092809045633,
           0.0789016914692315,
           0.07829877439738415,
           0.07825961189044602,
           0.08393297064150557,
           0.08587265886708316,
           0.08360601106505125
          ],
          [
           0.077022117107272,
           0.0757003143187233,
           0.07451157139854975,
           0.07721238068802473,
           0.07958500329330355,
           0.07845267641019384,
           0.07907635797552226,
           0.08458133949662018,
           0.0867661716142942
          ],
          [
           0.07806898392678645,
           0.07544259137971862,
           0.07546832263928811,
           0.07633300043411317,
           0.07774887312981163,
           0.07972879145192753,
           0.07919348339725212,
           0.07968555581317828,
           0.08545530185585377
          ],
          [
           0.0747160313892915,
           0.07603683761470967,
           0.07593264786473654,
           0.07841581576633076,
           0.07736092587596952,
           0.07859627814722536,
           0.08123771233999125,
           0.0805206948848828,
           0.08128217552386693
          ],
          [
           0.08592090503767652,
           0.07522295689541399,
           0.0767244405025224,
           0.07983271949485299,
           0.0805331554528311,
           0.07889355602878628,
           0.0809125705130831,
           0.08343759431335093,
           0.0829386732956049
          ],
          [
           0.08787369001833834,
           0.08953563513446808,
           0.07621395311487612,
           0.08074452311829233,
           0.08262022361018026,
           0.0827524835325406,
           0.08175378720576186,
           0.08373550980683978,
           0.08655079606462909
          ],
          [
           0.08143411438232177,
           0.08374065202989703,
           0.09417193456701571,
           0.08086486860716668,
           0.08381538430268734,
           0.08537055164051556,
           0.08614714894634881,
           0.08496590455073078,
           0.08728756565470547
          ],
          [
           0.08497397387248994,
           0.08110457450421668,
           0.08494396694370308,
           0.10138493945278836,
           0.0850624333578799,
           0.08763562025541737,
           0.09003553077446168,
           0.09067078944754169,
           0.08976633175183285
          ],
          [
           0.08739166824513442,
           0.0854343650356856,
           0.08350793589350984,
           0.08985777915852754,
           0.10637952442389337,
           0.08856755217264742,
           0.09198294843646754,
           0.09435620008600391,
           0.09526359407288879
          ],
          [
           0.09330417364511083,
           0.0857890144674745,
           0.08789877082913784,
           0.08919091218198935,
           0.09388995314362723,
           0.11092952631095902,
           0.09321328822711802,
           0.09657375663212595,
           0.09933432925815724
          ],
          [
           0.10578749419445437,
           0.09052813318477229,
           0.08702858191506442,
           0.09375860727915515,
           0.09337246013645538,
           0.09756886401675005,
           0.11610118722623035,
           0.09775140381705344,
           0.1015461297452457
          ],
          [
           0.10399752232143822,
           0.10047647890778438,
           0.09161700278073738,
           0.09290387436852716,
           0.09862860320727494,
           0.09767227132723964,
           0.10276211892152924,
           0.12160897193015617,
           0.1031876262374525
          ],
          [
           0.09889238259447926,
           0.10036922830255025,
           0.10049378119935547,
           0.09778994499220807,
           0.0977462939571288,
           0.10320535292404487,
           0.10311807828730538,
           0.10810491706021078,
           0.12749009631088123
          ],
          [
           0.10206156343103916,
           0.09879805040496595,
           0.10150221754929414,
           0.10585230597229393,
           0.10209967348056688,
           0.10182090819827869,
           0.10846220907734537,
           0.10831206847743642,
           0.11375969756151778
          ],
          [
           0.10884193859807591,
           0.09945968717357093,
           0.10121355984588216,
           0.10725818069452651,
           0.10985530024657182,
           0.10636515223173314,
           0.10713308182477127,
           0.11380327672237764,
           0.11419058175308489
          ],
          [
           0.10935203520180743,
           0.1062530610773818,
           0.10043445336253562,
           0.10820756778335038,
           0.11236552167943036,
           0.1140098992779408,
           0.11201732371429161,
           0.11269267099632838,
           0.11985890709505351
          ],
          [
           0.11522421484783314,
           0.10597059264139576,
           0.10740014448567893,
           0.10644142175478113,
           0.11330259802994291,
           0.11645511685918204,
           0.11877374326550826,
           0.11744171007789903,
           0.11867249855053622
          ],
          [
           0.12200027489641009,
           0.11031200135254084,
           0.10692673093096332,
           0.11362436487165566,
           0.11228018156265268,
           0.11756909492530025,
           0.1213053281255089,
           0.12284268037678502,
           0.12356720986610868
          ]
         ]
        }
       ],
       "layout": {
        "scene": {
         "xaxis": {
          "autorange": "reversed",
          "title": {
           "text": "År"
          }
         },
         "yaxis": {
          "autorange": "reversed",
          "title": {
           "text": "Alder"
          }
         },
         "zaxis": {
          "title": {
           "text": ""
          }
         }
        },
        "template": {
         "data": {
          "scatter": [
           {
            "line": {
             "width": 4
            },
            "type": "scatter"
           }
          ],
          "scattergl": [
           {
            "line": {
             "width": 4
            },
            "type": "scattergl"
           }
          ]
         },
         "layout": {
          "colorway": [
           "rgb(245,82,82)",
           "rgb(20,175,166)",
           "rgb(255,155,75)",
           "rgb(92,210,114)",
           "rgb(66,180,224)",
           "rgb(188,173,221)",
           "rgb(0,95,151)",
           "rgb(137,48,112)",
           "rgb(70,70,76)",
           "rgb(230,230,232)"
          ],
          "font": {
           "color": "black",
           "family": "Hind",
           "size": 14
          },
          "legend": {
           "orientation": "h",
           "x": 0.5,
           "xanchor": "center",
           "y": -0.3,
           "yanchor": "top"
          },
          "margin": {
           "l": 56.69291338582677,
           "r": 18.89763779527559,
           "t": 37.79527559055118
          },
          "plot_bgcolor": "rgb(230,230,232)",
          "title": {
           "font": {
            "size": 14
           }
          },
          "width": 585.8267716535432,
          "xaxis": {
           "automargin": false,
           "gridcolor": "white",
           "linecolor": "black",
           "showline": true,
           "ticklen": 10,
           "ticks": "outside",
           "title": {
            "font": {
             "size": 14
            },
            "standoff": 0
           }
          },
          "yaxis": {
           "automargin": false,
           "gridcolor": "white",
           "linecolor": "black",
           "showline": true,
           "ticklen": 10,
           "tickmode": "auto",
           "ticks": "outside",
           "title": {
            "font": {
             "size": 14
            }
           }
          }
         }
        },
        "title": {
         "text": "",
         "x": 0.5,
         "y": 0.925
        }
       }
      }
     },
     "metadata": {},
     "output_type": "display_data"
    }
   ],
   "source": [
    "dt.age_figure_3d(s.vC_a)\n"
   ]
  },
  {
   "attachments": {},
   "cell_type": "markdown",
   "metadata": {},
   "source": [
    "### Exporting plots\n",
    "There are many ways to export the plots. To save a single plot as a static image, the standard plotly method works:"
   ]
  },
  {
   "cell_type": "code",
   "execution_count": 35,
   "metadata": {},
   "outputs": [],
   "source": [
    "plot(s.vG).write_image(r\"Output\\vG.svg\")"
   ]
  },
  {
   "attachments": {},
   "cell_type": "markdown",
   "metadata": {},
   "source": [
    "An easy way to store and share multiple plots is to export an html file"
   ]
  },
  {
   "cell_type": "code",
   "execution_count": 36,
   "metadata": {},
   "outputs": [],
   "source": [
    "figures = [\n",
    "    plot(s.vC),\n",
    "    plot(s.vG)\n",
    "]\n",
    "dt.figures_to_html(figures, r\"Output\\example.html\")"
   ]
  },
  {
   "attachments": {},
   "cell_type": "markdown",
   "metadata": {},
   "source": [
    "To save many figures as individual static images, we recommend collecting figures in a list or dictionary before exporting:"
   ]
  },
  {
   "cell_type": "code",
   "execution_count": 37,
   "metadata": {},
   "outputs": [],
   "source": [
    "output_directory = \"Output\"\n",
    "file_extension = \".png\"\n",
    "figures = dict(\n",
    "    vC = plot(s.vC),\n",
    "    vG = plot(s.vG),\n",
    ")\n",
    "for fname, fig in figures.items():\n",
    "    file_path = f\"{output_directory}/{fname}{file_extension}\"\n",
    "    dt.write_image(fig, file_path)"
   ]
  },
  {
   "attachments": {},
   "cell_type": "markdown",
   "metadata": {},
   "source": [
    "For png files, it is recommended to use dt.write_image instead of fig.write_image, as the former saves the image with better metadata with a size in inches (suitable for use in Word, Powerpoint, LyX etc.)"
   ]
  }
 ],
 "metadata": {
  "kernelspec": {
   "display_name": "Python 3",
   "language": "python",
   "name": "python3"
  },
  "language_info": {
   "codemirror_mode": {
    "name": "ipython",
    "version": 3
   },
   "file_extension": ".py",
   "mimetype": "text/x-python",
   "name": "python",
   "nbconvert_exporter": "python",
   "pygments_lexer": "ipython3",
   "version": "3.8.13"
  },
  "orig_nbformat": 2,
  "vscode": {
   "interpreter": {
    "hash": "1e90376b2bbe5195517c23416dfba2e7628c8bdfc53656cc5eda985763181601"
   }
  }
 },
 "nbformat": 4,
 "nbformat_minor": 2
}
